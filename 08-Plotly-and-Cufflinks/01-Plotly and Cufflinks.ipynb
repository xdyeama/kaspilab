{
 "cells": [
  {
   "cell_type": "markdown",
   "metadata": {},
   "source": [
    "\n",
    "# Plotly and Cufflinks"
   ]
  },
  {
   "cell_type": "markdown",
   "metadata": {},
   "source": [
    "Plotly is a library that allows you to create interactive plots that you can use in dashboards or websites (you can save them as html files or static images).\n",
    "\n",
    "## Installation\n",
    "\n",
    "In order for this all to work, you'll need to install plotly and cufflinks to call plots directly off of a pandas dataframe. These libraries are not currently available through **conda** but are available through **pip**. Install the libraries at your command line/terminal using:\n",
    "\n",
    "    pip install plotly\n",
    "    pip install cufflinks\n",
    "\n",
    "** NOTE: Make sure you only have one installation of Python on your computer when you do this, otherwise the installation may not work. **\n",
    "\n",
    "## Imports and Set-up"
   ]
  },
  {
   "cell_type": "code",
   "execution_count": 2,
   "metadata": {},
   "outputs": [],
   "source": [
    "import pandas as pd\n",
    "import numpy as np\n",
    "%matplotlib inline"
   ]
  },
  {
   "cell_type": "code",
   "execution_count": 3,
   "metadata": {},
   "outputs": [
    {
     "name": "stdout",
     "output_type": "stream",
     "text": [
      "5.9.0\n"
     ]
    }
   ],
   "source": [
    "from plotly import __version__\n",
    "from plotly.offline import download_plotlyjs, init_notebook_mode, plot, iplot\n",
    "\n",
    "print(__version__) # requires version >= 1.9.0"
   ]
  },
  {
   "cell_type": "code",
   "execution_count": 4,
   "metadata": {},
   "outputs": [],
   "source": [
    "import cufflinks as cf"
   ]
  },
  {
   "cell_type": "code",
   "execution_count": 5,
   "metadata": {},
   "outputs": [
    {
     "data": {
      "text/html": [
       "        <script type=\"text/javascript\">\n",
       "        window.PlotlyConfig = {MathJaxConfig: 'local'};\n",
       "        if (window.MathJax && window.MathJax.Hub && window.MathJax.Hub.Config) {window.MathJax.Hub.Config({SVG: {font: \"STIX-Web\"}});}\n",
       "        if (typeof require !== 'undefined') {\n",
       "        require.undef(\"plotly\");\n",
       "        requirejs.config({\n",
       "            paths: {\n",
       "                'plotly': ['https://cdn.plot.ly/plotly-2.12.1.min']\n",
       "            }\n",
       "        });\n",
       "        require(['plotly'], function(Plotly) {\n",
       "            window._Plotly = Plotly;\n",
       "        });\n",
       "        }\n",
       "        </script>\n",
       "        "
      ]
     },
     "metadata": {},
     "output_type": "display_data"
    }
   ],
   "source": [
    "# For Notebooks\n",
    "init_notebook_mode(connected=True)"
   ]
  },
  {
   "cell_type": "code",
   "execution_count": 6,
   "metadata": {},
   "outputs": [
    {
     "data": {
      "text/html": [
       "        <script type=\"text/javascript\">\n",
       "        window.PlotlyConfig = {MathJaxConfig: 'local'};\n",
       "        if (window.MathJax && window.MathJax.Hub && window.MathJax.Hub.Config) {window.MathJax.Hub.Config({SVG: {font: \"STIX-Web\"}});}\n",
       "        if (typeof require !== 'undefined') {\n",
       "        require.undef(\"plotly\");\n",
       "        requirejs.config({\n",
       "            paths: {\n",
       "                'plotly': ['https://cdn.plot.ly/plotly-2.12.1.min']\n",
       "            }\n",
       "        });\n",
       "        require(['plotly'], function(Plotly) {\n",
       "            window._Plotly = Plotly;\n",
       "        });\n",
       "        }\n",
       "        </script>\n",
       "        "
      ]
     },
     "metadata": {},
     "output_type": "display_data"
    }
   ],
   "source": [
    "# For offline use\n",
    "cf.go_offline()"
   ]
  },
  {
   "cell_type": "markdown",
   "metadata": {},
   "source": [
    "### Fake Data"
   ]
  },
  {
   "cell_type": "code",
   "execution_count": 7,
   "metadata": {},
   "outputs": [],
   "source": [
    "df = pd.DataFrame(np.random.randn(100,4),columns='A B C D'.split())"
   ]
  },
  {
   "cell_type": "code",
   "execution_count": 8,
   "metadata": {},
   "outputs": [
    {
     "data": {
      "text/html": [
       "<div>\n",
       "<style scoped>\n",
       "    .dataframe tbody tr th:only-of-type {\n",
       "        vertical-align: middle;\n",
       "    }\n",
       "\n",
       "    .dataframe tbody tr th {\n",
       "        vertical-align: top;\n",
       "    }\n",
       "\n",
       "    .dataframe thead th {\n",
       "        text-align: right;\n",
       "    }\n",
       "</style>\n",
       "<table border=\"1\" class=\"dataframe\">\n",
       "  <thead>\n",
       "    <tr style=\"text-align: right;\">\n",
       "      <th></th>\n",
       "      <th>A</th>\n",
       "      <th>B</th>\n",
       "      <th>C</th>\n",
       "      <th>D</th>\n",
       "    </tr>\n",
       "  </thead>\n",
       "  <tbody>\n",
       "    <tr>\n",
       "      <th>0</th>\n",
       "      <td>0.103958</td>\n",
       "      <td>-0.496420</td>\n",
       "      <td>-0.117151</td>\n",
       "      <td>-1.046837</td>\n",
       "    </tr>\n",
       "    <tr>\n",
       "      <th>1</th>\n",
       "      <td>1.090742</td>\n",
       "      <td>-0.165777</td>\n",
       "      <td>-0.923811</td>\n",
       "      <td>-1.027558</td>\n",
       "    </tr>\n",
       "    <tr>\n",
       "      <th>2</th>\n",
       "      <td>-1.802365</td>\n",
       "      <td>-0.063521</td>\n",
       "      <td>-0.634103</td>\n",
       "      <td>-0.274202</td>\n",
       "    </tr>\n",
       "    <tr>\n",
       "      <th>3</th>\n",
       "      <td>0.145280</td>\n",
       "      <td>0.919521</td>\n",
       "      <td>-0.703980</td>\n",
       "      <td>1.173169</td>\n",
       "    </tr>\n",
       "    <tr>\n",
       "      <th>4</th>\n",
       "      <td>-0.804759</td>\n",
       "      <td>0.059209</td>\n",
       "      <td>0.411992</td>\n",
       "      <td>-0.144395</td>\n",
       "    </tr>\n",
       "  </tbody>\n",
       "</table>\n",
       "</div>"
      ],
      "text/plain": [
       "          A         B         C         D\n",
       "0  0.103958 -0.496420 -0.117151 -1.046837\n",
       "1  1.090742 -0.165777 -0.923811 -1.027558\n",
       "2 -1.802365 -0.063521 -0.634103 -0.274202\n",
       "3  0.145280  0.919521 -0.703980  1.173169\n",
       "4 -0.804759  0.059209  0.411992 -0.144395"
      ]
     },
     "execution_count": 8,
     "metadata": {},
     "output_type": "execute_result"
    }
   ],
   "source": [
    "df.head()"
   ]
  },
  {
   "cell_type": "code",
   "execution_count": 9,
   "metadata": {},
   "outputs": [],
   "source": [
    "df2 = pd.DataFrame({'Category':['A','B','C'],'Values':[32,43,50]})"
   ]
  },
  {
   "cell_type": "code",
   "execution_count": 10,
   "metadata": {},
   "outputs": [
    {
     "data": {
      "text/html": [
       "<div>\n",
       "<style scoped>\n",
       "    .dataframe tbody tr th:only-of-type {\n",
       "        vertical-align: middle;\n",
       "    }\n",
       "\n",
       "    .dataframe tbody tr th {\n",
       "        vertical-align: top;\n",
       "    }\n",
       "\n",
       "    .dataframe thead th {\n",
       "        text-align: right;\n",
       "    }\n",
       "</style>\n",
       "<table border=\"1\" class=\"dataframe\">\n",
       "  <thead>\n",
       "    <tr style=\"text-align: right;\">\n",
       "      <th></th>\n",
       "      <th>Category</th>\n",
       "      <th>Values</th>\n",
       "    </tr>\n",
       "  </thead>\n",
       "  <tbody>\n",
       "    <tr>\n",
       "      <th>0</th>\n",
       "      <td>A</td>\n",
       "      <td>32</td>\n",
       "    </tr>\n",
       "    <tr>\n",
       "      <th>1</th>\n",
       "      <td>B</td>\n",
       "      <td>43</td>\n",
       "    </tr>\n",
       "    <tr>\n",
       "      <th>2</th>\n",
       "      <td>C</td>\n",
       "      <td>50</td>\n",
       "    </tr>\n",
       "  </tbody>\n",
       "</table>\n",
       "</div>"
      ],
      "text/plain": [
       "  Category  Values\n",
       "0        A      32\n",
       "1        B      43\n",
       "2        C      50"
      ]
     },
     "execution_count": 10,
     "metadata": {},
     "output_type": "execute_result"
    }
   ],
   "source": [
    "df2.head()"
   ]
  },
  {
   "cell_type": "markdown",
   "metadata": {},
   "source": [
    "## Using Cufflinks and iplot()\n",
    "\n",
    "* scatter\n",
    "* bar\n",
    "* box\n",
    "* spread\n",
    "* ratio\n",
    "* heatmap\n",
    "* surface\n",
    "* histogram\n",
    "* bubble"
   ]
  },
  {
   "cell_type": "markdown",
   "metadata": {},
   "source": [
    "## Scatter"
   ]
  },
  {
   "cell_type": "code",
   "execution_count": 11,
   "metadata": {},
   "outputs": [
    {
     "data": {
      "application/vnd.plotly.v1+json": {
       "config": {
        "linkText": "Export to plot.ly",
        "plotlyServerURL": "https://plot.ly",
        "showLink": true
       },
       "data": [
        {
         "line": {
          "color": "rgba(255, 153, 51, 1.0)",
          "dash": "solid",
          "shape": "linear",
          "width": 1.3
         },
         "marker": {
          "size": 10,
          "symbol": "circle"
         },
         "mode": "markers",
         "name": "B",
         "text": "",
         "type": "scatter",
         "x": [
          0.10395791322237946,
          1.0907423101569562,
          -1.8023651034495587,
          0.1452796961840601,
          -0.8047590153347951,
          -1.2363607083110424,
          -1.533073210057116,
          0.8450512162615853,
          -1.833777418781113,
          0.12520778107159888,
          0.3170259452776536,
          -1.00956309234882,
          -0.3833966691606066,
          -0.37450811797226163,
          -0.05198633333678256,
          0.36472898788925007,
          1.7288167042934248,
          0.6090627068408083,
          -1.6268917312729543,
          -0.5958803396162193,
          0.22256691468192602,
          0.8064727120322517,
          1.9223841168509883,
          -0.921464297663518,
          1.3899181517467207,
          -1.7402808686813631,
          1.0427901020562544,
          -0.8672061261966549,
          -0.488206548771983,
          -1.7336935096327533,
          3.244925622032199,
          1.841750968380168,
          -0.49119101252950964,
          1.1853448809662257,
          0.6675123408061048,
          -1.437627889538169,
          -0.7450636517900513,
          -0.30151860773499123,
          -0.8671427788874422,
          1.1063875043347107,
          -0.26698316758204504,
          -1.649870588436951,
          -0.13895244826595793,
          0.031051274815732555,
          -0.7832155624085221,
          0.16178669856927996,
          -0.9382965322194335,
          0.4466791772128349,
          -0.15578635619915948,
          -1.5673289932174421,
          0.4919549985458554,
          -0.21504541416170153,
          0.1413190656527486,
          -0.9143680016986964,
          -0.7784995008704212,
          0.4779649038295718,
          1.5065125239154848,
          1.5389539286202367,
          1.3146020929586084,
          0.3810124335196379,
          1.4985550576693776,
          0.03859284362811156,
          0.4570321732592035,
          1.6657492904889124,
          1.770579715011796,
          -0.11161987472902953,
          1.4511060582998303,
          -0.24820849298660438,
          1.904973301524313,
          1.1692224023273332,
          -0.3491620787132832,
          -0.7141219970453385,
          -0.1623263949531894,
          0.14944754055839804,
          0.25019116466667546,
          0.19682162553617305,
          0.6692520415060931,
          -0.6958447951243778,
          0.08433454765442423,
          -0.5538825782042568,
          1.7467725048965241,
          -0.5095812259955649,
          -0.42512436009640775,
          0.4840214791946006,
          -1.6007136863955105,
          1.0499990825603565,
          0.6295142509558708,
          -0.442226614037453,
          -0.4550165591316354,
          0.6131877363513857,
          1.1247741199130217,
          -0.8279482111052545,
          1.0488516631647589,
          -1.1837813510152209,
          0.5477732226005055,
          0.4294375428232401,
          -0.03689138853667535,
          0.8878779293696469,
          -0.5501028512886033,
          -1.216210964468219
         ],
         "y": [
          -0.4964199052766519,
          -0.16577690724505037,
          -0.06352090321925319,
          0.9195213492176749,
          0.05920945692515286,
          -1.5352387721000331,
          -1.1272581915748292,
          1.5037082437441256,
          0.25525024969292537,
          0.926990078214612,
          1.6091275728246384,
          1.435698623918543,
          0.7929430485448701,
          -1.8078167644107352,
          0.3872864424405,
          -0.5081756149338615,
          0.11157791814884271,
          -0.7470305306600676,
          0.48919705825920645,
          -0.9422629443606921,
          0.39389463746364245,
          0.13279241776625111,
          -0.396173763657729,
          1.1557994071707751,
          0.9826669783349918,
          -0.8763175484331243,
          0.03866612269199482,
          0.9133514387537464,
          1.210067697022933,
          0.9575896405404437,
          0.4446642857554738,
          -1.1836057054060263,
          0.4690710661659546,
          0.0825941321291548,
          -0.057323525876951595,
          -0.4140460470113184,
          -0.21346112501363587,
          -0.09758155608070679,
          1.0961830745473047,
          -3.2527834347876783,
          -1.0559859874065454,
          -1.2451669840676882,
          -2.3763630793887467,
          1.7406596934722733,
          1.1635839279907205,
          1.615733929496423,
          -0.6613818474443387,
          0.6441008999335095,
          0.2108681494964121,
          0.4532517241681963,
          0.39395980607470804,
          -1.3573655220385268,
          0.6556394659492624,
          0.015906823753299704,
          2.147919985281432,
          -0.306172943784595,
          -1.0004312140616298,
          -0.10416640047537958,
          0.5149288073107,
          0.7124745940564056,
          1.3798138145208825,
          0.4349085980837738,
          0.3292157090951729,
          0.626715652218343,
          -1.0654490499559879,
          -0.7326169106971796,
          1.1268040052754518,
          2.015396849191515,
          0.2772174604301982,
          -0.46067756949404814,
          1.5014212003411764,
          -0.03394335951066258,
          -1.2483981703632212,
          0.5858505897588245,
          0.3310923688884323,
          -0.1138787315153205,
          -0.9161409821576249,
          1.544558212804218,
          1.101864233216787,
          -0.6193672340216976,
          0.5111413589667924,
          -0.15609752801350163,
          -2.4429254121204935,
          -0.41236075686521195,
          -0.8921208446971892,
          -0.3415343111101214,
          1.27788943460529,
          -0.19375578696417853,
          0.5261336442900859,
          -1.002668939581087,
          2.2032125799401125,
          -0.17618635766898977,
          0.12628455991716694,
          0.1586375815419656,
          0.6857590793737517,
          0.345486423574641,
          0.41044445264360596,
          0.9932463757588236,
          -0.9153092798258289,
          0.1155976661986857
         ]
        }
       ],
       "layout": {
        "legend": {
         "bgcolor": "#F5F6F9",
         "font": {
          "color": "#4D5663"
         }
        },
        "paper_bgcolor": "#F5F6F9",
        "plot_bgcolor": "#F5F6F9",
        "template": {
         "data": {
          "bar": [
           {
            "error_x": {
             "color": "#2a3f5f"
            },
            "error_y": {
             "color": "#2a3f5f"
            },
            "marker": {
             "line": {
              "color": "#E5ECF6",
              "width": 0.5
             },
             "pattern": {
              "fillmode": "overlay",
              "size": 10,
              "solidity": 0.2
             }
            },
            "type": "bar"
           }
          ],
          "barpolar": [
           {
            "marker": {
             "line": {
              "color": "#E5ECF6",
              "width": 0.5
             },
             "pattern": {
              "fillmode": "overlay",
              "size": 10,
              "solidity": 0.2
             }
            },
            "type": "barpolar"
           }
          ],
          "carpet": [
           {
            "aaxis": {
             "endlinecolor": "#2a3f5f",
             "gridcolor": "white",
             "linecolor": "white",
             "minorgridcolor": "white",
             "startlinecolor": "#2a3f5f"
            },
            "baxis": {
             "endlinecolor": "#2a3f5f",
             "gridcolor": "white",
             "linecolor": "white",
             "minorgridcolor": "white",
             "startlinecolor": "#2a3f5f"
            },
            "type": "carpet"
           }
          ],
          "choropleth": [
           {
            "colorbar": {
             "outlinewidth": 0,
             "ticks": ""
            },
            "type": "choropleth"
           }
          ],
          "contour": [
           {
            "colorbar": {
             "outlinewidth": 0,
             "ticks": ""
            },
            "colorscale": [
             [
              0,
              "#0d0887"
             ],
             [
              0.1111111111111111,
              "#46039f"
             ],
             [
              0.2222222222222222,
              "#7201a8"
             ],
             [
              0.3333333333333333,
              "#9c179e"
             ],
             [
              0.4444444444444444,
              "#bd3786"
             ],
             [
              0.5555555555555556,
              "#d8576b"
             ],
             [
              0.6666666666666666,
              "#ed7953"
             ],
             [
              0.7777777777777778,
              "#fb9f3a"
             ],
             [
              0.8888888888888888,
              "#fdca26"
             ],
             [
              1,
              "#f0f921"
             ]
            ],
            "type": "contour"
           }
          ],
          "contourcarpet": [
           {
            "colorbar": {
             "outlinewidth": 0,
             "ticks": ""
            },
            "type": "contourcarpet"
           }
          ],
          "heatmap": [
           {
            "colorbar": {
             "outlinewidth": 0,
             "ticks": ""
            },
            "colorscale": [
             [
              0,
              "#0d0887"
             ],
             [
              0.1111111111111111,
              "#46039f"
             ],
             [
              0.2222222222222222,
              "#7201a8"
             ],
             [
              0.3333333333333333,
              "#9c179e"
             ],
             [
              0.4444444444444444,
              "#bd3786"
             ],
             [
              0.5555555555555556,
              "#d8576b"
             ],
             [
              0.6666666666666666,
              "#ed7953"
             ],
             [
              0.7777777777777778,
              "#fb9f3a"
             ],
             [
              0.8888888888888888,
              "#fdca26"
             ],
             [
              1,
              "#f0f921"
             ]
            ],
            "type": "heatmap"
           }
          ],
          "heatmapgl": [
           {
            "colorbar": {
             "outlinewidth": 0,
             "ticks": ""
            },
            "colorscale": [
             [
              0,
              "#0d0887"
             ],
             [
              0.1111111111111111,
              "#46039f"
             ],
             [
              0.2222222222222222,
              "#7201a8"
             ],
             [
              0.3333333333333333,
              "#9c179e"
             ],
             [
              0.4444444444444444,
              "#bd3786"
             ],
             [
              0.5555555555555556,
              "#d8576b"
             ],
             [
              0.6666666666666666,
              "#ed7953"
             ],
             [
              0.7777777777777778,
              "#fb9f3a"
             ],
             [
              0.8888888888888888,
              "#fdca26"
             ],
             [
              1,
              "#f0f921"
             ]
            ],
            "type": "heatmapgl"
           }
          ],
          "histogram": [
           {
            "marker": {
             "pattern": {
              "fillmode": "overlay",
              "size": 10,
              "solidity": 0.2
             }
            },
            "type": "histogram"
           }
          ],
          "histogram2d": [
           {
            "colorbar": {
             "outlinewidth": 0,
             "ticks": ""
            },
            "colorscale": [
             [
              0,
              "#0d0887"
             ],
             [
              0.1111111111111111,
              "#46039f"
             ],
             [
              0.2222222222222222,
              "#7201a8"
             ],
             [
              0.3333333333333333,
              "#9c179e"
             ],
             [
              0.4444444444444444,
              "#bd3786"
             ],
             [
              0.5555555555555556,
              "#d8576b"
             ],
             [
              0.6666666666666666,
              "#ed7953"
             ],
             [
              0.7777777777777778,
              "#fb9f3a"
             ],
             [
              0.8888888888888888,
              "#fdca26"
             ],
             [
              1,
              "#f0f921"
             ]
            ],
            "type": "histogram2d"
           }
          ],
          "histogram2dcontour": [
           {
            "colorbar": {
             "outlinewidth": 0,
             "ticks": ""
            },
            "colorscale": [
             [
              0,
              "#0d0887"
             ],
             [
              0.1111111111111111,
              "#46039f"
             ],
             [
              0.2222222222222222,
              "#7201a8"
             ],
             [
              0.3333333333333333,
              "#9c179e"
             ],
             [
              0.4444444444444444,
              "#bd3786"
             ],
             [
              0.5555555555555556,
              "#d8576b"
             ],
             [
              0.6666666666666666,
              "#ed7953"
             ],
             [
              0.7777777777777778,
              "#fb9f3a"
             ],
             [
              0.8888888888888888,
              "#fdca26"
             ],
             [
              1,
              "#f0f921"
             ]
            ],
            "type": "histogram2dcontour"
           }
          ],
          "mesh3d": [
           {
            "colorbar": {
             "outlinewidth": 0,
             "ticks": ""
            },
            "type": "mesh3d"
           }
          ],
          "parcoords": [
           {
            "line": {
             "colorbar": {
              "outlinewidth": 0,
              "ticks": ""
             }
            },
            "type": "parcoords"
           }
          ],
          "pie": [
           {
            "automargin": true,
            "type": "pie"
           }
          ],
          "scatter": [
           {
            "fillpattern": {
             "fillmode": "overlay",
             "size": 10,
             "solidity": 0.2
            },
            "type": "scatter"
           }
          ],
          "scatter3d": [
           {
            "line": {
             "colorbar": {
              "outlinewidth": 0,
              "ticks": ""
             }
            },
            "marker": {
             "colorbar": {
              "outlinewidth": 0,
              "ticks": ""
             }
            },
            "type": "scatter3d"
           }
          ],
          "scattercarpet": [
           {
            "marker": {
             "colorbar": {
              "outlinewidth": 0,
              "ticks": ""
             }
            },
            "type": "scattercarpet"
           }
          ],
          "scattergeo": [
           {
            "marker": {
             "colorbar": {
              "outlinewidth": 0,
              "ticks": ""
             }
            },
            "type": "scattergeo"
           }
          ],
          "scattergl": [
           {
            "marker": {
             "colorbar": {
              "outlinewidth": 0,
              "ticks": ""
             }
            },
            "type": "scattergl"
           }
          ],
          "scattermapbox": [
           {
            "marker": {
             "colorbar": {
              "outlinewidth": 0,
              "ticks": ""
             }
            },
            "type": "scattermapbox"
           }
          ],
          "scatterpolar": [
           {
            "marker": {
             "colorbar": {
              "outlinewidth": 0,
              "ticks": ""
             }
            },
            "type": "scatterpolar"
           }
          ],
          "scatterpolargl": [
           {
            "marker": {
             "colorbar": {
              "outlinewidth": 0,
              "ticks": ""
             }
            },
            "type": "scatterpolargl"
           }
          ],
          "scatterternary": [
           {
            "marker": {
             "colorbar": {
              "outlinewidth": 0,
              "ticks": ""
             }
            },
            "type": "scatterternary"
           }
          ],
          "surface": [
           {
            "colorbar": {
             "outlinewidth": 0,
             "ticks": ""
            },
            "colorscale": [
             [
              0,
              "#0d0887"
             ],
             [
              0.1111111111111111,
              "#46039f"
             ],
             [
              0.2222222222222222,
              "#7201a8"
             ],
             [
              0.3333333333333333,
              "#9c179e"
             ],
             [
              0.4444444444444444,
              "#bd3786"
             ],
             [
              0.5555555555555556,
              "#d8576b"
             ],
             [
              0.6666666666666666,
              "#ed7953"
             ],
             [
              0.7777777777777778,
              "#fb9f3a"
             ],
             [
              0.8888888888888888,
              "#fdca26"
             ],
             [
              1,
              "#f0f921"
             ]
            ],
            "type": "surface"
           }
          ],
          "table": [
           {
            "cells": {
             "fill": {
              "color": "#EBF0F8"
             },
             "line": {
              "color": "white"
             }
            },
            "header": {
             "fill": {
              "color": "#C8D4E3"
             },
             "line": {
              "color": "white"
             }
            },
            "type": "table"
           }
          ]
         },
         "layout": {
          "annotationdefaults": {
           "arrowcolor": "#2a3f5f",
           "arrowhead": 0,
           "arrowwidth": 1
          },
          "autotypenumbers": "strict",
          "coloraxis": {
           "colorbar": {
            "outlinewidth": 0,
            "ticks": ""
           }
          },
          "colorscale": {
           "diverging": [
            [
             0,
             "#8e0152"
            ],
            [
             0.1,
             "#c51b7d"
            ],
            [
             0.2,
             "#de77ae"
            ],
            [
             0.3,
             "#f1b6da"
            ],
            [
             0.4,
             "#fde0ef"
            ],
            [
             0.5,
             "#f7f7f7"
            ],
            [
             0.6,
             "#e6f5d0"
            ],
            [
             0.7,
             "#b8e186"
            ],
            [
             0.8,
             "#7fbc41"
            ],
            [
             0.9,
             "#4d9221"
            ],
            [
             1,
             "#276419"
            ]
           ],
           "sequential": [
            [
             0,
             "#0d0887"
            ],
            [
             0.1111111111111111,
             "#46039f"
            ],
            [
             0.2222222222222222,
             "#7201a8"
            ],
            [
             0.3333333333333333,
             "#9c179e"
            ],
            [
             0.4444444444444444,
             "#bd3786"
            ],
            [
             0.5555555555555556,
             "#d8576b"
            ],
            [
             0.6666666666666666,
             "#ed7953"
            ],
            [
             0.7777777777777778,
             "#fb9f3a"
            ],
            [
             0.8888888888888888,
             "#fdca26"
            ],
            [
             1,
             "#f0f921"
            ]
           ],
           "sequentialminus": [
            [
             0,
             "#0d0887"
            ],
            [
             0.1111111111111111,
             "#46039f"
            ],
            [
             0.2222222222222222,
             "#7201a8"
            ],
            [
             0.3333333333333333,
             "#9c179e"
            ],
            [
             0.4444444444444444,
             "#bd3786"
            ],
            [
             0.5555555555555556,
             "#d8576b"
            ],
            [
             0.6666666666666666,
             "#ed7953"
            ],
            [
             0.7777777777777778,
             "#fb9f3a"
            ],
            [
             0.8888888888888888,
             "#fdca26"
            ],
            [
             1,
             "#f0f921"
            ]
           ]
          },
          "colorway": [
           "#636efa",
           "#EF553B",
           "#00cc96",
           "#ab63fa",
           "#FFA15A",
           "#19d3f3",
           "#FF6692",
           "#B6E880",
           "#FF97FF",
           "#FECB52"
          ],
          "font": {
           "color": "#2a3f5f"
          },
          "geo": {
           "bgcolor": "white",
           "lakecolor": "white",
           "landcolor": "#E5ECF6",
           "showlakes": true,
           "showland": true,
           "subunitcolor": "white"
          },
          "hoverlabel": {
           "align": "left"
          },
          "hovermode": "closest",
          "mapbox": {
           "style": "light"
          },
          "paper_bgcolor": "white",
          "plot_bgcolor": "#E5ECF6",
          "polar": {
           "angularaxis": {
            "gridcolor": "white",
            "linecolor": "white",
            "ticks": ""
           },
           "bgcolor": "#E5ECF6",
           "radialaxis": {
            "gridcolor": "white",
            "linecolor": "white",
            "ticks": ""
           }
          },
          "scene": {
           "xaxis": {
            "backgroundcolor": "#E5ECF6",
            "gridcolor": "white",
            "gridwidth": 2,
            "linecolor": "white",
            "showbackground": true,
            "ticks": "",
            "zerolinecolor": "white"
           },
           "yaxis": {
            "backgroundcolor": "#E5ECF6",
            "gridcolor": "white",
            "gridwidth": 2,
            "linecolor": "white",
            "showbackground": true,
            "ticks": "",
            "zerolinecolor": "white"
           },
           "zaxis": {
            "backgroundcolor": "#E5ECF6",
            "gridcolor": "white",
            "gridwidth": 2,
            "linecolor": "white",
            "showbackground": true,
            "ticks": "",
            "zerolinecolor": "white"
           }
          },
          "shapedefaults": {
           "line": {
            "color": "#2a3f5f"
           }
          },
          "ternary": {
           "aaxis": {
            "gridcolor": "white",
            "linecolor": "white",
            "ticks": ""
           },
           "baxis": {
            "gridcolor": "white",
            "linecolor": "white",
            "ticks": ""
           },
           "bgcolor": "#E5ECF6",
           "caxis": {
            "gridcolor": "white",
            "linecolor": "white",
            "ticks": ""
           }
          },
          "title": {
           "x": 0.05
          },
          "xaxis": {
           "automargin": true,
           "gridcolor": "white",
           "linecolor": "white",
           "ticks": "",
           "title": {
            "standoff": 15
           },
           "zerolinecolor": "white",
           "zerolinewidth": 2
          },
          "yaxis": {
           "automargin": true,
           "gridcolor": "white",
           "linecolor": "white",
           "ticks": "",
           "title": {
            "standoff": 15
           },
           "zerolinecolor": "white",
           "zerolinewidth": 2
          }
         }
        },
        "title": {
         "font": {
          "color": "#4D5663"
         }
        },
        "xaxis": {
         "gridcolor": "#E1E5ED",
         "showgrid": true,
         "tickfont": {
          "color": "#4D5663"
         },
         "title": {
          "font": {
           "color": "#4D5663"
          },
          "text": ""
         },
         "zerolinecolor": "#E1E5ED"
        },
        "yaxis": {
         "gridcolor": "#E1E5ED",
         "showgrid": true,
         "tickfont": {
          "color": "#4D5663"
         },
         "title": {
          "font": {
           "color": "#4D5663"
          },
          "text": ""
         },
         "zerolinecolor": "#E1E5ED"
        }
       }
      },
      "text/html": [
       "<div>                            <div id=\"9132bdfa-c2b8-455c-9bb6-fd2fb53247dd\" class=\"plotly-graph-div\" style=\"height:525px; width:100%;\"></div>            <script type=\"text/javascript\">                require([\"plotly\"], function(Plotly) {                    window.PLOTLYENV=window.PLOTLYENV || {};\n",
       "                    window.PLOTLYENV.BASE_URL='https://plot.ly';                                    if (document.getElementById(\"9132bdfa-c2b8-455c-9bb6-fd2fb53247dd\")) {                    Plotly.newPlot(                        \"9132bdfa-c2b8-455c-9bb6-fd2fb53247dd\",                        [{\"line\":{\"color\":\"rgba(255, 153, 51, 1.0)\",\"dash\":\"solid\",\"shape\":\"linear\",\"width\":1.3},\"marker\":{\"size\":10,\"symbol\":\"circle\"},\"mode\":\"markers\",\"name\":\"B\",\"text\":\"\",\"x\":[0.10395791322237946,1.0907423101569562,-1.8023651034495587,0.1452796961840601,-0.8047590153347951,-1.2363607083110424,-1.533073210057116,0.8450512162615853,-1.833777418781113,0.12520778107159888,0.3170259452776536,-1.00956309234882,-0.3833966691606066,-0.37450811797226163,-0.05198633333678256,0.36472898788925007,1.7288167042934248,0.6090627068408083,-1.6268917312729543,-0.5958803396162193,0.22256691468192602,0.8064727120322517,1.9223841168509883,-0.921464297663518,1.3899181517467207,-1.7402808686813631,1.0427901020562544,-0.8672061261966549,-0.488206548771983,-1.7336935096327533,3.244925622032199,1.841750968380168,-0.49119101252950964,1.1853448809662257,0.6675123408061048,-1.437627889538169,-0.7450636517900513,-0.30151860773499123,-0.8671427788874422,1.1063875043347107,-0.26698316758204504,-1.649870588436951,-0.13895244826595793,0.031051274815732555,-0.7832155624085221,0.16178669856927996,-0.9382965322194335,0.4466791772128349,-0.15578635619915948,-1.5673289932174421,0.4919549985458554,-0.21504541416170153,0.1413190656527486,-0.9143680016986964,-0.7784995008704212,0.4779649038295718,1.5065125239154848,1.5389539286202367,1.3146020929586084,0.3810124335196379,1.4985550576693776,0.03859284362811156,0.4570321732592035,1.6657492904889124,1.770579715011796,-0.11161987472902953,1.4511060582998303,-0.24820849298660438,1.904973301524313,1.1692224023273332,-0.3491620787132832,-0.7141219970453385,-0.1623263949531894,0.14944754055839804,0.25019116466667546,0.19682162553617305,0.6692520415060931,-0.6958447951243778,0.08433454765442423,-0.5538825782042568,1.7467725048965241,-0.5095812259955649,-0.42512436009640775,0.4840214791946006,-1.6007136863955105,1.0499990825603565,0.6295142509558708,-0.442226614037453,-0.4550165591316354,0.6131877363513857,1.1247741199130217,-0.8279482111052545,1.0488516631647589,-1.1837813510152209,0.5477732226005055,0.4294375428232401,-0.03689138853667535,0.8878779293696469,-0.5501028512886033,-1.216210964468219],\"y\":[-0.4964199052766519,-0.16577690724505037,-0.06352090321925319,0.9195213492176749,0.05920945692515286,-1.5352387721000331,-1.1272581915748292,1.5037082437441256,0.25525024969292537,0.926990078214612,1.6091275728246384,1.435698623918543,0.7929430485448701,-1.8078167644107352,0.3872864424405,-0.5081756149338615,0.11157791814884271,-0.7470305306600676,0.48919705825920645,-0.9422629443606921,0.39389463746364245,0.13279241776625111,-0.396173763657729,1.1557994071707751,0.9826669783349918,-0.8763175484331243,0.03866612269199482,0.9133514387537464,1.210067697022933,0.9575896405404437,0.4446642857554738,-1.1836057054060263,0.4690710661659546,0.0825941321291548,-0.057323525876951595,-0.4140460470113184,-0.21346112501363587,-0.09758155608070679,1.0961830745473047,-3.2527834347876783,-1.0559859874065454,-1.2451669840676882,-2.3763630793887467,1.7406596934722733,1.1635839279907205,1.615733929496423,-0.6613818474443387,0.6441008999335095,0.2108681494964121,0.4532517241681963,0.39395980607470804,-1.3573655220385268,0.6556394659492624,0.015906823753299704,2.147919985281432,-0.306172943784595,-1.0004312140616298,-0.10416640047537958,0.5149288073107,0.7124745940564056,1.3798138145208825,0.4349085980837738,0.3292157090951729,0.626715652218343,-1.0654490499559879,-0.7326169106971796,1.1268040052754518,2.015396849191515,0.2772174604301982,-0.46067756949404814,1.5014212003411764,-0.03394335951066258,-1.2483981703632212,0.5858505897588245,0.3310923688884323,-0.1138787315153205,-0.9161409821576249,1.544558212804218,1.101864233216787,-0.6193672340216976,0.5111413589667924,-0.15609752801350163,-2.4429254121204935,-0.41236075686521195,-0.8921208446971892,-0.3415343111101214,1.27788943460529,-0.19375578696417853,0.5261336442900859,-1.002668939581087,2.2032125799401125,-0.17618635766898977,0.12628455991716694,0.1586375815419656,0.6857590793737517,0.345486423574641,0.41044445264360596,0.9932463757588236,-0.9153092798258289,0.1155976661986857],\"type\":\"scatter\"}],                        {\"legend\":{\"bgcolor\":\"#F5F6F9\",\"font\":{\"color\":\"#4D5663\"}},\"paper_bgcolor\":\"#F5F6F9\",\"plot_bgcolor\":\"#F5F6F9\",\"template\":{\"data\":{\"barpolar\":[{\"marker\":{\"line\":{\"color\":\"#E5ECF6\",\"width\":0.5},\"pattern\":{\"fillmode\":\"overlay\",\"size\":10,\"solidity\":0.2}},\"type\":\"barpolar\"}],\"bar\":[{\"error_x\":{\"color\":\"#2a3f5f\"},\"error_y\":{\"color\":\"#2a3f5f\"},\"marker\":{\"line\":{\"color\":\"#E5ECF6\",\"width\":0.5},\"pattern\":{\"fillmode\":\"overlay\",\"size\":10,\"solidity\":0.2}},\"type\":\"bar\"}],\"carpet\":[{\"aaxis\":{\"endlinecolor\":\"#2a3f5f\",\"gridcolor\":\"white\",\"linecolor\":\"white\",\"minorgridcolor\":\"white\",\"startlinecolor\":\"#2a3f5f\"},\"baxis\":{\"endlinecolor\":\"#2a3f5f\",\"gridcolor\":\"white\",\"linecolor\":\"white\",\"minorgridcolor\":\"white\",\"startlinecolor\":\"#2a3f5f\"},\"type\":\"carpet\"}],\"choropleth\":[{\"colorbar\":{\"outlinewidth\":0,\"ticks\":\"\"},\"type\":\"choropleth\"}],\"contourcarpet\":[{\"colorbar\":{\"outlinewidth\":0,\"ticks\":\"\"},\"type\":\"contourcarpet\"}],\"contour\":[{\"colorbar\":{\"outlinewidth\":0,\"ticks\":\"\"},\"colorscale\":[[0.0,\"#0d0887\"],[0.1111111111111111,\"#46039f\"],[0.2222222222222222,\"#7201a8\"],[0.3333333333333333,\"#9c179e\"],[0.4444444444444444,\"#bd3786\"],[0.5555555555555556,\"#d8576b\"],[0.6666666666666666,\"#ed7953\"],[0.7777777777777778,\"#fb9f3a\"],[0.8888888888888888,\"#fdca26\"],[1.0,\"#f0f921\"]],\"type\":\"contour\"}],\"heatmapgl\":[{\"colorbar\":{\"outlinewidth\":0,\"ticks\":\"\"},\"colorscale\":[[0.0,\"#0d0887\"],[0.1111111111111111,\"#46039f\"],[0.2222222222222222,\"#7201a8\"],[0.3333333333333333,\"#9c179e\"],[0.4444444444444444,\"#bd3786\"],[0.5555555555555556,\"#d8576b\"],[0.6666666666666666,\"#ed7953\"],[0.7777777777777778,\"#fb9f3a\"],[0.8888888888888888,\"#fdca26\"],[1.0,\"#f0f921\"]],\"type\":\"heatmapgl\"}],\"heatmap\":[{\"colorbar\":{\"outlinewidth\":0,\"ticks\":\"\"},\"colorscale\":[[0.0,\"#0d0887\"],[0.1111111111111111,\"#46039f\"],[0.2222222222222222,\"#7201a8\"],[0.3333333333333333,\"#9c179e\"],[0.4444444444444444,\"#bd3786\"],[0.5555555555555556,\"#d8576b\"],[0.6666666666666666,\"#ed7953\"],[0.7777777777777778,\"#fb9f3a\"],[0.8888888888888888,\"#fdca26\"],[1.0,\"#f0f921\"]],\"type\":\"heatmap\"}],\"histogram2dcontour\":[{\"colorbar\":{\"outlinewidth\":0,\"ticks\":\"\"},\"colorscale\":[[0.0,\"#0d0887\"],[0.1111111111111111,\"#46039f\"],[0.2222222222222222,\"#7201a8\"],[0.3333333333333333,\"#9c179e\"],[0.4444444444444444,\"#bd3786\"],[0.5555555555555556,\"#d8576b\"],[0.6666666666666666,\"#ed7953\"],[0.7777777777777778,\"#fb9f3a\"],[0.8888888888888888,\"#fdca26\"],[1.0,\"#f0f921\"]],\"type\":\"histogram2dcontour\"}],\"histogram2d\":[{\"colorbar\":{\"outlinewidth\":0,\"ticks\":\"\"},\"colorscale\":[[0.0,\"#0d0887\"],[0.1111111111111111,\"#46039f\"],[0.2222222222222222,\"#7201a8\"],[0.3333333333333333,\"#9c179e\"],[0.4444444444444444,\"#bd3786\"],[0.5555555555555556,\"#d8576b\"],[0.6666666666666666,\"#ed7953\"],[0.7777777777777778,\"#fb9f3a\"],[0.8888888888888888,\"#fdca26\"],[1.0,\"#f0f921\"]],\"type\":\"histogram2d\"}],\"histogram\":[{\"marker\":{\"pattern\":{\"fillmode\":\"overlay\",\"size\":10,\"solidity\":0.2}},\"type\":\"histogram\"}],\"mesh3d\":[{\"colorbar\":{\"outlinewidth\":0,\"ticks\":\"\"},\"type\":\"mesh3d\"}],\"parcoords\":[{\"line\":{\"colorbar\":{\"outlinewidth\":0,\"ticks\":\"\"}},\"type\":\"parcoords\"}],\"pie\":[{\"automargin\":true,\"type\":\"pie\"}],\"scatter3d\":[{\"line\":{\"colorbar\":{\"outlinewidth\":0,\"ticks\":\"\"}},\"marker\":{\"colorbar\":{\"outlinewidth\":0,\"ticks\":\"\"}},\"type\":\"scatter3d\"}],\"scattercarpet\":[{\"marker\":{\"colorbar\":{\"outlinewidth\":0,\"ticks\":\"\"}},\"type\":\"scattercarpet\"}],\"scattergeo\":[{\"marker\":{\"colorbar\":{\"outlinewidth\":0,\"ticks\":\"\"}},\"type\":\"scattergeo\"}],\"scattergl\":[{\"marker\":{\"colorbar\":{\"outlinewidth\":0,\"ticks\":\"\"}},\"type\":\"scattergl\"}],\"scattermapbox\":[{\"marker\":{\"colorbar\":{\"outlinewidth\":0,\"ticks\":\"\"}},\"type\":\"scattermapbox\"}],\"scatterpolargl\":[{\"marker\":{\"colorbar\":{\"outlinewidth\":0,\"ticks\":\"\"}},\"type\":\"scatterpolargl\"}],\"scatterpolar\":[{\"marker\":{\"colorbar\":{\"outlinewidth\":0,\"ticks\":\"\"}},\"type\":\"scatterpolar\"}],\"scatter\":[{\"fillpattern\":{\"fillmode\":\"overlay\",\"size\":10,\"solidity\":0.2},\"type\":\"scatter\"}],\"scatterternary\":[{\"marker\":{\"colorbar\":{\"outlinewidth\":0,\"ticks\":\"\"}},\"type\":\"scatterternary\"}],\"surface\":[{\"colorbar\":{\"outlinewidth\":0,\"ticks\":\"\"},\"colorscale\":[[0.0,\"#0d0887\"],[0.1111111111111111,\"#46039f\"],[0.2222222222222222,\"#7201a8\"],[0.3333333333333333,\"#9c179e\"],[0.4444444444444444,\"#bd3786\"],[0.5555555555555556,\"#d8576b\"],[0.6666666666666666,\"#ed7953\"],[0.7777777777777778,\"#fb9f3a\"],[0.8888888888888888,\"#fdca26\"],[1.0,\"#f0f921\"]],\"type\":\"surface\"}],\"table\":[{\"cells\":{\"fill\":{\"color\":\"#EBF0F8\"},\"line\":{\"color\":\"white\"}},\"header\":{\"fill\":{\"color\":\"#C8D4E3\"},\"line\":{\"color\":\"white\"}},\"type\":\"table\"}]},\"layout\":{\"annotationdefaults\":{\"arrowcolor\":\"#2a3f5f\",\"arrowhead\":0,\"arrowwidth\":1},\"autotypenumbers\":\"strict\",\"coloraxis\":{\"colorbar\":{\"outlinewidth\":0,\"ticks\":\"\"}},\"colorscale\":{\"diverging\":[[0,\"#8e0152\"],[0.1,\"#c51b7d\"],[0.2,\"#de77ae\"],[0.3,\"#f1b6da\"],[0.4,\"#fde0ef\"],[0.5,\"#f7f7f7\"],[0.6,\"#e6f5d0\"],[0.7,\"#b8e186\"],[0.8,\"#7fbc41\"],[0.9,\"#4d9221\"],[1,\"#276419\"]],\"sequential\":[[0.0,\"#0d0887\"],[0.1111111111111111,\"#46039f\"],[0.2222222222222222,\"#7201a8\"],[0.3333333333333333,\"#9c179e\"],[0.4444444444444444,\"#bd3786\"],[0.5555555555555556,\"#d8576b\"],[0.6666666666666666,\"#ed7953\"],[0.7777777777777778,\"#fb9f3a\"],[0.8888888888888888,\"#fdca26\"],[1.0,\"#f0f921\"]],\"sequentialminus\":[[0.0,\"#0d0887\"],[0.1111111111111111,\"#46039f\"],[0.2222222222222222,\"#7201a8\"],[0.3333333333333333,\"#9c179e\"],[0.4444444444444444,\"#bd3786\"],[0.5555555555555556,\"#d8576b\"],[0.6666666666666666,\"#ed7953\"],[0.7777777777777778,\"#fb9f3a\"],[0.8888888888888888,\"#fdca26\"],[1.0,\"#f0f921\"]]},\"colorway\":[\"#636efa\",\"#EF553B\",\"#00cc96\",\"#ab63fa\",\"#FFA15A\",\"#19d3f3\",\"#FF6692\",\"#B6E880\",\"#FF97FF\",\"#FECB52\"],\"font\":{\"color\":\"#2a3f5f\"},\"geo\":{\"bgcolor\":\"white\",\"lakecolor\":\"white\",\"landcolor\":\"#E5ECF6\",\"showlakes\":true,\"showland\":true,\"subunitcolor\":\"white\"},\"hoverlabel\":{\"align\":\"left\"},\"hovermode\":\"closest\",\"mapbox\":{\"style\":\"light\"},\"paper_bgcolor\":\"white\",\"plot_bgcolor\":\"#E5ECF6\",\"polar\":{\"angularaxis\":{\"gridcolor\":\"white\",\"linecolor\":\"white\",\"ticks\":\"\"},\"bgcolor\":\"#E5ECF6\",\"radialaxis\":{\"gridcolor\":\"white\",\"linecolor\":\"white\",\"ticks\":\"\"}},\"scene\":{\"xaxis\":{\"backgroundcolor\":\"#E5ECF6\",\"gridcolor\":\"white\",\"gridwidth\":2,\"linecolor\":\"white\",\"showbackground\":true,\"ticks\":\"\",\"zerolinecolor\":\"white\"},\"yaxis\":{\"backgroundcolor\":\"#E5ECF6\",\"gridcolor\":\"white\",\"gridwidth\":2,\"linecolor\":\"white\",\"showbackground\":true,\"ticks\":\"\",\"zerolinecolor\":\"white\"},\"zaxis\":{\"backgroundcolor\":\"#E5ECF6\",\"gridcolor\":\"white\",\"gridwidth\":2,\"linecolor\":\"white\",\"showbackground\":true,\"ticks\":\"\",\"zerolinecolor\":\"white\"}},\"shapedefaults\":{\"line\":{\"color\":\"#2a3f5f\"}},\"ternary\":{\"aaxis\":{\"gridcolor\":\"white\",\"linecolor\":\"white\",\"ticks\":\"\"},\"baxis\":{\"gridcolor\":\"white\",\"linecolor\":\"white\",\"ticks\":\"\"},\"bgcolor\":\"#E5ECF6\",\"caxis\":{\"gridcolor\":\"white\",\"linecolor\":\"white\",\"ticks\":\"\"}},\"title\":{\"x\":0.05},\"xaxis\":{\"automargin\":true,\"gridcolor\":\"white\",\"linecolor\":\"white\",\"ticks\":\"\",\"title\":{\"standoff\":15},\"zerolinecolor\":\"white\",\"zerolinewidth\":2},\"yaxis\":{\"automargin\":true,\"gridcolor\":\"white\",\"linecolor\":\"white\",\"ticks\":\"\",\"title\":{\"standoff\":15},\"zerolinecolor\":\"white\",\"zerolinewidth\":2}}},\"title\":{\"font\":{\"color\":\"#4D5663\"}},\"xaxis\":{\"gridcolor\":\"#E1E5ED\",\"showgrid\":true,\"tickfont\":{\"color\":\"#4D5663\"},\"title\":{\"font\":{\"color\":\"#4D5663\"},\"text\":\"\"},\"zerolinecolor\":\"#E1E5ED\"},\"yaxis\":{\"gridcolor\":\"#E1E5ED\",\"showgrid\":true,\"tickfont\":{\"color\":\"#4D5663\"},\"title\":{\"font\":{\"color\":\"#4D5663\"},\"text\":\"\"},\"zerolinecolor\":\"#E1E5ED\"}},                        {\"showLink\": true, \"linkText\": \"Export to plot.ly\", \"plotlyServerURL\": \"https://plot.ly\", \"responsive\": true}                    ).then(function(){\n",
       "                            \n",
       "var gd = document.getElementById('9132bdfa-c2b8-455c-9bb6-fd2fb53247dd');\n",
       "var x = new MutationObserver(function (mutations, observer) {{\n",
       "        var display = window.getComputedStyle(gd).display;\n",
       "        if (!display || display === 'none') {{\n",
       "            console.log([gd, 'removed!']);\n",
       "            Plotly.purge(gd);\n",
       "            observer.disconnect();\n",
       "        }}\n",
       "}});\n",
       "\n",
       "// Listen for the removal of the full notebook cells\n",
       "var notebookContainer = gd.closest('#notebook-container');\n",
       "if (notebookContainer) {{\n",
       "    x.observe(notebookContainer, {childList: true});\n",
       "}}\n",
       "\n",
       "// Listen for the clearing of the current output cell\n",
       "var outputEl = gd.closest('.output');\n",
       "if (outputEl) {{\n",
       "    x.observe(outputEl, {childList: true});\n",
       "}}\n",
       "\n",
       "                        })                };                });            </script>        </div>"
      ]
     },
     "metadata": {},
     "output_type": "display_data"
    }
   ],
   "source": [
    "df.iplot(kind='scatter',x='A',y='B',mode='markers',size=10)"
   ]
  },
  {
   "cell_type": "markdown",
   "metadata": {},
   "source": [
    "## Bar Plots"
   ]
  },
  {
   "cell_type": "code",
   "execution_count": 12,
   "metadata": {},
   "outputs": [
    {
     "data": {
      "application/vnd.plotly.v1+json": {
       "config": {
        "linkText": "Export to plot.ly",
        "plotlyServerURL": "https://plot.ly",
        "showLink": true
       },
       "data": [
        {
         "marker": {
          "color": "rgba(255, 153, 51, 0.6)",
          "line": {
           "color": "rgba(255, 153, 51, 1.0)",
           "width": 1
          }
         },
         "name": "Values",
         "orientation": "v",
         "text": "",
         "type": "bar",
         "x": [
          "A",
          "B",
          "C"
         ],
         "y": [
          32,
          43,
          50
         ]
        }
       ],
       "layout": {
        "legend": {
         "bgcolor": "#F5F6F9",
         "font": {
          "color": "#4D5663"
         }
        },
        "paper_bgcolor": "#F5F6F9",
        "plot_bgcolor": "#F5F6F9",
        "template": {
         "data": {
          "bar": [
           {
            "error_x": {
             "color": "#2a3f5f"
            },
            "error_y": {
             "color": "#2a3f5f"
            },
            "marker": {
             "line": {
              "color": "#E5ECF6",
              "width": 0.5
             },
             "pattern": {
              "fillmode": "overlay",
              "size": 10,
              "solidity": 0.2
             }
            },
            "type": "bar"
           }
          ],
          "barpolar": [
           {
            "marker": {
             "line": {
              "color": "#E5ECF6",
              "width": 0.5
             },
             "pattern": {
              "fillmode": "overlay",
              "size": 10,
              "solidity": 0.2
             }
            },
            "type": "barpolar"
           }
          ],
          "carpet": [
           {
            "aaxis": {
             "endlinecolor": "#2a3f5f",
             "gridcolor": "white",
             "linecolor": "white",
             "minorgridcolor": "white",
             "startlinecolor": "#2a3f5f"
            },
            "baxis": {
             "endlinecolor": "#2a3f5f",
             "gridcolor": "white",
             "linecolor": "white",
             "minorgridcolor": "white",
             "startlinecolor": "#2a3f5f"
            },
            "type": "carpet"
           }
          ],
          "choropleth": [
           {
            "colorbar": {
             "outlinewidth": 0,
             "ticks": ""
            },
            "type": "choropleth"
           }
          ],
          "contour": [
           {
            "colorbar": {
             "outlinewidth": 0,
             "ticks": ""
            },
            "colorscale": [
             [
              0,
              "#0d0887"
             ],
             [
              0.1111111111111111,
              "#46039f"
             ],
             [
              0.2222222222222222,
              "#7201a8"
             ],
             [
              0.3333333333333333,
              "#9c179e"
             ],
             [
              0.4444444444444444,
              "#bd3786"
             ],
             [
              0.5555555555555556,
              "#d8576b"
             ],
             [
              0.6666666666666666,
              "#ed7953"
             ],
             [
              0.7777777777777778,
              "#fb9f3a"
             ],
             [
              0.8888888888888888,
              "#fdca26"
             ],
             [
              1,
              "#f0f921"
             ]
            ],
            "type": "contour"
           }
          ],
          "contourcarpet": [
           {
            "colorbar": {
             "outlinewidth": 0,
             "ticks": ""
            },
            "type": "contourcarpet"
           }
          ],
          "heatmap": [
           {
            "colorbar": {
             "outlinewidth": 0,
             "ticks": ""
            },
            "colorscale": [
             [
              0,
              "#0d0887"
             ],
             [
              0.1111111111111111,
              "#46039f"
             ],
             [
              0.2222222222222222,
              "#7201a8"
             ],
             [
              0.3333333333333333,
              "#9c179e"
             ],
             [
              0.4444444444444444,
              "#bd3786"
             ],
             [
              0.5555555555555556,
              "#d8576b"
             ],
             [
              0.6666666666666666,
              "#ed7953"
             ],
             [
              0.7777777777777778,
              "#fb9f3a"
             ],
             [
              0.8888888888888888,
              "#fdca26"
             ],
             [
              1,
              "#f0f921"
             ]
            ],
            "type": "heatmap"
           }
          ],
          "heatmapgl": [
           {
            "colorbar": {
             "outlinewidth": 0,
             "ticks": ""
            },
            "colorscale": [
             [
              0,
              "#0d0887"
             ],
             [
              0.1111111111111111,
              "#46039f"
             ],
             [
              0.2222222222222222,
              "#7201a8"
             ],
             [
              0.3333333333333333,
              "#9c179e"
             ],
             [
              0.4444444444444444,
              "#bd3786"
             ],
             [
              0.5555555555555556,
              "#d8576b"
             ],
             [
              0.6666666666666666,
              "#ed7953"
             ],
             [
              0.7777777777777778,
              "#fb9f3a"
             ],
             [
              0.8888888888888888,
              "#fdca26"
             ],
             [
              1,
              "#f0f921"
             ]
            ],
            "type": "heatmapgl"
           }
          ],
          "histogram": [
           {
            "marker": {
             "pattern": {
              "fillmode": "overlay",
              "size": 10,
              "solidity": 0.2
             }
            },
            "type": "histogram"
           }
          ],
          "histogram2d": [
           {
            "colorbar": {
             "outlinewidth": 0,
             "ticks": ""
            },
            "colorscale": [
             [
              0,
              "#0d0887"
             ],
             [
              0.1111111111111111,
              "#46039f"
             ],
             [
              0.2222222222222222,
              "#7201a8"
             ],
             [
              0.3333333333333333,
              "#9c179e"
             ],
             [
              0.4444444444444444,
              "#bd3786"
             ],
             [
              0.5555555555555556,
              "#d8576b"
             ],
             [
              0.6666666666666666,
              "#ed7953"
             ],
             [
              0.7777777777777778,
              "#fb9f3a"
             ],
             [
              0.8888888888888888,
              "#fdca26"
             ],
             [
              1,
              "#f0f921"
             ]
            ],
            "type": "histogram2d"
           }
          ],
          "histogram2dcontour": [
           {
            "colorbar": {
             "outlinewidth": 0,
             "ticks": ""
            },
            "colorscale": [
             [
              0,
              "#0d0887"
             ],
             [
              0.1111111111111111,
              "#46039f"
             ],
             [
              0.2222222222222222,
              "#7201a8"
             ],
             [
              0.3333333333333333,
              "#9c179e"
             ],
             [
              0.4444444444444444,
              "#bd3786"
             ],
             [
              0.5555555555555556,
              "#d8576b"
             ],
             [
              0.6666666666666666,
              "#ed7953"
             ],
             [
              0.7777777777777778,
              "#fb9f3a"
             ],
             [
              0.8888888888888888,
              "#fdca26"
             ],
             [
              1,
              "#f0f921"
             ]
            ],
            "type": "histogram2dcontour"
           }
          ],
          "mesh3d": [
           {
            "colorbar": {
             "outlinewidth": 0,
             "ticks": ""
            },
            "type": "mesh3d"
           }
          ],
          "parcoords": [
           {
            "line": {
             "colorbar": {
              "outlinewidth": 0,
              "ticks": ""
             }
            },
            "type": "parcoords"
           }
          ],
          "pie": [
           {
            "automargin": true,
            "type": "pie"
           }
          ],
          "scatter": [
           {
            "fillpattern": {
             "fillmode": "overlay",
             "size": 10,
             "solidity": 0.2
            },
            "type": "scatter"
           }
          ],
          "scatter3d": [
           {
            "line": {
             "colorbar": {
              "outlinewidth": 0,
              "ticks": ""
             }
            },
            "marker": {
             "colorbar": {
              "outlinewidth": 0,
              "ticks": ""
             }
            },
            "type": "scatter3d"
           }
          ],
          "scattercarpet": [
           {
            "marker": {
             "colorbar": {
              "outlinewidth": 0,
              "ticks": ""
             }
            },
            "type": "scattercarpet"
           }
          ],
          "scattergeo": [
           {
            "marker": {
             "colorbar": {
              "outlinewidth": 0,
              "ticks": ""
             }
            },
            "type": "scattergeo"
           }
          ],
          "scattergl": [
           {
            "marker": {
             "colorbar": {
              "outlinewidth": 0,
              "ticks": ""
             }
            },
            "type": "scattergl"
           }
          ],
          "scattermapbox": [
           {
            "marker": {
             "colorbar": {
              "outlinewidth": 0,
              "ticks": ""
             }
            },
            "type": "scattermapbox"
           }
          ],
          "scatterpolar": [
           {
            "marker": {
             "colorbar": {
              "outlinewidth": 0,
              "ticks": ""
             }
            },
            "type": "scatterpolar"
           }
          ],
          "scatterpolargl": [
           {
            "marker": {
             "colorbar": {
              "outlinewidth": 0,
              "ticks": ""
             }
            },
            "type": "scatterpolargl"
           }
          ],
          "scatterternary": [
           {
            "marker": {
             "colorbar": {
              "outlinewidth": 0,
              "ticks": ""
             }
            },
            "type": "scatterternary"
           }
          ],
          "surface": [
           {
            "colorbar": {
             "outlinewidth": 0,
             "ticks": ""
            },
            "colorscale": [
             [
              0,
              "#0d0887"
             ],
             [
              0.1111111111111111,
              "#46039f"
             ],
             [
              0.2222222222222222,
              "#7201a8"
             ],
             [
              0.3333333333333333,
              "#9c179e"
             ],
             [
              0.4444444444444444,
              "#bd3786"
             ],
             [
              0.5555555555555556,
              "#d8576b"
             ],
             [
              0.6666666666666666,
              "#ed7953"
             ],
             [
              0.7777777777777778,
              "#fb9f3a"
             ],
             [
              0.8888888888888888,
              "#fdca26"
             ],
             [
              1,
              "#f0f921"
             ]
            ],
            "type": "surface"
           }
          ],
          "table": [
           {
            "cells": {
             "fill": {
              "color": "#EBF0F8"
             },
             "line": {
              "color": "white"
             }
            },
            "header": {
             "fill": {
              "color": "#C8D4E3"
             },
             "line": {
              "color": "white"
             }
            },
            "type": "table"
           }
          ]
         },
         "layout": {
          "annotationdefaults": {
           "arrowcolor": "#2a3f5f",
           "arrowhead": 0,
           "arrowwidth": 1
          },
          "autotypenumbers": "strict",
          "coloraxis": {
           "colorbar": {
            "outlinewidth": 0,
            "ticks": ""
           }
          },
          "colorscale": {
           "diverging": [
            [
             0,
             "#8e0152"
            ],
            [
             0.1,
             "#c51b7d"
            ],
            [
             0.2,
             "#de77ae"
            ],
            [
             0.3,
             "#f1b6da"
            ],
            [
             0.4,
             "#fde0ef"
            ],
            [
             0.5,
             "#f7f7f7"
            ],
            [
             0.6,
             "#e6f5d0"
            ],
            [
             0.7,
             "#b8e186"
            ],
            [
             0.8,
             "#7fbc41"
            ],
            [
             0.9,
             "#4d9221"
            ],
            [
             1,
             "#276419"
            ]
           ],
           "sequential": [
            [
             0,
             "#0d0887"
            ],
            [
             0.1111111111111111,
             "#46039f"
            ],
            [
             0.2222222222222222,
             "#7201a8"
            ],
            [
             0.3333333333333333,
             "#9c179e"
            ],
            [
             0.4444444444444444,
             "#bd3786"
            ],
            [
             0.5555555555555556,
             "#d8576b"
            ],
            [
             0.6666666666666666,
             "#ed7953"
            ],
            [
             0.7777777777777778,
             "#fb9f3a"
            ],
            [
             0.8888888888888888,
             "#fdca26"
            ],
            [
             1,
             "#f0f921"
            ]
           ],
           "sequentialminus": [
            [
             0,
             "#0d0887"
            ],
            [
             0.1111111111111111,
             "#46039f"
            ],
            [
             0.2222222222222222,
             "#7201a8"
            ],
            [
             0.3333333333333333,
             "#9c179e"
            ],
            [
             0.4444444444444444,
             "#bd3786"
            ],
            [
             0.5555555555555556,
             "#d8576b"
            ],
            [
             0.6666666666666666,
             "#ed7953"
            ],
            [
             0.7777777777777778,
             "#fb9f3a"
            ],
            [
             0.8888888888888888,
             "#fdca26"
            ],
            [
             1,
             "#f0f921"
            ]
           ]
          },
          "colorway": [
           "#636efa",
           "#EF553B",
           "#00cc96",
           "#ab63fa",
           "#FFA15A",
           "#19d3f3",
           "#FF6692",
           "#B6E880",
           "#FF97FF",
           "#FECB52"
          ],
          "font": {
           "color": "#2a3f5f"
          },
          "geo": {
           "bgcolor": "white",
           "lakecolor": "white",
           "landcolor": "#E5ECF6",
           "showlakes": true,
           "showland": true,
           "subunitcolor": "white"
          },
          "hoverlabel": {
           "align": "left"
          },
          "hovermode": "closest",
          "mapbox": {
           "style": "light"
          },
          "paper_bgcolor": "white",
          "plot_bgcolor": "#E5ECF6",
          "polar": {
           "angularaxis": {
            "gridcolor": "white",
            "linecolor": "white",
            "ticks": ""
           },
           "bgcolor": "#E5ECF6",
           "radialaxis": {
            "gridcolor": "white",
            "linecolor": "white",
            "ticks": ""
           }
          },
          "scene": {
           "xaxis": {
            "backgroundcolor": "#E5ECF6",
            "gridcolor": "white",
            "gridwidth": 2,
            "linecolor": "white",
            "showbackground": true,
            "ticks": "",
            "zerolinecolor": "white"
           },
           "yaxis": {
            "backgroundcolor": "#E5ECF6",
            "gridcolor": "white",
            "gridwidth": 2,
            "linecolor": "white",
            "showbackground": true,
            "ticks": "",
            "zerolinecolor": "white"
           },
           "zaxis": {
            "backgroundcolor": "#E5ECF6",
            "gridcolor": "white",
            "gridwidth": 2,
            "linecolor": "white",
            "showbackground": true,
            "ticks": "",
            "zerolinecolor": "white"
           }
          },
          "shapedefaults": {
           "line": {
            "color": "#2a3f5f"
           }
          },
          "ternary": {
           "aaxis": {
            "gridcolor": "white",
            "linecolor": "white",
            "ticks": ""
           },
           "baxis": {
            "gridcolor": "white",
            "linecolor": "white",
            "ticks": ""
           },
           "bgcolor": "#E5ECF6",
           "caxis": {
            "gridcolor": "white",
            "linecolor": "white",
            "ticks": ""
           }
          },
          "title": {
           "x": 0.05
          },
          "xaxis": {
           "automargin": true,
           "gridcolor": "white",
           "linecolor": "white",
           "ticks": "",
           "title": {
            "standoff": 15
           },
           "zerolinecolor": "white",
           "zerolinewidth": 2
          },
          "yaxis": {
           "automargin": true,
           "gridcolor": "white",
           "linecolor": "white",
           "ticks": "",
           "title": {
            "standoff": 15
           },
           "zerolinecolor": "white",
           "zerolinewidth": 2
          }
         }
        },
        "title": {
         "font": {
          "color": "#4D5663"
         }
        },
        "xaxis": {
         "gridcolor": "#E1E5ED",
         "showgrid": true,
         "tickfont": {
          "color": "#4D5663"
         },
         "title": {
          "font": {
           "color": "#4D5663"
          },
          "text": ""
         },
         "zerolinecolor": "#E1E5ED"
        },
        "yaxis": {
         "gridcolor": "#E1E5ED",
         "showgrid": true,
         "tickfont": {
          "color": "#4D5663"
         },
         "title": {
          "font": {
           "color": "#4D5663"
          },
          "text": ""
         },
         "zerolinecolor": "#E1E5ED"
        }
       }
      },
      "text/html": [
       "<div>                            <div id=\"872119be-0e1d-4a7a-b409-433a7170a244\" class=\"plotly-graph-div\" style=\"height:525px; width:100%;\"></div>            <script type=\"text/javascript\">                require([\"plotly\"], function(Plotly) {                    window.PLOTLYENV=window.PLOTLYENV || {};\n",
       "                    window.PLOTLYENV.BASE_URL='https://plot.ly';                                    if (document.getElementById(\"872119be-0e1d-4a7a-b409-433a7170a244\")) {                    Plotly.newPlot(                        \"872119be-0e1d-4a7a-b409-433a7170a244\",                        [{\"marker\":{\"color\":\"rgba(255, 153, 51, 0.6)\",\"line\":{\"color\":\"rgba(255, 153, 51, 1.0)\",\"width\":1}},\"name\":\"Values\",\"orientation\":\"v\",\"text\":\"\",\"x\":[\"A\",\"B\",\"C\"],\"y\":[32,43,50],\"type\":\"bar\"}],                        {\"legend\":{\"bgcolor\":\"#F5F6F9\",\"font\":{\"color\":\"#4D5663\"}},\"paper_bgcolor\":\"#F5F6F9\",\"plot_bgcolor\":\"#F5F6F9\",\"template\":{\"data\":{\"barpolar\":[{\"marker\":{\"line\":{\"color\":\"#E5ECF6\",\"width\":0.5},\"pattern\":{\"fillmode\":\"overlay\",\"size\":10,\"solidity\":0.2}},\"type\":\"barpolar\"}],\"bar\":[{\"error_x\":{\"color\":\"#2a3f5f\"},\"error_y\":{\"color\":\"#2a3f5f\"},\"marker\":{\"line\":{\"color\":\"#E5ECF6\",\"width\":0.5},\"pattern\":{\"fillmode\":\"overlay\",\"size\":10,\"solidity\":0.2}},\"type\":\"bar\"}],\"carpet\":[{\"aaxis\":{\"endlinecolor\":\"#2a3f5f\",\"gridcolor\":\"white\",\"linecolor\":\"white\",\"minorgridcolor\":\"white\",\"startlinecolor\":\"#2a3f5f\"},\"baxis\":{\"endlinecolor\":\"#2a3f5f\",\"gridcolor\":\"white\",\"linecolor\":\"white\",\"minorgridcolor\":\"white\",\"startlinecolor\":\"#2a3f5f\"},\"type\":\"carpet\"}],\"choropleth\":[{\"colorbar\":{\"outlinewidth\":0,\"ticks\":\"\"},\"type\":\"choropleth\"}],\"contourcarpet\":[{\"colorbar\":{\"outlinewidth\":0,\"ticks\":\"\"},\"type\":\"contourcarpet\"}],\"contour\":[{\"colorbar\":{\"outlinewidth\":0,\"ticks\":\"\"},\"colorscale\":[[0.0,\"#0d0887\"],[0.1111111111111111,\"#46039f\"],[0.2222222222222222,\"#7201a8\"],[0.3333333333333333,\"#9c179e\"],[0.4444444444444444,\"#bd3786\"],[0.5555555555555556,\"#d8576b\"],[0.6666666666666666,\"#ed7953\"],[0.7777777777777778,\"#fb9f3a\"],[0.8888888888888888,\"#fdca26\"],[1.0,\"#f0f921\"]],\"type\":\"contour\"}],\"heatmapgl\":[{\"colorbar\":{\"outlinewidth\":0,\"ticks\":\"\"},\"colorscale\":[[0.0,\"#0d0887\"],[0.1111111111111111,\"#46039f\"],[0.2222222222222222,\"#7201a8\"],[0.3333333333333333,\"#9c179e\"],[0.4444444444444444,\"#bd3786\"],[0.5555555555555556,\"#d8576b\"],[0.6666666666666666,\"#ed7953\"],[0.7777777777777778,\"#fb9f3a\"],[0.8888888888888888,\"#fdca26\"],[1.0,\"#f0f921\"]],\"type\":\"heatmapgl\"}],\"heatmap\":[{\"colorbar\":{\"outlinewidth\":0,\"ticks\":\"\"},\"colorscale\":[[0.0,\"#0d0887\"],[0.1111111111111111,\"#46039f\"],[0.2222222222222222,\"#7201a8\"],[0.3333333333333333,\"#9c179e\"],[0.4444444444444444,\"#bd3786\"],[0.5555555555555556,\"#d8576b\"],[0.6666666666666666,\"#ed7953\"],[0.7777777777777778,\"#fb9f3a\"],[0.8888888888888888,\"#fdca26\"],[1.0,\"#f0f921\"]],\"type\":\"heatmap\"}],\"histogram2dcontour\":[{\"colorbar\":{\"outlinewidth\":0,\"ticks\":\"\"},\"colorscale\":[[0.0,\"#0d0887\"],[0.1111111111111111,\"#46039f\"],[0.2222222222222222,\"#7201a8\"],[0.3333333333333333,\"#9c179e\"],[0.4444444444444444,\"#bd3786\"],[0.5555555555555556,\"#d8576b\"],[0.6666666666666666,\"#ed7953\"],[0.7777777777777778,\"#fb9f3a\"],[0.8888888888888888,\"#fdca26\"],[1.0,\"#f0f921\"]],\"type\":\"histogram2dcontour\"}],\"histogram2d\":[{\"colorbar\":{\"outlinewidth\":0,\"ticks\":\"\"},\"colorscale\":[[0.0,\"#0d0887\"],[0.1111111111111111,\"#46039f\"],[0.2222222222222222,\"#7201a8\"],[0.3333333333333333,\"#9c179e\"],[0.4444444444444444,\"#bd3786\"],[0.5555555555555556,\"#d8576b\"],[0.6666666666666666,\"#ed7953\"],[0.7777777777777778,\"#fb9f3a\"],[0.8888888888888888,\"#fdca26\"],[1.0,\"#f0f921\"]],\"type\":\"histogram2d\"}],\"histogram\":[{\"marker\":{\"pattern\":{\"fillmode\":\"overlay\",\"size\":10,\"solidity\":0.2}},\"type\":\"histogram\"}],\"mesh3d\":[{\"colorbar\":{\"outlinewidth\":0,\"ticks\":\"\"},\"type\":\"mesh3d\"}],\"parcoords\":[{\"line\":{\"colorbar\":{\"outlinewidth\":0,\"ticks\":\"\"}},\"type\":\"parcoords\"}],\"pie\":[{\"automargin\":true,\"type\":\"pie\"}],\"scatter3d\":[{\"line\":{\"colorbar\":{\"outlinewidth\":0,\"ticks\":\"\"}},\"marker\":{\"colorbar\":{\"outlinewidth\":0,\"ticks\":\"\"}},\"type\":\"scatter3d\"}],\"scattercarpet\":[{\"marker\":{\"colorbar\":{\"outlinewidth\":0,\"ticks\":\"\"}},\"type\":\"scattercarpet\"}],\"scattergeo\":[{\"marker\":{\"colorbar\":{\"outlinewidth\":0,\"ticks\":\"\"}},\"type\":\"scattergeo\"}],\"scattergl\":[{\"marker\":{\"colorbar\":{\"outlinewidth\":0,\"ticks\":\"\"}},\"type\":\"scattergl\"}],\"scattermapbox\":[{\"marker\":{\"colorbar\":{\"outlinewidth\":0,\"ticks\":\"\"}},\"type\":\"scattermapbox\"}],\"scatterpolargl\":[{\"marker\":{\"colorbar\":{\"outlinewidth\":0,\"ticks\":\"\"}},\"type\":\"scatterpolargl\"}],\"scatterpolar\":[{\"marker\":{\"colorbar\":{\"outlinewidth\":0,\"ticks\":\"\"}},\"type\":\"scatterpolar\"}],\"scatter\":[{\"fillpattern\":{\"fillmode\":\"overlay\",\"size\":10,\"solidity\":0.2},\"type\":\"scatter\"}],\"scatterternary\":[{\"marker\":{\"colorbar\":{\"outlinewidth\":0,\"ticks\":\"\"}},\"type\":\"scatterternary\"}],\"surface\":[{\"colorbar\":{\"outlinewidth\":0,\"ticks\":\"\"},\"colorscale\":[[0.0,\"#0d0887\"],[0.1111111111111111,\"#46039f\"],[0.2222222222222222,\"#7201a8\"],[0.3333333333333333,\"#9c179e\"],[0.4444444444444444,\"#bd3786\"],[0.5555555555555556,\"#d8576b\"],[0.6666666666666666,\"#ed7953\"],[0.7777777777777778,\"#fb9f3a\"],[0.8888888888888888,\"#fdca26\"],[1.0,\"#f0f921\"]],\"type\":\"surface\"}],\"table\":[{\"cells\":{\"fill\":{\"color\":\"#EBF0F8\"},\"line\":{\"color\":\"white\"}},\"header\":{\"fill\":{\"color\":\"#C8D4E3\"},\"line\":{\"color\":\"white\"}},\"type\":\"table\"}]},\"layout\":{\"annotationdefaults\":{\"arrowcolor\":\"#2a3f5f\",\"arrowhead\":0,\"arrowwidth\":1},\"autotypenumbers\":\"strict\",\"coloraxis\":{\"colorbar\":{\"outlinewidth\":0,\"ticks\":\"\"}},\"colorscale\":{\"diverging\":[[0,\"#8e0152\"],[0.1,\"#c51b7d\"],[0.2,\"#de77ae\"],[0.3,\"#f1b6da\"],[0.4,\"#fde0ef\"],[0.5,\"#f7f7f7\"],[0.6,\"#e6f5d0\"],[0.7,\"#b8e186\"],[0.8,\"#7fbc41\"],[0.9,\"#4d9221\"],[1,\"#276419\"]],\"sequential\":[[0.0,\"#0d0887\"],[0.1111111111111111,\"#46039f\"],[0.2222222222222222,\"#7201a8\"],[0.3333333333333333,\"#9c179e\"],[0.4444444444444444,\"#bd3786\"],[0.5555555555555556,\"#d8576b\"],[0.6666666666666666,\"#ed7953\"],[0.7777777777777778,\"#fb9f3a\"],[0.8888888888888888,\"#fdca26\"],[1.0,\"#f0f921\"]],\"sequentialminus\":[[0.0,\"#0d0887\"],[0.1111111111111111,\"#46039f\"],[0.2222222222222222,\"#7201a8\"],[0.3333333333333333,\"#9c179e\"],[0.4444444444444444,\"#bd3786\"],[0.5555555555555556,\"#d8576b\"],[0.6666666666666666,\"#ed7953\"],[0.7777777777777778,\"#fb9f3a\"],[0.8888888888888888,\"#fdca26\"],[1.0,\"#f0f921\"]]},\"colorway\":[\"#636efa\",\"#EF553B\",\"#00cc96\",\"#ab63fa\",\"#FFA15A\",\"#19d3f3\",\"#FF6692\",\"#B6E880\",\"#FF97FF\",\"#FECB52\"],\"font\":{\"color\":\"#2a3f5f\"},\"geo\":{\"bgcolor\":\"white\",\"lakecolor\":\"white\",\"landcolor\":\"#E5ECF6\",\"showlakes\":true,\"showland\":true,\"subunitcolor\":\"white\"},\"hoverlabel\":{\"align\":\"left\"},\"hovermode\":\"closest\",\"mapbox\":{\"style\":\"light\"},\"paper_bgcolor\":\"white\",\"plot_bgcolor\":\"#E5ECF6\",\"polar\":{\"angularaxis\":{\"gridcolor\":\"white\",\"linecolor\":\"white\",\"ticks\":\"\"},\"bgcolor\":\"#E5ECF6\",\"radialaxis\":{\"gridcolor\":\"white\",\"linecolor\":\"white\",\"ticks\":\"\"}},\"scene\":{\"xaxis\":{\"backgroundcolor\":\"#E5ECF6\",\"gridcolor\":\"white\",\"gridwidth\":2,\"linecolor\":\"white\",\"showbackground\":true,\"ticks\":\"\",\"zerolinecolor\":\"white\"},\"yaxis\":{\"backgroundcolor\":\"#E5ECF6\",\"gridcolor\":\"white\",\"gridwidth\":2,\"linecolor\":\"white\",\"showbackground\":true,\"ticks\":\"\",\"zerolinecolor\":\"white\"},\"zaxis\":{\"backgroundcolor\":\"#E5ECF6\",\"gridcolor\":\"white\",\"gridwidth\":2,\"linecolor\":\"white\",\"showbackground\":true,\"ticks\":\"\",\"zerolinecolor\":\"white\"}},\"shapedefaults\":{\"line\":{\"color\":\"#2a3f5f\"}},\"ternary\":{\"aaxis\":{\"gridcolor\":\"white\",\"linecolor\":\"white\",\"ticks\":\"\"},\"baxis\":{\"gridcolor\":\"white\",\"linecolor\":\"white\",\"ticks\":\"\"},\"bgcolor\":\"#E5ECF6\",\"caxis\":{\"gridcolor\":\"white\",\"linecolor\":\"white\",\"ticks\":\"\"}},\"title\":{\"x\":0.05},\"xaxis\":{\"automargin\":true,\"gridcolor\":\"white\",\"linecolor\":\"white\",\"ticks\":\"\",\"title\":{\"standoff\":15},\"zerolinecolor\":\"white\",\"zerolinewidth\":2},\"yaxis\":{\"automargin\":true,\"gridcolor\":\"white\",\"linecolor\":\"white\",\"ticks\":\"\",\"title\":{\"standoff\":15},\"zerolinecolor\":\"white\",\"zerolinewidth\":2}}},\"title\":{\"font\":{\"color\":\"#4D5663\"}},\"xaxis\":{\"gridcolor\":\"#E1E5ED\",\"showgrid\":true,\"tickfont\":{\"color\":\"#4D5663\"},\"title\":{\"font\":{\"color\":\"#4D5663\"},\"text\":\"\"},\"zerolinecolor\":\"#E1E5ED\"},\"yaxis\":{\"gridcolor\":\"#E1E5ED\",\"showgrid\":true,\"tickfont\":{\"color\":\"#4D5663\"},\"title\":{\"font\":{\"color\":\"#4D5663\"},\"text\":\"\"},\"zerolinecolor\":\"#E1E5ED\"}},                        {\"showLink\": true, \"linkText\": \"Export to plot.ly\", \"plotlyServerURL\": \"https://plot.ly\", \"responsive\": true}                    ).then(function(){\n",
       "                            \n",
       "var gd = document.getElementById('872119be-0e1d-4a7a-b409-433a7170a244');\n",
       "var x = new MutationObserver(function (mutations, observer) {{\n",
       "        var display = window.getComputedStyle(gd).display;\n",
       "        if (!display || display === 'none') {{\n",
       "            console.log([gd, 'removed!']);\n",
       "            Plotly.purge(gd);\n",
       "            observer.disconnect();\n",
       "        }}\n",
       "}});\n",
       "\n",
       "// Listen for the removal of the full notebook cells\n",
       "var notebookContainer = gd.closest('#notebook-container');\n",
       "if (notebookContainer) {{\n",
       "    x.observe(notebookContainer, {childList: true});\n",
       "}}\n",
       "\n",
       "// Listen for the clearing of the current output cell\n",
       "var outputEl = gd.closest('.output');\n",
       "if (outputEl) {{\n",
       "    x.observe(outputEl, {childList: true});\n",
       "}}\n",
       "\n",
       "                        })                };                });            </script>        </div>"
      ]
     },
     "metadata": {},
     "output_type": "display_data"
    }
   ],
   "source": [
    "df2.iplot(kind='bar',x='Category',y='Values')"
   ]
  },
  {
   "cell_type": "code",
   "execution_count": 13,
   "metadata": {},
   "outputs": [
    {
     "data": {
      "application/vnd.plotly.v1+json": {
       "config": {
        "linkText": "Export to plot.ly",
        "plotlyServerURL": "https://plot.ly",
        "showLink": true
       },
       "data": [
        {
         "marker": {
          "color": "rgba(255, 153, 51, 0.6)",
          "line": {
           "color": "rgba(255, 153, 51, 1.0)",
           "width": 1
          }
         },
         "name": "None",
         "orientation": "v",
         "text": "",
         "type": "bar",
         "x": [
          "A",
          "B",
          "C",
          "D"
         ],
         "y": [
          100,
          100,
          100,
          100
         ]
        }
       ],
       "layout": {
        "legend": {
         "bgcolor": "#F5F6F9",
         "font": {
          "color": "#4D5663"
         }
        },
        "paper_bgcolor": "#F5F6F9",
        "plot_bgcolor": "#F5F6F9",
        "template": {
         "data": {
          "bar": [
           {
            "error_x": {
             "color": "#2a3f5f"
            },
            "error_y": {
             "color": "#2a3f5f"
            },
            "marker": {
             "line": {
              "color": "#E5ECF6",
              "width": 0.5
             },
             "pattern": {
              "fillmode": "overlay",
              "size": 10,
              "solidity": 0.2
             }
            },
            "type": "bar"
           }
          ],
          "barpolar": [
           {
            "marker": {
             "line": {
              "color": "#E5ECF6",
              "width": 0.5
             },
             "pattern": {
              "fillmode": "overlay",
              "size": 10,
              "solidity": 0.2
             }
            },
            "type": "barpolar"
           }
          ],
          "carpet": [
           {
            "aaxis": {
             "endlinecolor": "#2a3f5f",
             "gridcolor": "white",
             "linecolor": "white",
             "minorgridcolor": "white",
             "startlinecolor": "#2a3f5f"
            },
            "baxis": {
             "endlinecolor": "#2a3f5f",
             "gridcolor": "white",
             "linecolor": "white",
             "minorgridcolor": "white",
             "startlinecolor": "#2a3f5f"
            },
            "type": "carpet"
           }
          ],
          "choropleth": [
           {
            "colorbar": {
             "outlinewidth": 0,
             "ticks": ""
            },
            "type": "choropleth"
           }
          ],
          "contour": [
           {
            "colorbar": {
             "outlinewidth": 0,
             "ticks": ""
            },
            "colorscale": [
             [
              0,
              "#0d0887"
             ],
             [
              0.1111111111111111,
              "#46039f"
             ],
             [
              0.2222222222222222,
              "#7201a8"
             ],
             [
              0.3333333333333333,
              "#9c179e"
             ],
             [
              0.4444444444444444,
              "#bd3786"
             ],
             [
              0.5555555555555556,
              "#d8576b"
             ],
             [
              0.6666666666666666,
              "#ed7953"
             ],
             [
              0.7777777777777778,
              "#fb9f3a"
             ],
             [
              0.8888888888888888,
              "#fdca26"
             ],
             [
              1,
              "#f0f921"
             ]
            ],
            "type": "contour"
           }
          ],
          "contourcarpet": [
           {
            "colorbar": {
             "outlinewidth": 0,
             "ticks": ""
            },
            "type": "contourcarpet"
           }
          ],
          "heatmap": [
           {
            "colorbar": {
             "outlinewidth": 0,
             "ticks": ""
            },
            "colorscale": [
             [
              0,
              "#0d0887"
             ],
             [
              0.1111111111111111,
              "#46039f"
             ],
             [
              0.2222222222222222,
              "#7201a8"
             ],
             [
              0.3333333333333333,
              "#9c179e"
             ],
             [
              0.4444444444444444,
              "#bd3786"
             ],
             [
              0.5555555555555556,
              "#d8576b"
             ],
             [
              0.6666666666666666,
              "#ed7953"
             ],
             [
              0.7777777777777778,
              "#fb9f3a"
             ],
             [
              0.8888888888888888,
              "#fdca26"
             ],
             [
              1,
              "#f0f921"
             ]
            ],
            "type": "heatmap"
           }
          ],
          "heatmapgl": [
           {
            "colorbar": {
             "outlinewidth": 0,
             "ticks": ""
            },
            "colorscale": [
             [
              0,
              "#0d0887"
             ],
             [
              0.1111111111111111,
              "#46039f"
             ],
             [
              0.2222222222222222,
              "#7201a8"
             ],
             [
              0.3333333333333333,
              "#9c179e"
             ],
             [
              0.4444444444444444,
              "#bd3786"
             ],
             [
              0.5555555555555556,
              "#d8576b"
             ],
             [
              0.6666666666666666,
              "#ed7953"
             ],
             [
              0.7777777777777778,
              "#fb9f3a"
             ],
             [
              0.8888888888888888,
              "#fdca26"
             ],
             [
              1,
              "#f0f921"
             ]
            ],
            "type": "heatmapgl"
           }
          ],
          "histogram": [
           {
            "marker": {
             "pattern": {
              "fillmode": "overlay",
              "size": 10,
              "solidity": 0.2
             }
            },
            "type": "histogram"
           }
          ],
          "histogram2d": [
           {
            "colorbar": {
             "outlinewidth": 0,
             "ticks": ""
            },
            "colorscale": [
             [
              0,
              "#0d0887"
             ],
             [
              0.1111111111111111,
              "#46039f"
             ],
             [
              0.2222222222222222,
              "#7201a8"
             ],
             [
              0.3333333333333333,
              "#9c179e"
             ],
             [
              0.4444444444444444,
              "#bd3786"
             ],
             [
              0.5555555555555556,
              "#d8576b"
             ],
             [
              0.6666666666666666,
              "#ed7953"
             ],
             [
              0.7777777777777778,
              "#fb9f3a"
             ],
             [
              0.8888888888888888,
              "#fdca26"
             ],
             [
              1,
              "#f0f921"
             ]
            ],
            "type": "histogram2d"
           }
          ],
          "histogram2dcontour": [
           {
            "colorbar": {
             "outlinewidth": 0,
             "ticks": ""
            },
            "colorscale": [
             [
              0,
              "#0d0887"
             ],
             [
              0.1111111111111111,
              "#46039f"
             ],
             [
              0.2222222222222222,
              "#7201a8"
             ],
             [
              0.3333333333333333,
              "#9c179e"
             ],
             [
              0.4444444444444444,
              "#bd3786"
             ],
             [
              0.5555555555555556,
              "#d8576b"
             ],
             [
              0.6666666666666666,
              "#ed7953"
             ],
             [
              0.7777777777777778,
              "#fb9f3a"
             ],
             [
              0.8888888888888888,
              "#fdca26"
             ],
             [
              1,
              "#f0f921"
             ]
            ],
            "type": "histogram2dcontour"
           }
          ],
          "mesh3d": [
           {
            "colorbar": {
             "outlinewidth": 0,
             "ticks": ""
            },
            "type": "mesh3d"
           }
          ],
          "parcoords": [
           {
            "line": {
             "colorbar": {
              "outlinewidth": 0,
              "ticks": ""
             }
            },
            "type": "parcoords"
           }
          ],
          "pie": [
           {
            "automargin": true,
            "type": "pie"
           }
          ],
          "scatter": [
           {
            "fillpattern": {
             "fillmode": "overlay",
             "size": 10,
             "solidity": 0.2
            },
            "type": "scatter"
           }
          ],
          "scatter3d": [
           {
            "line": {
             "colorbar": {
              "outlinewidth": 0,
              "ticks": ""
             }
            },
            "marker": {
             "colorbar": {
              "outlinewidth": 0,
              "ticks": ""
             }
            },
            "type": "scatter3d"
           }
          ],
          "scattercarpet": [
           {
            "marker": {
             "colorbar": {
              "outlinewidth": 0,
              "ticks": ""
             }
            },
            "type": "scattercarpet"
           }
          ],
          "scattergeo": [
           {
            "marker": {
             "colorbar": {
              "outlinewidth": 0,
              "ticks": ""
             }
            },
            "type": "scattergeo"
           }
          ],
          "scattergl": [
           {
            "marker": {
             "colorbar": {
              "outlinewidth": 0,
              "ticks": ""
             }
            },
            "type": "scattergl"
           }
          ],
          "scattermapbox": [
           {
            "marker": {
             "colorbar": {
              "outlinewidth": 0,
              "ticks": ""
             }
            },
            "type": "scattermapbox"
           }
          ],
          "scatterpolar": [
           {
            "marker": {
             "colorbar": {
              "outlinewidth": 0,
              "ticks": ""
             }
            },
            "type": "scatterpolar"
           }
          ],
          "scatterpolargl": [
           {
            "marker": {
             "colorbar": {
              "outlinewidth": 0,
              "ticks": ""
             }
            },
            "type": "scatterpolargl"
           }
          ],
          "scatterternary": [
           {
            "marker": {
             "colorbar": {
              "outlinewidth": 0,
              "ticks": ""
             }
            },
            "type": "scatterternary"
           }
          ],
          "surface": [
           {
            "colorbar": {
             "outlinewidth": 0,
             "ticks": ""
            },
            "colorscale": [
             [
              0,
              "#0d0887"
             ],
             [
              0.1111111111111111,
              "#46039f"
             ],
             [
              0.2222222222222222,
              "#7201a8"
             ],
             [
              0.3333333333333333,
              "#9c179e"
             ],
             [
              0.4444444444444444,
              "#bd3786"
             ],
             [
              0.5555555555555556,
              "#d8576b"
             ],
             [
              0.6666666666666666,
              "#ed7953"
             ],
             [
              0.7777777777777778,
              "#fb9f3a"
             ],
             [
              0.8888888888888888,
              "#fdca26"
             ],
             [
              1,
              "#f0f921"
             ]
            ],
            "type": "surface"
           }
          ],
          "table": [
           {
            "cells": {
             "fill": {
              "color": "#EBF0F8"
             },
             "line": {
              "color": "white"
             }
            },
            "header": {
             "fill": {
              "color": "#C8D4E3"
             },
             "line": {
              "color": "white"
             }
            },
            "type": "table"
           }
          ]
         },
         "layout": {
          "annotationdefaults": {
           "arrowcolor": "#2a3f5f",
           "arrowhead": 0,
           "arrowwidth": 1
          },
          "autotypenumbers": "strict",
          "coloraxis": {
           "colorbar": {
            "outlinewidth": 0,
            "ticks": ""
           }
          },
          "colorscale": {
           "diverging": [
            [
             0,
             "#8e0152"
            ],
            [
             0.1,
             "#c51b7d"
            ],
            [
             0.2,
             "#de77ae"
            ],
            [
             0.3,
             "#f1b6da"
            ],
            [
             0.4,
             "#fde0ef"
            ],
            [
             0.5,
             "#f7f7f7"
            ],
            [
             0.6,
             "#e6f5d0"
            ],
            [
             0.7,
             "#b8e186"
            ],
            [
             0.8,
             "#7fbc41"
            ],
            [
             0.9,
             "#4d9221"
            ],
            [
             1,
             "#276419"
            ]
           ],
           "sequential": [
            [
             0,
             "#0d0887"
            ],
            [
             0.1111111111111111,
             "#46039f"
            ],
            [
             0.2222222222222222,
             "#7201a8"
            ],
            [
             0.3333333333333333,
             "#9c179e"
            ],
            [
             0.4444444444444444,
             "#bd3786"
            ],
            [
             0.5555555555555556,
             "#d8576b"
            ],
            [
             0.6666666666666666,
             "#ed7953"
            ],
            [
             0.7777777777777778,
             "#fb9f3a"
            ],
            [
             0.8888888888888888,
             "#fdca26"
            ],
            [
             1,
             "#f0f921"
            ]
           ],
           "sequentialminus": [
            [
             0,
             "#0d0887"
            ],
            [
             0.1111111111111111,
             "#46039f"
            ],
            [
             0.2222222222222222,
             "#7201a8"
            ],
            [
             0.3333333333333333,
             "#9c179e"
            ],
            [
             0.4444444444444444,
             "#bd3786"
            ],
            [
             0.5555555555555556,
             "#d8576b"
            ],
            [
             0.6666666666666666,
             "#ed7953"
            ],
            [
             0.7777777777777778,
             "#fb9f3a"
            ],
            [
             0.8888888888888888,
             "#fdca26"
            ],
            [
             1,
             "#f0f921"
            ]
           ]
          },
          "colorway": [
           "#636efa",
           "#EF553B",
           "#00cc96",
           "#ab63fa",
           "#FFA15A",
           "#19d3f3",
           "#FF6692",
           "#B6E880",
           "#FF97FF",
           "#FECB52"
          ],
          "font": {
           "color": "#2a3f5f"
          },
          "geo": {
           "bgcolor": "white",
           "lakecolor": "white",
           "landcolor": "#E5ECF6",
           "showlakes": true,
           "showland": true,
           "subunitcolor": "white"
          },
          "hoverlabel": {
           "align": "left"
          },
          "hovermode": "closest",
          "mapbox": {
           "style": "light"
          },
          "paper_bgcolor": "white",
          "plot_bgcolor": "#E5ECF6",
          "polar": {
           "angularaxis": {
            "gridcolor": "white",
            "linecolor": "white",
            "ticks": ""
           },
           "bgcolor": "#E5ECF6",
           "radialaxis": {
            "gridcolor": "white",
            "linecolor": "white",
            "ticks": ""
           }
          },
          "scene": {
           "xaxis": {
            "backgroundcolor": "#E5ECF6",
            "gridcolor": "white",
            "gridwidth": 2,
            "linecolor": "white",
            "showbackground": true,
            "ticks": "",
            "zerolinecolor": "white"
           },
           "yaxis": {
            "backgroundcolor": "#E5ECF6",
            "gridcolor": "white",
            "gridwidth": 2,
            "linecolor": "white",
            "showbackground": true,
            "ticks": "",
            "zerolinecolor": "white"
           },
           "zaxis": {
            "backgroundcolor": "#E5ECF6",
            "gridcolor": "white",
            "gridwidth": 2,
            "linecolor": "white",
            "showbackground": true,
            "ticks": "",
            "zerolinecolor": "white"
           }
          },
          "shapedefaults": {
           "line": {
            "color": "#2a3f5f"
           }
          },
          "ternary": {
           "aaxis": {
            "gridcolor": "white",
            "linecolor": "white",
            "ticks": ""
           },
           "baxis": {
            "gridcolor": "white",
            "linecolor": "white",
            "ticks": ""
           },
           "bgcolor": "#E5ECF6",
           "caxis": {
            "gridcolor": "white",
            "linecolor": "white",
            "ticks": ""
           }
          },
          "title": {
           "x": 0.05
          },
          "xaxis": {
           "automargin": true,
           "gridcolor": "white",
           "linecolor": "white",
           "ticks": "",
           "title": {
            "standoff": 15
           },
           "zerolinecolor": "white",
           "zerolinewidth": 2
          },
          "yaxis": {
           "automargin": true,
           "gridcolor": "white",
           "linecolor": "white",
           "ticks": "",
           "title": {
            "standoff": 15
           },
           "zerolinecolor": "white",
           "zerolinewidth": 2
          }
         }
        },
        "title": {
         "font": {
          "color": "#4D5663"
         }
        },
        "xaxis": {
         "gridcolor": "#E1E5ED",
         "showgrid": true,
         "tickfont": {
          "color": "#4D5663"
         },
         "title": {
          "font": {
           "color": "#4D5663"
          },
          "text": ""
         },
         "zerolinecolor": "#E1E5ED"
        },
        "yaxis": {
         "gridcolor": "#E1E5ED",
         "showgrid": true,
         "tickfont": {
          "color": "#4D5663"
         },
         "title": {
          "font": {
           "color": "#4D5663"
          },
          "text": ""
         },
         "zerolinecolor": "#E1E5ED"
        }
       }
      },
      "text/html": [
       "<div>                            <div id=\"fbe1d6f3-6e63-405b-8c9d-5ef1555392fb\" class=\"plotly-graph-div\" style=\"height:525px; width:100%;\"></div>            <script type=\"text/javascript\">                require([\"plotly\"], function(Plotly) {                    window.PLOTLYENV=window.PLOTLYENV || {};\n",
       "                    window.PLOTLYENV.BASE_URL='https://plot.ly';                                    if (document.getElementById(\"fbe1d6f3-6e63-405b-8c9d-5ef1555392fb\")) {                    Plotly.newPlot(                        \"fbe1d6f3-6e63-405b-8c9d-5ef1555392fb\",                        [{\"marker\":{\"color\":\"rgba(255, 153, 51, 0.6)\",\"line\":{\"color\":\"rgba(255, 153, 51, 1.0)\",\"width\":1}},\"name\":\"None\",\"orientation\":\"v\",\"text\":\"\",\"x\":[\"A\",\"B\",\"C\",\"D\"],\"y\":[100,100,100,100],\"type\":\"bar\"}],                        {\"legend\":{\"bgcolor\":\"#F5F6F9\",\"font\":{\"color\":\"#4D5663\"}},\"paper_bgcolor\":\"#F5F6F9\",\"plot_bgcolor\":\"#F5F6F9\",\"template\":{\"data\":{\"barpolar\":[{\"marker\":{\"line\":{\"color\":\"#E5ECF6\",\"width\":0.5},\"pattern\":{\"fillmode\":\"overlay\",\"size\":10,\"solidity\":0.2}},\"type\":\"barpolar\"}],\"bar\":[{\"error_x\":{\"color\":\"#2a3f5f\"},\"error_y\":{\"color\":\"#2a3f5f\"},\"marker\":{\"line\":{\"color\":\"#E5ECF6\",\"width\":0.5},\"pattern\":{\"fillmode\":\"overlay\",\"size\":10,\"solidity\":0.2}},\"type\":\"bar\"}],\"carpet\":[{\"aaxis\":{\"endlinecolor\":\"#2a3f5f\",\"gridcolor\":\"white\",\"linecolor\":\"white\",\"minorgridcolor\":\"white\",\"startlinecolor\":\"#2a3f5f\"},\"baxis\":{\"endlinecolor\":\"#2a3f5f\",\"gridcolor\":\"white\",\"linecolor\":\"white\",\"minorgridcolor\":\"white\",\"startlinecolor\":\"#2a3f5f\"},\"type\":\"carpet\"}],\"choropleth\":[{\"colorbar\":{\"outlinewidth\":0,\"ticks\":\"\"},\"type\":\"choropleth\"}],\"contourcarpet\":[{\"colorbar\":{\"outlinewidth\":0,\"ticks\":\"\"},\"type\":\"contourcarpet\"}],\"contour\":[{\"colorbar\":{\"outlinewidth\":0,\"ticks\":\"\"},\"colorscale\":[[0.0,\"#0d0887\"],[0.1111111111111111,\"#46039f\"],[0.2222222222222222,\"#7201a8\"],[0.3333333333333333,\"#9c179e\"],[0.4444444444444444,\"#bd3786\"],[0.5555555555555556,\"#d8576b\"],[0.6666666666666666,\"#ed7953\"],[0.7777777777777778,\"#fb9f3a\"],[0.8888888888888888,\"#fdca26\"],[1.0,\"#f0f921\"]],\"type\":\"contour\"}],\"heatmapgl\":[{\"colorbar\":{\"outlinewidth\":0,\"ticks\":\"\"},\"colorscale\":[[0.0,\"#0d0887\"],[0.1111111111111111,\"#46039f\"],[0.2222222222222222,\"#7201a8\"],[0.3333333333333333,\"#9c179e\"],[0.4444444444444444,\"#bd3786\"],[0.5555555555555556,\"#d8576b\"],[0.6666666666666666,\"#ed7953\"],[0.7777777777777778,\"#fb9f3a\"],[0.8888888888888888,\"#fdca26\"],[1.0,\"#f0f921\"]],\"type\":\"heatmapgl\"}],\"heatmap\":[{\"colorbar\":{\"outlinewidth\":0,\"ticks\":\"\"},\"colorscale\":[[0.0,\"#0d0887\"],[0.1111111111111111,\"#46039f\"],[0.2222222222222222,\"#7201a8\"],[0.3333333333333333,\"#9c179e\"],[0.4444444444444444,\"#bd3786\"],[0.5555555555555556,\"#d8576b\"],[0.6666666666666666,\"#ed7953\"],[0.7777777777777778,\"#fb9f3a\"],[0.8888888888888888,\"#fdca26\"],[1.0,\"#f0f921\"]],\"type\":\"heatmap\"}],\"histogram2dcontour\":[{\"colorbar\":{\"outlinewidth\":0,\"ticks\":\"\"},\"colorscale\":[[0.0,\"#0d0887\"],[0.1111111111111111,\"#46039f\"],[0.2222222222222222,\"#7201a8\"],[0.3333333333333333,\"#9c179e\"],[0.4444444444444444,\"#bd3786\"],[0.5555555555555556,\"#d8576b\"],[0.6666666666666666,\"#ed7953\"],[0.7777777777777778,\"#fb9f3a\"],[0.8888888888888888,\"#fdca26\"],[1.0,\"#f0f921\"]],\"type\":\"histogram2dcontour\"}],\"histogram2d\":[{\"colorbar\":{\"outlinewidth\":0,\"ticks\":\"\"},\"colorscale\":[[0.0,\"#0d0887\"],[0.1111111111111111,\"#46039f\"],[0.2222222222222222,\"#7201a8\"],[0.3333333333333333,\"#9c179e\"],[0.4444444444444444,\"#bd3786\"],[0.5555555555555556,\"#d8576b\"],[0.6666666666666666,\"#ed7953\"],[0.7777777777777778,\"#fb9f3a\"],[0.8888888888888888,\"#fdca26\"],[1.0,\"#f0f921\"]],\"type\":\"histogram2d\"}],\"histogram\":[{\"marker\":{\"pattern\":{\"fillmode\":\"overlay\",\"size\":10,\"solidity\":0.2}},\"type\":\"histogram\"}],\"mesh3d\":[{\"colorbar\":{\"outlinewidth\":0,\"ticks\":\"\"},\"type\":\"mesh3d\"}],\"parcoords\":[{\"line\":{\"colorbar\":{\"outlinewidth\":0,\"ticks\":\"\"}},\"type\":\"parcoords\"}],\"pie\":[{\"automargin\":true,\"type\":\"pie\"}],\"scatter3d\":[{\"line\":{\"colorbar\":{\"outlinewidth\":0,\"ticks\":\"\"}},\"marker\":{\"colorbar\":{\"outlinewidth\":0,\"ticks\":\"\"}},\"type\":\"scatter3d\"}],\"scattercarpet\":[{\"marker\":{\"colorbar\":{\"outlinewidth\":0,\"ticks\":\"\"}},\"type\":\"scattercarpet\"}],\"scattergeo\":[{\"marker\":{\"colorbar\":{\"outlinewidth\":0,\"ticks\":\"\"}},\"type\":\"scattergeo\"}],\"scattergl\":[{\"marker\":{\"colorbar\":{\"outlinewidth\":0,\"ticks\":\"\"}},\"type\":\"scattergl\"}],\"scattermapbox\":[{\"marker\":{\"colorbar\":{\"outlinewidth\":0,\"ticks\":\"\"}},\"type\":\"scattermapbox\"}],\"scatterpolargl\":[{\"marker\":{\"colorbar\":{\"outlinewidth\":0,\"ticks\":\"\"}},\"type\":\"scatterpolargl\"}],\"scatterpolar\":[{\"marker\":{\"colorbar\":{\"outlinewidth\":0,\"ticks\":\"\"}},\"type\":\"scatterpolar\"}],\"scatter\":[{\"fillpattern\":{\"fillmode\":\"overlay\",\"size\":10,\"solidity\":0.2},\"type\":\"scatter\"}],\"scatterternary\":[{\"marker\":{\"colorbar\":{\"outlinewidth\":0,\"ticks\":\"\"}},\"type\":\"scatterternary\"}],\"surface\":[{\"colorbar\":{\"outlinewidth\":0,\"ticks\":\"\"},\"colorscale\":[[0.0,\"#0d0887\"],[0.1111111111111111,\"#46039f\"],[0.2222222222222222,\"#7201a8\"],[0.3333333333333333,\"#9c179e\"],[0.4444444444444444,\"#bd3786\"],[0.5555555555555556,\"#d8576b\"],[0.6666666666666666,\"#ed7953\"],[0.7777777777777778,\"#fb9f3a\"],[0.8888888888888888,\"#fdca26\"],[1.0,\"#f0f921\"]],\"type\":\"surface\"}],\"table\":[{\"cells\":{\"fill\":{\"color\":\"#EBF0F8\"},\"line\":{\"color\":\"white\"}},\"header\":{\"fill\":{\"color\":\"#C8D4E3\"},\"line\":{\"color\":\"white\"}},\"type\":\"table\"}]},\"layout\":{\"annotationdefaults\":{\"arrowcolor\":\"#2a3f5f\",\"arrowhead\":0,\"arrowwidth\":1},\"autotypenumbers\":\"strict\",\"coloraxis\":{\"colorbar\":{\"outlinewidth\":0,\"ticks\":\"\"}},\"colorscale\":{\"diverging\":[[0,\"#8e0152\"],[0.1,\"#c51b7d\"],[0.2,\"#de77ae\"],[0.3,\"#f1b6da\"],[0.4,\"#fde0ef\"],[0.5,\"#f7f7f7\"],[0.6,\"#e6f5d0\"],[0.7,\"#b8e186\"],[0.8,\"#7fbc41\"],[0.9,\"#4d9221\"],[1,\"#276419\"]],\"sequential\":[[0.0,\"#0d0887\"],[0.1111111111111111,\"#46039f\"],[0.2222222222222222,\"#7201a8\"],[0.3333333333333333,\"#9c179e\"],[0.4444444444444444,\"#bd3786\"],[0.5555555555555556,\"#d8576b\"],[0.6666666666666666,\"#ed7953\"],[0.7777777777777778,\"#fb9f3a\"],[0.8888888888888888,\"#fdca26\"],[1.0,\"#f0f921\"]],\"sequentialminus\":[[0.0,\"#0d0887\"],[0.1111111111111111,\"#46039f\"],[0.2222222222222222,\"#7201a8\"],[0.3333333333333333,\"#9c179e\"],[0.4444444444444444,\"#bd3786\"],[0.5555555555555556,\"#d8576b\"],[0.6666666666666666,\"#ed7953\"],[0.7777777777777778,\"#fb9f3a\"],[0.8888888888888888,\"#fdca26\"],[1.0,\"#f0f921\"]]},\"colorway\":[\"#636efa\",\"#EF553B\",\"#00cc96\",\"#ab63fa\",\"#FFA15A\",\"#19d3f3\",\"#FF6692\",\"#B6E880\",\"#FF97FF\",\"#FECB52\"],\"font\":{\"color\":\"#2a3f5f\"},\"geo\":{\"bgcolor\":\"white\",\"lakecolor\":\"white\",\"landcolor\":\"#E5ECF6\",\"showlakes\":true,\"showland\":true,\"subunitcolor\":\"white\"},\"hoverlabel\":{\"align\":\"left\"},\"hovermode\":\"closest\",\"mapbox\":{\"style\":\"light\"},\"paper_bgcolor\":\"white\",\"plot_bgcolor\":\"#E5ECF6\",\"polar\":{\"angularaxis\":{\"gridcolor\":\"white\",\"linecolor\":\"white\",\"ticks\":\"\"},\"bgcolor\":\"#E5ECF6\",\"radialaxis\":{\"gridcolor\":\"white\",\"linecolor\":\"white\",\"ticks\":\"\"}},\"scene\":{\"xaxis\":{\"backgroundcolor\":\"#E5ECF6\",\"gridcolor\":\"white\",\"gridwidth\":2,\"linecolor\":\"white\",\"showbackground\":true,\"ticks\":\"\",\"zerolinecolor\":\"white\"},\"yaxis\":{\"backgroundcolor\":\"#E5ECF6\",\"gridcolor\":\"white\",\"gridwidth\":2,\"linecolor\":\"white\",\"showbackground\":true,\"ticks\":\"\",\"zerolinecolor\":\"white\"},\"zaxis\":{\"backgroundcolor\":\"#E5ECF6\",\"gridcolor\":\"white\",\"gridwidth\":2,\"linecolor\":\"white\",\"showbackground\":true,\"ticks\":\"\",\"zerolinecolor\":\"white\"}},\"shapedefaults\":{\"line\":{\"color\":\"#2a3f5f\"}},\"ternary\":{\"aaxis\":{\"gridcolor\":\"white\",\"linecolor\":\"white\",\"ticks\":\"\"},\"baxis\":{\"gridcolor\":\"white\",\"linecolor\":\"white\",\"ticks\":\"\"},\"bgcolor\":\"#E5ECF6\",\"caxis\":{\"gridcolor\":\"white\",\"linecolor\":\"white\",\"ticks\":\"\"}},\"title\":{\"x\":0.05},\"xaxis\":{\"automargin\":true,\"gridcolor\":\"white\",\"linecolor\":\"white\",\"ticks\":\"\",\"title\":{\"standoff\":15},\"zerolinecolor\":\"white\",\"zerolinewidth\":2},\"yaxis\":{\"automargin\":true,\"gridcolor\":\"white\",\"linecolor\":\"white\",\"ticks\":\"\",\"title\":{\"standoff\":15},\"zerolinecolor\":\"white\",\"zerolinewidth\":2}}},\"title\":{\"font\":{\"color\":\"#4D5663\"}},\"xaxis\":{\"gridcolor\":\"#E1E5ED\",\"showgrid\":true,\"tickfont\":{\"color\":\"#4D5663\"},\"title\":{\"font\":{\"color\":\"#4D5663\"},\"text\":\"\"},\"zerolinecolor\":\"#E1E5ED\"},\"yaxis\":{\"gridcolor\":\"#E1E5ED\",\"showgrid\":true,\"tickfont\":{\"color\":\"#4D5663\"},\"title\":{\"font\":{\"color\":\"#4D5663\"},\"text\":\"\"},\"zerolinecolor\":\"#E1E5ED\"}},                        {\"showLink\": true, \"linkText\": \"Export to plot.ly\", \"plotlyServerURL\": \"https://plot.ly\", \"responsive\": true}                    ).then(function(){\n",
       "                            \n",
       "var gd = document.getElementById('fbe1d6f3-6e63-405b-8c9d-5ef1555392fb');\n",
       "var x = new MutationObserver(function (mutations, observer) {{\n",
       "        var display = window.getComputedStyle(gd).display;\n",
       "        if (!display || display === 'none') {{\n",
       "            console.log([gd, 'removed!']);\n",
       "            Plotly.purge(gd);\n",
       "            observer.disconnect();\n",
       "        }}\n",
       "}});\n",
       "\n",
       "// Listen for the removal of the full notebook cells\n",
       "var notebookContainer = gd.closest('#notebook-container');\n",
       "if (notebookContainer) {{\n",
       "    x.observe(notebookContainer, {childList: true});\n",
       "}}\n",
       "\n",
       "// Listen for the clearing of the current output cell\n",
       "var outputEl = gd.closest('.output');\n",
       "if (outputEl) {{\n",
       "    x.observe(outputEl, {childList: true});\n",
       "}}\n",
       "\n",
       "                        })                };                });            </script>        </div>"
      ]
     },
     "metadata": {},
     "output_type": "display_data"
    }
   ],
   "source": [
    "df.count().iplot(kind='bar')"
   ]
  },
  {
   "cell_type": "markdown",
   "metadata": {},
   "source": [
    "## Boxplots"
   ]
  },
  {
   "cell_type": "code",
   "execution_count": 14,
   "metadata": {},
   "outputs": [
    {
     "data": {
      "application/vnd.plotly.v1+json": {
       "config": {
        "linkText": "Export to plot.ly",
        "plotlyServerURL": "https://plot.ly",
        "showLink": true
       },
       "data": [
        {
         "boxpoints": false,
         "line": {
          "width": 1.3
         },
         "marker": {
          "color": "rgba(255, 153, 51, 1.0)"
         },
         "name": "A",
         "orientation": "v",
         "type": "box",
         "y": [
          0.10395791322237946,
          1.0907423101569562,
          -1.8023651034495587,
          0.1452796961840601,
          -0.8047590153347951,
          -1.2363607083110424,
          -1.533073210057116,
          0.8450512162615853,
          -1.833777418781113,
          0.12520778107159888,
          0.3170259452776536,
          -1.00956309234882,
          -0.3833966691606066,
          -0.37450811797226163,
          -0.05198633333678256,
          0.36472898788925007,
          1.7288167042934248,
          0.6090627068408083,
          -1.6268917312729543,
          -0.5958803396162193,
          0.22256691468192602,
          0.8064727120322517,
          1.9223841168509883,
          -0.921464297663518,
          1.3899181517467207,
          -1.7402808686813631,
          1.0427901020562544,
          -0.8672061261966549,
          -0.488206548771983,
          -1.7336935096327533,
          3.244925622032199,
          1.841750968380168,
          -0.49119101252950964,
          1.1853448809662257,
          0.6675123408061048,
          -1.437627889538169,
          -0.7450636517900513,
          -0.30151860773499123,
          -0.8671427788874422,
          1.1063875043347107,
          -0.26698316758204504,
          -1.649870588436951,
          -0.13895244826595793,
          0.031051274815732555,
          -0.7832155624085221,
          0.16178669856927996,
          -0.9382965322194335,
          0.4466791772128349,
          -0.15578635619915948,
          -1.5673289932174421,
          0.4919549985458554,
          -0.21504541416170153,
          0.1413190656527486,
          -0.9143680016986964,
          -0.7784995008704212,
          0.4779649038295718,
          1.5065125239154848,
          1.5389539286202367,
          1.3146020929586084,
          0.3810124335196379,
          1.4985550576693776,
          0.03859284362811156,
          0.4570321732592035,
          1.6657492904889124,
          1.770579715011796,
          -0.11161987472902953,
          1.4511060582998303,
          -0.24820849298660438,
          1.904973301524313,
          1.1692224023273332,
          -0.3491620787132832,
          -0.7141219970453385,
          -0.1623263949531894,
          0.14944754055839804,
          0.25019116466667546,
          0.19682162553617305,
          0.6692520415060931,
          -0.6958447951243778,
          0.08433454765442423,
          -0.5538825782042568,
          1.7467725048965241,
          -0.5095812259955649,
          -0.42512436009640775,
          0.4840214791946006,
          -1.6007136863955105,
          1.0499990825603565,
          0.6295142509558708,
          -0.442226614037453,
          -0.4550165591316354,
          0.6131877363513857,
          1.1247741199130217,
          -0.8279482111052545,
          1.0488516631647589,
          -1.1837813510152209,
          0.5477732226005055,
          0.4294375428232401,
          -0.03689138853667535,
          0.8878779293696469,
          -0.5501028512886033,
          -1.216210964468219
         ]
        },
        {
         "boxpoints": false,
         "line": {
          "width": 1.3
         },
         "marker": {
          "color": "rgba(55, 128, 191, 1.0)"
         },
         "name": "B",
         "orientation": "v",
         "type": "box",
         "y": [
          -0.4964199052766519,
          -0.16577690724505037,
          -0.06352090321925319,
          0.9195213492176749,
          0.05920945692515286,
          -1.5352387721000331,
          -1.1272581915748292,
          1.5037082437441256,
          0.25525024969292537,
          0.926990078214612,
          1.6091275728246384,
          1.435698623918543,
          0.7929430485448701,
          -1.8078167644107352,
          0.3872864424405,
          -0.5081756149338615,
          0.11157791814884271,
          -0.7470305306600676,
          0.48919705825920645,
          -0.9422629443606921,
          0.39389463746364245,
          0.13279241776625111,
          -0.396173763657729,
          1.1557994071707751,
          0.9826669783349918,
          -0.8763175484331243,
          0.03866612269199482,
          0.9133514387537464,
          1.210067697022933,
          0.9575896405404437,
          0.4446642857554738,
          -1.1836057054060263,
          0.4690710661659546,
          0.0825941321291548,
          -0.057323525876951595,
          -0.4140460470113184,
          -0.21346112501363587,
          -0.09758155608070679,
          1.0961830745473047,
          -3.2527834347876783,
          -1.0559859874065454,
          -1.2451669840676882,
          -2.3763630793887467,
          1.7406596934722733,
          1.1635839279907205,
          1.615733929496423,
          -0.6613818474443387,
          0.6441008999335095,
          0.2108681494964121,
          0.4532517241681963,
          0.39395980607470804,
          -1.3573655220385268,
          0.6556394659492624,
          0.015906823753299704,
          2.147919985281432,
          -0.306172943784595,
          -1.0004312140616298,
          -0.10416640047537958,
          0.5149288073107,
          0.7124745940564056,
          1.3798138145208825,
          0.4349085980837738,
          0.3292157090951729,
          0.626715652218343,
          -1.0654490499559879,
          -0.7326169106971796,
          1.1268040052754518,
          2.015396849191515,
          0.2772174604301982,
          -0.46067756949404814,
          1.5014212003411764,
          -0.03394335951066258,
          -1.2483981703632212,
          0.5858505897588245,
          0.3310923688884323,
          -0.1138787315153205,
          -0.9161409821576249,
          1.544558212804218,
          1.101864233216787,
          -0.6193672340216976,
          0.5111413589667924,
          -0.15609752801350163,
          -2.4429254121204935,
          -0.41236075686521195,
          -0.8921208446971892,
          -0.3415343111101214,
          1.27788943460529,
          -0.19375578696417853,
          0.5261336442900859,
          -1.002668939581087,
          2.2032125799401125,
          -0.17618635766898977,
          0.12628455991716694,
          0.1586375815419656,
          0.6857590793737517,
          0.345486423574641,
          0.41044445264360596,
          0.9932463757588236,
          -0.9153092798258289,
          0.1155976661986857
         ]
        },
        {
         "boxpoints": false,
         "line": {
          "width": 1.3
         },
         "marker": {
          "color": "rgba(50, 171, 96, 1.0)"
         },
         "name": "C",
         "orientation": "v",
         "type": "box",
         "y": [
          -0.11715134862692887,
          -0.9238110035637704,
          -0.6341034707367625,
          -0.7039798297101952,
          0.41199222871472185,
          -0.570032950618832,
          0.44286081832136004,
          0.7346119453334629,
          -0.11517165410253062,
          0.5128885333693647,
          -1.0183936050162585,
          0.9175385646911961,
          0.9048989812665845,
          0.05140807601801332,
          0.6458854158532115,
          0.11693497003907732,
          0.31031827893619685,
          0.11070998165777231,
          0.31744754683913806,
          -1.650754519760574,
          0.5217491609271399,
          0.9517253811613039,
          -1.072694964737062,
          -0.45961187845013707,
          -0.2506686031378381,
          0.8864464083282674,
          -0.5247092530603333,
          -1.5295583910415216,
          -0.6460234674665981,
          0.7672801979487747,
          0.46044800932151836,
          -1.0752712846495762,
          -0.7717363145281667,
          0.28488309368206477,
          0.3458195540062791,
          0.418593287780798,
          0.660435989544501,
          0.543710213177274,
          0.2461450506077324,
          1.2990980984611662,
          -0.2979515843938551,
          -1.847753900969353,
          -1.0149605831144013,
          -0.5853364863823789,
          0.8933540154577488,
          0.286047793821163,
          -2.716594179114467,
          0.9415490229932579,
          -1.1532069213667147,
          0.2590380476354718,
          1.2007564596630067,
          0.012831467950238987,
          -0.10785047054045933,
          2.2163849306898658,
          -1.9696112408696487,
          -0.1730283623586726,
          1.3151428438596822,
          0.7891186338123123,
          -1.1732347865282835,
          0.28228264342221465,
          -1.250516452836501,
          0.8452991025741403,
          0.03213789105270297,
          -0.1750935112824887,
          -0.5202195702277532,
          0.01452010533380974,
          1.2647460311832521,
          0.5107180811211698,
          -0.3719069992456132,
          -1.719236574002592,
          0.37088921151428184,
          -0.7319962429039226,
          0.3660012735784033,
          0.7026101068082639,
          -0.8771081170019718,
          -1.0024339454169668,
          1.060348832118971,
          0.10426543228859139,
          0.6595400108972117,
          0.07239015369501688,
          -0.71338611629709,
          0.10545170913666903,
          1.1757127111541312,
          -0.12604104322434925,
          -0.11578817929838205,
          -1.2636423607947442,
          0.3270148993540921,
          0.0567620389256123,
          -0.9196433152353806,
          0.2200653007015978,
          1.0412558708427244,
          -1.378250277182545,
          -0.024372849211685126,
          -0.554316851828183,
          -0.992377748082647,
          0.028873090286391324,
          -1.2422036315931047,
          -0.14560088145351116,
          0.7019829641331473,
          -0.4637973277945155
         ]
        },
        {
         "boxpoints": false,
         "line": {
          "width": 1.3
         },
         "marker": {
          "color": "rgba(128, 0, 128, 1.0)"
         },
         "name": "D",
         "orientation": "v",
         "type": "box",
         "y": [
          -1.0468370390753376,
          -1.0275583839052804,
          -0.2742018724450702,
          1.1731685518425736,
          -0.14439491190959836,
          1.078635354908124,
          1.388000416462823,
          0.7827203777436251,
          -0.7906137609668902,
          0.46261379365051,
          0.2671806476402405,
          1.1717037986875207,
          -0.39467245362080833,
          -1.7783181515565596,
          0.2098460247110677,
          -2.768145478092189,
          0.5142636222617464,
          0.45818864027023753,
          0.4396547912614004,
          0.5396905411942621,
          0.026964701470616425,
          -0.14524317746386037,
          0.9078597639160967,
          -0.45708272778737663,
          0.7880664048234807,
          -1.791085309090814,
          -1.0774442735690322,
          1.3019981941157739,
          0.49962454746872476,
          -0.668226139430762,
          0.36289562023515626,
          -0.9383352891231684,
          0.6377944279755422,
          -0.7298887080004163,
          0.3310056485823189,
          -0.5043922986678377,
          0.4959714197182736,
          -2.0073001241960826,
          0.8348676989771081,
          -0.47277211750612336,
          0.7678419039127863,
          -1.3117751936648872,
          -2.316181739956973,
          0.5731499529281376,
          0.010002706635069882,
          0.10627379791921063,
          0.4660230301538875,
          0.43830698972081283,
          1.529940498293144,
          -0.7507635842599895,
          0.11961953230763832,
          0.02404652694928732,
          -0.4423321117233319,
          -0.7946377759453179,
          0.4452473485692167,
          -1.6764663549445995,
          1.0716687660102449,
          -0.7588664879801049,
          -0.8144765527818432,
          2.804125312956174,
          -0.3412881986965423,
          0.22710698180422526,
          -0.5964332947017922,
          0.9560040100149169,
          0.7901628978990334,
          1.286999247666019,
          -0.3262649226406465,
          1.423851504872338,
          -0.4413095746286107,
          0.8270856567367172,
          -0.5568860067120459,
          -0.9630361617988186,
          -0.4166379491352016,
          1.9744636665480448,
          0.6761548167352016,
          1.1707856340947156,
          -0.26255328654517673,
          0.08133524676333527,
          0.3545868903715354,
          0.11730396517256124,
          1.0306548056766014,
          -0.024452872420551695,
          -3.175358065212561,
          0.09819457311291285,
          1.1309365185368176,
          1.096859069567687,
          -1.482449188509566,
          -0.5732676342982265,
          -1.325973103854073,
          -1.0449964870115107,
          0.13220492494701874,
          -0.08929070359984267,
          1.7774557980505143,
          -1.0363749573559036,
          -0.5459004298478335,
          -2.0114550641580196,
          0.8895634530171322,
          0.9827622407448601,
          0.6993020211449944,
          -0.6145532888902779
         ]
        }
       ],
       "layout": {
        "legend": {
         "bgcolor": "#F5F6F9",
         "font": {
          "color": "#4D5663"
         }
        },
        "paper_bgcolor": "#F5F6F9",
        "plot_bgcolor": "#F5F6F9",
        "template": {
         "data": {
          "bar": [
           {
            "error_x": {
             "color": "#2a3f5f"
            },
            "error_y": {
             "color": "#2a3f5f"
            },
            "marker": {
             "line": {
              "color": "#E5ECF6",
              "width": 0.5
             },
             "pattern": {
              "fillmode": "overlay",
              "size": 10,
              "solidity": 0.2
             }
            },
            "type": "bar"
           }
          ],
          "barpolar": [
           {
            "marker": {
             "line": {
              "color": "#E5ECF6",
              "width": 0.5
             },
             "pattern": {
              "fillmode": "overlay",
              "size": 10,
              "solidity": 0.2
             }
            },
            "type": "barpolar"
           }
          ],
          "carpet": [
           {
            "aaxis": {
             "endlinecolor": "#2a3f5f",
             "gridcolor": "white",
             "linecolor": "white",
             "minorgridcolor": "white",
             "startlinecolor": "#2a3f5f"
            },
            "baxis": {
             "endlinecolor": "#2a3f5f",
             "gridcolor": "white",
             "linecolor": "white",
             "minorgridcolor": "white",
             "startlinecolor": "#2a3f5f"
            },
            "type": "carpet"
           }
          ],
          "choropleth": [
           {
            "colorbar": {
             "outlinewidth": 0,
             "ticks": ""
            },
            "type": "choropleth"
           }
          ],
          "contour": [
           {
            "colorbar": {
             "outlinewidth": 0,
             "ticks": ""
            },
            "colorscale": [
             [
              0,
              "#0d0887"
             ],
             [
              0.1111111111111111,
              "#46039f"
             ],
             [
              0.2222222222222222,
              "#7201a8"
             ],
             [
              0.3333333333333333,
              "#9c179e"
             ],
             [
              0.4444444444444444,
              "#bd3786"
             ],
             [
              0.5555555555555556,
              "#d8576b"
             ],
             [
              0.6666666666666666,
              "#ed7953"
             ],
             [
              0.7777777777777778,
              "#fb9f3a"
             ],
             [
              0.8888888888888888,
              "#fdca26"
             ],
             [
              1,
              "#f0f921"
             ]
            ],
            "type": "contour"
           }
          ],
          "contourcarpet": [
           {
            "colorbar": {
             "outlinewidth": 0,
             "ticks": ""
            },
            "type": "contourcarpet"
           }
          ],
          "heatmap": [
           {
            "colorbar": {
             "outlinewidth": 0,
             "ticks": ""
            },
            "colorscale": [
             [
              0,
              "#0d0887"
             ],
             [
              0.1111111111111111,
              "#46039f"
             ],
             [
              0.2222222222222222,
              "#7201a8"
             ],
             [
              0.3333333333333333,
              "#9c179e"
             ],
             [
              0.4444444444444444,
              "#bd3786"
             ],
             [
              0.5555555555555556,
              "#d8576b"
             ],
             [
              0.6666666666666666,
              "#ed7953"
             ],
             [
              0.7777777777777778,
              "#fb9f3a"
             ],
             [
              0.8888888888888888,
              "#fdca26"
             ],
             [
              1,
              "#f0f921"
             ]
            ],
            "type": "heatmap"
           }
          ],
          "heatmapgl": [
           {
            "colorbar": {
             "outlinewidth": 0,
             "ticks": ""
            },
            "colorscale": [
             [
              0,
              "#0d0887"
             ],
             [
              0.1111111111111111,
              "#46039f"
             ],
             [
              0.2222222222222222,
              "#7201a8"
             ],
             [
              0.3333333333333333,
              "#9c179e"
             ],
             [
              0.4444444444444444,
              "#bd3786"
             ],
             [
              0.5555555555555556,
              "#d8576b"
             ],
             [
              0.6666666666666666,
              "#ed7953"
             ],
             [
              0.7777777777777778,
              "#fb9f3a"
             ],
             [
              0.8888888888888888,
              "#fdca26"
             ],
             [
              1,
              "#f0f921"
             ]
            ],
            "type": "heatmapgl"
           }
          ],
          "histogram": [
           {
            "marker": {
             "pattern": {
              "fillmode": "overlay",
              "size": 10,
              "solidity": 0.2
             }
            },
            "type": "histogram"
           }
          ],
          "histogram2d": [
           {
            "colorbar": {
             "outlinewidth": 0,
             "ticks": ""
            },
            "colorscale": [
             [
              0,
              "#0d0887"
             ],
             [
              0.1111111111111111,
              "#46039f"
             ],
             [
              0.2222222222222222,
              "#7201a8"
             ],
             [
              0.3333333333333333,
              "#9c179e"
             ],
             [
              0.4444444444444444,
              "#bd3786"
             ],
             [
              0.5555555555555556,
              "#d8576b"
             ],
             [
              0.6666666666666666,
              "#ed7953"
             ],
             [
              0.7777777777777778,
              "#fb9f3a"
             ],
             [
              0.8888888888888888,
              "#fdca26"
             ],
             [
              1,
              "#f0f921"
             ]
            ],
            "type": "histogram2d"
           }
          ],
          "histogram2dcontour": [
           {
            "colorbar": {
             "outlinewidth": 0,
             "ticks": ""
            },
            "colorscale": [
             [
              0,
              "#0d0887"
             ],
             [
              0.1111111111111111,
              "#46039f"
             ],
             [
              0.2222222222222222,
              "#7201a8"
             ],
             [
              0.3333333333333333,
              "#9c179e"
             ],
             [
              0.4444444444444444,
              "#bd3786"
             ],
             [
              0.5555555555555556,
              "#d8576b"
             ],
             [
              0.6666666666666666,
              "#ed7953"
             ],
             [
              0.7777777777777778,
              "#fb9f3a"
             ],
             [
              0.8888888888888888,
              "#fdca26"
             ],
             [
              1,
              "#f0f921"
             ]
            ],
            "type": "histogram2dcontour"
           }
          ],
          "mesh3d": [
           {
            "colorbar": {
             "outlinewidth": 0,
             "ticks": ""
            },
            "type": "mesh3d"
           }
          ],
          "parcoords": [
           {
            "line": {
             "colorbar": {
              "outlinewidth": 0,
              "ticks": ""
             }
            },
            "type": "parcoords"
           }
          ],
          "pie": [
           {
            "automargin": true,
            "type": "pie"
           }
          ],
          "scatter": [
           {
            "fillpattern": {
             "fillmode": "overlay",
             "size": 10,
             "solidity": 0.2
            },
            "type": "scatter"
           }
          ],
          "scatter3d": [
           {
            "line": {
             "colorbar": {
              "outlinewidth": 0,
              "ticks": ""
             }
            },
            "marker": {
             "colorbar": {
              "outlinewidth": 0,
              "ticks": ""
             }
            },
            "type": "scatter3d"
           }
          ],
          "scattercarpet": [
           {
            "marker": {
             "colorbar": {
              "outlinewidth": 0,
              "ticks": ""
             }
            },
            "type": "scattercarpet"
           }
          ],
          "scattergeo": [
           {
            "marker": {
             "colorbar": {
              "outlinewidth": 0,
              "ticks": ""
             }
            },
            "type": "scattergeo"
           }
          ],
          "scattergl": [
           {
            "marker": {
             "colorbar": {
              "outlinewidth": 0,
              "ticks": ""
             }
            },
            "type": "scattergl"
           }
          ],
          "scattermapbox": [
           {
            "marker": {
             "colorbar": {
              "outlinewidth": 0,
              "ticks": ""
             }
            },
            "type": "scattermapbox"
           }
          ],
          "scatterpolar": [
           {
            "marker": {
             "colorbar": {
              "outlinewidth": 0,
              "ticks": ""
             }
            },
            "type": "scatterpolar"
           }
          ],
          "scatterpolargl": [
           {
            "marker": {
             "colorbar": {
              "outlinewidth": 0,
              "ticks": ""
             }
            },
            "type": "scatterpolargl"
           }
          ],
          "scatterternary": [
           {
            "marker": {
             "colorbar": {
              "outlinewidth": 0,
              "ticks": ""
             }
            },
            "type": "scatterternary"
           }
          ],
          "surface": [
           {
            "colorbar": {
             "outlinewidth": 0,
             "ticks": ""
            },
            "colorscale": [
             [
              0,
              "#0d0887"
             ],
             [
              0.1111111111111111,
              "#46039f"
             ],
             [
              0.2222222222222222,
              "#7201a8"
             ],
             [
              0.3333333333333333,
              "#9c179e"
             ],
             [
              0.4444444444444444,
              "#bd3786"
             ],
             [
              0.5555555555555556,
              "#d8576b"
             ],
             [
              0.6666666666666666,
              "#ed7953"
             ],
             [
              0.7777777777777778,
              "#fb9f3a"
             ],
             [
              0.8888888888888888,
              "#fdca26"
             ],
             [
              1,
              "#f0f921"
             ]
            ],
            "type": "surface"
           }
          ],
          "table": [
           {
            "cells": {
             "fill": {
              "color": "#EBF0F8"
             },
             "line": {
              "color": "white"
             }
            },
            "header": {
             "fill": {
              "color": "#C8D4E3"
             },
             "line": {
              "color": "white"
             }
            },
            "type": "table"
           }
          ]
         },
         "layout": {
          "annotationdefaults": {
           "arrowcolor": "#2a3f5f",
           "arrowhead": 0,
           "arrowwidth": 1
          },
          "autotypenumbers": "strict",
          "coloraxis": {
           "colorbar": {
            "outlinewidth": 0,
            "ticks": ""
           }
          },
          "colorscale": {
           "diverging": [
            [
             0,
             "#8e0152"
            ],
            [
             0.1,
             "#c51b7d"
            ],
            [
             0.2,
             "#de77ae"
            ],
            [
             0.3,
             "#f1b6da"
            ],
            [
             0.4,
             "#fde0ef"
            ],
            [
             0.5,
             "#f7f7f7"
            ],
            [
             0.6,
             "#e6f5d0"
            ],
            [
             0.7,
             "#b8e186"
            ],
            [
             0.8,
             "#7fbc41"
            ],
            [
             0.9,
             "#4d9221"
            ],
            [
             1,
             "#276419"
            ]
           ],
           "sequential": [
            [
             0,
             "#0d0887"
            ],
            [
             0.1111111111111111,
             "#46039f"
            ],
            [
             0.2222222222222222,
             "#7201a8"
            ],
            [
             0.3333333333333333,
             "#9c179e"
            ],
            [
             0.4444444444444444,
             "#bd3786"
            ],
            [
             0.5555555555555556,
             "#d8576b"
            ],
            [
             0.6666666666666666,
             "#ed7953"
            ],
            [
             0.7777777777777778,
             "#fb9f3a"
            ],
            [
             0.8888888888888888,
             "#fdca26"
            ],
            [
             1,
             "#f0f921"
            ]
           ],
           "sequentialminus": [
            [
             0,
             "#0d0887"
            ],
            [
             0.1111111111111111,
             "#46039f"
            ],
            [
             0.2222222222222222,
             "#7201a8"
            ],
            [
             0.3333333333333333,
             "#9c179e"
            ],
            [
             0.4444444444444444,
             "#bd3786"
            ],
            [
             0.5555555555555556,
             "#d8576b"
            ],
            [
             0.6666666666666666,
             "#ed7953"
            ],
            [
             0.7777777777777778,
             "#fb9f3a"
            ],
            [
             0.8888888888888888,
             "#fdca26"
            ],
            [
             1,
             "#f0f921"
            ]
           ]
          },
          "colorway": [
           "#636efa",
           "#EF553B",
           "#00cc96",
           "#ab63fa",
           "#FFA15A",
           "#19d3f3",
           "#FF6692",
           "#B6E880",
           "#FF97FF",
           "#FECB52"
          ],
          "font": {
           "color": "#2a3f5f"
          },
          "geo": {
           "bgcolor": "white",
           "lakecolor": "white",
           "landcolor": "#E5ECF6",
           "showlakes": true,
           "showland": true,
           "subunitcolor": "white"
          },
          "hoverlabel": {
           "align": "left"
          },
          "hovermode": "closest",
          "mapbox": {
           "style": "light"
          },
          "paper_bgcolor": "white",
          "plot_bgcolor": "#E5ECF6",
          "polar": {
           "angularaxis": {
            "gridcolor": "white",
            "linecolor": "white",
            "ticks": ""
           },
           "bgcolor": "#E5ECF6",
           "radialaxis": {
            "gridcolor": "white",
            "linecolor": "white",
            "ticks": ""
           }
          },
          "scene": {
           "xaxis": {
            "backgroundcolor": "#E5ECF6",
            "gridcolor": "white",
            "gridwidth": 2,
            "linecolor": "white",
            "showbackground": true,
            "ticks": "",
            "zerolinecolor": "white"
           },
           "yaxis": {
            "backgroundcolor": "#E5ECF6",
            "gridcolor": "white",
            "gridwidth": 2,
            "linecolor": "white",
            "showbackground": true,
            "ticks": "",
            "zerolinecolor": "white"
           },
           "zaxis": {
            "backgroundcolor": "#E5ECF6",
            "gridcolor": "white",
            "gridwidth": 2,
            "linecolor": "white",
            "showbackground": true,
            "ticks": "",
            "zerolinecolor": "white"
           }
          },
          "shapedefaults": {
           "line": {
            "color": "#2a3f5f"
           }
          },
          "ternary": {
           "aaxis": {
            "gridcolor": "white",
            "linecolor": "white",
            "ticks": ""
           },
           "baxis": {
            "gridcolor": "white",
            "linecolor": "white",
            "ticks": ""
           },
           "bgcolor": "#E5ECF6",
           "caxis": {
            "gridcolor": "white",
            "linecolor": "white",
            "ticks": ""
           }
          },
          "title": {
           "x": 0.05
          },
          "xaxis": {
           "automargin": true,
           "gridcolor": "white",
           "linecolor": "white",
           "ticks": "",
           "title": {
            "standoff": 15
           },
           "zerolinecolor": "white",
           "zerolinewidth": 2
          },
          "yaxis": {
           "automargin": true,
           "gridcolor": "white",
           "linecolor": "white",
           "ticks": "",
           "title": {
            "standoff": 15
           },
           "zerolinecolor": "white",
           "zerolinewidth": 2
          }
         }
        },
        "title": {
         "font": {
          "color": "#4D5663"
         }
        },
        "xaxis": {
         "gridcolor": "#E1E5ED",
         "showgrid": true,
         "tickfont": {
          "color": "#4D5663"
         },
         "title": {
          "font": {
           "color": "#4D5663"
          },
          "text": ""
         },
         "zerolinecolor": "#E1E5ED"
        },
        "yaxis": {
         "gridcolor": "#E1E5ED",
         "showgrid": true,
         "tickfont": {
          "color": "#4D5663"
         },
         "title": {
          "font": {
           "color": "#4D5663"
          },
          "text": ""
         },
         "zerolinecolor": "#E1E5ED"
        }
       }
      },
      "text/html": [
       "<div>                            <div id=\"411d1d92-50c4-46b5-a1d1-41b69ecda390\" class=\"plotly-graph-div\" style=\"height:525px; width:100%;\"></div>            <script type=\"text/javascript\">                require([\"plotly\"], function(Plotly) {                    window.PLOTLYENV=window.PLOTLYENV || {};\n",
       "                    window.PLOTLYENV.BASE_URL='https://plot.ly';                                    if (document.getElementById(\"411d1d92-50c4-46b5-a1d1-41b69ecda390\")) {                    Plotly.newPlot(                        \"411d1d92-50c4-46b5-a1d1-41b69ecda390\",                        [{\"boxpoints\":false,\"line\":{\"width\":1.3},\"marker\":{\"color\":\"rgba(255, 153, 51, 1.0)\"},\"name\":\"A\",\"orientation\":\"v\",\"y\":[0.10395791322237946,1.0907423101569562,-1.8023651034495587,0.1452796961840601,-0.8047590153347951,-1.2363607083110424,-1.533073210057116,0.8450512162615853,-1.833777418781113,0.12520778107159888,0.3170259452776536,-1.00956309234882,-0.3833966691606066,-0.37450811797226163,-0.05198633333678256,0.36472898788925007,1.7288167042934248,0.6090627068408083,-1.6268917312729543,-0.5958803396162193,0.22256691468192602,0.8064727120322517,1.9223841168509883,-0.921464297663518,1.3899181517467207,-1.7402808686813631,1.0427901020562544,-0.8672061261966549,-0.488206548771983,-1.7336935096327533,3.244925622032199,1.841750968380168,-0.49119101252950964,1.1853448809662257,0.6675123408061048,-1.437627889538169,-0.7450636517900513,-0.30151860773499123,-0.8671427788874422,1.1063875043347107,-0.26698316758204504,-1.649870588436951,-0.13895244826595793,0.031051274815732555,-0.7832155624085221,0.16178669856927996,-0.9382965322194335,0.4466791772128349,-0.15578635619915948,-1.5673289932174421,0.4919549985458554,-0.21504541416170153,0.1413190656527486,-0.9143680016986964,-0.7784995008704212,0.4779649038295718,1.5065125239154848,1.5389539286202367,1.3146020929586084,0.3810124335196379,1.4985550576693776,0.03859284362811156,0.4570321732592035,1.6657492904889124,1.770579715011796,-0.11161987472902953,1.4511060582998303,-0.24820849298660438,1.904973301524313,1.1692224023273332,-0.3491620787132832,-0.7141219970453385,-0.1623263949531894,0.14944754055839804,0.25019116466667546,0.19682162553617305,0.6692520415060931,-0.6958447951243778,0.08433454765442423,-0.5538825782042568,1.7467725048965241,-0.5095812259955649,-0.42512436009640775,0.4840214791946006,-1.6007136863955105,1.0499990825603565,0.6295142509558708,-0.442226614037453,-0.4550165591316354,0.6131877363513857,1.1247741199130217,-0.8279482111052545,1.0488516631647589,-1.1837813510152209,0.5477732226005055,0.4294375428232401,-0.03689138853667535,0.8878779293696469,-0.5501028512886033,-1.216210964468219],\"type\":\"box\"},{\"boxpoints\":false,\"line\":{\"width\":1.3},\"marker\":{\"color\":\"rgba(55, 128, 191, 1.0)\"},\"name\":\"B\",\"orientation\":\"v\",\"y\":[-0.4964199052766519,-0.16577690724505037,-0.06352090321925319,0.9195213492176749,0.05920945692515286,-1.5352387721000331,-1.1272581915748292,1.5037082437441256,0.25525024969292537,0.926990078214612,1.6091275728246384,1.435698623918543,0.7929430485448701,-1.8078167644107352,0.3872864424405,-0.5081756149338615,0.11157791814884271,-0.7470305306600676,0.48919705825920645,-0.9422629443606921,0.39389463746364245,0.13279241776625111,-0.396173763657729,1.1557994071707751,0.9826669783349918,-0.8763175484331243,0.03866612269199482,0.9133514387537464,1.210067697022933,0.9575896405404437,0.4446642857554738,-1.1836057054060263,0.4690710661659546,0.0825941321291548,-0.057323525876951595,-0.4140460470113184,-0.21346112501363587,-0.09758155608070679,1.0961830745473047,-3.2527834347876783,-1.0559859874065454,-1.2451669840676882,-2.3763630793887467,1.7406596934722733,1.1635839279907205,1.615733929496423,-0.6613818474443387,0.6441008999335095,0.2108681494964121,0.4532517241681963,0.39395980607470804,-1.3573655220385268,0.6556394659492624,0.015906823753299704,2.147919985281432,-0.306172943784595,-1.0004312140616298,-0.10416640047537958,0.5149288073107,0.7124745940564056,1.3798138145208825,0.4349085980837738,0.3292157090951729,0.626715652218343,-1.0654490499559879,-0.7326169106971796,1.1268040052754518,2.015396849191515,0.2772174604301982,-0.46067756949404814,1.5014212003411764,-0.03394335951066258,-1.2483981703632212,0.5858505897588245,0.3310923688884323,-0.1138787315153205,-0.9161409821576249,1.544558212804218,1.101864233216787,-0.6193672340216976,0.5111413589667924,-0.15609752801350163,-2.4429254121204935,-0.41236075686521195,-0.8921208446971892,-0.3415343111101214,1.27788943460529,-0.19375578696417853,0.5261336442900859,-1.002668939581087,2.2032125799401125,-0.17618635766898977,0.12628455991716694,0.1586375815419656,0.6857590793737517,0.345486423574641,0.41044445264360596,0.9932463757588236,-0.9153092798258289,0.1155976661986857],\"type\":\"box\"},{\"boxpoints\":false,\"line\":{\"width\":1.3},\"marker\":{\"color\":\"rgba(50, 171, 96, 1.0)\"},\"name\":\"C\",\"orientation\":\"v\",\"y\":[-0.11715134862692887,-0.9238110035637704,-0.6341034707367625,-0.7039798297101952,0.41199222871472185,-0.570032950618832,0.44286081832136004,0.7346119453334629,-0.11517165410253062,0.5128885333693647,-1.0183936050162585,0.9175385646911961,0.9048989812665845,0.05140807601801332,0.6458854158532115,0.11693497003907732,0.31031827893619685,0.11070998165777231,0.31744754683913806,-1.650754519760574,0.5217491609271399,0.9517253811613039,-1.072694964737062,-0.45961187845013707,-0.2506686031378381,0.8864464083282674,-0.5247092530603333,-1.5295583910415216,-0.6460234674665981,0.7672801979487747,0.46044800932151836,-1.0752712846495762,-0.7717363145281667,0.28488309368206477,0.3458195540062791,0.418593287780798,0.660435989544501,0.543710213177274,0.2461450506077324,1.2990980984611662,-0.2979515843938551,-1.847753900969353,-1.0149605831144013,-0.5853364863823789,0.8933540154577488,0.286047793821163,-2.716594179114467,0.9415490229932579,-1.1532069213667147,0.2590380476354718,1.2007564596630067,0.012831467950238987,-0.10785047054045933,2.2163849306898658,-1.9696112408696487,-0.1730283623586726,1.3151428438596822,0.7891186338123123,-1.1732347865282835,0.28228264342221465,-1.250516452836501,0.8452991025741403,0.03213789105270297,-0.1750935112824887,-0.5202195702277532,0.01452010533380974,1.2647460311832521,0.5107180811211698,-0.3719069992456132,-1.719236574002592,0.37088921151428184,-0.7319962429039226,0.3660012735784033,0.7026101068082639,-0.8771081170019718,-1.0024339454169668,1.060348832118971,0.10426543228859139,0.6595400108972117,0.07239015369501688,-0.71338611629709,0.10545170913666903,1.1757127111541312,-0.12604104322434925,-0.11578817929838205,-1.2636423607947442,0.3270148993540921,0.0567620389256123,-0.9196433152353806,0.2200653007015978,1.0412558708427244,-1.378250277182545,-0.024372849211685126,-0.554316851828183,-0.992377748082647,0.028873090286391324,-1.2422036315931047,-0.14560088145351116,0.7019829641331473,-0.4637973277945155],\"type\":\"box\"},{\"boxpoints\":false,\"line\":{\"width\":1.3},\"marker\":{\"color\":\"rgba(128, 0, 128, 1.0)\"},\"name\":\"D\",\"orientation\":\"v\",\"y\":[-1.0468370390753376,-1.0275583839052804,-0.2742018724450702,1.1731685518425736,-0.14439491190959836,1.078635354908124,1.388000416462823,0.7827203777436251,-0.7906137609668902,0.46261379365051,0.2671806476402405,1.1717037986875207,-0.39467245362080833,-1.7783181515565596,0.2098460247110677,-2.768145478092189,0.5142636222617464,0.45818864027023753,0.4396547912614004,0.5396905411942621,0.026964701470616425,-0.14524317746386037,0.9078597639160967,-0.45708272778737663,0.7880664048234807,-1.791085309090814,-1.0774442735690322,1.3019981941157739,0.49962454746872476,-0.668226139430762,0.36289562023515626,-0.9383352891231684,0.6377944279755422,-0.7298887080004163,0.3310056485823189,-0.5043922986678377,0.4959714197182736,-2.0073001241960826,0.8348676989771081,-0.47277211750612336,0.7678419039127863,-1.3117751936648872,-2.316181739956973,0.5731499529281376,0.010002706635069882,0.10627379791921063,0.4660230301538875,0.43830698972081283,1.529940498293144,-0.7507635842599895,0.11961953230763832,0.02404652694928732,-0.4423321117233319,-0.7946377759453179,0.4452473485692167,-1.6764663549445995,1.0716687660102449,-0.7588664879801049,-0.8144765527818432,2.804125312956174,-0.3412881986965423,0.22710698180422526,-0.5964332947017922,0.9560040100149169,0.7901628978990334,1.286999247666019,-0.3262649226406465,1.423851504872338,-0.4413095746286107,0.8270856567367172,-0.5568860067120459,-0.9630361617988186,-0.4166379491352016,1.9744636665480448,0.6761548167352016,1.1707856340947156,-0.26255328654517673,0.08133524676333527,0.3545868903715354,0.11730396517256124,1.0306548056766014,-0.024452872420551695,-3.175358065212561,0.09819457311291285,1.1309365185368176,1.096859069567687,-1.482449188509566,-0.5732676342982265,-1.325973103854073,-1.0449964870115107,0.13220492494701874,-0.08929070359984267,1.7774557980505143,-1.0363749573559036,-0.5459004298478335,-2.0114550641580196,0.8895634530171322,0.9827622407448601,0.6993020211449944,-0.6145532888902779],\"type\":\"box\"}],                        {\"legend\":{\"bgcolor\":\"#F5F6F9\",\"font\":{\"color\":\"#4D5663\"}},\"paper_bgcolor\":\"#F5F6F9\",\"plot_bgcolor\":\"#F5F6F9\",\"template\":{\"data\":{\"barpolar\":[{\"marker\":{\"line\":{\"color\":\"#E5ECF6\",\"width\":0.5},\"pattern\":{\"fillmode\":\"overlay\",\"size\":10,\"solidity\":0.2}},\"type\":\"barpolar\"}],\"bar\":[{\"error_x\":{\"color\":\"#2a3f5f\"},\"error_y\":{\"color\":\"#2a3f5f\"},\"marker\":{\"line\":{\"color\":\"#E5ECF6\",\"width\":0.5},\"pattern\":{\"fillmode\":\"overlay\",\"size\":10,\"solidity\":0.2}},\"type\":\"bar\"}],\"carpet\":[{\"aaxis\":{\"endlinecolor\":\"#2a3f5f\",\"gridcolor\":\"white\",\"linecolor\":\"white\",\"minorgridcolor\":\"white\",\"startlinecolor\":\"#2a3f5f\"},\"baxis\":{\"endlinecolor\":\"#2a3f5f\",\"gridcolor\":\"white\",\"linecolor\":\"white\",\"minorgridcolor\":\"white\",\"startlinecolor\":\"#2a3f5f\"},\"type\":\"carpet\"}],\"choropleth\":[{\"colorbar\":{\"outlinewidth\":0,\"ticks\":\"\"},\"type\":\"choropleth\"}],\"contourcarpet\":[{\"colorbar\":{\"outlinewidth\":0,\"ticks\":\"\"},\"type\":\"contourcarpet\"}],\"contour\":[{\"colorbar\":{\"outlinewidth\":0,\"ticks\":\"\"},\"colorscale\":[[0.0,\"#0d0887\"],[0.1111111111111111,\"#46039f\"],[0.2222222222222222,\"#7201a8\"],[0.3333333333333333,\"#9c179e\"],[0.4444444444444444,\"#bd3786\"],[0.5555555555555556,\"#d8576b\"],[0.6666666666666666,\"#ed7953\"],[0.7777777777777778,\"#fb9f3a\"],[0.8888888888888888,\"#fdca26\"],[1.0,\"#f0f921\"]],\"type\":\"contour\"}],\"heatmapgl\":[{\"colorbar\":{\"outlinewidth\":0,\"ticks\":\"\"},\"colorscale\":[[0.0,\"#0d0887\"],[0.1111111111111111,\"#46039f\"],[0.2222222222222222,\"#7201a8\"],[0.3333333333333333,\"#9c179e\"],[0.4444444444444444,\"#bd3786\"],[0.5555555555555556,\"#d8576b\"],[0.6666666666666666,\"#ed7953\"],[0.7777777777777778,\"#fb9f3a\"],[0.8888888888888888,\"#fdca26\"],[1.0,\"#f0f921\"]],\"type\":\"heatmapgl\"}],\"heatmap\":[{\"colorbar\":{\"outlinewidth\":0,\"ticks\":\"\"},\"colorscale\":[[0.0,\"#0d0887\"],[0.1111111111111111,\"#46039f\"],[0.2222222222222222,\"#7201a8\"],[0.3333333333333333,\"#9c179e\"],[0.4444444444444444,\"#bd3786\"],[0.5555555555555556,\"#d8576b\"],[0.6666666666666666,\"#ed7953\"],[0.7777777777777778,\"#fb9f3a\"],[0.8888888888888888,\"#fdca26\"],[1.0,\"#f0f921\"]],\"type\":\"heatmap\"}],\"histogram2dcontour\":[{\"colorbar\":{\"outlinewidth\":0,\"ticks\":\"\"},\"colorscale\":[[0.0,\"#0d0887\"],[0.1111111111111111,\"#46039f\"],[0.2222222222222222,\"#7201a8\"],[0.3333333333333333,\"#9c179e\"],[0.4444444444444444,\"#bd3786\"],[0.5555555555555556,\"#d8576b\"],[0.6666666666666666,\"#ed7953\"],[0.7777777777777778,\"#fb9f3a\"],[0.8888888888888888,\"#fdca26\"],[1.0,\"#f0f921\"]],\"type\":\"histogram2dcontour\"}],\"histogram2d\":[{\"colorbar\":{\"outlinewidth\":0,\"ticks\":\"\"},\"colorscale\":[[0.0,\"#0d0887\"],[0.1111111111111111,\"#46039f\"],[0.2222222222222222,\"#7201a8\"],[0.3333333333333333,\"#9c179e\"],[0.4444444444444444,\"#bd3786\"],[0.5555555555555556,\"#d8576b\"],[0.6666666666666666,\"#ed7953\"],[0.7777777777777778,\"#fb9f3a\"],[0.8888888888888888,\"#fdca26\"],[1.0,\"#f0f921\"]],\"type\":\"histogram2d\"}],\"histogram\":[{\"marker\":{\"pattern\":{\"fillmode\":\"overlay\",\"size\":10,\"solidity\":0.2}},\"type\":\"histogram\"}],\"mesh3d\":[{\"colorbar\":{\"outlinewidth\":0,\"ticks\":\"\"},\"type\":\"mesh3d\"}],\"parcoords\":[{\"line\":{\"colorbar\":{\"outlinewidth\":0,\"ticks\":\"\"}},\"type\":\"parcoords\"}],\"pie\":[{\"automargin\":true,\"type\":\"pie\"}],\"scatter3d\":[{\"line\":{\"colorbar\":{\"outlinewidth\":0,\"ticks\":\"\"}},\"marker\":{\"colorbar\":{\"outlinewidth\":0,\"ticks\":\"\"}},\"type\":\"scatter3d\"}],\"scattercarpet\":[{\"marker\":{\"colorbar\":{\"outlinewidth\":0,\"ticks\":\"\"}},\"type\":\"scattercarpet\"}],\"scattergeo\":[{\"marker\":{\"colorbar\":{\"outlinewidth\":0,\"ticks\":\"\"}},\"type\":\"scattergeo\"}],\"scattergl\":[{\"marker\":{\"colorbar\":{\"outlinewidth\":0,\"ticks\":\"\"}},\"type\":\"scattergl\"}],\"scattermapbox\":[{\"marker\":{\"colorbar\":{\"outlinewidth\":0,\"ticks\":\"\"}},\"type\":\"scattermapbox\"}],\"scatterpolargl\":[{\"marker\":{\"colorbar\":{\"outlinewidth\":0,\"ticks\":\"\"}},\"type\":\"scatterpolargl\"}],\"scatterpolar\":[{\"marker\":{\"colorbar\":{\"outlinewidth\":0,\"ticks\":\"\"}},\"type\":\"scatterpolar\"}],\"scatter\":[{\"fillpattern\":{\"fillmode\":\"overlay\",\"size\":10,\"solidity\":0.2},\"type\":\"scatter\"}],\"scatterternary\":[{\"marker\":{\"colorbar\":{\"outlinewidth\":0,\"ticks\":\"\"}},\"type\":\"scatterternary\"}],\"surface\":[{\"colorbar\":{\"outlinewidth\":0,\"ticks\":\"\"},\"colorscale\":[[0.0,\"#0d0887\"],[0.1111111111111111,\"#46039f\"],[0.2222222222222222,\"#7201a8\"],[0.3333333333333333,\"#9c179e\"],[0.4444444444444444,\"#bd3786\"],[0.5555555555555556,\"#d8576b\"],[0.6666666666666666,\"#ed7953\"],[0.7777777777777778,\"#fb9f3a\"],[0.8888888888888888,\"#fdca26\"],[1.0,\"#f0f921\"]],\"type\":\"surface\"}],\"table\":[{\"cells\":{\"fill\":{\"color\":\"#EBF0F8\"},\"line\":{\"color\":\"white\"}},\"header\":{\"fill\":{\"color\":\"#C8D4E3\"},\"line\":{\"color\":\"white\"}},\"type\":\"table\"}]},\"layout\":{\"annotationdefaults\":{\"arrowcolor\":\"#2a3f5f\",\"arrowhead\":0,\"arrowwidth\":1},\"autotypenumbers\":\"strict\",\"coloraxis\":{\"colorbar\":{\"outlinewidth\":0,\"ticks\":\"\"}},\"colorscale\":{\"diverging\":[[0,\"#8e0152\"],[0.1,\"#c51b7d\"],[0.2,\"#de77ae\"],[0.3,\"#f1b6da\"],[0.4,\"#fde0ef\"],[0.5,\"#f7f7f7\"],[0.6,\"#e6f5d0\"],[0.7,\"#b8e186\"],[0.8,\"#7fbc41\"],[0.9,\"#4d9221\"],[1,\"#276419\"]],\"sequential\":[[0.0,\"#0d0887\"],[0.1111111111111111,\"#46039f\"],[0.2222222222222222,\"#7201a8\"],[0.3333333333333333,\"#9c179e\"],[0.4444444444444444,\"#bd3786\"],[0.5555555555555556,\"#d8576b\"],[0.6666666666666666,\"#ed7953\"],[0.7777777777777778,\"#fb9f3a\"],[0.8888888888888888,\"#fdca26\"],[1.0,\"#f0f921\"]],\"sequentialminus\":[[0.0,\"#0d0887\"],[0.1111111111111111,\"#46039f\"],[0.2222222222222222,\"#7201a8\"],[0.3333333333333333,\"#9c179e\"],[0.4444444444444444,\"#bd3786\"],[0.5555555555555556,\"#d8576b\"],[0.6666666666666666,\"#ed7953\"],[0.7777777777777778,\"#fb9f3a\"],[0.8888888888888888,\"#fdca26\"],[1.0,\"#f0f921\"]]},\"colorway\":[\"#636efa\",\"#EF553B\",\"#00cc96\",\"#ab63fa\",\"#FFA15A\",\"#19d3f3\",\"#FF6692\",\"#B6E880\",\"#FF97FF\",\"#FECB52\"],\"font\":{\"color\":\"#2a3f5f\"},\"geo\":{\"bgcolor\":\"white\",\"lakecolor\":\"white\",\"landcolor\":\"#E5ECF6\",\"showlakes\":true,\"showland\":true,\"subunitcolor\":\"white\"},\"hoverlabel\":{\"align\":\"left\"},\"hovermode\":\"closest\",\"mapbox\":{\"style\":\"light\"},\"paper_bgcolor\":\"white\",\"plot_bgcolor\":\"#E5ECF6\",\"polar\":{\"angularaxis\":{\"gridcolor\":\"white\",\"linecolor\":\"white\",\"ticks\":\"\"},\"bgcolor\":\"#E5ECF6\",\"radialaxis\":{\"gridcolor\":\"white\",\"linecolor\":\"white\",\"ticks\":\"\"}},\"scene\":{\"xaxis\":{\"backgroundcolor\":\"#E5ECF6\",\"gridcolor\":\"white\",\"gridwidth\":2,\"linecolor\":\"white\",\"showbackground\":true,\"ticks\":\"\",\"zerolinecolor\":\"white\"},\"yaxis\":{\"backgroundcolor\":\"#E5ECF6\",\"gridcolor\":\"white\",\"gridwidth\":2,\"linecolor\":\"white\",\"showbackground\":true,\"ticks\":\"\",\"zerolinecolor\":\"white\"},\"zaxis\":{\"backgroundcolor\":\"#E5ECF6\",\"gridcolor\":\"white\",\"gridwidth\":2,\"linecolor\":\"white\",\"showbackground\":true,\"ticks\":\"\",\"zerolinecolor\":\"white\"}},\"shapedefaults\":{\"line\":{\"color\":\"#2a3f5f\"}},\"ternary\":{\"aaxis\":{\"gridcolor\":\"white\",\"linecolor\":\"white\",\"ticks\":\"\"},\"baxis\":{\"gridcolor\":\"white\",\"linecolor\":\"white\",\"ticks\":\"\"},\"bgcolor\":\"#E5ECF6\",\"caxis\":{\"gridcolor\":\"white\",\"linecolor\":\"white\",\"ticks\":\"\"}},\"title\":{\"x\":0.05},\"xaxis\":{\"automargin\":true,\"gridcolor\":\"white\",\"linecolor\":\"white\",\"ticks\":\"\",\"title\":{\"standoff\":15},\"zerolinecolor\":\"white\",\"zerolinewidth\":2},\"yaxis\":{\"automargin\":true,\"gridcolor\":\"white\",\"linecolor\":\"white\",\"ticks\":\"\",\"title\":{\"standoff\":15},\"zerolinecolor\":\"white\",\"zerolinewidth\":2}}},\"title\":{\"font\":{\"color\":\"#4D5663\"}},\"xaxis\":{\"gridcolor\":\"#E1E5ED\",\"showgrid\":true,\"tickfont\":{\"color\":\"#4D5663\"},\"title\":{\"font\":{\"color\":\"#4D5663\"},\"text\":\"\"},\"zerolinecolor\":\"#E1E5ED\"},\"yaxis\":{\"gridcolor\":\"#E1E5ED\",\"showgrid\":true,\"tickfont\":{\"color\":\"#4D5663\"},\"title\":{\"font\":{\"color\":\"#4D5663\"},\"text\":\"\"},\"zerolinecolor\":\"#E1E5ED\"}},                        {\"showLink\": true, \"linkText\": \"Export to plot.ly\", \"plotlyServerURL\": \"https://plot.ly\", \"responsive\": true}                    ).then(function(){\n",
       "                            \n",
       "var gd = document.getElementById('411d1d92-50c4-46b5-a1d1-41b69ecda390');\n",
       "var x = new MutationObserver(function (mutations, observer) {{\n",
       "        var display = window.getComputedStyle(gd).display;\n",
       "        if (!display || display === 'none') {{\n",
       "            console.log([gd, 'removed!']);\n",
       "            Plotly.purge(gd);\n",
       "            observer.disconnect();\n",
       "        }}\n",
       "}});\n",
       "\n",
       "// Listen for the removal of the full notebook cells\n",
       "var notebookContainer = gd.closest('#notebook-container');\n",
       "if (notebookContainer) {{\n",
       "    x.observe(notebookContainer, {childList: true});\n",
       "}}\n",
       "\n",
       "// Listen for the clearing of the current output cell\n",
       "var outputEl = gd.closest('.output');\n",
       "if (outputEl) {{\n",
       "    x.observe(outputEl, {childList: true});\n",
       "}}\n",
       "\n",
       "                        })                };                });            </script>        </div>"
      ]
     },
     "metadata": {},
     "output_type": "display_data"
    }
   ],
   "source": [
    "df.iplot(kind='box')"
   ]
  },
  {
   "cell_type": "markdown",
   "metadata": {},
   "source": [
    "## 3d Surface"
   ]
  },
  {
   "cell_type": "code",
   "execution_count": 15,
   "metadata": {},
   "outputs": [
    {
     "data": {
      "application/vnd.plotly.v1+json": {
       "config": {
        "linkText": "Export to plot.ly",
        "plotlyServerURL": "https://plot.ly",
        "showLink": true
       },
       "data": [
        {
         "colorscale": [
          [
           0,
           "rgb(165,0,38)"
          ],
          [
           0.1,
           "rgb(215,48,39)"
          ],
          [
           0.2,
           "rgb(244,109,67)"
          ],
          [
           0.3,
           "rgb(253,174,97)"
          ],
          [
           0.4,
           "rgb(254,224,144)"
          ],
          [
           0.5,
           "rgb(255,255,191)"
          ],
          [
           0.6,
           "rgb(224,243,248)"
          ],
          [
           0.7,
           "rgb(171,217,233)"
          ],
          [
           0.8,
           "rgb(116,173,209)"
          ],
          [
           0.9,
           "rgb(69,117,180)"
          ],
          [
           1,
           "rgb(49,54,149)"
          ]
         ],
         "type": "surface",
         "x": [
          0,
          1,
          2,
          3,
          4
         ],
         "y": [
          "x",
          "y",
          "z"
         ],
         "z": [
          [
           1,
           2,
           3,
           4,
           5
          ],
          [
           10,
           20,
           30,
           20,
           10
          ],
          [
           5,
           4,
           3,
           2,
           1
          ]
         ]
        }
       ],
       "layout": {
        "legend": {
         "bgcolor": "#F5F6F9",
         "font": {
          "color": "#4D5663"
         }
        },
        "paper_bgcolor": "#F5F6F9",
        "plot_bgcolor": "#F5F6F9",
        "template": {
         "data": {
          "bar": [
           {
            "error_x": {
             "color": "#2a3f5f"
            },
            "error_y": {
             "color": "#2a3f5f"
            },
            "marker": {
             "line": {
              "color": "#E5ECF6",
              "width": 0.5
             },
             "pattern": {
              "fillmode": "overlay",
              "size": 10,
              "solidity": 0.2
             }
            },
            "type": "bar"
           }
          ],
          "barpolar": [
           {
            "marker": {
             "line": {
              "color": "#E5ECF6",
              "width": 0.5
             },
             "pattern": {
              "fillmode": "overlay",
              "size": 10,
              "solidity": 0.2
             }
            },
            "type": "barpolar"
           }
          ],
          "carpet": [
           {
            "aaxis": {
             "endlinecolor": "#2a3f5f",
             "gridcolor": "white",
             "linecolor": "white",
             "minorgridcolor": "white",
             "startlinecolor": "#2a3f5f"
            },
            "baxis": {
             "endlinecolor": "#2a3f5f",
             "gridcolor": "white",
             "linecolor": "white",
             "minorgridcolor": "white",
             "startlinecolor": "#2a3f5f"
            },
            "type": "carpet"
           }
          ],
          "choropleth": [
           {
            "colorbar": {
             "outlinewidth": 0,
             "ticks": ""
            },
            "type": "choropleth"
           }
          ],
          "contour": [
           {
            "colorbar": {
             "outlinewidth": 0,
             "ticks": ""
            },
            "colorscale": [
             [
              0,
              "#0d0887"
             ],
             [
              0.1111111111111111,
              "#46039f"
             ],
             [
              0.2222222222222222,
              "#7201a8"
             ],
             [
              0.3333333333333333,
              "#9c179e"
             ],
             [
              0.4444444444444444,
              "#bd3786"
             ],
             [
              0.5555555555555556,
              "#d8576b"
             ],
             [
              0.6666666666666666,
              "#ed7953"
             ],
             [
              0.7777777777777778,
              "#fb9f3a"
             ],
             [
              0.8888888888888888,
              "#fdca26"
             ],
             [
              1,
              "#f0f921"
             ]
            ],
            "type": "contour"
           }
          ],
          "contourcarpet": [
           {
            "colorbar": {
             "outlinewidth": 0,
             "ticks": ""
            },
            "type": "contourcarpet"
           }
          ],
          "heatmap": [
           {
            "colorbar": {
             "outlinewidth": 0,
             "ticks": ""
            },
            "colorscale": [
             [
              0,
              "#0d0887"
             ],
             [
              0.1111111111111111,
              "#46039f"
             ],
             [
              0.2222222222222222,
              "#7201a8"
             ],
             [
              0.3333333333333333,
              "#9c179e"
             ],
             [
              0.4444444444444444,
              "#bd3786"
             ],
             [
              0.5555555555555556,
              "#d8576b"
             ],
             [
              0.6666666666666666,
              "#ed7953"
             ],
             [
              0.7777777777777778,
              "#fb9f3a"
             ],
             [
              0.8888888888888888,
              "#fdca26"
             ],
             [
              1,
              "#f0f921"
             ]
            ],
            "type": "heatmap"
           }
          ],
          "heatmapgl": [
           {
            "colorbar": {
             "outlinewidth": 0,
             "ticks": ""
            },
            "colorscale": [
             [
              0,
              "#0d0887"
             ],
             [
              0.1111111111111111,
              "#46039f"
             ],
             [
              0.2222222222222222,
              "#7201a8"
             ],
             [
              0.3333333333333333,
              "#9c179e"
             ],
             [
              0.4444444444444444,
              "#bd3786"
             ],
             [
              0.5555555555555556,
              "#d8576b"
             ],
             [
              0.6666666666666666,
              "#ed7953"
             ],
             [
              0.7777777777777778,
              "#fb9f3a"
             ],
             [
              0.8888888888888888,
              "#fdca26"
             ],
             [
              1,
              "#f0f921"
             ]
            ],
            "type": "heatmapgl"
           }
          ],
          "histogram": [
           {
            "marker": {
             "pattern": {
              "fillmode": "overlay",
              "size": 10,
              "solidity": 0.2
             }
            },
            "type": "histogram"
           }
          ],
          "histogram2d": [
           {
            "colorbar": {
             "outlinewidth": 0,
             "ticks": ""
            },
            "colorscale": [
             [
              0,
              "#0d0887"
             ],
             [
              0.1111111111111111,
              "#46039f"
             ],
             [
              0.2222222222222222,
              "#7201a8"
             ],
             [
              0.3333333333333333,
              "#9c179e"
             ],
             [
              0.4444444444444444,
              "#bd3786"
             ],
             [
              0.5555555555555556,
              "#d8576b"
             ],
             [
              0.6666666666666666,
              "#ed7953"
             ],
             [
              0.7777777777777778,
              "#fb9f3a"
             ],
             [
              0.8888888888888888,
              "#fdca26"
             ],
             [
              1,
              "#f0f921"
             ]
            ],
            "type": "histogram2d"
           }
          ],
          "histogram2dcontour": [
           {
            "colorbar": {
             "outlinewidth": 0,
             "ticks": ""
            },
            "colorscale": [
             [
              0,
              "#0d0887"
             ],
             [
              0.1111111111111111,
              "#46039f"
             ],
             [
              0.2222222222222222,
              "#7201a8"
             ],
             [
              0.3333333333333333,
              "#9c179e"
             ],
             [
              0.4444444444444444,
              "#bd3786"
             ],
             [
              0.5555555555555556,
              "#d8576b"
             ],
             [
              0.6666666666666666,
              "#ed7953"
             ],
             [
              0.7777777777777778,
              "#fb9f3a"
             ],
             [
              0.8888888888888888,
              "#fdca26"
             ],
             [
              1,
              "#f0f921"
             ]
            ],
            "type": "histogram2dcontour"
           }
          ],
          "mesh3d": [
           {
            "colorbar": {
             "outlinewidth": 0,
             "ticks": ""
            },
            "type": "mesh3d"
           }
          ],
          "parcoords": [
           {
            "line": {
             "colorbar": {
              "outlinewidth": 0,
              "ticks": ""
             }
            },
            "type": "parcoords"
           }
          ],
          "pie": [
           {
            "automargin": true,
            "type": "pie"
           }
          ],
          "scatter": [
           {
            "fillpattern": {
             "fillmode": "overlay",
             "size": 10,
             "solidity": 0.2
            },
            "type": "scatter"
           }
          ],
          "scatter3d": [
           {
            "line": {
             "colorbar": {
              "outlinewidth": 0,
              "ticks": ""
             }
            },
            "marker": {
             "colorbar": {
              "outlinewidth": 0,
              "ticks": ""
             }
            },
            "type": "scatter3d"
           }
          ],
          "scattercarpet": [
           {
            "marker": {
             "colorbar": {
              "outlinewidth": 0,
              "ticks": ""
             }
            },
            "type": "scattercarpet"
           }
          ],
          "scattergeo": [
           {
            "marker": {
             "colorbar": {
              "outlinewidth": 0,
              "ticks": ""
             }
            },
            "type": "scattergeo"
           }
          ],
          "scattergl": [
           {
            "marker": {
             "colorbar": {
              "outlinewidth": 0,
              "ticks": ""
             }
            },
            "type": "scattergl"
           }
          ],
          "scattermapbox": [
           {
            "marker": {
             "colorbar": {
              "outlinewidth": 0,
              "ticks": ""
             }
            },
            "type": "scattermapbox"
           }
          ],
          "scatterpolar": [
           {
            "marker": {
             "colorbar": {
              "outlinewidth": 0,
              "ticks": ""
             }
            },
            "type": "scatterpolar"
           }
          ],
          "scatterpolargl": [
           {
            "marker": {
             "colorbar": {
              "outlinewidth": 0,
              "ticks": ""
             }
            },
            "type": "scatterpolargl"
           }
          ],
          "scatterternary": [
           {
            "marker": {
             "colorbar": {
              "outlinewidth": 0,
              "ticks": ""
             }
            },
            "type": "scatterternary"
           }
          ],
          "surface": [
           {
            "colorbar": {
             "outlinewidth": 0,
             "ticks": ""
            },
            "colorscale": [
             [
              0,
              "#0d0887"
             ],
             [
              0.1111111111111111,
              "#46039f"
             ],
             [
              0.2222222222222222,
              "#7201a8"
             ],
             [
              0.3333333333333333,
              "#9c179e"
             ],
             [
              0.4444444444444444,
              "#bd3786"
             ],
             [
              0.5555555555555556,
              "#d8576b"
             ],
             [
              0.6666666666666666,
              "#ed7953"
             ],
             [
              0.7777777777777778,
              "#fb9f3a"
             ],
             [
              0.8888888888888888,
              "#fdca26"
             ],
             [
              1,
              "#f0f921"
             ]
            ],
            "type": "surface"
           }
          ],
          "table": [
           {
            "cells": {
             "fill": {
              "color": "#EBF0F8"
             },
             "line": {
              "color": "white"
             }
            },
            "header": {
             "fill": {
              "color": "#C8D4E3"
             },
             "line": {
              "color": "white"
             }
            },
            "type": "table"
           }
          ]
         },
         "layout": {
          "annotationdefaults": {
           "arrowcolor": "#2a3f5f",
           "arrowhead": 0,
           "arrowwidth": 1
          },
          "autotypenumbers": "strict",
          "coloraxis": {
           "colorbar": {
            "outlinewidth": 0,
            "ticks": ""
           }
          },
          "colorscale": {
           "diverging": [
            [
             0,
             "#8e0152"
            ],
            [
             0.1,
             "#c51b7d"
            ],
            [
             0.2,
             "#de77ae"
            ],
            [
             0.3,
             "#f1b6da"
            ],
            [
             0.4,
             "#fde0ef"
            ],
            [
             0.5,
             "#f7f7f7"
            ],
            [
             0.6,
             "#e6f5d0"
            ],
            [
             0.7,
             "#b8e186"
            ],
            [
             0.8,
             "#7fbc41"
            ],
            [
             0.9,
             "#4d9221"
            ],
            [
             1,
             "#276419"
            ]
           ],
           "sequential": [
            [
             0,
             "#0d0887"
            ],
            [
             0.1111111111111111,
             "#46039f"
            ],
            [
             0.2222222222222222,
             "#7201a8"
            ],
            [
             0.3333333333333333,
             "#9c179e"
            ],
            [
             0.4444444444444444,
             "#bd3786"
            ],
            [
             0.5555555555555556,
             "#d8576b"
            ],
            [
             0.6666666666666666,
             "#ed7953"
            ],
            [
             0.7777777777777778,
             "#fb9f3a"
            ],
            [
             0.8888888888888888,
             "#fdca26"
            ],
            [
             1,
             "#f0f921"
            ]
           ],
           "sequentialminus": [
            [
             0,
             "#0d0887"
            ],
            [
             0.1111111111111111,
             "#46039f"
            ],
            [
             0.2222222222222222,
             "#7201a8"
            ],
            [
             0.3333333333333333,
             "#9c179e"
            ],
            [
             0.4444444444444444,
             "#bd3786"
            ],
            [
             0.5555555555555556,
             "#d8576b"
            ],
            [
             0.6666666666666666,
             "#ed7953"
            ],
            [
             0.7777777777777778,
             "#fb9f3a"
            ],
            [
             0.8888888888888888,
             "#fdca26"
            ],
            [
             1,
             "#f0f921"
            ]
           ]
          },
          "colorway": [
           "#636efa",
           "#EF553B",
           "#00cc96",
           "#ab63fa",
           "#FFA15A",
           "#19d3f3",
           "#FF6692",
           "#B6E880",
           "#FF97FF",
           "#FECB52"
          ],
          "font": {
           "color": "#2a3f5f"
          },
          "geo": {
           "bgcolor": "white",
           "lakecolor": "white",
           "landcolor": "#E5ECF6",
           "showlakes": true,
           "showland": true,
           "subunitcolor": "white"
          },
          "hoverlabel": {
           "align": "left"
          },
          "hovermode": "closest",
          "mapbox": {
           "style": "light"
          },
          "paper_bgcolor": "white",
          "plot_bgcolor": "#E5ECF6",
          "polar": {
           "angularaxis": {
            "gridcolor": "white",
            "linecolor": "white",
            "ticks": ""
           },
           "bgcolor": "#E5ECF6",
           "radialaxis": {
            "gridcolor": "white",
            "linecolor": "white",
            "ticks": ""
           }
          },
          "scene": {
           "xaxis": {
            "backgroundcolor": "#E5ECF6",
            "gridcolor": "white",
            "gridwidth": 2,
            "linecolor": "white",
            "showbackground": true,
            "ticks": "",
            "zerolinecolor": "white"
           },
           "yaxis": {
            "backgroundcolor": "#E5ECF6",
            "gridcolor": "white",
            "gridwidth": 2,
            "linecolor": "white",
            "showbackground": true,
            "ticks": "",
            "zerolinecolor": "white"
           },
           "zaxis": {
            "backgroundcolor": "#E5ECF6",
            "gridcolor": "white",
            "gridwidth": 2,
            "linecolor": "white",
            "showbackground": true,
            "ticks": "",
            "zerolinecolor": "white"
           }
          },
          "shapedefaults": {
           "line": {
            "color": "#2a3f5f"
           }
          },
          "ternary": {
           "aaxis": {
            "gridcolor": "white",
            "linecolor": "white",
            "ticks": ""
           },
           "baxis": {
            "gridcolor": "white",
            "linecolor": "white",
            "ticks": ""
           },
           "bgcolor": "#E5ECF6",
           "caxis": {
            "gridcolor": "white",
            "linecolor": "white",
            "ticks": ""
           }
          },
          "title": {
           "x": 0.05
          },
          "xaxis": {
           "automargin": true,
           "gridcolor": "white",
           "linecolor": "white",
           "ticks": "",
           "title": {
            "standoff": 15
           },
           "zerolinecolor": "white",
           "zerolinewidth": 2
          },
          "yaxis": {
           "automargin": true,
           "gridcolor": "white",
           "linecolor": "white",
           "ticks": "",
           "title": {
            "standoff": 15
           },
           "zerolinecolor": "white",
           "zerolinewidth": 2
          }
         }
        },
        "title": {
         "font": {
          "color": "#4D5663"
         }
        },
        "xaxis": {
         "gridcolor": "#E1E5ED",
         "showgrid": true,
         "tickfont": {
          "color": "#4D5663"
         },
         "title": {
          "font": {
           "color": "#4D5663"
          },
          "text": ""
         },
         "zerolinecolor": "#E1E5ED"
        },
        "yaxis": {
         "gridcolor": "#E1E5ED",
         "showgrid": true,
         "tickfont": {
          "color": "#4D5663"
         },
         "title": {
          "font": {
           "color": "#4D5663"
          },
          "text": ""
         },
         "zerolinecolor": "#E1E5ED"
        }
       }
      },
      "text/html": [
       "<div>                            <div id=\"3591c967-6b41-47f1-aea4-8dc0c26997bb\" class=\"plotly-graph-div\" style=\"height:525px; width:100%;\"></div>            <script type=\"text/javascript\">                require([\"plotly\"], function(Plotly) {                    window.PLOTLYENV=window.PLOTLYENV || {};\n",
       "                    window.PLOTLYENV.BASE_URL='https://plot.ly';                                    if (document.getElementById(\"3591c967-6b41-47f1-aea4-8dc0c26997bb\")) {                    Plotly.newPlot(                        \"3591c967-6b41-47f1-aea4-8dc0c26997bb\",                        [{\"colorscale\":[[0.0,\"rgb(165,0,38)\"],[0.1,\"rgb(215,48,39)\"],[0.2,\"rgb(244,109,67)\"],[0.3,\"rgb(253,174,97)\"],[0.4,\"rgb(254,224,144)\"],[0.5,\"rgb(255,255,191)\"],[0.6,\"rgb(224,243,248)\"],[0.7,\"rgb(171,217,233)\"],[0.8,\"rgb(116,173,209)\"],[0.9,\"rgb(69,117,180)\"],[1.0,\"rgb(49,54,149)\"]],\"x\":[0,1,2,3,4],\"y\":[\"x\",\"y\",\"z\"],\"z\":[[1,2,3,4,5],[10,20,30,20,10],[5,4,3,2,1]],\"type\":\"surface\"}],                        {\"legend\":{\"bgcolor\":\"#F5F6F9\",\"font\":{\"color\":\"#4D5663\"}},\"paper_bgcolor\":\"#F5F6F9\",\"plot_bgcolor\":\"#F5F6F9\",\"template\":{\"data\":{\"barpolar\":[{\"marker\":{\"line\":{\"color\":\"#E5ECF6\",\"width\":0.5},\"pattern\":{\"fillmode\":\"overlay\",\"size\":10,\"solidity\":0.2}},\"type\":\"barpolar\"}],\"bar\":[{\"error_x\":{\"color\":\"#2a3f5f\"},\"error_y\":{\"color\":\"#2a3f5f\"},\"marker\":{\"line\":{\"color\":\"#E5ECF6\",\"width\":0.5},\"pattern\":{\"fillmode\":\"overlay\",\"size\":10,\"solidity\":0.2}},\"type\":\"bar\"}],\"carpet\":[{\"aaxis\":{\"endlinecolor\":\"#2a3f5f\",\"gridcolor\":\"white\",\"linecolor\":\"white\",\"minorgridcolor\":\"white\",\"startlinecolor\":\"#2a3f5f\"},\"baxis\":{\"endlinecolor\":\"#2a3f5f\",\"gridcolor\":\"white\",\"linecolor\":\"white\",\"minorgridcolor\":\"white\",\"startlinecolor\":\"#2a3f5f\"},\"type\":\"carpet\"}],\"choropleth\":[{\"colorbar\":{\"outlinewidth\":0,\"ticks\":\"\"},\"type\":\"choropleth\"}],\"contourcarpet\":[{\"colorbar\":{\"outlinewidth\":0,\"ticks\":\"\"},\"type\":\"contourcarpet\"}],\"contour\":[{\"colorbar\":{\"outlinewidth\":0,\"ticks\":\"\"},\"colorscale\":[[0.0,\"#0d0887\"],[0.1111111111111111,\"#46039f\"],[0.2222222222222222,\"#7201a8\"],[0.3333333333333333,\"#9c179e\"],[0.4444444444444444,\"#bd3786\"],[0.5555555555555556,\"#d8576b\"],[0.6666666666666666,\"#ed7953\"],[0.7777777777777778,\"#fb9f3a\"],[0.8888888888888888,\"#fdca26\"],[1.0,\"#f0f921\"]],\"type\":\"contour\"}],\"heatmapgl\":[{\"colorbar\":{\"outlinewidth\":0,\"ticks\":\"\"},\"colorscale\":[[0.0,\"#0d0887\"],[0.1111111111111111,\"#46039f\"],[0.2222222222222222,\"#7201a8\"],[0.3333333333333333,\"#9c179e\"],[0.4444444444444444,\"#bd3786\"],[0.5555555555555556,\"#d8576b\"],[0.6666666666666666,\"#ed7953\"],[0.7777777777777778,\"#fb9f3a\"],[0.8888888888888888,\"#fdca26\"],[1.0,\"#f0f921\"]],\"type\":\"heatmapgl\"}],\"heatmap\":[{\"colorbar\":{\"outlinewidth\":0,\"ticks\":\"\"},\"colorscale\":[[0.0,\"#0d0887\"],[0.1111111111111111,\"#46039f\"],[0.2222222222222222,\"#7201a8\"],[0.3333333333333333,\"#9c179e\"],[0.4444444444444444,\"#bd3786\"],[0.5555555555555556,\"#d8576b\"],[0.6666666666666666,\"#ed7953\"],[0.7777777777777778,\"#fb9f3a\"],[0.8888888888888888,\"#fdca26\"],[1.0,\"#f0f921\"]],\"type\":\"heatmap\"}],\"histogram2dcontour\":[{\"colorbar\":{\"outlinewidth\":0,\"ticks\":\"\"},\"colorscale\":[[0.0,\"#0d0887\"],[0.1111111111111111,\"#46039f\"],[0.2222222222222222,\"#7201a8\"],[0.3333333333333333,\"#9c179e\"],[0.4444444444444444,\"#bd3786\"],[0.5555555555555556,\"#d8576b\"],[0.6666666666666666,\"#ed7953\"],[0.7777777777777778,\"#fb9f3a\"],[0.8888888888888888,\"#fdca26\"],[1.0,\"#f0f921\"]],\"type\":\"histogram2dcontour\"}],\"histogram2d\":[{\"colorbar\":{\"outlinewidth\":0,\"ticks\":\"\"},\"colorscale\":[[0.0,\"#0d0887\"],[0.1111111111111111,\"#46039f\"],[0.2222222222222222,\"#7201a8\"],[0.3333333333333333,\"#9c179e\"],[0.4444444444444444,\"#bd3786\"],[0.5555555555555556,\"#d8576b\"],[0.6666666666666666,\"#ed7953\"],[0.7777777777777778,\"#fb9f3a\"],[0.8888888888888888,\"#fdca26\"],[1.0,\"#f0f921\"]],\"type\":\"histogram2d\"}],\"histogram\":[{\"marker\":{\"pattern\":{\"fillmode\":\"overlay\",\"size\":10,\"solidity\":0.2}},\"type\":\"histogram\"}],\"mesh3d\":[{\"colorbar\":{\"outlinewidth\":0,\"ticks\":\"\"},\"type\":\"mesh3d\"}],\"parcoords\":[{\"line\":{\"colorbar\":{\"outlinewidth\":0,\"ticks\":\"\"}},\"type\":\"parcoords\"}],\"pie\":[{\"automargin\":true,\"type\":\"pie\"}],\"scatter3d\":[{\"line\":{\"colorbar\":{\"outlinewidth\":0,\"ticks\":\"\"}},\"marker\":{\"colorbar\":{\"outlinewidth\":0,\"ticks\":\"\"}},\"type\":\"scatter3d\"}],\"scattercarpet\":[{\"marker\":{\"colorbar\":{\"outlinewidth\":0,\"ticks\":\"\"}},\"type\":\"scattercarpet\"}],\"scattergeo\":[{\"marker\":{\"colorbar\":{\"outlinewidth\":0,\"ticks\":\"\"}},\"type\":\"scattergeo\"}],\"scattergl\":[{\"marker\":{\"colorbar\":{\"outlinewidth\":0,\"ticks\":\"\"}},\"type\":\"scattergl\"}],\"scattermapbox\":[{\"marker\":{\"colorbar\":{\"outlinewidth\":0,\"ticks\":\"\"}},\"type\":\"scattermapbox\"}],\"scatterpolargl\":[{\"marker\":{\"colorbar\":{\"outlinewidth\":0,\"ticks\":\"\"}},\"type\":\"scatterpolargl\"}],\"scatterpolar\":[{\"marker\":{\"colorbar\":{\"outlinewidth\":0,\"ticks\":\"\"}},\"type\":\"scatterpolar\"}],\"scatter\":[{\"fillpattern\":{\"fillmode\":\"overlay\",\"size\":10,\"solidity\":0.2},\"type\":\"scatter\"}],\"scatterternary\":[{\"marker\":{\"colorbar\":{\"outlinewidth\":0,\"ticks\":\"\"}},\"type\":\"scatterternary\"}],\"surface\":[{\"colorbar\":{\"outlinewidth\":0,\"ticks\":\"\"},\"colorscale\":[[0.0,\"#0d0887\"],[0.1111111111111111,\"#46039f\"],[0.2222222222222222,\"#7201a8\"],[0.3333333333333333,\"#9c179e\"],[0.4444444444444444,\"#bd3786\"],[0.5555555555555556,\"#d8576b\"],[0.6666666666666666,\"#ed7953\"],[0.7777777777777778,\"#fb9f3a\"],[0.8888888888888888,\"#fdca26\"],[1.0,\"#f0f921\"]],\"type\":\"surface\"}],\"table\":[{\"cells\":{\"fill\":{\"color\":\"#EBF0F8\"},\"line\":{\"color\":\"white\"}},\"header\":{\"fill\":{\"color\":\"#C8D4E3\"},\"line\":{\"color\":\"white\"}},\"type\":\"table\"}]},\"layout\":{\"annotationdefaults\":{\"arrowcolor\":\"#2a3f5f\",\"arrowhead\":0,\"arrowwidth\":1},\"autotypenumbers\":\"strict\",\"coloraxis\":{\"colorbar\":{\"outlinewidth\":0,\"ticks\":\"\"}},\"colorscale\":{\"diverging\":[[0,\"#8e0152\"],[0.1,\"#c51b7d\"],[0.2,\"#de77ae\"],[0.3,\"#f1b6da\"],[0.4,\"#fde0ef\"],[0.5,\"#f7f7f7\"],[0.6,\"#e6f5d0\"],[0.7,\"#b8e186\"],[0.8,\"#7fbc41\"],[0.9,\"#4d9221\"],[1,\"#276419\"]],\"sequential\":[[0.0,\"#0d0887\"],[0.1111111111111111,\"#46039f\"],[0.2222222222222222,\"#7201a8\"],[0.3333333333333333,\"#9c179e\"],[0.4444444444444444,\"#bd3786\"],[0.5555555555555556,\"#d8576b\"],[0.6666666666666666,\"#ed7953\"],[0.7777777777777778,\"#fb9f3a\"],[0.8888888888888888,\"#fdca26\"],[1.0,\"#f0f921\"]],\"sequentialminus\":[[0.0,\"#0d0887\"],[0.1111111111111111,\"#46039f\"],[0.2222222222222222,\"#7201a8\"],[0.3333333333333333,\"#9c179e\"],[0.4444444444444444,\"#bd3786\"],[0.5555555555555556,\"#d8576b\"],[0.6666666666666666,\"#ed7953\"],[0.7777777777777778,\"#fb9f3a\"],[0.8888888888888888,\"#fdca26\"],[1.0,\"#f0f921\"]]},\"colorway\":[\"#636efa\",\"#EF553B\",\"#00cc96\",\"#ab63fa\",\"#FFA15A\",\"#19d3f3\",\"#FF6692\",\"#B6E880\",\"#FF97FF\",\"#FECB52\"],\"font\":{\"color\":\"#2a3f5f\"},\"geo\":{\"bgcolor\":\"white\",\"lakecolor\":\"white\",\"landcolor\":\"#E5ECF6\",\"showlakes\":true,\"showland\":true,\"subunitcolor\":\"white\"},\"hoverlabel\":{\"align\":\"left\"},\"hovermode\":\"closest\",\"mapbox\":{\"style\":\"light\"},\"paper_bgcolor\":\"white\",\"plot_bgcolor\":\"#E5ECF6\",\"polar\":{\"angularaxis\":{\"gridcolor\":\"white\",\"linecolor\":\"white\",\"ticks\":\"\"},\"bgcolor\":\"#E5ECF6\",\"radialaxis\":{\"gridcolor\":\"white\",\"linecolor\":\"white\",\"ticks\":\"\"}},\"scene\":{\"xaxis\":{\"backgroundcolor\":\"#E5ECF6\",\"gridcolor\":\"white\",\"gridwidth\":2,\"linecolor\":\"white\",\"showbackground\":true,\"ticks\":\"\",\"zerolinecolor\":\"white\"},\"yaxis\":{\"backgroundcolor\":\"#E5ECF6\",\"gridcolor\":\"white\",\"gridwidth\":2,\"linecolor\":\"white\",\"showbackground\":true,\"ticks\":\"\",\"zerolinecolor\":\"white\"},\"zaxis\":{\"backgroundcolor\":\"#E5ECF6\",\"gridcolor\":\"white\",\"gridwidth\":2,\"linecolor\":\"white\",\"showbackground\":true,\"ticks\":\"\",\"zerolinecolor\":\"white\"}},\"shapedefaults\":{\"line\":{\"color\":\"#2a3f5f\"}},\"ternary\":{\"aaxis\":{\"gridcolor\":\"white\",\"linecolor\":\"white\",\"ticks\":\"\"},\"baxis\":{\"gridcolor\":\"white\",\"linecolor\":\"white\",\"ticks\":\"\"},\"bgcolor\":\"#E5ECF6\",\"caxis\":{\"gridcolor\":\"white\",\"linecolor\":\"white\",\"ticks\":\"\"}},\"title\":{\"x\":0.05},\"xaxis\":{\"automargin\":true,\"gridcolor\":\"white\",\"linecolor\":\"white\",\"ticks\":\"\",\"title\":{\"standoff\":15},\"zerolinecolor\":\"white\",\"zerolinewidth\":2},\"yaxis\":{\"automargin\":true,\"gridcolor\":\"white\",\"linecolor\":\"white\",\"ticks\":\"\",\"title\":{\"standoff\":15},\"zerolinecolor\":\"white\",\"zerolinewidth\":2}}},\"title\":{\"font\":{\"color\":\"#4D5663\"}},\"xaxis\":{\"gridcolor\":\"#E1E5ED\",\"showgrid\":true,\"tickfont\":{\"color\":\"#4D5663\"},\"title\":{\"font\":{\"color\":\"#4D5663\"},\"text\":\"\"},\"zerolinecolor\":\"#E1E5ED\"},\"yaxis\":{\"gridcolor\":\"#E1E5ED\",\"showgrid\":true,\"tickfont\":{\"color\":\"#4D5663\"},\"title\":{\"font\":{\"color\":\"#4D5663\"},\"text\":\"\"},\"zerolinecolor\":\"#E1E5ED\"}},                        {\"showLink\": true, \"linkText\": \"Export to plot.ly\", \"plotlyServerURL\": \"https://plot.ly\", \"responsive\": true}                    ).then(function(){\n",
       "                            \n",
       "var gd = document.getElementById('3591c967-6b41-47f1-aea4-8dc0c26997bb');\n",
       "var x = new MutationObserver(function (mutations, observer) {{\n",
       "        var display = window.getComputedStyle(gd).display;\n",
       "        if (!display || display === 'none') {{\n",
       "            console.log([gd, 'removed!']);\n",
       "            Plotly.purge(gd);\n",
       "            observer.disconnect();\n",
       "        }}\n",
       "}});\n",
       "\n",
       "// Listen for the removal of the full notebook cells\n",
       "var notebookContainer = gd.closest('#notebook-container');\n",
       "if (notebookContainer) {{\n",
       "    x.observe(notebookContainer, {childList: true});\n",
       "}}\n",
       "\n",
       "// Listen for the clearing of the current output cell\n",
       "var outputEl = gd.closest('.output');\n",
       "if (outputEl) {{\n",
       "    x.observe(outputEl, {childList: true});\n",
       "}}\n",
       "\n",
       "                        })                };                });            </script>        </div>"
      ]
     },
     "metadata": {},
     "output_type": "display_data"
    }
   ],
   "source": [
    "df3 = pd.DataFrame({'x':[1,2,3,4,5],'y':[10,20,30,20,10],'z':[5,4,3,2,1]})\n",
    "df3.iplot(kind='surface',colorscale='rdylbu')"
   ]
  },
  {
   "cell_type": "markdown",
   "metadata": {},
   "source": [
    "## Bar"
   ]
  },
  {
   "cell_type": "code",
   "execution_count": 20,
   "metadata": {},
   "outputs": [
    {
     "data": {
      "application/vnd.plotly.v1+json": {
       "config": {
        "linkText": "Export to plot.ly",
        "plotlyServerURL": "https://plot.ly",
        "showLink": true
       },
       "data": [
        {
         "marker": {
          "color": "rgba(255, 153, 51, 0.6)",
          "line": {
           "color": "rgba(255, 153, 51, 1.0)",
           "width": 1
          }
         },
         "name": "A",
         "orientation": "v",
         "text": "",
         "type": "bar",
         "x": [
          0,
          1,
          2,
          3,
          4,
          5,
          6,
          7,
          8,
          9,
          10,
          11,
          12,
          13,
          14,
          15,
          16,
          17,
          18,
          19,
          20,
          21,
          22,
          23,
          24,
          25,
          26,
          27,
          28,
          29,
          30,
          31,
          32,
          33,
          34,
          35,
          36,
          37,
          38,
          39,
          40,
          41,
          42,
          43,
          44,
          45,
          46,
          47,
          48,
          49,
          50,
          51,
          52,
          53,
          54,
          55,
          56,
          57,
          58,
          59,
          60,
          61,
          62,
          63,
          64,
          65,
          66,
          67,
          68,
          69,
          70,
          71,
          72,
          73,
          74,
          75,
          76,
          77,
          78,
          79,
          80,
          81,
          82,
          83,
          84,
          85,
          86,
          87,
          88,
          89,
          90,
          91,
          92,
          93,
          94,
          95,
          96,
          97,
          98,
          99
         ],
         "y": [
          0.10395791322237946,
          1.0907423101569562,
          -1.8023651034495587,
          0.1452796961840601,
          -0.8047590153347951,
          -1.2363607083110424,
          -1.533073210057116,
          0.8450512162615853,
          -1.833777418781113,
          0.12520778107159888,
          0.3170259452776536,
          -1.00956309234882,
          -0.3833966691606066,
          -0.37450811797226163,
          -0.05198633333678256,
          0.36472898788925007,
          1.7288167042934248,
          0.6090627068408083,
          -1.6268917312729543,
          -0.5958803396162193,
          0.22256691468192602,
          0.8064727120322517,
          1.9223841168509883,
          -0.921464297663518,
          1.3899181517467207,
          -1.7402808686813631,
          1.0427901020562544,
          -0.8672061261966549,
          -0.488206548771983,
          -1.7336935096327533,
          3.244925622032199,
          1.841750968380168,
          -0.49119101252950964,
          1.1853448809662257,
          0.6675123408061048,
          -1.437627889538169,
          -0.7450636517900513,
          -0.30151860773499123,
          -0.8671427788874422,
          1.1063875043347107,
          -0.26698316758204504,
          -1.649870588436951,
          -0.13895244826595793,
          0.031051274815732555,
          -0.7832155624085221,
          0.16178669856927996,
          -0.9382965322194335,
          0.4466791772128349,
          -0.15578635619915948,
          -1.5673289932174421,
          0.4919549985458554,
          -0.21504541416170153,
          0.1413190656527486,
          -0.9143680016986964,
          -0.7784995008704212,
          0.4779649038295718,
          1.5065125239154848,
          1.5389539286202367,
          1.3146020929586084,
          0.3810124335196379,
          1.4985550576693776,
          0.03859284362811156,
          0.4570321732592035,
          1.6657492904889124,
          1.770579715011796,
          -0.11161987472902953,
          1.4511060582998303,
          -0.24820849298660438,
          1.904973301524313,
          1.1692224023273332,
          -0.3491620787132832,
          -0.7141219970453385,
          -0.1623263949531894,
          0.14944754055839804,
          0.25019116466667546,
          0.19682162553617305,
          0.6692520415060931,
          -0.6958447951243778,
          0.08433454765442423,
          -0.5538825782042568,
          1.7467725048965241,
          -0.5095812259955649,
          -0.42512436009640775,
          0.4840214791946006,
          -1.6007136863955105,
          1.0499990825603565,
          0.6295142509558708,
          -0.442226614037453,
          -0.4550165591316354,
          0.6131877363513857,
          1.1247741199130217,
          -0.8279482111052545,
          1.0488516631647589,
          -1.1837813510152209,
          0.5477732226005055,
          0.4294375428232401,
          -0.03689138853667535,
          0.8878779293696469,
          -0.5501028512886033,
          -1.216210964468219
         ]
        },
        {
         "marker": {
          "color": "rgba(55, 128, 191, 0.6)",
          "line": {
           "color": "rgba(55, 128, 191, 1.0)",
           "width": 1
          }
         },
         "name": "B",
         "orientation": "v",
         "text": "",
         "type": "bar",
         "x": [
          0,
          1,
          2,
          3,
          4,
          5,
          6,
          7,
          8,
          9,
          10,
          11,
          12,
          13,
          14,
          15,
          16,
          17,
          18,
          19,
          20,
          21,
          22,
          23,
          24,
          25,
          26,
          27,
          28,
          29,
          30,
          31,
          32,
          33,
          34,
          35,
          36,
          37,
          38,
          39,
          40,
          41,
          42,
          43,
          44,
          45,
          46,
          47,
          48,
          49,
          50,
          51,
          52,
          53,
          54,
          55,
          56,
          57,
          58,
          59,
          60,
          61,
          62,
          63,
          64,
          65,
          66,
          67,
          68,
          69,
          70,
          71,
          72,
          73,
          74,
          75,
          76,
          77,
          78,
          79,
          80,
          81,
          82,
          83,
          84,
          85,
          86,
          87,
          88,
          89,
          90,
          91,
          92,
          93,
          94,
          95,
          96,
          97,
          98,
          99
         ],
         "y": [
          -0.4964199052766519,
          -0.16577690724505037,
          -0.06352090321925319,
          0.9195213492176749,
          0.05920945692515286,
          -1.5352387721000331,
          -1.1272581915748292,
          1.5037082437441256,
          0.25525024969292537,
          0.926990078214612,
          1.6091275728246384,
          1.435698623918543,
          0.7929430485448701,
          -1.8078167644107352,
          0.3872864424405,
          -0.5081756149338615,
          0.11157791814884271,
          -0.7470305306600676,
          0.48919705825920645,
          -0.9422629443606921,
          0.39389463746364245,
          0.13279241776625111,
          -0.396173763657729,
          1.1557994071707751,
          0.9826669783349918,
          -0.8763175484331243,
          0.03866612269199482,
          0.9133514387537464,
          1.210067697022933,
          0.9575896405404437,
          0.4446642857554738,
          -1.1836057054060263,
          0.4690710661659546,
          0.0825941321291548,
          -0.057323525876951595,
          -0.4140460470113184,
          -0.21346112501363587,
          -0.09758155608070679,
          1.0961830745473047,
          -3.2527834347876783,
          -1.0559859874065454,
          -1.2451669840676882,
          -2.3763630793887467,
          1.7406596934722733,
          1.1635839279907205,
          1.615733929496423,
          -0.6613818474443387,
          0.6441008999335095,
          0.2108681494964121,
          0.4532517241681963,
          0.39395980607470804,
          -1.3573655220385268,
          0.6556394659492624,
          0.015906823753299704,
          2.147919985281432,
          -0.306172943784595,
          -1.0004312140616298,
          -0.10416640047537958,
          0.5149288073107,
          0.7124745940564056,
          1.3798138145208825,
          0.4349085980837738,
          0.3292157090951729,
          0.626715652218343,
          -1.0654490499559879,
          -0.7326169106971796,
          1.1268040052754518,
          2.015396849191515,
          0.2772174604301982,
          -0.46067756949404814,
          1.5014212003411764,
          -0.03394335951066258,
          -1.2483981703632212,
          0.5858505897588245,
          0.3310923688884323,
          -0.1138787315153205,
          -0.9161409821576249,
          1.544558212804218,
          1.101864233216787,
          -0.6193672340216976,
          0.5111413589667924,
          -0.15609752801350163,
          -2.4429254121204935,
          -0.41236075686521195,
          -0.8921208446971892,
          -0.3415343111101214,
          1.27788943460529,
          -0.19375578696417853,
          0.5261336442900859,
          -1.002668939581087,
          2.2032125799401125,
          -0.17618635766898977,
          0.12628455991716694,
          0.1586375815419656,
          0.6857590793737517,
          0.345486423574641,
          0.41044445264360596,
          0.9932463757588236,
          -0.9153092798258289,
          0.1155976661986857
         ]
        }
       ],
       "layout": {
        "legend": {
         "bgcolor": "#F5F6F9",
         "font": {
          "color": "#4D5663"
         }
        },
        "paper_bgcolor": "#F5F6F9",
        "plot_bgcolor": "#F5F6F9",
        "template": {
         "data": {
          "bar": [
           {
            "error_x": {
             "color": "#2a3f5f"
            },
            "error_y": {
             "color": "#2a3f5f"
            },
            "marker": {
             "line": {
              "color": "#E5ECF6",
              "width": 0.5
             },
             "pattern": {
              "fillmode": "overlay",
              "size": 10,
              "solidity": 0.2
             }
            },
            "type": "bar"
           }
          ],
          "barpolar": [
           {
            "marker": {
             "line": {
              "color": "#E5ECF6",
              "width": 0.5
             },
             "pattern": {
              "fillmode": "overlay",
              "size": 10,
              "solidity": 0.2
             }
            },
            "type": "barpolar"
           }
          ],
          "carpet": [
           {
            "aaxis": {
             "endlinecolor": "#2a3f5f",
             "gridcolor": "white",
             "linecolor": "white",
             "minorgridcolor": "white",
             "startlinecolor": "#2a3f5f"
            },
            "baxis": {
             "endlinecolor": "#2a3f5f",
             "gridcolor": "white",
             "linecolor": "white",
             "minorgridcolor": "white",
             "startlinecolor": "#2a3f5f"
            },
            "type": "carpet"
           }
          ],
          "choropleth": [
           {
            "colorbar": {
             "outlinewidth": 0,
             "ticks": ""
            },
            "type": "choropleth"
           }
          ],
          "contour": [
           {
            "colorbar": {
             "outlinewidth": 0,
             "ticks": ""
            },
            "colorscale": [
             [
              0,
              "#0d0887"
             ],
             [
              0.1111111111111111,
              "#46039f"
             ],
             [
              0.2222222222222222,
              "#7201a8"
             ],
             [
              0.3333333333333333,
              "#9c179e"
             ],
             [
              0.4444444444444444,
              "#bd3786"
             ],
             [
              0.5555555555555556,
              "#d8576b"
             ],
             [
              0.6666666666666666,
              "#ed7953"
             ],
             [
              0.7777777777777778,
              "#fb9f3a"
             ],
             [
              0.8888888888888888,
              "#fdca26"
             ],
             [
              1,
              "#f0f921"
             ]
            ],
            "type": "contour"
           }
          ],
          "contourcarpet": [
           {
            "colorbar": {
             "outlinewidth": 0,
             "ticks": ""
            },
            "type": "contourcarpet"
           }
          ],
          "heatmap": [
           {
            "colorbar": {
             "outlinewidth": 0,
             "ticks": ""
            },
            "colorscale": [
             [
              0,
              "#0d0887"
             ],
             [
              0.1111111111111111,
              "#46039f"
             ],
             [
              0.2222222222222222,
              "#7201a8"
             ],
             [
              0.3333333333333333,
              "#9c179e"
             ],
             [
              0.4444444444444444,
              "#bd3786"
             ],
             [
              0.5555555555555556,
              "#d8576b"
             ],
             [
              0.6666666666666666,
              "#ed7953"
             ],
             [
              0.7777777777777778,
              "#fb9f3a"
             ],
             [
              0.8888888888888888,
              "#fdca26"
             ],
             [
              1,
              "#f0f921"
             ]
            ],
            "type": "heatmap"
           }
          ],
          "heatmapgl": [
           {
            "colorbar": {
             "outlinewidth": 0,
             "ticks": ""
            },
            "colorscale": [
             [
              0,
              "#0d0887"
             ],
             [
              0.1111111111111111,
              "#46039f"
             ],
             [
              0.2222222222222222,
              "#7201a8"
             ],
             [
              0.3333333333333333,
              "#9c179e"
             ],
             [
              0.4444444444444444,
              "#bd3786"
             ],
             [
              0.5555555555555556,
              "#d8576b"
             ],
             [
              0.6666666666666666,
              "#ed7953"
             ],
             [
              0.7777777777777778,
              "#fb9f3a"
             ],
             [
              0.8888888888888888,
              "#fdca26"
             ],
             [
              1,
              "#f0f921"
             ]
            ],
            "type": "heatmapgl"
           }
          ],
          "histogram": [
           {
            "marker": {
             "pattern": {
              "fillmode": "overlay",
              "size": 10,
              "solidity": 0.2
             }
            },
            "type": "histogram"
           }
          ],
          "histogram2d": [
           {
            "colorbar": {
             "outlinewidth": 0,
             "ticks": ""
            },
            "colorscale": [
             [
              0,
              "#0d0887"
             ],
             [
              0.1111111111111111,
              "#46039f"
             ],
             [
              0.2222222222222222,
              "#7201a8"
             ],
             [
              0.3333333333333333,
              "#9c179e"
             ],
             [
              0.4444444444444444,
              "#bd3786"
             ],
             [
              0.5555555555555556,
              "#d8576b"
             ],
             [
              0.6666666666666666,
              "#ed7953"
             ],
             [
              0.7777777777777778,
              "#fb9f3a"
             ],
             [
              0.8888888888888888,
              "#fdca26"
             ],
             [
              1,
              "#f0f921"
             ]
            ],
            "type": "histogram2d"
           }
          ],
          "histogram2dcontour": [
           {
            "colorbar": {
             "outlinewidth": 0,
             "ticks": ""
            },
            "colorscale": [
             [
              0,
              "#0d0887"
             ],
             [
              0.1111111111111111,
              "#46039f"
             ],
             [
              0.2222222222222222,
              "#7201a8"
             ],
             [
              0.3333333333333333,
              "#9c179e"
             ],
             [
              0.4444444444444444,
              "#bd3786"
             ],
             [
              0.5555555555555556,
              "#d8576b"
             ],
             [
              0.6666666666666666,
              "#ed7953"
             ],
             [
              0.7777777777777778,
              "#fb9f3a"
             ],
             [
              0.8888888888888888,
              "#fdca26"
             ],
             [
              1,
              "#f0f921"
             ]
            ],
            "type": "histogram2dcontour"
           }
          ],
          "mesh3d": [
           {
            "colorbar": {
             "outlinewidth": 0,
             "ticks": ""
            },
            "type": "mesh3d"
           }
          ],
          "parcoords": [
           {
            "line": {
             "colorbar": {
              "outlinewidth": 0,
              "ticks": ""
             }
            },
            "type": "parcoords"
           }
          ],
          "pie": [
           {
            "automargin": true,
            "type": "pie"
           }
          ],
          "scatter": [
           {
            "fillpattern": {
             "fillmode": "overlay",
             "size": 10,
             "solidity": 0.2
            },
            "type": "scatter"
           }
          ],
          "scatter3d": [
           {
            "line": {
             "colorbar": {
              "outlinewidth": 0,
              "ticks": ""
             }
            },
            "marker": {
             "colorbar": {
              "outlinewidth": 0,
              "ticks": ""
             }
            },
            "type": "scatter3d"
           }
          ],
          "scattercarpet": [
           {
            "marker": {
             "colorbar": {
              "outlinewidth": 0,
              "ticks": ""
             }
            },
            "type": "scattercarpet"
           }
          ],
          "scattergeo": [
           {
            "marker": {
             "colorbar": {
              "outlinewidth": 0,
              "ticks": ""
             }
            },
            "type": "scattergeo"
           }
          ],
          "scattergl": [
           {
            "marker": {
             "colorbar": {
              "outlinewidth": 0,
              "ticks": ""
             }
            },
            "type": "scattergl"
           }
          ],
          "scattermapbox": [
           {
            "marker": {
             "colorbar": {
              "outlinewidth": 0,
              "ticks": ""
             }
            },
            "type": "scattermapbox"
           }
          ],
          "scatterpolar": [
           {
            "marker": {
             "colorbar": {
              "outlinewidth": 0,
              "ticks": ""
             }
            },
            "type": "scatterpolar"
           }
          ],
          "scatterpolargl": [
           {
            "marker": {
             "colorbar": {
              "outlinewidth": 0,
              "ticks": ""
             }
            },
            "type": "scatterpolargl"
           }
          ],
          "scatterternary": [
           {
            "marker": {
             "colorbar": {
              "outlinewidth": 0,
              "ticks": ""
             }
            },
            "type": "scatterternary"
           }
          ],
          "surface": [
           {
            "colorbar": {
             "outlinewidth": 0,
             "ticks": ""
            },
            "colorscale": [
             [
              0,
              "#0d0887"
             ],
             [
              0.1111111111111111,
              "#46039f"
             ],
             [
              0.2222222222222222,
              "#7201a8"
             ],
             [
              0.3333333333333333,
              "#9c179e"
             ],
             [
              0.4444444444444444,
              "#bd3786"
             ],
             [
              0.5555555555555556,
              "#d8576b"
             ],
             [
              0.6666666666666666,
              "#ed7953"
             ],
             [
              0.7777777777777778,
              "#fb9f3a"
             ],
             [
              0.8888888888888888,
              "#fdca26"
             ],
             [
              1,
              "#f0f921"
             ]
            ],
            "type": "surface"
           }
          ],
          "table": [
           {
            "cells": {
             "fill": {
              "color": "#EBF0F8"
             },
             "line": {
              "color": "white"
             }
            },
            "header": {
             "fill": {
              "color": "#C8D4E3"
             },
             "line": {
              "color": "white"
             }
            },
            "type": "table"
           }
          ]
         },
         "layout": {
          "annotationdefaults": {
           "arrowcolor": "#2a3f5f",
           "arrowhead": 0,
           "arrowwidth": 1
          },
          "autotypenumbers": "strict",
          "coloraxis": {
           "colorbar": {
            "outlinewidth": 0,
            "ticks": ""
           }
          },
          "colorscale": {
           "diverging": [
            [
             0,
             "#8e0152"
            ],
            [
             0.1,
             "#c51b7d"
            ],
            [
             0.2,
             "#de77ae"
            ],
            [
             0.3,
             "#f1b6da"
            ],
            [
             0.4,
             "#fde0ef"
            ],
            [
             0.5,
             "#f7f7f7"
            ],
            [
             0.6,
             "#e6f5d0"
            ],
            [
             0.7,
             "#b8e186"
            ],
            [
             0.8,
             "#7fbc41"
            ],
            [
             0.9,
             "#4d9221"
            ],
            [
             1,
             "#276419"
            ]
           ],
           "sequential": [
            [
             0,
             "#0d0887"
            ],
            [
             0.1111111111111111,
             "#46039f"
            ],
            [
             0.2222222222222222,
             "#7201a8"
            ],
            [
             0.3333333333333333,
             "#9c179e"
            ],
            [
             0.4444444444444444,
             "#bd3786"
            ],
            [
             0.5555555555555556,
             "#d8576b"
            ],
            [
             0.6666666666666666,
             "#ed7953"
            ],
            [
             0.7777777777777778,
             "#fb9f3a"
            ],
            [
             0.8888888888888888,
             "#fdca26"
            ],
            [
             1,
             "#f0f921"
            ]
           ],
           "sequentialminus": [
            [
             0,
             "#0d0887"
            ],
            [
             0.1111111111111111,
             "#46039f"
            ],
            [
             0.2222222222222222,
             "#7201a8"
            ],
            [
             0.3333333333333333,
             "#9c179e"
            ],
            [
             0.4444444444444444,
             "#bd3786"
            ],
            [
             0.5555555555555556,
             "#d8576b"
            ],
            [
             0.6666666666666666,
             "#ed7953"
            ],
            [
             0.7777777777777778,
             "#fb9f3a"
            ],
            [
             0.8888888888888888,
             "#fdca26"
            ],
            [
             1,
             "#f0f921"
            ]
           ]
          },
          "colorway": [
           "#636efa",
           "#EF553B",
           "#00cc96",
           "#ab63fa",
           "#FFA15A",
           "#19d3f3",
           "#FF6692",
           "#B6E880",
           "#FF97FF",
           "#FECB52"
          ],
          "font": {
           "color": "#2a3f5f"
          },
          "geo": {
           "bgcolor": "white",
           "lakecolor": "white",
           "landcolor": "#E5ECF6",
           "showlakes": true,
           "showland": true,
           "subunitcolor": "white"
          },
          "hoverlabel": {
           "align": "left"
          },
          "hovermode": "closest",
          "mapbox": {
           "style": "light"
          },
          "paper_bgcolor": "white",
          "plot_bgcolor": "#E5ECF6",
          "polar": {
           "angularaxis": {
            "gridcolor": "white",
            "linecolor": "white",
            "ticks": ""
           },
           "bgcolor": "#E5ECF6",
           "radialaxis": {
            "gridcolor": "white",
            "linecolor": "white",
            "ticks": ""
           }
          },
          "scene": {
           "xaxis": {
            "backgroundcolor": "#E5ECF6",
            "gridcolor": "white",
            "gridwidth": 2,
            "linecolor": "white",
            "showbackground": true,
            "ticks": "",
            "zerolinecolor": "white"
           },
           "yaxis": {
            "backgroundcolor": "#E5ECF6",
            "gridcolor": "white",
            "gridwidth": 2,
            "linecolor": "white",
            "showbackground": true,
            "ticks": "",
            "zerolinecolor": "white"
           },
           "zaxis": {
            "backgroundcolor": "#E5ECF6",
            "gridcolor": "white",
            "gridwidth": 2,
            "linecolor": "white",
            "showbackground": true,
            "ticks": "",
            "zerolinecolor": "white"
           }
          },
          "shapedefaults": {
           "line": {
            "color": "#2a3f5f"
           }
          },
          "ternary": {
           "aaxis": {
            "gridcolor": "white",
            "linecolor": "white",
            "ticks": ""
           },
           "baxis": {
            "gridcolor": "white",
            "linecolor": "white",
            "ticks": ""
           },
           "bgcolor": "#E5ECF6",
           "caxis": {
            "gridcolor": "white",
            "linecolor": "white",
            "ticks": ""
           }
          },
          "title": {
           "x": 0.05
          },
          "xaxis": {
           "automargin": true,
           "gridcolor": "white",
           "linecolor": "white",
           "ticks": "",
           "title": {
            "standoff": 15
           },
           "zerolinecolor": "white",
           "zerolinewidth": 2
          },
          "yaxis": {
           "automargin": true,
           "gridcolor": "white",
           "linecolor": "white",
           "ticks": "",
           "title": {
            "standoff": 15
           },
           "zerolinecolor": "white",
           "zerolinewidth": 2
          }
         }
        },
        "title": {
         "font": {
          "color": "#4D5663"
         }
        },
        "xaxis": {
         "gridcolor": "#E1E5ED",
         "showgrid": true,
         "tickfont": {
          "color": "#4D5663"
         },
         "title": {
          "font": {
           "color": "#4D5663"
          },
          "text": ""
         },
         "zerolinecolor": "#E1E5ED"
        },
        "yaxis": {
         "gridcolor": "#E1E5ED",
         "showgrid": true,
         "tickfont": {
          "color": "#4D5663"
         },
         "title": {
          "font": {
           "color": "#4D5663"
          },
          "text": ""
         },
         "zerolinecolor": "#E1E5ED"
        }
       }
      },
      "text/html": [
       "<div>                            <div id=\"fcaf2a41-8c95-426c-82d5-89b4fc65422f\" class=\"plotly-graph-div\" style=\"height:525px; width:100%;\"></div>            <script type=\"text/javascript\">                require([\"plotly\"], function(Plotly) {                    window.PLOTLYENV=window.PLOTLYENV || {};\n",
       "                    window.PLOTLYENV.BASE_URL='https://plot.ly';                                    if (document.getElementById(\"fcaf2a41-8c95-426c-82d5-89b4fc65422f\")) {                    Plotly.newPlot(                        \"fcaf2a41-8c95-426c-82d5-89b4fc65422f\",                        [{\"marker\":{\"color\":\"rgba(255, 153, 51, 0.6)\",\"line\":{\"color\":\"rgba(255, 153, 51, 1.0)\",\"width\":1}},\"name\":\"A\",\"orientation\":\"v\",\"text\":\"\",\"x\":[0,1,2,3,4,5,6,7,8,9,10,11,12,13,14,15,16,17,18,19,20,21,22,23,24,25,26,27,28,29,30,31,32,33,34,35,36,37,38,39,40,41,42,43,44,45,46,47,48,49,50,51,52,53,54,55,56,57,58,59,60,61,62,63,64,65,66,67,68,69,70,71,72,73,74,75,76,77,78,79,80,81,82,83,84,85,86,87,88,89,90,91,92,93,94,95,96,97,98,99],\"y\":[0.10395791322237946,1.0907423101569562,-1.8023651034495587,0.1452796961840601,-0.8047590153347951,-1.2363607083110424,-1.533073210057116,0.8450512162615853,-1.833777418781113,0.12520778107159888,0.3170259452776536,-1.00956309234882,-0.3833966691606066,-0.37450811797226163,-0.05198633333678256,0.36472898788925007,1.7288167042934248,0.6090627068408083,-1.6268917312729543,-0.5958803396162193,0.22256691468192602,0.8064727120322517,1.9223841168509883,-0.921464297663518,1.3899181517467207,-1.7402808686813631,1.0427901020562544,-0.8672061261966549,-0.488206548771983,-1.7336935096327533,3.244925622032199,1.841750968380168,-0.49119101252950964,1.1853448809662257,0.6675123408061048,-1.437627889538169,-0.7450636517900513,-0.30151860773499123,-0.8671427788874422,1.1063875043347107,-0.26698316758204504,-1.649870588436951,-0.13895244826595793,0.031051274815732555,-0.7832155624085221,0.16178669856927996,-0.9382965322194335,0.4466791772128349,-0.15578635619915948,-1.5673289932174421,0.4919549985458554,-0.21504541416170153,0.1413190656527486,-0.9143680016986964,-0.7784995008704212,0.4779649038295718,1.5065125239154848,1.5389539286202367,1.3146020929586084,0.3810124335196379,1.4985550576693776,0.03859284362811156,0.4570321732592035,1.6657492904889124,1.770579715011796,-0.11161987472902953,1.4511060582998303,-0.24820849298660438,1.904973301524313,1.1692224023273332,-0.3491620787132832,-0.7141219970453385,-0.1623263949531894,0.14944754055839804,0.25019116466667546,0.19682162553617305,0.6692520415060931,-0.6958447951243778,0.08433454765442423,-0.5538825782042568,1.7467725048965241,-0.5095812259955649,-0.42512436009640775,0.4840214791946006,-1.6007136863955105,1.0499990825603565,0.6295142509558708,-0.442226614037453,-0.4550165591316354,0.6131877363513857,1.1247741199130217,-0.8279482111052545,1.0488516631647589,-1.1837813510152209,0.5477732226005055,0.4294375428232401,-0.03689138853667535,0.8878779293696469,-0.5501028512886033,-1.216210964468219],\"type\":\"bar\"},{\"marker\":{\"color\":\"rgba(55, 128, 191, 0.6)\",\"line\":{\"color\":\"rgba(55, 128, 191, 1.0)\",\"width\":1}},\"name\":\"B\",\"orientation\":\"v\",\"text\":\"\",\"x\":[0,1,2,3,4,5,6,7,8,9,10,11,12,13,14,15,16,17,18,19,20,21,22,23,24,25,26,27,28,29,30,31,32,33,34,35,36,37,38,39,40,41,42,43,44,45,46,47,48,49,50,51,52,53,54,55,56,57,58,59,60,61,62,63,64,65,66,67,68,69,70,71,72,73,74,75,76,77,78,79,80,81,82,83,84,85,86,87,88,89,90,91,92,93,94,95,96,97,98,99],\"y\":[-0.4964199052766519,-0.16577690724505037,-0.06352090321925319,0.9195213492176749,0.05920945692515286,-1.5352387721000331,-1.1272581915748292,1.5037082437441256,0.25525024969292537,0.926990078214612,1.6091275728246384,1.435698623918543,0.7929430485448701,-1.8078167644107352,0.3872864424405,-0.5081756149338615,0.11157791814884271,-0.7470305306600676,0.48919705825920645,-0.9422629443606921,0.39389463746364245,0.13279241776625111,-0.396173763657729,1.1557994071707751,0.9826669783349918,-0.8763175484331243,0.03866612269199482,0.9133514387537464,1.210067697022933,0.9575896405404437,0.4446642857554738,-1.1836057054060263,0.4690710661659546,0.0825941321291548,-0.057323525876951595,-0.4140460470113184,-0.21346112501363587,-0.09758155608070679,1.0961830745473047,-3.2527834347876783,-1.0559859874065454,-1.2451669840676882,-2.3763630793887467,1.7406596934722733,1.1635839279907205,1.615733929496423,-0.6613818474443387,0.6441008999335095,0.2108681494964121,0.4532517241681963,0.39395980607470804,-1.3573655220385268,0.6556394659492624,0.015906823753299704,2.147919985281432,-0.306172943784595,-1.0004312140616298,-0.10416640047537958,0.5149288073107,0.7124745940564056,1.3798138145208825,0.4349085980837738,0.3292157090951729,0.626715652218343,-1.0654490499559879,-0.7326169106971796,1.1268040052754518,2.015396849191515,0.2772174604301982,-0.46067756949404814,1.5014212003411764,-0.03394335951066258,-1.2483981703632212,0.5858505897588245,0.3310923688884323,-0.1138787315153205,-0.9161409821576249,1.544558212804218,1.101864233216787,-0.6193672340216976,0.5111413589667924,-0.15609752801350163,-2.4429254121204935,-0.41236075686521195,-0.8921208446971892,-0.3415343111101214,1.27788943460529,-0.19375578696417853,0.5261336442900859,-1.002668939581087,2.2032125799401125,-0.17618635766898977,0.12628455991716694,0.1586375815419656,0.6857590793737517,0.345486423574641,0.41044445264360596,0.9932463757588236,-0.9153092798258289,0.1155976661986857],\"type\":\"bar\"}],                        {\"legend\":{\"bgcolor\":\"#F5F6F9\",\"font\":{\"color\":\"#4D5663\"}},\"paper_bgcolor\":\"#F5F6F9\",\"plot_bgcolor\":\"#F5F6F9\",\"template\":{\"data\":{\"barpolar\":[{\"marker\":{\"line\":{\"color\":\"#E5ECF6\",\"width\":0.5},\"pattern\":{\"fillmode\":\"overlay\",\"size\":10,\"solidity\":0.2}},\"type\":\"barpolar\"}],\"bar\":[{\"error_x\":{\"color\":\"#2a3f5f\"},\"error_y\":{\"color\":\"#2a3f5f\"},\"marker\":{\"line\":{\"color\":\"#E5ECF6\",\"width\":0.5},\"pattern\":{\"fillmode\":\"overlay\",\"size\":10,\"solidity\":0.2}},\"type\":\"bar\"}],\"carpet\":[{\"aaxis\":{\"endlinecolor\":\"#2a3f5f\",\"gridcolor\":\"white\",\"linecolor\":\"white\",\"minorgridcolor\":\"white\",\"startlinecolor\":\"#2a3f5f\"},\"baxis\":{\"endlinecolor\":\"#2a3f5f\",\"gridcolor\":\"white\",\"linecolor\":\"white\",\"minorgridcolor\":\"white\",\"startlinecolor\":\"#2a3f5f\"},\"type\":\"carpet\"}],\"choropleth\":[{\"colorbar\":{\"outlinewidth\":0,\"ticks\":\"\"},\"type\":\"choropleth\"}],\"contourcarpet\":[{\"colorbar\":{\"outlinewidth\":0,\"ticks\":\"\"},\"type\":\"contourcarpet\"}],\"contour\":[{\"colorbar\":{\"outlinewidth\":0,\"ticks\":\"\"},\"colorscale\":[[0.0,\"#0d0887\"],[0.1111111111111111,\"#46039f\"],[0.2222222222222222,\"#7201a8\"],[0.3333333333333333,\"#9c179e\"],[0.4444444444444444,\"#bd3786\"],[0.5555555555555556,\"#d8576b\"],[0.6666666666666666,\"#ed7953\"],[0.7777777777777778,\"#fb9f3a\"],[0.8888888888888888,\"#fdca26\"],[1.0,\"#f0f921\"]],\"type\":\"contour\"}],\"heatmapgl\":[{\"colorbar\":{\"outlinewidth\":0,\"ticks\":\"\"},\"colorscale\":[[0.0,\"#0d0887\"],[0.1111111111111111,\"#46039f\"],[0.2222222222222222,\"#7201a8\"],[0.3333333333333333,\"#9c179e\"],[0.4444444444444444,\"#bd3786\"],[0.5555555555555556,\"#d8576b\"],[0.6666666666666666,\"#ed7953\"],[0.7777777777777778,\"#fb9f3a\"],[0.8888888888888888,\"#fdca26\"],[1.0,\"#f0f921\"]],\"type\":\"heatmapgl\"}],\"heatmap\":[{\"colorbar\":{\"outlinewidth\":0,\"ticks\":\"\"},\"colorscale\":[[0.0,\"#0d0887\"],[0.1111111111111111,\"#46039f\"],[0.2222222222222222,\"#7201a8\"],[0.3333333333333333,\"#9c179e\"],[0.4444444444444444,\"#bd3786\"],[0.5555555555555556,\"#d8576b\"],[0.6666666666666666,\"#ed7953\"],[0.7777777777777778,\"#fb9f3a\"],[0.8888888888888888,\"#fdca26\"],[1.0,\"#f0f921\"]],\"type\":\"heatmap\"}],\"histogram2dcontour\":[{\"colorbar\":{\"outlinewidth\":0,\"ticks\":\"\"},\"colorscale\":[[0.0,\"#0d0887\"],[0.1111111111111111,\"#46039f\"],[0.2222222222222222,\"#7201a8\"],[0.3333333333333333,\"#9c179e\"],[0.4444444444444444,\"#bd3786\"],[0.5555555555555556,\"#d8576b\"],[0.6666666666666666,\"#ed7953\"],[0.7777777777777778,\"#fb9f3a\"],[0.8888888888888888,\"#fdca26\"],[1.0,\"#f0f921\"]],\"type\":\"histogram2dcontour\"}],\"histogram2d\":[{\"colorbar\":{\"outlinewidth\":0,\"ticks\":\"\"},\"colorscale\":[[0.0,\"#0d0887\"],[0.1111111111111111,\"#46039f\"],[0.2222222222222222,\"#7201a8\"],[0.3333333333333333,\"#9c179e\"],[0.4444444444444444,\"#bd3786\"],[0.5555555555555556,\"#d8576b\"],[0.6666666666666666,\"#ed7953\"],[0.7777777777777778,\"#fb9f3a\"],[0.8888888888888888,\"#fdca26\"],[1.0,\"#f0f921\"]],\"type\":\"histogram2d\"}],\"histogram\":[{\"marker\":{\"pattern\":{\"fillmode\":\"overlay\",\"size\":10,\"solidity\":0.2}},\"type\":\"histogram\"}],\"mesh3d\":[{\"colorbar\":{\"outlinewidth\":0,\"ticks\":\"\"},\"type\":\"mesh3d\"}],\"parcoords\":[{\"line\":{\"colorbar\":{\"outlinewidth\":0,\"ticks\":\"\"}},\"type\":\"parcoords\"}],\"pie\":[{\"automargin\":true,\"type\":\"pie\"}],\"scatter3d\":[{\"line\":{\"colorbar\":{\"outlinewidth\":0,\"ticks\":\"\"}},\"marker\":{\"colorbar\":{\"outlinewidth\":0,\"ticks\":\"\"}},\"type\":\"scatter3d\"}],\"scattercarpet\":[{\"marker\":{\"colorbar\":{\"outlinewidth\":0,\"ticks\":\"\"}},\"type\":\"scattercarpet\"}],\"scattergeo\":[{\"marker\":{\"colorbar\":{\"outlinewidth\":0,\"ticks\":\"\"}},\"type\":\"scattergeo\"}],\"scattergl\":[{\"marker\":{\"colorbar\":{\"outlinewidth\":0,\"ticks\":\"\"}},\"type\":\"scattergl\"}],\"scattermapbox\":[{\"marker\":{\"colorbar\":{\"outlinewidth\":0,\"ticks\":\"\"}},\"type\":\"scattermapbox\"}],\"scatterpolargl\":[{\"marker\":{\"colorbar\":{\"outlinewidth\":0,\"ticks\":\"\"}},\"type\":\"scatterpolargl\"}],\"scatterpolar\":[{\"marker\":{\"colorbar\":{\"outlinewidth\":0,\"ticks\":\"\"}},\"type\":\"scatterpolar\"}],\"scatter\":[{\"fillpattern\":{\"fillmode\":\"overlay\",\"size\":10,\"solidity\":0.2},\"type\":\"scatter\"}],\"scatterternary\":[{\"marker\":{\"colorbar\":{\"outlinewidth\":0,\"ticks\":\"\"}},\"type\":\"scatterternary\"}],\"surface\":[{\"colorbar\":{\"outlinewidth\":0,\"ticks\":\"\"},\"colorscale\":[[0.0,\"#0d0887\"],[0.1111111111111111,\"#46039f\"],[0.2222222222222222,\"#7201a8\"],[0.3333333333333333,\"#9c179e\"],[0.4444444444444444,\"#bd3786\"],[0.5555555555555556,\"#d8576b\"],[0.6666666666666666,\"#ed7953\"],[0.7777777777777778,\"#fb9f3a\"],[0.8888888888888888,\"#fdca26\"],[1.0,\"#f0f921\"]],\"type\":\"surface\"}],\"table\":[{\"cells\":{\"fill\":{\"color\":\"#EBF0F8\"},\"line\":{\"color\":\"white\"}},\"header\":{\"fill\":{\"color\":\"#C8D4E3\"},\"line\":{\"color\":\"white\"}},\"type\":\"table\"}]},\"layout\":{\"annotationdefaults\":{\"arrowcolor\":\"#2a3f5f\",\"arrowhead\":0,\"arrowwidth\":1},\"autotypenumbers\":\"strict\",\"coloraxis\":{\"colorbar\":{\"outlinewidth\":0,\"ticks\":\"\"}},\"colorscale\":{\"diverging\":[[0,\"#8e0152\"],[0.1,\"#c51b7d\"],[0.2,\"#de77ae\"],[0.3,\"#f1b6da\"],[0.4,\"#fde0ef\"],[0.5,\"#f7f7f7\"],[0.6,\"#e6f5d0\"],[0.7,\"#b8e186\"],[0.8,\"#7fbc41\"],[0.9,\"#4d9221\"],[1,\"#276419\"]],\"sequential\":[[0.0,\"#0d0887\"],[0.1111111111111111,\"#46039f\"],[0.2222222222222222,\"#7201a8\"],[0.3333333333333333,\"#9c179e\"],[0.4444444444444444,\"#bd3786\"],[0.5555555555555556,\"#d8576b\"],[0.6666666666666666,\"#ed7953\"],[0.7777777777777778,\"#fb9f3a\"],[0.8888888888888888,\"#fdca26\"],[1.0,\"#f0f921\"]],\"sequentialminus\":[[0.0,\"#0d0887\"],[0.1111111111111111,\"#46039f\"],[0.2222222222222222,\"#7201a8\"],[0.3333333333333333,\"#9c179e\"],[0.4444444444444444,\"#bd3786\"],[0.5555555555555556,\"#d8576b\"],[0.6666666666666666,\"#ed7953\"],[0.7777777777777778,\"#fb9f3a\"],[0.8888888888888888,\"#fdca26\"],[1.0,\"#f0f921\"]]},\"colorway\":[\"#636efa\",\"#EF553B\",\"#00cc96\",\"#ab63fa\",\"#FFA15A\",\"#19d3f3\",\"#FF6692\",\"#B6E880\",\"#FF97FF\",\"#FECB52\"],\"font\":{\"color\":\"#2a3f5f\"},\"geo\":{\"bgcolor\":\"white\",\"lakecolor\":\"white\",\"landcolor\":\"#E5ECF6\",\"showlakes\":true,\"showland\":true,\"subunitcolor\":\"white\"},\"hoverlabel\":{\"align\":\"left\"},\"hovermode\":\"closest\",\"mapbox\":{\"style\":\"light\"},\"paper_bgcolor\":\"white\",\"plot_bgcolor\":\"#E5ECF6\",\"polar\":{\"angularaxis\":{\"gridcolor\":\"white\",\"linecolor\":\"white\",\"ticks\":\"\"},\"bgcolor\":\"#E5ECF6\",\"radialaxis\":{\"gridcolor\":\"white\",\"linecolor\":\"white\",\"ticks\":\"\"}},\"scene\":{\"xaxis\":{\"backgroundcolor\":\"#E5ECF6\",\"gridcolor\":\"white\",\"gridwidth\":2,\"linecolor\":\"white\",\"showbackground\":true,\"ticks\":\"\",\"zerolinecolor\":\"white\"},\"yaxis\":{\"backgroundcolor\":\"#E5ECF6\",\"gridcolor\":\"white\",\"gridwidth\":2,\"linecolor\":\"white\",\"showbackground\":true,\"ticks\":\"\",\"zerolinecolor\":\"white\"},\"zaxis\":{\"backgroundcolor\":\"#E5ECF6\",\"gridcolor\":\"white\",\"gridwidth\":2,\"linecolor\":\"white\",\"showbackground\":true,\"ticks\":\"\",\"zerolinecolor\":\"white\"}},\"shapedefaults\":{\"line\":{\"color\":\"#2a3f5f\"}},\"ternary\":{\"aaxis\":{\"gridcolor\":\"white\",\"linecolor\":\"white\",\"ticks\":\"\"},\"baxis\":{\"gridcolor\":\"white\",\"linecolor\":\"white\",\"ticks\":\"\"},\"bgcolor\":\"#E5ECF6\",\"caxis\":{\"gridcolor\":\"white\",\"linecolor\":\"white\",\"ticks\":\"\"}},\"title\":{\"x\":0.05},\"xaxis\":{\"automargin\":true,\"gridcolor\":\"white\",\"linecolor\":\"white\",\"ticks\":\"\",\"title\":{\"standoff\":15},\"zerolinecolor\":\"white\",\"zerolinewidth\":2},\"yaxis\":{\"automargin\":true,\"gridcolor\":\"white\",\"linecolor\":\"white\",\"ticks\":\"\",\"title\":{\"standoff\":15},\"zerolinecolor\":\"white\",\"zerolinewidth\":2}}},\"title\":{\"font\":{\"color\":\"#4D5663\"}},\"xaxis\":{\"gridcolor\":\"#E1E5ED\",\"showgrid\":true,\"tickfont\":{\"color\":\"#4D5663\"},\"title\":{\"font\":{\"color\":\"#4D5663\"},\"text\":\"\"},\"zerolinecolor\":\"#E1E5ED\"},\"yaxis\":{\"gridcolor\":\"#E1E5ED\",\"showgrid\":true,\"tickfont\":{\"color\":\"#4D5663\"},\"title\":{\"font\":{\"color\":\"#4D5663\"},\"text\":\"\"},\"zerolinecolor\":\"#E1E5ED\"}},                        {\"showLink\": true, \"linkText\": \"Export to plot.ly\", \"plotlyServerURL\": \"https://plot.ly\", \"responsive\": true}                    ).then(function(){\n",
       "                            \n",
       "var gd = document.getElementById('fcaf2a41-8c95-426c-82d5-89b4fc65422f');\n",
       "var x = new MutationObserver(function (mutations, observer) {{\n",
       "        var display = window.getComputedStyle(gd).display;\n",
       "        if (!display || display === 'none') {{\n",
       "            console.log([gd, 'removed!']);\n",
       "            Plotly.purge(gd);\n",
       "            observer.disconnect();\n",
       "        }}\n",
       "}});\n",
       "\n",
       "// Listen for the removal of the full notebook cells\n",
       "var notebookContainer = gd.closest('#notebook-container');\n",
       "if (notebookContainer) {{\n",
       "    x.observe(notebookContainer, {childList: true});\n",
       "}}\n",
       "\n",
       "// Listen for the clearing of the current output cell\n",
       "var outputEl = gd.closest('.output');\n",
       "if (outputEl) {{\n",
       "    x.observe(outputEl, {childList: true});\n",
       "}}\n",
       "\n",
       "                        })                };                });            </script>        </div>"
      ]
     },
     "metadata": {},
     "output_type": "display_data"
    }
   ],
   "source": [
    "df[['A','B']].iplot(kind='bar')"
   ]
  },
  {
   "cell_type": "markdown",
   "metadata": {},
   "source": [
    "## histogram"
   ]
  },
  {
   "cell_type": "code",
   "execution_count": 21,
   "metadata": {},
   "outputs": [
    {
     "data": {
      "application/vnd.plotly.v1+json": {
       "config": {
        "linkText": "Export to plot.ly",
        "plotlyServerURL": "https://plot.ly",
        "showLink": true
       },
       "data": [
        {
         "histfunc": "count",
         "histnorm": "",
         "marker": {
          "color": "rgba(255, 153, 51, 1.0)",
          "line": {
           "color": "#4D5663",
           "width": 1.3
          }
         },
         "name": "A",
         "nbinsx": 25,
         "opacity": 0.8,
         "orientation": "v",
         "type": "histogram",
         "x": [
          0.10395791322237946,
          1.0907423101569562,
          -1.8023651034495587,
          0.1452796961840601,
          -0.8047590153347951,
          -1.2363607083110424,
          -1.533073210057116,
          0.8450512162615853,
          -1.833777418781113,
          0.12520778107159888,
          0.3170259452776536,
          -1.00956309234882,
          -0.3833966691606066,
          -0.37450811797226163,
          -0.05198633333678256,
          0.36472898788925007,
          1.7288167042934248,
          0.6090627068408083,
          -1.6268917312729543,
          -0.5958803396162193,
          0.22256691468192602,
          0.8064727120322517,
          1.9223841168509883,
          -0.921464297663518,
          1.3899181517467207,
          -1.7402808686813631,
          1.0427901020562544,
          -0.8672061261966549,
          -0.488206548771983,
          -1.7336935096327533,
          3.244925622032199,
          1.841750968380168,
          -0.49119101252950964,
          1.1853448809662257,
          0.6675123408061048,
          -1.437627889538169,
          -0.7450636517900513,
          -0.30151860773499123,
          -0.8671427788874422,
          1.1063875043347107,
          -0.26698316758204504,
          -1.649870588436951,
          -0.13895244826595793,
          0.031051274815732555,
          -0.7832155624085221,
          0.16178669856927996,
          -0.9382965322194335,
          0.4466791772128349,
          -0.15578635619915948,
          -1.5673289932174421,
          0.4919549985458554,
          -0.21504541416170153,
          0.1413190656527486,
          -0.9143680016986964,
          -0.7784995008704212,
          0.4779649038295718,
          1.5065125239154848,
          1.5389539286202367,
          1.3146020929586084,
          0.3810124335196379,
          1.4985550576693776,
          0.03859284362811156,
          0.4570321732592035,
          1.6657492904889124,
          1.770579715011796,
          -0.11161987472902953,
          1.4511060582998303,
          -0.24820849298660438,
          1.904973301524313,
          1.1692224023273332,
          -0.3491620787132832,
          -0.7141219970453385,
          -0.1623263949531894,
          0.14944754055839804,
          0.25019116466667546,
          0.19682162553617305,
          0.6692520415060931,
          -0.6958447951243778,
          0.08433454765442423,
          -0.5538825782042568,
          1.7467725048965241,
          -0.5095812259955649,
          -0.42512436009640775,
          0.4840214791946006,
          -1.6007136863955105,
          1.0499990825603565,
          0.6295142509558708,
          -0.442226614037453,
          -0.4550165591316354,
          0.6131877363513857,
          1.1247741199130217,
          -0.8279482111052545,
          1.0488516631647589,
          -1.1837813510152209,
          0.5477732226005055,
          0.4294375428232401,
          -0.03689138853667535,
          0.8878779293696469,
          -0.5501028512886033,
          -1.216210964468219
         ]
        }
       ],
       "layout": {
        "barmode": "overlay",
        "legend": {
         "bgcolor": "#F5F6F9",
         "font": {
          "color": "#4D5663"
         }
        },
        "paper_bgcolor": "#F5F6F9",
        "plot_bgcolor": "#F5F6F9",
        "template": {
         "data": {
          "bar": [
           {
            "error_x": {
             "color": "#2a3f5f"
            },
            "error_y": {
             "color": "#2a3f5f"
            },
            "marker": {
             "line": {
              "color": "#E5ECF6",
              "width": 0.5
             },
             "pattern": {
              "fillmode": "overlay",
              "size": 10,
              "solidity": 0.2
             }
            },
            "type": "bar"
           }
          ],
          "barpolar": [
           {
            "marker": {
             "line": {
              "color": "#E5ECF6",
              "width": 0.5
             },
             "pattern": {
              "fillmode": "overlay",
              "size": 10,
              "solidity": 0.2
             }
            },
            "type": "barpolar"
           }
          ],
          "carpet": [
           {
            "aaxis": {
             "endlinecolor": "#2a3f5f",
             "gridcolor": "white",
             "linecolor": "white",
             "minorgridcolor": "white",
             "startlinecolor": "#2a3f5f"
            },
            "baxis": {
             "endlinecolor": "#2a3f5f",
             "gridcolor": "white",
             "linecolor": "white",
             "minorgridcolor": "white",
             "startlinecolor": "#2a3f5f"
            },
            "type": "carpet"
           }
          ],
          "choropleth": [
           {
            "colorbar": {
             "outlinewidth": 0,
             "ticks": ""
            },
            "type": "choropleth"
           }
          ],
          "contour": [
           {
            "colorbar": {
             "outlinewidth": 0,
             "ticks": ""
            },
            "colorscale": [
             [
              0,
              "#0d0887"
             ],
             [
              0.1111111111111111,
              "#46039f"
             ],
             [
              0.2222222222222222,
              "#7201a8"
             ],
             [
              0.3333333333333333,
              "#9c179e"
             ],
             [
              0.4444444444444444,
              "#bd3786"
             ],
             [
              0.5555555555555556,
              "#d8576b"
             ],
             [
              0.6666666666666666,
              "#ed7953"
             ],
             [
              0.7777777777777778,
              "#fb9f3a"
             ],
             [
              0.8888888888888888,
              "#fdca26"
             ],
             [
              1,
              "#f0f921"
             ]
            ],
            "type": "contour"
           }
          ],
          "contourcarpet": [
           {
            "colorbar": {
             "outlinewidth": 0,
             "ticks": ""
            },
            "type": "contourcarpet"
           }
          ],
          "heatmap": [
           {
            "colorbar": {
             "outlinewidth": 0,
             "ticks": ""
            },
            "colorscale": [
             [
              0,
              "#0d0887"
             ],
             [
              0.1111111111111111,
              "#46039f"
             ],
             [
              0.2222222222222222,
              "#7201a8"
             ],
             [
              0.3333333333333333,
              "#9c179e"
             ],
             [
              0.4444444444444444,
              "#bd3786"
             ],
             [
              0.5555555555555556,
              "#d8576b"
             ],
             [
              0.6666666666666666,
              "#ed7953"
             ],
             [
              0.7777777777777778,
              "#fb9f3a"
             ],
             [
              0.8888888888888888,
              "#fdca26"
             ],
             [
              1,
              "#f0f921"
             ]
            ],
            "type": "heatmap"
           }
          ],
          "heatmapgl": [
           {
            "colorbar": {
             "outlinewidth": 0,
             "ticks": ""
            },
            "colorscale": [
             [
              0,
              "#0d0887"
             ],
             [
              0.1111111111111111,
              "#46039f"
             ],
             [
              0.2222222222222222,
              "#7201a8"
             ],
             [
              0.3333333333333333,
              "#9c179e"
             ],
             [
              0.4444444444444444,
              "#bd3786"
             ],
             [
              0.5555555555555556,
              "#d8576b"
             ],
             [
              0.6666666666666666,
              "#ed7953"
             ],
             [
              0.7777777777777778,
              "#fb9f3a"
             ],
             [
              0.8888888888888888,
              "#fdca26"
             ],
             [
              1,
              "#f0f921"
             ]
            ],
            "type": "heatmapgl"
           }
          ],
          "histogram": [
           {
            "marker": {
             "pattern": {
              "fillmode": "overlay",
              "size": 10,
              "solidity": 0.2
             }
            },
            "type": "histogram"
           }
          ],
          "histogram2d": [
           {
            "colorbar": {
             "outlinewidth": 0,
             "ticks": ""
            },
            "colorscale": [
             [
              0,
              "#0d0887"
             ],
             [
              0.1111111111111111,
              "#46039f"
             ],
             [
              0.2222222222222222,
              "#7201a8"
             ],
             [
              0.3333333333333333,
              "#9c179e"
             ],
             [
              0.4444444444444444,
              "#bd3786"
             ],
             [
              0.5555555555555556,
              "#d8576b"
             ],
             [
              0.6666666666666666,
              "#ed7953"
             ],
             [
              0.7777777777777778,
              "#fb9f3a"
             ],
             [
              0.8888888888888888,
              "#fdca26"
             ],
             [
              1,
              "#f0f921"
             ]
            ],
            "type": "histogram2d"
           }
          ],
          "histogram2dcontour": [
           {
            "colorbar": {
             "outlinewidth": 0,
             "ticks": ""
            },
            "colorscale": [
             [
              0,
              "#0d0887"
             ],
             [
              0.1111111111111111,
              "#46039f"
             ],
             [
              0.2222222222222222,
              "#7201a8"
             ],
             [
              0.3333333333333333,
              "#9c179e"
             ],
             [
              0.4444444444444444,
              "#bd3786"
             ],
             [
              0.5555555555555556,
              "#d8576b"
             ],
             [
              0.6666666666666666,
              "#ed7953"
             ],
             [
              0.7777777777777778,
              "#fb9f3a"
             ],
             [
              0.8888888888888888,
              "#fdca26"
             ],
             [
              1,
              "#f0f921"
             ]
            ],
            "type": "histogram2dcontour"
           }
          ],
          "mesh3d": [
           {
            "colorbar": {
             "outlinewidth": 0,
             "ticks": ""
            },
            "type": "mesh3d"
           }
          ],
          "parcoords": [
           {
            "line": {
             "colorbar": {
              "outlinewidth": 0,
              "ticks": ""
             }
            },
            "type": "parcoords"
           }
          ],
          "pie": [
           {
            "automargin": true,
            "type": "pie"
           }
          ],
          "scatter": [
           {
            "fillpattern": {
             "fillmode": "overlay",
             "size": 10,
             "solidity": 0.2
            },
            "type": "scatter"
           }
          ],
          "scatter3d": [
           {
            "line": {
             "colorbar": {
              "outlinewidth": 0,
              "ticks": ""
             }
            },
            "marker": {
             "colorbar": {
              "outlinewidth": 0,
              "ticks": ""
             }
            },
            "type": "scatter3d"
           }
          ],
          "scattercarpet": [
           {
            "marker": {
             "colorbar": {
              "outlinewidth": 0,
              "ticks": ""
             }
            },
            "type": "scattercarpet"
           }
          ],
          "scattergeo": [
           {
            "marker": {
             "colorbar": {
              "outlinewidth": 0,
              "ticks": ""
             }
            },
            "type": "scattergeo"
           }
          ],
          "scattergl": [
           {
            "marker": {
             "colorbar": {
              "outlinewidth": 0,
              "ticks": ""
             }
            },
            "type": "scattergl"
           }
          ],
          "scattermapbox": [
           {
            "marker": {
             "colorbar": {
              "outlinewidth": 0,
              "ticks": ""
             }
            },
            "type": "scattermapbox"
           }
          ],
          "scatterpolar": [
           {
            "marker": {
             "colorbar": {
              "outlinewidth": 0,
              "ticks": ""
             }
            },
            "type": "scatterpolar"
           }
          ],
          "scatterpolargl": [
           {
            "marker": {
             "colorbar": {
              "outlinewidth": 0,
              "ticks": ""
             }
            },
            "type": "scatterpolargl"
           }
          ],
          "scatterternary": [
           {
            "marker": {
             "colorbar": {
              "outlinewidth": 0,
              "ticks": ""
             }
            },
            "type": "scatterternary"
           }
          ],
          "surface": [
           {
            "colorbar": {
             "outlinewidth": 0,
             "ticks": ""
            },
            "colorscale": [
             [
              0,
              "#0d0887"
             ],
             [
              0.1111111111111111,
              "#46039f"
             ],
             [
              0.2222222222222222,
              "#7201a8"
             ],
             [
              0.3333333333333333,
              "#9c179e"
             ],
             [
              0.4444444444444444,
              "#bd3786"
             ],
             [
              0.5555555555555556,
              "#d8576b"
             ],
             [
              0.6666666666666666,
              "#ed7953"
             ],
             [
              0.7777777777777778,
              "#fb9f3a"
             ],
             [
              0.8888888888888888,
              "#fdca26"
             ],
             [
              1,
              "#f0f921"
             ]
            ],
            "type": "surface"
           }
          ],
          "table": [
           {
            "cells": {
             "fill": {
              "color": "#EBF0F8"
             },
             "line": {
              "color": "white"
             }
            },
            "header": {
             "fill": {
              "color": "#C8D4E3"
             },
             "line": {
              "color": "white"
             }
            },
            "type": "table"
           }
          ]
         },
         "layout": {
          "annotationdefaults": {
           "arrowcolor": "#2a3f5f",
           "arrowhead": 0,
           "arrowwidth": 1
          },
          "autotypenumbers": "strict",
          "coloraxis": {
           "colorbar": {
            "outlinewidth": 0,
            "ticks": ""
           }
          },
          "colorscale": {
           "diverging": [
            [
             0,
             "#8e0152"
            ],
            [
             0.1,
             "#c51b7d"
            ],
            [
             0.2,
             "#de77ae"
            ],
            [
             0.3,
             "#f1b6da"
            ],
            [
             0.4,
             "#fde0ef"
            ],
            [
             0.5,
             "#f7f7f7"
            ],
            [
             0.6,
             "#e6f5d0"
            ],
            [
             0.7,
             "#b8e186"
            ],
            [
             0.8,
             "#7fbc41"
            ],
            [
             0.9,
             "#4d9221"
            ],
            [
             1,
             "#276419"
            ]
           ],
           "sequential": [
            [
             0,
             "#0d0887"
            ],
            [
             0.1111111111111111,
             "#46039f"
            ],
            [
             0.2222222222222222,
             "#7201a8"
            ],
            [
             0.3333333333333333,
             "#9c179e"
            ],
            [
             0.4444444444444444,
             "#bd3786"
            ],
            [
             0.5555555555555556,
             "#d8576b"
            ],
            [
             0.6666666666666666,
             "#ed7953"
            ],
            [
             0.7777777777777778,
             "#fb9f3a"
            ],
            [
             0.8888888888888888,
             "#fdca26"
            ],
            [
             1,
             "#f0f921"
            ]
           ],
           "sequentialminus": [
            [
             0,
             "#0d0887"
            ],
            [
             0.1111111111111111,
             "#46039f"
            ],
            [
             0.2222222222222222,
             "#7201a8"
            ],
            [
             0.3333333333333333,
             "#9c179e"
            ],
            [
             0.4444444444444444,
             "#bd3786"
            ],
            [
             0.5555555555555556,
             "#d8576b"
            ],
            [
             0.6666666666666666,
             "#ed7953"
            ],
            [
             0.7777777777777778,
             "#fb9f3a"
            ],
            [
             0.8888888888888888,
             "#fdca26"
            ],
            [
             1,
             "#f0f921"
            ]
           ]
          },
          "colorway": [
           "#636efa",
           "#EF553B",
           "#00cc96",
           "#ab63fa",
           "#FFA15A",
           "#19d3f3",
           "#FF6692",
           "#B6E880",
           "#FF97FF",
           "#FECB52"
          ],
          "font": {
           "color": "#2a3f5f"
          },
          "geo": {
           "bgcolor": "white",
           "lakecolor": "white",
           "landcolor": "#E5ECF6",
           "showlakes": true,
           "showland": true,
           "subunitcolor": "white"
          },
          "hoverlabel": {
           "align": "left"
          },
          "hovermode": "closest",
          "mapbox": {
           "style": "light"
          },
          "paper_bgcolor": "white",
          "plot_bgcolor": "#E5ECF6",
          "polar": {
           "angularaxis": {
            "gridcolor": "white",
            "linecolor": "white",
            "ticks": ""
           },
           "bgcolor": "#E5ECF6",
           "radialaxis": {
            "gridcolor": "white",
            "linecolor": "white",
            "ticks": ""
           }
          },
          "scene": {
           "xaxis": {
            "backgroundcolor": "#E5ECF6",
            "gridcolor": "white",
            "gridwidth": 2,
            "linecolor": "white",
            "showbackground": true,
            "ticks": "",
            "zerolinecolor": "white"
           },
           "yaxis": {
            "backgroundcolor": "#E5ECF6",
            "gridcolor": "white",
            "gridwidth": 2,
            "linecolor": "white",
            "showbackground": true,
            "ticks": "",
            "zerolinecolor": "white"
           },
           "zaxis": {
            "backgroundcolor": "#E5ECF6",
            "gridcolor": "white",
            "gridwidth": 2,
            "linecolor": "white",
            "showbackground": true,
            "ticks": "",
            "zerolinecolor": "white"
           }
          },
          "shapedefaults": {
           "line": {
            "color": "#2a3f5f"
           }
          },
          "ternary": {
           "aaxis": {
            "gridcolor": "white",
            "linecolor": "white",
            "ticks": ""
           },
           "baxis": {
            "gridcolor": "white",
            "linecolor": "white",
            "ticks": ""
           },
           "bgcolor": "#E5ECF6",
           "caxis": {
            "gridcolor": "white",
            "linecolor": "white",
            "ticks": ""
           }
          },
          "title": {
           "x": 0.05
          },
          "xaxis": {
           "automargin": true,
           "gridcolor": "white",
           "linecolor": "white",
           "ticks": "",
           "title": {
            "standoff": 15
           },
           "zerolinecolor": "white",
           "zerolinewidth": 2
          },
          "yaxis": {
           "automargin": true,
           "gridcolor": "white",
           "linecolor": "white",
           "ticks": "",
           "title": {
            "standoff": 15
           },
           "zerolinecolor": "white",
           "zerolinewidth": 2
          }
         }
        },
        "title": {
         "font": {
          "color": "#4D5663"
         }
        },
        "xaxis": {
         "gridcolor": "#E1E5ED",
         "showgrid": true,
         "tickfont": {
          "color": "#4D5663"
         },
         "title": {
          "font": {
           "color": "#4D5663"
          },
          "text": ""
         },
         "zerolinecolor": "#E1E5ED"
        },
        "yaxis": {
         "gridcolor": "#E1E5ED",
         "showgrid": true,
         "tickfont": {
          "color": "#4D5663"
         },
         "title": {
          "font": {
           "color": "#4D5663"
          },
          "text": ""
         },
         "zerolinecolor": "#E1E5ED"
        }
       }
      },
      "text/html": [
       "<div>                            <div id=\"50a33171-4657-4205-9ecf-6c089c3a4158\" class=\"plotly-graph-div\" style=\"height:525px; width:100%;\"></div>            <script type=\"text/javascript\">                require([\"plotly\"], function(Plotly) {                    window.PLOTLYENV=window.PLOTLYENV || {};\n",
       "                    window.PLOTLYENV.BASE_URL='https://plot.ly';                                    if (document.getElementById(\"50a33171-4657-4205-9ecf-6c089c3a4158\")) {                    Plotly.newPlot(                        \"50a33171-4657-4205-9ecf-6c089c3a4158\",                        [{\"histfunc\":\"count\",\"histnorm\":\"\",\"marker\":{\"color\":\"rgba(255, 153, 51, 1.0)\",\"line\":{\"color\":\"#4D5663\",\"width\":1.3}},\"name\":\"A\",\"nbinsx\":25,\"opacity\":0.8,\"orientation\":\"v\",\"x\":[0.10395791322237946,1.0907423101569562,-1.8023651034495587,0.1452796961840601,-0.8047590153347951,-1.2363607083110424,-1.533073210057116,0.8450512162615853,-1.833777418781113,0.12520778107159888,0.3170259452776536,-1.00956309234882,-0.3833966691606066,-0.37450811797226163,-0.05198633333678256,0.36472898788925007,1.7288167042934248,0.6090627068408083,-1.6268917312729543,-0.5958803396162193,0.22256691468192602,0.8064727120322517,1.9223841168509883,-0.921464297663518,1.3899181517467207,-1.7402808686813631,1.0427901020562544,-0.8672061261966549,-0.488206548771983,-1.7336935096327533,3.244925622032199,1.841750968380168,-0.49119101252950964,1.1853448809662257,0.6675123408061048,-1.437627889538169,-0.7450636517900513,-0.30151860773499123,-0.8671427788874422,1.1063875043347107,-0.26698316758204504,-1.649870588436951,-0.13895244826595793,0.031051274815732555,-0.7832155624085221,0.16178669856927996,-0.9382965322194335,0.4466791772128349,-0.15578635619915948,-1.5673289932174421,0.4919549985458554,-0.21504541416170153,0.1413190656527486,-0.9143680016986964,-0.7784995008704212,0.4779649038295718,1.5065125239154848,1.5389539286202367,1.3146020929586084,0.3810124335196379,1.4985550576693776,0.03859284362811156,0.4570321732592035,1.6657492904889124,1.770579715011796,-0.11161987472902953,1.4511060582998303,-0.24820849298660438,1.904973301524313,1.1692224023273332,-0.3491620787132832,-0.7141219970453385,-0.1623263949531894,0.14944754055839804,0.25019116466667546,0.19682162553617305,0.6692520415060931,-0.6958447951243778,0.08433454765442423,-0.5538825782042568,1.7467725048965241,-0.5095812259955649,-0.42512436009640775,0.4840214791946006,-1.6007136863955105,1.0499990825603565,0.6295142509558708,-0.442226614037453,-0.4550165591316354,0.6131877363513857,1.1247741199130217,-0.8279482111052545,1.0488516631647589,-1.1837813510152209,0.5477732226005055,0.4294375428232401,-0.03689138853667535,0.8878779293696469,-0.5501028512886033,-1.216210964468219],\"type\":\"histogram\"}],                        {\"barmode\":\"overlay\",\"legend\":{\"bgcolor\":\"#F5F6F9\",\"font\":{\"color\":\"#4D5663\"}},\"paper_bgcolor\":\"#F5F6F9\",\"plot_bgcolor\":\"#F5F6F9\",\"template\":{\"data\":{\"barpolar\":[{\"marker\":{\"line\":{\"color\":\"#E5ECF6\",\"width\":0.5},\"pattern\":{\"fillmode\":\"overlay\",\"size\":10,\"solidity\":0.2}},\"type\":\"barpolar\"}],\"bar\":[{\"error_x\":{\"color\":\"#2a3f5f\"},\"error_y\":{\"color\":\"#2a3f5f\"},\"marker\":{\"line\":{\"color\":\"#E5ECF6\",\"width\":0.5},\"pattern\":{\"fillmode\":\"overlay\",\"size\":10,\"solidity\":0.2}},\"type\":\"bar\"}],\"carpet\":[{\"aaxis\":{\"endlinecolor\":\"#2a3f5f\",\"gridcolor\":\"white\",\"linecolor\":\"white\",\"minorgridcolor\":\"white\",\"startlinecolor\":\"#2a3f5f\"},\"baxis\":{\"endlinecolor\":\"#2a3f5f\",\"gridcolor\":\"white\",\"linecolor\":\"white\",\"minorgridcolor\":\"white\",\"startlinecolor\":\"#2a3f5f\"},\"type\":\"carpet\"}],\"choropleth\":[{\"colorbar\":{\"outlinewidth\":0,\"ticks\":\"\"},\"type\":\"choropleth\"}],\"contourcarpet\":[{\"colorbar\":{\"outlinewidth\":0,\"ticks\":\"\"},\"type\":\"contourcarpet\"}],\"contour\":[{\"colorbar\":{\"outlinewidth\":0,\"ticks\":\"\"},\"colorscale\":[[0.0,\"#0d0887\"],[0.1111111111111111,\"#46039f\"],[0.2222222222222222,\"#7201a8\"],[0.3333333333333333,\"#9c179e\"],[0.4444444444444444,\"#bd3786\"],[0.5555555555555556,\"#d8576b\"],[0.6666666666666666,\"#ed7953\"],[0.7777777777777778,\"#fb9f3a\"],[0.8888888888888888,\"#fdca26\"],[1.0,\"#f0f921\"]],\"type\":\"contour\"}],\"heatmapgl\":[{\"colorbar\":{\"outlinewidth\":0,\"ticks\":\"\"},\"colorscale\":[[0.0,\"#0d0887\"],[0.1111111111111111,\"#46039f\"],[0.2222222222222222,\"#7201a8\"],[0.3333333333333333,\"#9c179e\"],[0.4444444444444444,\"#bd3786\"],[0.5555555555555556,\"#d8576b\"],[0.6666666666666666,\"#ed7953\"],[0.7777777777777778,\"#fb9f3a\"],[0.8888888888888888,\"#fdca26\"],[1.0,\"#f0f921\"]],\"type\":\"heatmapgl\"}],\"heatmap\":[{\"colorbar\":{\"outlinewidth\":0,\"ticks\":\"\"},\"colorscale\":[[0.0,\"#0d0887\"],[0.1111111111111111,\"#46039f\"],[0.2222222222222222,\"#7201a8\"],[0.3333333333333333,\"#9c179e\"],[0.4444444444444444,\"#bd3786\"],[0.5555555555555556,\"#d8576b\"],[0.6666666666666666,\"#ed7953\"],[0.7777777777777778,\"#fb9f3a\"],[0.8888888888888888,\"#fdca26\"],[1.0,\"#f0f921\"]],\"type\":\"heatmap\"}],\"histogram2dcontour\":[{\"colorbar\":{\"outlinewidth\":0,\"ticks\":\"\"},\"colorscale\":[[0.0,\"#0d0887\"],[0.1111111111111111,\"#46039f\"],[0.2222222222222222,\"#7201a8\"],[0.3333333333333333,\"#9c179e\"],[0.4444444444444444,\"#bd3786\"],[0.5555555555555556,\"#d8576b\"],[0.6666666666666666,\"#ed7953\"],[0.7777777777777778,\"#fb9f3a\"],[0.8888888888888888,\"#fdca26\"],[1.0,\"#f0f921\"]],\"type\":\"histogram2dcontour\"}],\"histogram2d\":[{\"colorbar\":{\"outlinewidth\":0,\"ticks\":\"\"},\"colorscale\":[[0.0,\"#0d0887\"],[0.1111111111111111,\"#46039f\"],[0.2222222222222222,\"#7201a8\"],[0.3333333333333333,\"#9c179e\"],[0.4444444444444444,\"#bd3786\"],[0.5555555555555556,\"#d8576b\"],[0.6666666666666666,\"#ed7953\"],[0.7777777777777778,\"#fb9f3a\"],[0.8888888888888888,\"#fdca26\"],[1.0,\"#f0f921\"]],\"type\":\"histogram2d\"}],\"histogram\":[{\"marker\":{\"pattern\":{\"fillmode\":\"overlay\",\"size\":10,\"solidity\":0.2}},\"type\":\"histogram\"}],\"mesh3d\":[{\"colorbar\":{\"outlinewidth\":0,\"ticks\":\"\"},\"type\":\"mesh3d\"}],\"parcoords\":[{\"line\":{\"colorbar\":{\"outlinewidth\":0,\"ticks\":\"\"}},\"type\":\"parcoords\"}],\"pie\":[{\"automargin\":true,\"type\":\"pie\"}],\"scatter3d\":[{\"line\":{\"colorbar\":{\"outlinewidth\":0,\"ticks\":\"\"}},\"marker\":{\"colorbar\":{\"outlinewidth\":0,\"ticks\":\"\"}},\"type\":\"scatter3d\"}],\"scattercarpet\":[{\"marker\":{\"colorbar\":{\"outlinewidth\":0,\"ticks\":\"\"}},\"type\":\"scattercarpet\"}],\"scattergeo\":[{\"marker\":{\"colorbar\":{\"outlinewidth\":0,\"ticks\":\"\"}},\"type\":\"scattergeo\"}],\"scattergl\":[{\"marker\":{\"colorbar\":{\"outlinewidth\":0,\"ticks\":\"\"}},\"type\":\"scattergl\"}],\"scattermapbox\":[{\"marker\":{\"colorbar\":{\"outlinewidth\":0,\"ticks\":\"\"}},\"type\":\"scattermapbox\"}],\"scatterpolargl\":[{\"marker\":{\"colorbar\":{\"outlinewidth\":0,\"ticks\":\"\"}},\"type\":\"scatterpolargl\"}],\"scatterpolar\":[{\"marker\":{\"colorbar\":{\"outlinewidth\":0,\"ticks\":\"\"}},\"type\":\"scatterpolar\"}],\"scatter\":[{\"fillpattern\":{\"fillmode\":\"overlay\",\"size\":10,\"solidity\":0.2},\"type\":\"scatter\"}],\"scatterternary\":[{\"marker\":{\"colorbar\":{\"outlinewidth\":0,\"ticks\":\"\"}},\"type\":\"scatterternary\"}],\"surface\":[{\"colorbar\":{\"outlinewidth\":0,\"ticks\":\"\"},\"colorscale\":[[0.0,\"#0d0887\"],[0.1111111111111111,\"#46039f\"],[0.2222222222222222,\"#7201a8\"],[0.3333333333333333,\"#9c179e\"],[0.4444444444444444,\"#bd3786\"],[0.5555555555555556,\"#d8576b\"],[0.6666666666666666,\"#ed7953\"],[0.7777777777777778,\"#fb9f3a\"],[0.8888888888888888,\"#fdca26\"],[1.0,\"#f0f921\"]],\"type\":\"surface\"}],\"table\":[{\"cells\":{\"fill\":{\"color\":\"#EBF0F8\"},\"line\":{\"color\":\"white\"}},\"header\":{\"fill\":{\"color\":\"#C8D4E3\"},\"line\":{\"color\":\"white\"}},\"type\":\"table\"}]},\"layout\":{\"annotationdefaults\":{\"arrowcolor\":\"#2a3f5f\",\"arrowhead\":0,\"arrowwidth\":1},\"autotypenumbers\":\"strict\",\"coloraxis\":{\"colorbar\":{\"outlinewidth\":0,\"ticks\":\"\"}},\"colorscale\":{\"diverging\":[[0,\"#8e0152\"],[0.1,\"#c51b7d\"],[0.2,\"#de77ae\"],[0.3,\"#f1b6da\"],[0.4,\"#fde0ef\"],[0.5,\"#f7f7f7\"],[0.6,\"#e6f5d0\"],[0.7,\"#b8e186\"],[0.8,\"#7fbc41\"],[0.9,\"#4d9221\"],[1,\"#276419\"]],\"sequential\":[[0.0,\"#0d0887\"],[0.1111111111111111,\"#46039f\"],[0.2222222222222222,\"#7201a8\"],[0.3333333333333333,\"#9c179e\"],[0.4444444444444444,\"#bd3786\"],[0.5555555555555556,\"#d8576b\"],[0.6666666666666666,\"#ed7953\"],[0.7777777777777778,\"#fb9f3a\"],[0.8888888888888888,\"#fdca26\"],[1.0,\"#f0f921\"]],\"sequentialminus\":[[0.0,\"#0d0887\"],[0.1111111111111111,\"#46039f\"],[0.2222222222222222,\"#7201a8\"],[0.3333333333333333,\"#9c179e\"],[0.4444444444444444,\"#bd3786\"],[0.5555555555555556,\"#d8576b\"],[0.6666666666666666,\"#ed7953\"],[0.7777777777777778,\"#fb9f3a\"],[0.8888888888888888,\"#fdca26\"],[1.0,\"#f0f921\"]]},\"colorway\":[\"#636efa\",\"#EF553B\",\"#00cc96\",\"#ab63fa\",\"#FFA15A\",\"#19d3f3\",\"#FF6692\",\"#B6E880\",\"#FF97FF\",\"#FECB52\"],\"font\":{\"color\":\"#2a3f5f\"},\"geo\":{\"bgcolor\":\"white\",\"lakecolor\":\"white\",\"landcolor\":\"#E5ECF6\",\"showlakes\":true,\"showland\":true,\"subunitcolor\":\"white\"},\"hoverlabel\":{\"align\":\"left\"},\"hovermode\":\"closest\",\"mapbox\":{\"style\":\"light\"},\"paper_bgcolor\":\"white\",\"plot_bgcolor\":\"#E5ECF6\",\"polar\":{\"angularaxis\":{\"gridcolor\":\"white\",\"linecolor\":\"white\",\"ticks\":\"\"},\"bgcolor\":\"#E5ECF6\",\"radialaxis\":{\"gridcolor\":\"white\",\"linecolor\":\"white\",\"ticks\":\"\"}},\"scene\":{\"xaxis\":{\"backgroundcolor\":\"#E5ECF6\",\"gridcolor\":\"white\",\"gridwidth\":2,\"linecolor\":\"white\",\"showbackground\":true,\"ticks\":\"\",\"zerolinecolor\":\"white\"},\"yaxis\":{\"backgroundcolor\":\"#E5ECF6\",\"gridcolor\":\"white\",\"gridwidth\":2,\"linecolor\":\"white\",\"showbackground\":true,\"ticks\":\"\",\"zerolinecolor\":\"white\"},\"zaxis\":{\"backgroundcolor\":\"#E5ECF6\",\"gridcolor\":\"white\",\"gridwidth\":2,\"linecolor\":\"white\",\"showbackground\":true,\"ticks\":\"\",\"zerolinecolor\":\"white\"}},\"shapedefaults\":{\"line\":{\"color\":\"#2a3f5f\"}},\"ternary\":{\"aaxis\":{\"gridcolor\":\"white\",\"linecolor\":\"white\",\"ticks\":\"\"},\"baxis\":{\"gridcolor\":\"white\",\"linecolor\":\"white\",\"ticks\":\"\"},\"bgcolor\":\"#E5ECF6\",\"caxis\":{\"gridcolor\":\"white\",\"linecolor\":\"white\",\"ticks\":\"\"}},\"title\":{\"x\":0.05},\"xaxis\":{\"automargin\":true,\"gridcolor\":\"white\",\"linecolor\":\"white\",\"ticks\":\"\",\"title\":{\"standoff\":15},\"zerolinecolor\":\"white\",\"zerolinewidth\":2},\"yaxis\":{\"automargin\":true,\"gridcolor\":\"white\",\"linecolor\":\"white\",\"ticks\":\"\",\"title\":{\"standoff\":15},\"zerolinecolor\":\"white\",\"zerolinewidth\":2}}},\"title\":{\"font\":{\"color\":\"#4D5663\"}},\"xaxis\":{\"gridcolor\":\"#E1E5ED\",\"showgrid\":true,\"tickfont\":{\"color\":\"#4D5663\"},\"title\":{\"font\":{\"color\":\"#4D5663\"},\"text\":\"\"},\"zerolinecolor\":\"#E1E5ED\"},\"yaxis\":{\"gridcolor\":\"#E1E5ED\",\"showgrid\":true,\"tickfont\":{\"color\":\"#4D5663\"},\"title\":{\"font\":{\"color\":\"#4D5663\"},\"text\":\"\"},\"zerolinecolor\":\"#E1E5ED\"}},                        {\"showLink\": true, \"linkText\": \"Export to plot.ly\", \"plotlyServerURL\": \"https://plot.ly\", \"responsive\": true}                    ).then(function(){\n",
       "                            \n",
       "var gd = document.getElementById('50a33171-4657-4205-9ecf-6c089c3a4158');\n",
       "var x = new MutationObserver(function (mutations, observer) {{\n",
       "        var display = window.getComputedStyle(gd).display;\n",
       "        if (!display || display === 'none') {{\n",
       "            console.log([gd, 'removed!']);\n",
       "            Plotly.purge(gd);\n",
       "            observer.disconnect();\n",
       "        }}\n",
       "}});\n",
       "\n",
       "// Listen for the removal of the full notebook cells\n",
       "var notebookContainer = gd.closest('#notebook-container');\n",
       "if (notebookContainer) {{\n",
       "    x.observe(notebookContainer, {childList: true});\n",
       "}}\n",
       "\n",
       "// Listen for the clearing of the current output cell\n",
       "var outputEl = gd.closest('.output');\n",
       "if (outputEl) {{\n",
       "    x.observe(outputEl, {childList: true});\n",
       "}}\n",
       "\n",
       "                        })                };                });            </script>        </div>"
      ]
     },
     "metadata": {},
     "output_type": "display_data"
    }
   ],
   "source": [
    "df['A'].iplot(kind='hist',bins=25)"
   ]
  },
  {
   "cell_type": "code",
   "execution_count": 22,
   "metadata": {},
   "outputs": [
    {
     "data": {
      "application/vnd.plotly.v1+json": {
       "config": {
        "linkText": "Export to plot.ly",
        "plotlyServerURL": "https://plot.ly",
        "showLink": true
       },
       "data": [
        {
         "marker": {
          "color": [
           "rgb(255, 153, 51)",
           "rgb(55, 128, 191)",
           "rgb(50, 171, 96)",
           "rgb(128, 0, 128)",
           "rgb(219, 64, 82)",
           "rgb(0, 128, 128)",
           "rgb(255, 255, 51)",
           "rgb(128, 128, 0)",
           "rgb(251, 128, 114)",
           "rgb(128, 177, 211)"
          ],
          "line": {
           "width": 1.3
          },
          "size": [
           64,
           48,
           54,
           52,
           75,
           55,
           76,
           81,
           64,
           77,
           46,
           85,
           85,
           68,
           80,
           69,
           73,
           69,
           73,
           33,
           77,
           86,
           45,
           57,
           61,
           85,
           56,
           36,
           53,
           82,
           76,
           45,
           51,
           72,
           74,
           75,
           80,
           78,
           72,
           93,
           61,
           29,
           46,
           55,
           85,
           72,
           12,
           86,
           43,
           72,
           91,
           67,
           64,
           112,
           27,
           63,
           93,
           83,
           43,
           72,
           41,
           84,
           67,
           63,
           56,
           67,
           92,
           77,
           59,
           32,
           74,
           52,
           74,
           81,
           49,
           46,
           88,
           69,
           80,
           68,
           52,
           69,
           90,
           64,
           64,
           41,
           73,
           68,
           48,
           71,
           88,
           39,
           66,
           55,
           46,
           67,
           41,
           64,
           81,
           57
          ],
          "symbol": "circle"
         },
         "mode": "markers",
         "text": "",
         "type": "scatter",
         "x": [
          0.10395791322237946,
          1.0907423101569562,
          -1.8023651034495587,
          0.1452796961840601,
          -0.8047590153347951,
          -1.2363607083110424,
          -1.533073210057116,
          0.8450512162615853,
          -1.833777418781113,
          0.12520778107159888,
          0.3170259452776536,
          -1.00956309234882,
          -0.3833966691606066,
          -0.37450811797226163,
          -0.05198633333678256,
          0.36472898788925007,
          1.7288167042934248,
          0.6090627068408083,
          -1.6268917312729543,
          -0.5958803396162193,
          0.22256691468192602,
          0.8064727120322517,
          1.9223841168509883,
          -0.921464297663518,
          1.3899181517467207,
          -1.7402808686813631,
          1.0427901020562544,
          -0.8672061261966549,
          -0.488206548771983,
          -1.7336935096327533,
          3.244925622032199,
          1.841750968380168,
          -0.49119101252950964,
          1.1853448809662257,
          0.6675123408061048,
          -1.437627889538169,
          -0.7450636517900513,
          -0.30151860773499123,
          -0.8671427788874422,
          1.1063875043347107,
          -0.26698316758204504,
          -1.649870588436951,
          -0.13895244826595793,
          0.031051274815732555,
          -0.7832155624085221,
          0.16178669856927996,
          -0.9382965322194335,
          0.4466791772128349,
          -0.15578635619915948,
          -1.5673289932174421,
          0.4919549985458554,
          -0.21504541416170153,
          0.1413190656527486,
          -0.9143680016986964,
          -0.7784995008704212,
          0.4779649038295718,
          1.5065125239154848,
          1.5389539286202367,
          1.3146020929586084,
          0.3810124335196379,
          1.4985550576693776,
          0.03859284362811156,
          0.4570321732592035,
          1.6657492904889124,
          1.770579715011796,
          -0.11161987472902953,
          1.4511060582998303,
          -0.24820849298660438,
          1.904973301524313,
          1.1692224023273332,
          -0.3491620787132832,
          -0.7141219970453385,
          -0.1623263949531894,
          0.14944754055839804,
          0.25019116466667546,
          0.19682162553617305,
          0.6692520415060931,
          -0.6958447951243778,
          0.08433454765442423,
          -0.5538825782042568,
          1.7467725048965241,
          -0.5095812259955649,
          -0.42512436009640775,
          0.4840214791946006,
          -1.6007136863955105,
          1.0499990825603565,
          0.6295142509558708,
          -0.442226614037453,
          -0.4550165591316354,
          0.6131877363513857,
          1.1247741199130217,
          -0.8279482111052545,
          1.0488516631647589,
          -1.1837813510152209,
          0.5477732226005055,
          0.4294375428232401,
          -0.03689138853667535,
          0.8878779293696469,
          -0.5501028512886033,
          -1.216210964468219
         ],
         "y": [
          -0.4964199052766519,
          -0.16577690724505037,
          -0.06352090321925319,
          0.9195213492176749,
          0.05920945692515286,
          -1.5352387721000331,
          -1.1272581915748292,
          1.5037082437441256,
          0.25525024969292537,
          0.926990078214612,
          1.6091275728246384,
          1.435698623918543,
          0.7929430485448701,
          -1.8078167644107352,
          0.3872864424405,
          -0.5081756149338615,
          0.11157791814884271,
          -0.7470305306600676,
          0.48919705825920645,
          -0.9422629443606921,
          0.39389463746364245,
          0.13279241776625111,
          -0.396173763657729,
          1.1557994071707751,
          0.9826669783349918,
          -0.8763175484331243,
          0.03866612269199482,
          0.9133514387537464,
          1.210067697022933,
          0.9575896405404437,
          0.4446642857554738,
          -1.1836057054060263,
          0.4690710661659546,
          0.0825941321291548,
          -0.057323525876951595,
          -0.4140460470113184,
          -0.21346112501363587,
          -0.09758155608070679,
          1.0961830745473047,
          -3.2527834347876783,
          -1.0559859874065454,
          -1.2451669840676882,
          -2.3763630793887467,
          1.7406596934722733,
          1.1635839279907205,
          1.615733929496423,
          -0.6613818474443387,
          0.6441008999335095,
          0.2108681494964121,
          0.4532517241681963,
          0.39395980607470804,
          -1.3573655220385268,
          0.6556394659492624,
          0.015906823753299704,
          2.147919985281432,
          -0.306172943784595,
          -1.0004312140616298,
          -0.10416640047537958,
          0.5149288073107,
          0.7124745940564056,
          1.3798138145208825,
          0.4349085980837738,
          0.3292157090951729,
          0.626715652218343,
          -1.0654490499559879,
          -0.7326169106971796,
          1.1268040052754518,
          2.015396849191515,
          0.2772174604301982,
          -0.46067756949404814,
          1.5014212003411764,
          -0.03394335951066258,
          -1.2483981703632212,
          0.5858505897588245,
          0.3310923688884323,
          -0.1138787315153205,
          -0.9161409821576249,
          1.544558212804218,
          1.101864233216787,
          -0.6193672340216976,
          0.5111413589667924,
          -0.15609752801350163,
          -2.4429254121204935,
          -0.41236075686521195,
          -0.8921208446971892,
          -0.3415343111101214,
          1.27788943460529,
          -0.19375578696417853,
          0.5261336442900859,
          -1.002668939581087,
          2.2032125799401125,
          -0.17618635766898977,
          0.12628455991716694,
          0.1586375815419656,
          0.6857590793737517,
          0.345486423574641,
          0.41044445264360596,
          0.9932463757588236,
          -0.9153092798258289,
          0.1155976661986857
         ]
        }
       ],
       "layout": {
        "legend": {
         "bgcolor": "#F5F6F9",
         "font": {
          "color": "#4D5663"
         }
        },
        "paper_bgcolor": "#F5F6F9",
        "plot_bgcolor": "#F5F6F9",
        "template": {
         "data": {
          "bar": [
           {
            "error_x": {
             "color": "#2a3f5f"
            },
            "error_y": {
             "color": "#2a3f5f"
            },
            "marker": {
             "line": {
              "color": "#E5ECF6",
              "width": 0.5
             },
             "pattern": {
              "fillmode": "overlay",
              "size": 10,
              "solidity": 0.2
             }
            },
            "type": "bar"
           }
          ],
          "barpolar": [
           {
            "marker": {
             "line": {
              "color": "#E5ECF6",
              "width": 0.5
             },
             "pattern": {
              "fillmode": "overlay",
              "size": 10,
              "solidity": 0.2
             }
            },
            "type": "barpolar"
           }
          ],
          "carpet": [
           {
            "aaxis": {
             "endlinecolor": "#2a3f5f",
             "gridcolor": "white",
             "linecolor": "white",
             "minorgridcolor": "white",
             "startlinecolor": "#2a3f5f"
            },
            "baxis": {
             "endlinecolor": "#2a3f5f",
             "gridcolor": "white",
             "linecolor": "white",
             "minorgridcolor": "white",
             "startlinecolor": "#2a3f5f"
            },
            "type": "carpet"
           }
          ],
          "choropleth": [
           {
            "colorbar": {
             "outlinewidth": 0,
             "ticks": ""
            },
            "type": "choropleth"
           }
          ],
          "contour": [
           {
            "colorbar": {
             "outlinewidth": 0,
             "ticks": ""
            },
            "colorscale": [
             [
              0,
              "#0d0887"
             ],
             [
              0.1111111111111111,
              "#46039f"
             ],
             [
              0.2222222222222222,
              "#7201a8"
             ],
             [
              0.3333333333333333,
              "#9c179e"
             ],
             [
              0.4444444444444444,
              "#bd3786"
             ],
             [
              0.5555555555555556,
              "#d8576b"
             ],
             [
              0.6666666666666666,
              "#ed7953"
             ],
             [
              0.7777777777777778,
              "#fb9f3a"
             ],
             [
              0.8888888888888888,
              "#fdca26"
             ],
             [
              1,
              "#f0f921"
             ]
            ],
            "type": "contour"
           }
          ],
          "contourcarpet": [
           {
            "colorbar": {
             "outlinewidth": 0,
             "ticks": ""
            },
            "type": "contourcarpet"
           }
          ],
          "heatmap": [
           {
            "colorbar": {
             "outlinewidth": 0,
             "ticks": ""
            },
            "colorscale": [
             [
              0,
              "#0d0887"
             ],
             [
              0.1111111111111111,
              "#46039f"
             ],
             [
              0.2222222222222222,
              "#7201a8"
             ],
             [
              0.3333333333333333,
              "#9c179e"
             ],
             [
              0.4444444444444444,
              "#bd3786"
             ],
             [
              0.5555555555555556,
              "#d8576b"
             ],
             [
              0.6666666666666666,
              "#ed7953"
             ],
             [
              0.7777777777777778,
              "#fb9f3a"
             ],
             [
              0.8888888888888888,
              "#fdca26"
             ],
             [
              1,
              "#f0f921"
             ]
            ],
            "type": "heatmap"
           }
          ],
          "heatmapgl": [
           {
            "colorbar": {
             "outlinewidth": 0,
             "ticks": ""
            },
            "colorscale": [
             [
              0,
              "#0d0887"
             ],
             [
              0.1111111111111111,
              "#46039f"
             ],
             [
              0.2222222222222222,
              "#7201a8"
             ],
             [
              0.3333333333333333,
              "#9c179e"
             ],
             [
              0.4444444444444444,
              "#bd3786"
             ],
             [
              0.5555555555555556,
              "#d8576b"
             ],
             [
              0.6666666666666666,
              "#ed7953"
             ],
             [
              0.7777777777777778,
              "#fb9f3a"
             ],
             [
              0.8888888888888888,
              "#fdca26"
             ],
             [
              1,
              "#f0f921"
             ]
            ],
            "type": "heatmapgl"
           }
          ],
          "histogram": [
           {
            "marker": {
             "pattern": {
              "fillmode": "overlay",
              "size": 10,
              "solidity": 0.2
             }
            },
            "type": "histogram"
           }
          ],
          "histogram2d": [
           {
            "colorbar": {
             "outlinewidth": 0,
             "ticks": ""
            },
            "colorscale": [
             [
              0,
              "#0d0887"
             ],
             [
              0.1111111111111111,
              "#46039f"
             ],
             [
              0.2222222222222222,
              "#7201a8"
             ],
             [
              0.3333333333333333,
              "#9c179e"
             ],
             [
              0.4444444444444444,
              "#bd3786"
             ],
             [
              0.5555555555555556,
              "#d8576b"
             ],
             [
              0.6666666666666666,
              "#ed7953"
             ],
             [
              0.7777777777777778,
              "#fb9f3a"
             ],
             [
              0.8888888888888888,
              "#fdca26"
             ],
             [
              1,
              "#f0f921"
             ]
            ],
            "type": "histogram2d"
           }
          ],
          "histogram2dcontour": [
           {
            "colorbar": {
             "outlinewidth": 0,
             "ticks": ""
            },
            "colorscale": [
             [
              0,
              "#0d0887"
             ],
             [
              0.1111111111111111,
              "#46039f"
             ],
             [
              0.2222222222222222,
              "#7201a8"
             ],
             [
              0.3333333333333333,
              "#9c179e"
             ],
             [
              0.4444444444444444,
              "#bd3786"
             ],
             [
              0.5555555555555556,
              "#d8576b"
             ],
             [
              0.6666666666666666,
              "#ed7953"
             ],
             [
              0.7777777777777778,
              "#fb9f3a"
             ],
             [
              0.8888888888888888,
              "#fdca26"
             ],
             [
              1,
              "#f0f921"
             ]
            ],
            "type": "histogram2dcontour"
           }
          ],
          "mesh3d": [
           {
            "colorbar": {
             "outlinewidth": 0,
             "ticks": ""
            },
            "type": "mesh3d"
           }
          ],
          "parcoords": [
           {
            "line": {
             "colorbar": {
              "outlinewidth": 0,
              "ticks": ""
             }
            },
            "type": "parcoords"
           }
          ],
          "pie": [
           {
            "automargin": true,
            "type": "pie"
           }
          ],
          "scatter": [
           {
            "fillpattern": {
             "fillmode": "overlay",
             "size": 10,
             "solidity": 0.2
            },
            "type": "scatter"
           }
          ],
          "scatter3d": [
           {
            "line": {
             "colorbar": {
              "outlinewidth": 0,
              "ticks": ""
             }
            },
            "marker": {
             "colorbar": {
              "outlinewidth": 0,
              "ticks": ""
             }
            },
            "type": "scatter3d"
           }
          ],
          "scattercarpet": [
           {
            "marker": {
             "colorbar": {
              "outlinewidth": 0,
              "ticks": ""
             }
            },
            "type": "scattercarpet"
           }
          ],
          "scattergeo": [
           {
            "marker": {
             "colorbar": {
              "outlinewidth": 0,
              "ticks": ""
             }
            },
            "type": "scattergeo"
           }
          ],
          "scattergl": [
           {
            "marker": {
             "colorbar": {
              "outlinewidth": 0,
              "ticks": ""
             }
            },
            "type": "scattergl"
           }
          ],
          "scattermapbox": [
           {
            "marker": {
             "colorbar": {
              "outlinewidth": 0,
              "ticks": ""
             }
            },
            "type": "scattermapbox"
           }
          ],
          "scatterpolar": [
           {
            "marker": {
             "colorbar": {
              "outlinewidth": 0,
              "ticks": ""
             }
            },
            "type": "scatterpolar"
           }
          ],
          "scatterpolargl": [
           {
            "marker": {
             "colorbar": {
              "outlinewidth": 0,
              "ticks": ""
             }
            },
            "type": "scatterpolargl"
           }
          ],
          "scatterternary": [
           {
            "marker": {
             "colorbar": {
              "outlinewidth": 0,
              "ticks": ""
             }
            },
            "type": "scatterternary"
           }
          ],
          "surface": [
           {
            "colorbar": {
             "outlinewidth": 0,
             "ticks": ""
            },
            "colorscale": [
             [
              0,
              "#0d0887"
             ],
             [
              0.1111111111111111,
              "#46039f"
             ],
             [
              0.2222222222222222,
              "#7201a8"
             ],
             [
              0.3333333333333333,
              "#9c179e"
             ],
             [
              0.4444444444444444,
              "#bd3786"
             ],
             [
              0.5555555555555556,
              "#d8576b"
             ],
             [
              0.6666666666666666,
              "#ed7953"
             ],
             [
              0.7777777777777778,
              "#fb9f3a"
             ],
             [
              0.8888888888888888,
              "#fdca26"
             ],
             [
              1,
              "#f0f921"
             ]
            ],
            "type": "surface"
           }
          ],
          "table": [
           {
            "cells": {
             "fill": {
              "color": "#EBF0F8"
             },
             "line": {
              "color": "white"
             }
            },
            "header": {
             "fill": {
              "color": "#C8D4E3"
             },
             "line": {
              "color": "white"
             }
            },
            "type": "table"
           }
          ]
         },
         "layout": {
          "annotationdefaults": {
           "arrowcolor": "#2a3f5f",
           "arrowhead": 0,
           "arrowwidth": 1
          },
          "autotypenumbers": "strict",
          "coloraxis": {
           "colorbar": {
            "outlinewidth": 0,
            "ticks": ""
           }
          },
          "colorscale": {
           "diverging": [
            [
             0,
             "#8e0152"
            ],
            [
             0.1,
             "#c51b7d"
            ],
            [
             0.2,
             "#de77ae"
            ],
            [
             0.3,
             "#f1b6da"
            ],
            [
             0.4,
             "#fde0ef"
            ],
            [
             0.5,
             "#f7f7f7"
            ],
            [
             0.6,
             "#e6f5d0"
            ],
            [
             0.7,
             "#b8e186"
            ],
            [
             0.8,
             "#7fbc41"
            ],
            [
             0.9,
             "#4d9221"
            ],
            [
             1,
             "#276419"
            ]
           ],
           "sequential": [
            [
             0,
             "#0d0887"
            ],
            [
             0.1111111111111111,
             "#46039f"
            ],
            [
             0.2222222222222222,
             "#7201a8"
            ],
            [
             0.3333333333333333,
             "#9c179e"
            ],
            [
             0.4444444444444444,
             "#bd3786"
            ],
            [
             0.5555555555555556,
             "#d8576b"
            ],
            [
             0.6666666666666666,
             "#ed7953"
            ],
            [
             0.7777777777777778,
             "#fb9f3a"
            ],
            [
             0.8888888888888888,
             "#fdca26"
            ],
            [
             1,
             "#f0f921"
            ]
           ],
           "sequentialminus": [
            [
             0,
             "#0d0887"
            ],
            [
             0.1111111111111111,
             "#46039f"
            ],
            [
             0.2222222222222222,
             "#7201a8"
            ],
            [
             0.3333333333333333,
             "#9c179e"
            ],
            [
             0.4444444444444444,
             "#bd3786"
            ],
            [
             0.5555555555555556,
             "#d8576b"
            ],
            [
             0.6666666666666666,
             "#ed7953"
            ],
            [
             0.7777777777777778,
             "#fb9f3a"
            ],
            [
             0.8888888888888888,
             "#fdca26"
            ],
            [
             1,
             "#f0f921"
            ]
           ]
          },
          "colorway": [
           "#636efa",
           "#EF553B",
           "#00cc96",
           "#ab63fa",
           "#FFA15A",
           "#19d3f3",
           "#FF6692",
           "#B6E880",
           "#FF97FF",
           "#FECB52"
          ],
          "font": {
           "color": "#2a3f5f"
          },
          "geo": {
           "bgcolor": "white",
           "lakecolor": "white",
           "landcolor": "#E5ECF6",
           "showlakes": true,
           "showland": true,
           "subunitcolor": "white"
          },
          "hoverlabel": {
           "align": "left"
          },
          "hovermode": "closest",
          "mapbox": {
           "style": "light"
          },
          "paper_bgcolor": "white",
          "plot_bgcolor": "#E5ECF6",
          "polar": {
           "angularaxis": {
            "gridcolor": "white",
            "linecolor": "white",
            "ticks": ""
           },
           "bgcolor": "#E5ECF6",
           "radialaxis": {
            "gridcolor": "white",
            "linecolor": "white",
            "ticks": ""
           }
          },
          "scene": {
           "xaxis": {
            "backgroundcolor": "#E5ECF6",
            "gridcolor": "white",
            "gridwidth": 2,
            "linecolor": "white",
            "showbackground": true,
            "ticks": "",
            "zerolinecolor": "white"
           },
           "yaxis": {
            "backgroundcolor": "#E5ECF6",
            "gridcolor": "white",
            "gridwidth": 2,
            "linecolor": "white",
            "showbackground": true,
            "ticks": "",
            "zerolinecolor": "white"
           },
           "zaxis": {
            "backgroundcolor": "#E5ECF6",
            "gridcolor": "white",
            "gridwidth": 2,
            "linecolor": "white",
            "showbackground": true,
            "ticks": "",
            "zerolinecolor": "white"
           }
          },
          "shapedefaults": {
           "line": {
            "color": "#2a3f5f"
           }
          },
          "ternary": {
           "aaxis": {
            "gridcolor": "white",
            "linecolor": "white",
            "ticks": ""
           },
           "baxis": {
            "gridcolor": "white",
            "linecolor": "white",
            "ticks": ""
           },
           "bgcolor": "#E5ECF6",
           "caxis": {
            "gridcolor": "white",
            "linecolor": "white",
            "ticks": ""
           }
          },
          "title": {
           "x": 0.05
          },
          "xaxis": {
           "automargin": true,
           "gridcolor": "white",
           "linecolor": "white",
           "ticks": "",
           "title": {
            "standoff": 15
           },
           "zerolinecolor": "white",
           "zerolinewidth": 2
          },
          "yaxis": {
           "automargin": true,
           "gridcolor": "white",
           "linecolor": "white",
           "ticks": "",
           "title": {
            "standoff": 15
           },
           "zerolinecolor": "white",
           "zerolinewidth": 2
          }
         }
        },
        "title": {
         "font": {
          "color": "#4D5663"
         }
        },
        "xaxis": {
         "gridcolor": "#E1E5ED",
         "showgrid": true,
         "tickfont": {
          "color": "#4D5663"
         },
         "title": {
          "font": {
           "color": "#4D5663"
          },
          "text": ""
         },
         "zerolinecolor": "#E1E5ED"
        },
        "yaxis": {
         "gridcolor": "#E1E5ED",
         "showgrid": true,
         "tickfont": {
          "color": "#4D5663"
         },
         "title": {
          "font": {
           "color": "#4D5663"
          },
          "text": ""
         },
         "zerolinecolor": "#E1E5ED"
        }
       }
      },
      "text/html": [
       "<div>                            <div id=\"b0fadeed-3dd9-45cc-9ce0-426d72cec54e\" class=\"plotly-graph-div\" style=\"height:525px; width:100%;\"></div>            <script type=\"text/javascript\">                require([\"plotly\"], function(Plotly) {                    window.PLOTLYENV=window.PLOTLYENV || {};\n",
       "                    window.PLOTLYENV.BASE_URL='https://plot.ly';                                    if (document.getElementById(\"b0fadeed-3dd9-45cc-9ce0-426d72cec54e\")) {                    Plotly.newPlot(                        \"b0fadeed-3dd9-45cc-9ce0-426d72cec54e\",                        [{\"marker\":{\"color\":[\"rgb(255, 153, 51)\",\"rgb(55, 128, 191)\",\"rgb(50, 171, 96)\",\"rgb(128, 0, 128)\",\"rgb(219, 64, 82)\",\"rgb(0, 128, 128)\",\"rgb(255, 255, 51)\",\"rgb(128, 128, 0)\",\"rgb(251, 128, 114)\",\"rgb(128, 177, 211)\"],\"line\":{\"width\":1.3},\"size\":[64,48,54,52,75,55,76,81,64,77,46,85,85,68,80,69,73,69,73,33,77,86,45,57,61,85,56,36,53,82,76,45,51,72,74,75,80,78,72,93,61,29,46,55,85,72,12,86,43,72,91,67,64,112,27,63,93,83,43,72,41,84,67,63,56,67,92,77,59,32,74,52,74,81,49,46,88,69,80,68,52,69,90,64,64,41,73,68,48,71,88,39,66,55,46,67,41,64,81,57],\"symbol\":\"circle\"},\"mode\":\"markers\",\"text\":\"\",\"x\":[0.10395791322237946,1.0907423101569562,-1.8023651034495587,0.1452796961840601,-0.8047590153347951,-1.2363607083110424,-1.533073210057116,0.8450512162615853,-1.833777418781113,0.12520778107159888,0.3170259452776536,-1.00956309234882,-0.3833966691606066,-0.37450811797226163,-0.05198633333678256,0.36472898788925007,1.7288167042934248,0.6090627068408083,-1.6268917312729543,-0.5958803396162193,0.22256691468192602,0.8064727120322517,1.9223841168509883,-0.921464297663518,1.3899181517467207,-1.7402808686813631,1.0427901020562544,-0.8672061261966549,-0.488206548771983,-1.7336935096327533,3.244925622032199,1.841750968380168,-0.49119101252950964,1.1853448809662257,0.6675123408061048,-1.437627889538169,-0.7450636517900513,-0.30151860773499123,-0.8671427788874422,1.1063875043347107,-0.26698316758204504,-1.649870588436951,-0.13895244826595793,0.031051274815732555,-0.7832155624085221,0.16178669856927996,-0.9382965322194335,0.4466791772128349,-0.15578635619915948,-1.5673289932174421,0.4919549985458554,-0.21504541416170153,0.1413190656527486,-0.9143680016986964,-0.7784995008704212,0.4779649038295718,1.5065125239154848,1.5389539286202367,1.3146020929586084,0.3810124335196379,1.4985550576693776,0.03859284362811156,0.4570321732592035,1.6657492904889124,1.770579715011796,-0.11161987472902953,1.4511060582998303,-0.24820849298660438,1.904973301524313,1.1692224023273332,-0.3491620787132832,-0.7141219970453385,-0.1623263949531894,0.14944754055839804,0.25019116466667546,0.19682162553617305,0.6692520415060931,-0.6958447951243778,0.08433454765442423,-0.5538825782042568,1.7467725048965241,-0.5095812259955649,-0.42512436009640775,0.4840214791946006,-1.6007136863955105,1.0499990825603565,0.6295142509558708,-0.442226614037453,-0.4550165591316354,0.6131877363513857,1.1247741199130217,-0.8279482111052545,1.0488516631647589,-1.1837813510152209,0.5477732226005055,0.4294375428232401,-0.03689138853667535,0.8878779293696469,-0.5501028512886033,-1.216210964468219],\"y\":[-0.4964199052766519,-0.16577690724505037,-0.06352090321925319,0.9195213492176749,0.05920945692515286,-1.5352387721000331,-1.1272581915748292,1.5037082437441256,0.25525024969292537,0.926990078214612,1.6091275728246384,1.435698623918543,0.7929430485448701,-1.8078167644107352,0.3872864424405,-0.5081756149338615,0.11157791814884271,-0.7470305306600676,0.48919705825920645,-0.9422629443606921,0.39389463746364245,0.13279241776625111,-0.396173763657729,1.1557994071707751,0.9826669783349918,-0.8763175484331243,0.03866612269199482,0.9133514387537464,1.210067697022933,0.9575896405404437,0.4446642857554738,-1.1836057054060263,0.4690710661659546,0.0825941321291548,-0.057323525876951595,-0.4140460470113184,-0.21346112501363587,-0.09758155608070679,1.0961830745473047,-3.2527834347876783,-1.0559859874065454,-1.2451669840676882,-2.3763630793887467,1.7406596934722733,1.1635839279907205,1.615733929496423,-0.6613818474443387,0.6441008999335095,0.2108681494964121,0.4532517241681963,0.39395980607470804,-1.3573655220385268,0.6556394659492624,0.015906823753299704,2.147919985281432,-0.306172943784595,-1.0004312140616298,-0.10416640047537958,0.5149288073107,0.7124745940564056,1.3798138145208825,0.4349085980837738,0.3292157090951729,0.626715652218343,-1.0654490499559879,-0.7326169106971796,1.1268040052754518,2.015396849191515,0.2772174604301982,-0.46067756949404814,1.5014212003411764,-0.03394335951066258,-1.2483981703632212,0.5858505897588245,0.3310923688884323,-0.1138787315153205,-0.9161409821576249,1.544558212804218,1.101864233216787,-0.6193672340216976,0.5111413589667924,-0.15609752801350163,-2.4429254121204935,-0.41236075686521195,-0.8921208446971892,-0.3415343111101214,1.27788943460529,-0.19375578696417853,0.5261336442900859,-1.002668939581087,2.2032125799401125,-0.17618635766898977,0.12628455991716694,0.1586375815419656,0.6857590793737517,0.345486423574641,0.41044445264360596,0.9932463757588236,-0.9153092798258289,0.1155976661986857],\"type\":\"scatter\"}],                        {\"legend\":{\"bgcolor\":\"#F5F6F9\",\"font\":{\"color\":\"#4D5663\"}},\"paper_bgcolor\":\"#F5F6F9\",\"plot_bgcolor\":\"#F5F6F9\",\"template\":{\"data\":{\"barpolar\":[{\"marker\":{\"line\":{\"color\":\"#E5ECF6\",\"width\":0.5},\"pattern\":{\"fillmode\":\"overlay\",\"size\":10,\"solidity\":0.2}},\"type\":\"barpolar\"}],\"bar\":[{\"error_x\":{\"color\":\"#2a3f5f\"},\"error_y\":{\"color\":\"#2a3f5f\"},\"marker\":{\"line\":{\"color\":\"#E5ECF6\",\"width\":0.5},\"pattern\":{\"fillmode\":\"overlay\",\"size\":10,\"solidity\":0.2}},\"type\":\"bar\"}],\"carpet\":[{\"aaxis\":{\"endlinecolor\":\"#2a3f5f\",\"gridcolor\":\"white\",\"linecolor\":\"white\",\"minorgridcolor\":\"white\",\"startlinecolor\":\"#2a3f5f\"},\"baxis\":{\"endlinecolor\":\"#2a3f5f\",\"gridcolor\":\"white\",\"linecolor\":\"white\",\"minorgridcolor\":\"white\",\"startlinecolor\":\"#2a3f5f\"},\"type\":\"carpet\"}],\"choropleth\":[{\"colorbar\":{\"outlinewidth\":0,\"ticks\":\"\"},\"type\":\"choropleth\"}],\"contourcarpet\":[{\"colorbar\":{\"outlinewidth\":0,\"ticks\":\"\"},\"type\":\"contourcarpet\"}],\"contour\":[{\"colorbar\":{\"outlinewidth\":0,\"ticks\":\"\"},\"colorscale\":[[0.0,\"#0d0887\"],[0.1111111111111111,\"#46039f\"],[0.2222222222222222,\"#7201a8\"],[0.3333333333333333,\"#9c179e\"],[0.4444444444444444,\"#bd3786\"],[0.5555555555555556,\"#d8576b\"],[0.6666666666666666,\"#ed7953\"],[0.7777777777777778,\"#fb9f3a\"],[0.8888888888888888,\"#fdca26\"],[1.0,\"#f0f921\"]],\"type\":\"contour\"}],\"heatmapgl\":[{\"colorbar\":{\"outlinewidth\":0,\"ticks\":\"\"},\"colorscale\":[[0.0,\"#0d0887\"],[0.1111111111111111,\"#46039f\"],[0.2222222222222222,\"#7201a8\"],[0.3333333333333333,\"#9c179e\"],[0.4444444444444444,\"#bd3786\"],[0.5555555555555556,\"#d8576b\"],[0.6666666666666666,\"#ed7953\"],[0.7777777777777778,\"#fb9f3a\"],[0.8888888888888888,\"#fdca26\"],[1.0,\"#f0f921\"]],\"type\":\"heatmapgl\"}],\"heatmap\":[{\"colorbar\":{\"outlinewidth\":0,\"ticks\":\"\"},\"colorscale\":[[0.0,\"#0d0887\"],[0.1111111111111111,\"#46039f\"],[0.2222222222222222,\"#7201a8\"],[0.3333333333333333,\"#9c179e\"],[0.4444444444444444,\"#bd3786\"],[0.5555555555555556,\"#d8576b\"],[0.6666666666666666,\"#ed7953\"],[0.7777777777777778,\"#fb9f3a\"],[0.8888888888888888,\"#fdca26\"],[1.0,\"#f0f921\"]],\"type\":\"heatmap\"}],\"histogram2dcontour\":[{\"colorbar\":{\"outlinewidth\":0,\"ticks\":\"\"},\"colorscale\":[[0.0,\"#0d0887\"],[0.1111111111111111,\"#46039f\"],[0.2222222222222222,\"#7201a8\"],[0.3333333333333333,\"#9c179e\"],[0.4444444444444444,\"#bd3786\"],[0.5555555555555556,\"#d8576b\"],[0.6666666666666666,\"#ed7953\"],[0.7777777777777778,\"#fb9f3a\"],[0.8888888888888888,\"#fdca26\"],[1.0,\"#f0f921\"]],\"type\":\"histogram2dcontour\"}],\"histogram2d\":[{\"colorbar\":{\"outlinewidth\":0,\"ticks\":\"\"},\"colorscale\":[[0.0,\"#0d0887\"],[0.1111111111111111,\"#46039f\"],[0.2222222222222222,\"#7201a8\"],[0.3333333333333333,\"#9c179e\"],[0.4444444444444444,\"#bd3786\"],[0.5555555555555556,\"#d8576b\"],[0.6666666666666666,\"#ed7953\"],[0.7777777777777778,\"#fb9f3a\"],[0.8888888888888888,\"#fdca26\"],[1.0,\"#f0f921\"]],\"type\":\"histogram2d\"}],\"histogram\":[{\"marker\":{\"pattern\":{\"fillmode\":\"overlay\",\"size\":10,\"solidity\":0.2}},\"type\":\"histogram\"}],\"mesh3d\":[{\"colorbar\":{\"outlinewidth\":0,\"ticks\":\"\"},\"type\":\"mesh3d\"}],\"parcoords\":[{\"line\":{\"colorbar\":{\"outlinewidth\":0,\"ticks\":\"\"}},\"type\":\"parcoords\"}],\"pie\":[{\"automargin\":true,\"type\":\"pie\"}],\"scatter3d\":[{\"line\":{\"colorbar\":{\"outlinewidth\":0,\"ticks\":\"\"}},\"marker\":{\"colorbar\":{\"outlinewidth\":0,\"ticks\":\"\"}},\"type\":\"scatter3d\"}],\"scattercarpet\":[{\"marker\":{\"colorbar\":{\"outlinewidth\":0,\"ticks\":\"\"}},\"type\":\"scattercarpet\"}],\"scattergeo\":[{\"marker\":{\"colorbar\":{\"outlinewidth\":0,\"ticks\":\"\"}},\"type\":\"scattergeo\"}],\"scattergl\":[{\"marker\":{\"colorbar\":{\"outlinewidth\":0,\"ticks\":\"\"}},\"type\":\"scattergl\"}],\"scattermapbox\":[{\"marker\":{\"colorbar\":{\"outlinewidth\":0,\"ticks\":\"\"}},\"type\":\"scattermapbox\"}],\"scatterpolargl\":[{\"marker\":{\"colorbar\":{\"outlinewidth\":0,\"ticks\":\"\"}},\"type\":\"scatterpolargl\"}],\"scatterpolar\":[{\"marker\":{\"colorbar\":{\"outlinewidth\":0,\"ticks\":\"\"}},\"type\":\"scatterpolar\"}],\"scatter\":[{\"fillpattern\":{\"fillmode\":\"overlay\",\"size\":10,\"solidity\":0.2},\"type\":\"scatter\"}],\"scatterternary\":[{\"marker\":{\"colorbar\":{\"outlinewidth\":0,\"ticks\":\"\"}},\"type\":\"scatterternary\"}],\"surface\":[{\"colorbar\":{\"outlinewidth\":0,\"ticks\":\"\"},\"colorscale\":[[0.0,\"#0d0887\"],[0.1111111111111111,\"#46039f\"],[0.2222222222222222,\"#7201a8\"],[0.3333333333333333,\"#9c179e\"],[0.4444444444444444,\"#bd3786\"],[0.5555555555555556,\"#d8576b\"],[0.6666666666666666,\"#ed7953\"],[0.7777777777777778,\"#fb9f3a\"],[0.8888888888888888,\"#fdca26\"],[1.0,\"#f0f921\"]],\"type\":\"surface\"}],\"table\":[{\"cells\":{\"fill\":{\"color\":\"#EBF0F8\"},\"line\":{\"color\":\"white\"}},\"header\":{\"fill\":{\"color\":\"#C8D4E3\"},\"line\":{\"color\":\"white\"}},\"type\":\"table\"}]},\"layout\":{\"annotationdefaults\":{\"arrowcolor\":\"#2a3f5f\",\"arrowhead\":0,\"arrowwidth\":1},\"autotypenumbers\":\"strict\",\"coloraxis\":{\"colorbar\":{\"outlinewidth\":0,\"ticks\":\"\"}},\"colorscale\":{\"diverging\":[[0,\"#8e0152\"],[0.1,\"#c51b7d\"],[0.2,\"#de77ae\"],[0.3,\"#f1b6da\"],[0.4,\"#fde0ef\"],[0.5,\"#f7f7f7\"],[0.6,\"#e6f5d0\"],[0.7,\"#b8e186\"],[0.8,\"#7fbc41\"],[0.9,\"#4d9221\"],[1,\"#276419\"]],\"sequential\":[[0.0,\"#0d0887\"],[0.1111111111111111,\"#46039f\"],[0.2222222222222222,\"#7201a8\"],[0.3333333333333333,\"#9c179e\"],[0.4444444444444444,\"#bd3786\"],[0.5555555555555556,\"#d8576b\"],[0.6666666666666666,\"#ed7953\"],[0.7777777777777778,\"#fb9f3a\"],[0.8888888888888888,\"#fdca26\"],[1.0,\"#f0f921\"]],\"sequentialminus\":[[0.0,\"#0d0887\"],[0.1111111111111111,\"#46039f\"],[0.2222222222222222,\"#7201a8\"],[0.3333333333333333,\"#9c179e\"],[0.4444444444444444,\"#bd3786\"],[0.5555555555555556,\"#d8576b\"],[0.6666666666666666,\"#ed7953\"],[0.7777777777777778,\"#fb9f3a\"],[0.8888888888888888,\"#fdca26\"],[1.0,\"#f0f921\"]]},\"colorway\":[\"#636efa\",\"#EF553B\",\"#00cc96\",\"#ab63fa\",\"#FFA15A\",\"#19d3f3\",\"#FF6692\",\"#B6E880\",\"#FF97FF\",\"#FECB52\"],\"font\":{\"color\":\"#2a3f5f\"},\"geo\":{\"bgcolor\":\"white\",\"lakecolor\":\"white\",\"landcolor\":\"#E5ECF6\",\"showlakes\":true,\"showland\":true,\"subunitcolor\":\"white\"},\"hoverlabel\":{\"align\":\"left\"},\"hovermode\":\"closest\",\"mapbox\":{\"style\":\"light\"},\"paper_bgcolor\":\"white\",\"plot_bgcolor\":\"#E5ECF6\",\"polar\":{\"angularaxis\":{\"gridcolor\":\"white\",\"linecolor\":\"white\",\"ticks\":\"\"},\"bgcolor\":\"#E5ECF6\",\"radialaxis\":{\"gridcolor\":\"white\",\"linecolor\":\"white\",\"ticks\":\"\"}},\"scene\":{\"xaxis\":{\"backgroundcolor\":\"#E5ECF6\",\"gridcolor\":\"white\",\"gridwidth\":2,\"linecolor\":\"white\",\"showbackground\":true,\"ticks\":\"\",\"zerolinecolor\":\"white\"},\"yaxis\":{\"backgroundcolor\":\"#E5ECF6\",\"gridcolor\":\"white\",\"gridwidth\":2,\"linecolor\":\"white\",\"showbackground\":true,\"ticks\":\"\",\"zerolinecolor\":\"white\"},\"zaxis\":{\"backgroundcolor\":\"#E5ECF6\",\"gridcolor\":\"white\",\"gridwidth\":2,\"linecolor\":\"white\",\"showbackground\":true,\"ticks\":\"\",\"zerolinecolor\":\"white\"}},\"shapedefaults\":{\"line\":{\"color\":\"#2a3f5f\"}},\"ternary\":{\"aaxis\":{\"gridcolor\":\"white\",\"linecolor\":\"white\",\"ticks\":\"\"},\"baxis\":{\"gridcolor\":\"white\",\"linecolor\":\"white\",\"ticks\":\"\"},\"bgcolor\":\"#E5ECF6\",\"caxis\":{\"gridcolor\":\"white\",\"linecolor\":\"white\",\"ticks\":\"\"}},\"title\":{\"x\":0.05},\"xaxis\":{\"automargin\":true,\"gridcolor\":\"white\",\"linecolor\":\"white\",\"ticks\":\"\",\"title\":{\"standoff\":15},\"zerolinecolor\":\"white\",\"zerolinewidth\":2},\"yaxis\":{\"automargin\":true,\"gridcolor\":\"white\",\"linecolor\":\"white\",\"ticks\":\"\",\"title\":{\"standoff\":15},\"zerolinecolor\":\"white\",\"zerolinewidth\":2}}},\"title\":{\"font\":{\"color\":\"#4D5663\"}},\"xaxis\":{\"gridcolor\":\"#E1E5ED\",\"showgrid\":true,\"tickfont\":{\"color\":\"#4D5663\"},\"title\":{\"font\":{\"color\":\"#4D5663\"},\"text\":\"\"},\"zerolinecolor\":\"#E1E5ED\"},\"yaxis\":{\"gridcolor\":\"#E1E5ED\",\"showgrid\":true,\"tickfont\":{\"color\":\"#4D5663\"},\"title\":{\"font\":{\"color\":\"#4D5663\"},\"text\":\"\"},\"zerolinecolor\":\"#E1E5ED\"}},                        {\"showLink\": true, \"linkText\": \"Export to plot.ly\", \"plotlyServerURL\": \"https://plot.ly\", \"responsive\": true}                    ).then(function(){\n",
       "                            \n",
       "var gd = document.getElementById('b0fadeed-3dd9-45cc-9ce0-426d72cec54e');\n",
       "var x = new MutationObserver(function (mutations, observer) {{\n",
       "        var display = window.getComputedStyle(gd).display;\n",
       "        if (!display || display === 'none') {{\n",
       "            console.log([gd, 'removed!']);\n",
       "            Plotly.purge(gd);\n",
       "            observer.disconnect();\n",
       "        }}\n",
       "}});\n",
       "\n",
       "// Listen for the removal of the full notebook cells\n",
       "var notebookContainer = gd.closest('#notebook-container');\n",
       "if (notebookContainer) {{\n",
       "    x.observe(notebookContainer, {childList: true});\n",
       "}}\n",
       "\n",
       "// Listen for the clearing of the current output cell\n",
       "var outputEl = gd.closest('.output');\n",
       "if (outputEl) {{\n",
       "    x.observe(outputEl, {childList: true});\n",
       "}}\n",
       "\n",
       "                        })                };                });            </script>        </div>"
      ]
     },
     "metadata": {},
     "output_type": "display_data"
    }
   ],
   "source": [
    "df.iplot(kind='bubble',x='A',y='B',size='C')"
   ]
  },
  {
   "cell_type": "markdown",
   "metadata": {},
   "source": [
    "## scatter_matrix()\n",
    "\n",
    "Similar to sns.pairplot()"
   ]
  },
  {
   "cell_type": "code",
   "execution_count": 23,
   "metadata": {},
   "outputs": [
    {
     "data": {
      "application/vnd.plotly.v1+json": {
       "config": {
        "linkText": "Export to plot.ly",
        "plotlyServerURL": "https://plot.ly",
        "showLink": true
       },
       "data": [
        {
         "histfunc": "count",
         "histnorm": "",
         "marker": {
          "color": "rgba(255, 153, 51, 1.0)",
          "line": {
           "color": "#4D5663",
           "width": 1.3
          }
         },
         "name": "A",
         "nbinsx": 10,
         "opacity": 0.8,
         "orientation": "v",
         "type": "histogram",
         "x": [
          0.10395791322237946,
          1.0907423101569562,
          -1.8023651034495587,
          0.1452796961840601,
          -0.8047590153347951,
          -1.2363607083110424,
          -1.533073210057116,
          0.8450512162615853,
          -1.833777418781113,
          0.12520778107159888,
          0.3170259452776536,
          -1.00956309234882,
          -0.3833966691606066,
          -0.37450811797226163,
          -0.05198633333678256,
          0.36472898788925007,
          1.7288167042934248,
          0.6090627068408083,
          -1.6268917312729543,
          -0.5958803396162193,
          0.22256691468192602,
          0.8064727120322517,
          1.9223841168509883,
          -0.921464297663518,
          1.3899181517467207,
          -1.7402808686813631,
          1.0427901020562544,
          -0.8672061261966549,
          -0.488206548771983,
          -1.7336935096327533,
          3.244925622032199,
          1.841750968380168,
          -0.49119101252950964,
          1.1853448809662257,
          0.6675123408061048,
          -1.437627889538169,
          -0.7450636517900513,
          -0.30151860773499123,
          -0.8671427788874422,
          1.1063875043347107,
          -0.26698316758204504,
          -1.649870588436951,
          -0.13895244826595793,
          0.031051274815732555,
          -0.7832155624085221,
          0.16178669856927996,
          -0.9382965322194335,
          0.4466791772128349,
          -0.15578635619915948,
          -1.5673289932174421,
          0.4919549985458554,
          -0.21504541416170153,
          0.1413190656527486,
          -0.9143680016986964,
          -0.7784995008704212,
          0.4779649038295718,
          1.5065125239154848,
          1.5389539286202367,
          1.3146020929586084,
          0.3810124335196379,
          1.4985550576693776,
          0.03859284362811156,
          0.4570321732592035,
          1.6657492904889124,
          1.770579715011796,
          -0.11161987472902953,
          1.4511060582998303,
          -0.24820849298660438,
          1.904973301524313,
          1.1692224023273332,
          -0.3491620787132832,
          -0.7141219970453385,
          -0.1623263949531894,
          0.14944754055839804,
          0.25019116466667546,
          0.19682162553617305,
          0.6692520415060931,
          -0.6958447951243778,
          0.08433454765442423,
          -0.5538825782042568,
          1.7467725048965241,
          -0.5095812259955649,
          -0.42512436009640775,
          0.4840214791946006,
          -1.6007136863955105,
          1.0499990825603565,
          0.6295142509558708,
          -0.442226614037453,
          -0.4550165591316354,
          0.6131877363513857,
          1.1247741199130217,
          -0.8279482111052545,
          1.0488516631647589,
          -1.1837813510152209,
          0.5477732226005055,
          0.4294375428232401,
          -0.03689138853667535,
          0.8878779293696469,
          -0.5501028512886033,
          -1.216210964468219
         ],
         "xaxis": "x",
         "yaxis": "y"
        },
        {
         "line": {
          "color": "rgba(128, 128, 128, 1.0)",
          "dash": "solid",
          "shape": "linear",
          "width": 1.3
         },
         "marker": {
          "size": 2,
          "symbol": "circle"
         },
         "mode": "markers",
         "name": "A",
         "text": "",
         "type": "scatter",
         "x": [
          -0.4964199052766519,
          -0.16577690724505037,
          -0.06352090321925319,
          0.9195213492176749,
          0.05920945692515286,
          -1.5352387721000331,
          -1.1272581915748292,
          1.5037082437441256,
          0.25525024969292537,
          0.926990078214612,
          1.6091275728246384,
          1.435698623918543,
          0.7929430485448701,
          -1.8078167644107352,
          0.3872864424405,
          -0.5081756149338615,
          0.11157791814884271,
          -0.7470305306600676,
          0.48919705825920645,
          -0.9422629443606921,
          0.39389463746364245,
          0.13279241776625111,
          -0.396173763657729,
          1.1557994071707751,
          0.9826669783349918,
          -0.8763175484331243,
          0.03866612269199482,
          0.9133514387537464,
          1.210067697022933,
          0.9575896405404437,
          0.4446642857554738,
          -1.1836057054060263,
          0.4690710661659546,
          0.0825941321291548,
          -0.057323525876951595,
          -0.4140460470113184,
          -0.21346112501363587,
          -0.09758155608070679,
          1.0961830745473047,
          -3.2527834347876783,
          -1.0559859874065454,
          -1.2451669840676882,
          -2.3763630793887467,
          1.7406596934722733,
          1.1635839279907205,
          1.615733929496423,
          -0.6613818474443387,
          0.6441008999335095,
          0.2108681494964121,
          0.4532517241681963,
          0.39395980607470804,
          -1.3573655220385268,
          0.6556394659492624,
          0.015906823753299704,
          2.147919985281432,
          -0.306172943784595,
          -1.0004312140616298,
          -0.10416640047537958,
          0.5149288073107,
          0.7124745940564056,
          1.3798138145208825,
          0.4349085980837738,
          0.3292157090951729,
          0.626715652218343,
          -1.0654490499559879,
          -0.7326169106971796,
          1.1268040052754518,
          2.015396849191515,
          0.2772174604301982,
          -0.46067756949404814,
          1.5014212003411764,
          -0.03394335951066258,
          -1.2483981703632212,
          0.5858505897588245,
          0.3310923688884323,
          -0.1138787315153205,
          -0.9161409821576249,
          1.544558212804218,
          1.101864233216787,
          -0.6193672340216976,
          0.5111413589667924,
          -0.15609752801350163,
          -2.4429254121204935,
          -0.41236075686521195,
          -0.8921208446971892,
          -0.3415343111101214,
          1.27788943460529,
          -0.19375578696417853,
          0.5261336442900859,
          -1.002668939581087,
          2.2032125799401125,
          -0.17618635766898977,
          0.12628455991716694,
          0.1586375815419656,
          0.6857590793737517,
          0.345486423574641,
          0.41044445264360596,
          0.9932463757588236,
          -0.9153092798258289,
          0.1155976661986857
         ],
         "xaxis": "x2",
         "y": [
          0.10395791322237946,
          1.0907423101569562,
          -1.8023651034495587,
          0.1452796961840601,
          -0.8047590153347951,
          -1.2363607083110424,
          -1.533073210057116,
          0.8450512162615853,
          -1.833777418781113,
          0.12520778107159888,
          0.3170259452776536,
          -1.00956309234882,
          -0.3833966691606066,
          -0.37450811797226163,
          -0.05198633333678256,
          0.36472898788925007,
          1.7288167042934248,
          0.6090627068408083,
          -1.6268917312729543,
          -0.5958803396162193,
          0.22256691468192602,
          0.8064727120322517,
          1.9223841168509883,
          -0.921464297663518,
          1.3899181517467207,
          -1.7402808686813631,
          1.0427901020562544,
          -0.8672061261966549,
          -0.488206548771983,
          -1.7336935096327533,
          3.244925622032199,
          1.841750968380168,
          -0.49119101252950964,
          1.1853448809662257,
          0.6675123408061048,
          -1.437627889538169,
          -0.7450636517900513,
          -0.30151860773499123,
          -0.8671427788874422,
          1.1063875043347107,
          -0.26698316758204504,
          -1.649870588436951,
          -0.13895244826595793,
          0.031051274815732555,
          -0.7832155624085221,
          0.16178669856927996,
          -0.9382965322194335,
          0.4466791772128349,
          -0.15578635619915948,
          -1.5673289932174421,
          0.4919549985458554,
          -0.21504541416170153,
          0.1413190656527486,
          -0.9143680016986964,
          -0.7784995008704212,
          0.4779649038295718,
          1.5065125239154848,
          1.5389539286202367,
          1.3146020929586084,
          0.3810124335196379,
          1.4985550576693776,
          0.03859284362811156,
          0.4570321732592035,
          1.6657492904889124,
          1.770579715011796,
          -0.11161987472902953,
          1.4511060582998303,
          -0.24820849298660438,
          1.904973301524313,
          1.1692224023273332,
          -0.3491620787132832,
          -0.7141219970453385,
          -0.1623263949531894,
          0.14944754055839804,
          0.25019116466667546,
          0.19682162553617305,
          0.6692520415060931,
          -0.6958447951243778,
          0.08433454765442423,
          -0.5538825782042568,
          1.7467725048965241,
          -0.5095812259955649,
          -0.42512436009640775,
          0.4840214791946006,
          -1.6007136863955105,
          1.0499990825603565,
          0.6295142509558708,
          -0.442226614037453,
          -0.4550165591316354,
          0.6131877363513857,
          1.1247741199130217,
          -0.8279482111052545,
          1.0488516631647589,
          -1.1837813510152209,
          0.5477732226005055,
          0.4294375428232401,
          -0.03689138853667535,
          0.8878779293696469,
          -0.5501028512886033,
          -1.216210964468219
         ],
         "yaxis": "y2"
        },
        {
         "line": {
          "color": "rgba(128, 128, 128, 1.0)",
          "dash": "solid",
          "shape": "linear",
          "width": 1.3
         },
         "marker": {
          "size": 2,
          "symbol": "circle"
         },
         "mode": "markers",
         "name": "A",
         "text": "",
         "type": "scatter",
         "x": [
          -0.11715134862692887,
          -0.9238110035637704,
          -0.6341034707367625,
          -0.7039798297101952,
          0.41199222871472185,
          -0.570032950618832,
          0.44286081832136004,
          0.7346119453334629,
          -0.11517165410253062,
          0.5128885333693647,
          -1.0183936050162585,
          0.9175385646911961,
          0.9048989812665845,
          0.05140807601801332,
          0.6458854158532115,
          0.11693497003907732,
          0.31031827893619685,
          0.11070998165777231,
          0.31744754683913806,
          -1.650754519760574,
          0.5217491609271399,
          0.9517253811613039,
          -1.072694964737062,
          -0.45961187845013707,
          -0.2506686031378381,
          0.8864464083282674,
          -0.5247092530603333,
          -1.5295583910415216,
          -0.6460234674665981,
          0.7672801979487747,
          0.46044800932151836,
          -1.0752712846495762,
          -0.7717363145281667,
          0.28488309368206477,
          0.3458195540062791,
          0.418593287780798,
          0.660435989544501,
          0.543710213177274,
          0.2461450506077324,
          1.2990980984611662,
          -0.2979515843938551,
          -1.847753900969353,
          -1.0149605831144013,
          -0.5853364863823789,
          0.8933540154577488,
          0.286047793821163,
          -2.716594179114467,
          0.9415490229932579,
          -1.1532069213667147,
          0.2590380476354718,
          1.2007564596630067,
          0.012831467950238987,
          -0.10785047054045933,
          2.2163849306898658,
          -1.9696112408696487,
          -0.1730283623586726,
          1.3151428438596822,
          0.7891186338123123,
          -1.1732347865282835,
          0.28228264342221465,
          -1.250516452836501,
          0.8452991025741403,
          0.03213789105270297,
          -0.1750935112824887,
          -0.5202195702277532,
          0.01452010533380974,
          1.2647460311832521,
          0.5107180811211698,
          -0.3719069992456132,
          -1.719236574002592,
          0.37088921151428184,
          -0.7319962429039226,
          0.3660012735784033,
          0.7026101068082639,
          -0.8771081170019718,
          -1.0024339454169668,
          1.060348832118971,
          0.10426543228859139,
          0.6595400108972117,
          0.07239015369501688,
          -0.71338611629709,
          0.10545170913666903,
          1.1757127111541312,
          -0.12604104322434925,
          -0.11578817929838205,
          -1.2636423607947442,
          0.3270148993540921,
          0.0567620389256123,
          -0.9196433152353806,
          0.2200653007015978,
          1.0412558708427244,
          -1.378250277182545,
          -0.024372849211685126,
          -0.554316851828183,
          -0.992377748082647,
          0.028873090286391324,
          -1.2422036315931047,
          -0.14560088145351116,
          0.7019829641331473,
          -0.4637973277945155
         ],
         "xaxis": "x3",
         "y": [
          0.10395791322237946,
          1.0907423101569562,
          -1.8023651034495587,
          0.1452796961840601,
          -0.8047590153347951,
          -1.2363607083110424,
          -1.533073210057116,
          0.8450512162615853,
          -1.833777418781113,
          0.12520778107159888,
          0.3170259452776536,
          -1.00956309234882,
          -0.3833966691606066,
          -0.37450811797226163,
          -0.05198633333678256,
          0.36472898788925007,
          1.7288167042934248,
          0.6090627068408083,
          -1.6268917312729543,
          -0.5958803396162193,
          0.22256691468192602,
          0.8064727120322517,
          1.9223841168509883,
          -0.921464297663518,
          1.3899181517467207,
          -1.7402808686813631,
          1.0427901020562544,
          -0.8672061261966549,
          -0.488206548771983,
          -1.7336935096327533,
          3.244925622032199,
          1.841750968380168,
          -0.49119101252950964,
          1.1853448809662257,
          0.6675123408061048,
          -1.437627889538169,
          -0.7450636517900513,
          -0.30151860773499123,
          -0.8671427788874422,
          1.1063875043347107,
          -0.26698316758204504,
          -1.649870588436951,
          -0.13895244826595793,
          0.031051274815732555,
          -0.7832155624085221,
          0.16178669856927996,
          -0.9382965322194335,
          0.4466791772128349,
          -0.15578635619915948,
          -1.5673289932174421,
          0.4919549985458554,
          -0.21504541416170153,
          0.1413190656527486,
          -0.9143680016986964,
          -0.7784995008704212,
          0.4779649038295718,
          1.5065125239154848,
          1.5389539286202367,
          1.3146020929586084,
          0.3810124335196379,
          1.4985550576693776,
          0.03859284362811156,
          0.4570321732592035,
          1.6657492904889124,
          1.770579715011796,
          -0.11161987472902953,
          1.4511060582998303,
          -0.24820849298660438,
          1.904973301524313,
          1.1692224023273332,
          -0.3491620787132832,
          -0.7141219970453385,
          -0.1623263949531894,
          0.14944754055839804,
          0.25019116466667546,
          0.19682162553617305,
          0.6692520415060931,
          -0.6958447951243778,
          0.08433454765442423,
          -0.5538825782042568,
          1.7467725048965241,
          -0.5095812259955649,
          -0.42512436009640775,
          0.4840214791946006,
          -1.6007136863955105,
          1.0499990825603565,
          0.6295142509558708,
          -0.442226614037453,
          -0.4550165591316354,
          0.6131877363513857,
          1.1247741199130217,
          -0.8279482111052545,
          1.0488516631647589,
          -1.1837813510152209,
          0.5477732226005055,
          0.4294375428232401,
          -0.03689138853667535,
          0.8878779293696469,
          -0.5501028512886033,
          -1.216210964468219
         ],
         "yaxis": "y3"
        },
        {
         "line": {
          "color": "rgba(128, 128, 128, 1.0)",
          "dash": "solid",
          "shape": "linear",
          "width": 1.3
         },
         "marker": {
          "size": 2,
          "symbol": "circle"
         },
         "mode": "markers",
         "name": "A",
         "text": "",
         "type": "scatter",
         "x": [
          -1.0468370390753376,
          -1.0275583839052804,
          -0.2742018724450702,
          1.1731685518425736,
          -0.14439491190959836,
          1.078635354908124,
          1.388000416462823,
          0.7827203777436251,
          -0.7906137609668902,
          0.46261379365051,
          0.2671806476402405,
          1.1717037986875207,
          -0.39467245362080833,
          -1.7783181515565596,
          0.2098460247110677,
          -2.768145478092189,
          0.5142636222617464,
          0.45818864027023753,
          0.4396547912614004,
          0.5396905411942621,
          0.026964701470616425,
          -0.14524317746386037,
          0.9078597639160967,
          -0.45708272778737663,
          0.7880664048234807,
          -1.791085309090814,
          -1.0774442735690322,
          1.3019981941157739,
          0.49962454746872476,
          -0.668226139430762,
          0.36289562023515626,
          -0.9383352891231684,
          0.6377944279755422,
          -0.7298887080004163,
          0.3310056485823189,
          -0.5043922986678377,
          0.4959714197182736,
          -2.0073001241960826,
          0.8348676989771081,
          -0.47277211750612336,
          0.7678419039127863,
          -1.3117751936648872,
          -2.316181739956973,
          0.5731499529281376,
          0.010002706635069882,
          0.10627379791921063,
          0.4660230301538875,
          0.43830698972081283,
          1.529940498293144,
          -0.7507635842599895,
          0.11961953230763832,
          0.02404652694928732,
          -0.4423321117233319,
          -0.7946377759453179,
          0.4452473485692167,
          -1.6764663549445995,
          1.0716687660102449,
          -0.7588664879801049,
          -0.8144765527818432,
          2.804125312956174,
          -0.3412881986965423,
          0.22710698180422526,
          -0.5964332947017922,
          0.9560040100149169,
          0.7901628978990334,
          1.286999247666019,
          -0.3262649226406465,
          1.423851504872338,
          -0.4413095746286107,
          0.8270856567367172,
          -0.5568860067120459,
          -0.9630361617988186,
          -0.4166379491352016,
          1.9744636665480448,
          0.6761548167352016,
          1.1707856340947156,
          -0.26255328654517673,
          0.08133524676333527,
          0.3545868903715354,
          0.11730396517256124,
          1.0306548056766014,
          -0.024452872420551695,
          -3.175358065212561,
          0.09819457311291285,
          1.1309365185368176,
          1.096859069567687,
          -1.482449188509566,
          -0.5732676342982265,
          -1.325973103854073,
          -1.0449964870115107,
          0.13220492494701874,
          -0.08929070359984267,
          1.7774557980505143,
          -1.0363749573559036,
          -0.5459004298478335,
          -2.0114550641580196,
          0.8895634530171322,
          0.9827622407448601,
          0.6993020211449944,
          -0.6145532888902779
         ],
         "xaxis": "x4",
         "y": [
          0.10395791322237946,
          1.0907423101569562,
          -1.8023651034495587,
          0.1452796961840601,
          -0.8047590153347951,
          -1.2363607083110424,
          -1.533073210057116,
          0.8450512162615853,
          -1.833777418781113,
          0.12520778107159888,
          0.3170259452776536,
          -1.00956309234882,
          -0.3833966691606066,
          -0.37450811797226163,
          -0.05198633333678256,
          0.36472898788925007,
          1.7288167042934248,
          0.6090627068408083,
          -1.6268917312729543,
          -0.5958803396162193,
          0.22256691468192602,
          0.8064727120322517,
          1.9223841168509883,
          -0.921464297663518,
          1.3899181517467207,
          -1.7402808686813631,
          1.0427901020562544,
          -0.8672061261966549,
          -0.488206548771983,
          -1.7336935096327533,
          3.244925622032199,
          1.841750968380168,
          -0.49119101252950964,
          1.1853448809662257,
          0.6675123408061048,
          -1.437627889538169,
          -0.7450636517900513,
          -0.30151860773499123,
          -0.8671427788874422,
          1.1063875043347107,
          -0.26698316758204504,
          -1.649870588436951,
          -0.13895244826595793,
          0.031051274815732555,
          -0.7832155624085221,
          0.16178669856927996,
          -0.9382965322194335,
          0.4466791772128349,
          -0.15578635619915948,
          -1.5673289932174421,
          0.4919549985458554,
          -0.21504541416170153,
          0.1413190656527486,
          -0.9143680016986964,
          -0.7784995008704212,
          0.4779649038295718,
          1.5065125239154848,
          1.5389539286202367,
          1.3146020929586084,
          0.3810124335196379,
          1.4985550576693776,
          0.03859284362811156,
          0.4570321732592035,
          1.6657492904889124,
          1.770579715011796,
          -0.11161987472902953,
          1.4511060582998303,
          -0.24820849298660438,
          1.904973301524313,
          1.1692224023273332,
          -0.3491620787132832,
          -0.7141219970453385,
          -0.1623263949531894,
          0.14944754055839804,
          0.25019116466667546,
          0.19682162553617305,
          0.6692520415060931,
          -0.6958447951243778,
          0.08433454765442423,
          -0.5538825782042568,
          1.7467725048965241,
          -0.5095812259955649,
          -0.42512436009640775,
          0.4840214791946006,
          -1.6007136863955105,
          1.0499990825603565,
          0.6295142509558708,
          -0.442226614037453,
          -0.4550165591316354,
          0.6131877363513857,
          1.1247741199130217,
          -0.8279482111052545,
          1.0488516631647589,
          -1.1837813510152209,
          0.5477732226005055,
          0.4294375428232401,
          -0.03689138853667535,
          0.8878779293696469,
          -0.5501028512886033,
          -1.216210964468219
         ],
         "yaxis": "y4"
        },
        {
         "line": {
          "color": "rgba(128, 128, 128, 1.0)",
          "dash": "solid",
          "shape": "linear",
          "width": 1.3
         },
         "marker": {
          "size": 2,
          "symbol": "circle"
         },
         "mode": "markers",
         "name": "B",
         "text": "",
         "type": "scatter",
         "x": [
          0.10395791322237946,
          1.0907423101569562,
          -1.8023651034495587,
          0.1452796961840601,
          -0.8047590153347951,
          -1.2363607083110424,
          -1.533073210057116,
          0.8450512162615853,
          -1.833777418781113,
          0.12520778107159888,
          0.3170259452776536,
          -1.00956309234882,
          -0.3833966691606066,
          -0.37450811797226163,
          -0.05198633333678256,
          0.36472898788925007,
          1.7288167042934248,
          0.6090627068408083,
          -1.6268917312729543,
          -0.5958803396162193,
          0.22256691468192602,
          0.8064727120322517,
          1.9223841168509883,
          -0.921464297663518,
          1.3899181517467207,
          -1.7402808686813631,
          1.0427901020562544,
          -0.8672061261966549,
          -0.488206548771983,
          -1.7336935096327533,
          3.244925622032199,
          1.841750968380168,
          -0.49119101252950964,
          1.1853448809662257,
          0.6675123408061048,
          -1.437627889538169,
          -0.7450636517900513,
          -0.30151860773499123,
          -0.8671427788874422,
          1.1063875043347107,
          -0.26698316758204504,
          -1.649870588436951,
          -0.13895244826595793,
          0.031051274815732555,
          -0.7832155624085221,
          0.16178669856927996,
          -0.9382965322194335,
          0.4466791772128349,
          -0.15578635619915948,
          -1.5673289932174421,
          0.4919549985458554,
          -0.21504541416170153,
          0.1413190656527486,
          -0.9143680016986964,
          -0.7784995008704212,
          0.4779649038295718,
          1.5065125239154848,
          1.5389539286202367,
          1.3146020929586084,
          0.3810124335196379,
          1.4985550576693776,
          0.03859284362811156,
          0.4570321732592035,
          1.6657492904889124,
          1.770579715011796,
          -0.11161987472902953,
          1.4511060582998303,
          -0.24820849298660438,
          1.904973301524313,
          1.1692224023273332,
          -0.3491620787132832,
          -0.7141219970453385,
          -0.1623263949531894,
          0.14944754055839804,
          0.25019116466667546,
          0.19682162553617305,
          0.6692520415060931,
          -0.6958447951243778,
          0.08433454765442423,
          -0.5538825782042568,
          1.7467725048965241,
          -0.5095812259955649,
          -0.42512436009640775,
          0.4840214791946006,
          -1.6007136863955105,
          1.0499990825603565,
          0.6295142509558708,
          -0.442226614037453,
          -0.4550165591316354,
          0.6131877363513857,
          1.1247741199130217,
          -0.8279482111052545,
          1.0488516631647589,
          -1.1837813510152209,
          0.5477732226005055,
          0.4294375428232401,
          -0.03689138853667535,
          0.8878779293696469,
          -0.5501028512886033,
          -1.216210964468219
         ],
         "xaxis": "x5",
         "y": [
          -0.4964199052766519,
          -0.16577690724505037,
          -0.06352090321925319,
          0.9195213492176749,
          0.05920945692515286,
          -1.5352387721000331,
          -1.1272581915748292,
          1.5037082437441256,
          0.25525024969292537,
          0.926990078214612,
          1.6091275728246384,
          1.435698623918543,
          0.7929430485448701,
          -1.8078167644107352,
          0.3872864424405,
          -0.5081756149338615,
          0.11157791814884271,
          -0.7470305306600676,
          0.48919705825920645,
          -0.9422629443606921,
          0.39389463746364245,
          0.13279241776625111,
          -0.396173763657729,
          1.1557994071707751,
          0.9826669783349918,
          -0.8763175484331243,
          0.03866612269199482,
          0.9133514387537464,
          1.210067697022933,
          0.9575896405404437,
          0.4446642857554738,
          -1.1836057054060263,
          0.4690710661659546,
          0.0825941321291548,
          -0.057323525876951595,
          -0.4140460470113184,
          -0.21346112501363587,
          -0.09758155608070679,
          1.0961830745473047,
          -3.2527834347876783,
          -1.0559859874065454,
          -1.2451669840676882,
          -2.3763630793887467,
          1.7406596934722733,
          1.1635839279907205,
          1.615733929496423,
          -0.6613818474443387,
          0.6441008999335095,
          0.2108681494964121,
          0.4532517241681963,
          0.39395980607470804,
          -1.3573655220385268,
          0.6556394659492624,
          0.015906823753299704,
          2.147919985281432,
          -0.306172943784595,
          -1.0004312140616298,
          -0.10416640047537958,
          0.5149288073107,
          0.7124745940564056,
          1.3798138145208825,
          0.4349085980837738,
          0.3292157090951729,
          0.626715652218343,
          -1.0654490499559879,
          -0.7326169106971796,
          1.1268040052754518,
          2.015396849191515,
          0.2772174604301982,
          -0.46067756949404814,
          1.5014212003411764,
          -0.03394335951066258,
          -1.2483981703632212,
          0.5858505897588245,
          0.3310923688884323,
          -0.1138787315153205,
          -0.9161409821576249,
          1.544558212804218,
          1.101864233216787,
          -0.6193672340216976,
          0.5111413589667924,
          -0.15609752801350163,
          -2.4429254121204935,
          -0.41236075686521195,
          -0.8921208446971892,
          -0.3415343111101214,
          1.27788943460529,
          -0.19375578696417853,
          0.5261336442900859,
          -1.002668939581087,
          2.2032125799401125,
          -0.17618635766898977,
          0.12628455991716694,
          0.1586375815419656,
          0.6857590793737517,
          0.345486423574641,
          0.41044445264360596,
          0.9932463757588236,
          -0.9153092798258289,
          0.1155976661986857
         ],
         "yaxis": "y5"
        },
        {
         "histfunc": "count",
         "histnorm": "",
         "marker": {
          "color": "rgba(55, 128, 191, 1.0)",
          "line": {
           "color": "#4D5663",
           "width": 1.3
          }
         },
         "name": "B",
         "nbinsx": 10,
         "opacity": 0.8,
         "orientation": "v",
         "type": "histogram",
         "x": [
          -0.4964199052766519,
          -0.16577690724505037,
          -0.06352090321925319,
          0.9195213492176749,
          0.05920945692515286,
          -1.5352387721000331,
          -1.1272581915748292,
          1.5037082437441256,
          0.25525024969292537,
          0.926990078214612,
          1.6091275728246384,
          1.435698623918543,
          0.7929430485448701,
          -1.8078167644107352,
          0.3872864424405,
          -0.5081756149338615,
          0.11157791814884271,
          -0.7470305306600676,
          0.48919705825920645,
          -0.9422629443606921,
          0.39389463746364245,
          0.13279241776625111,
          -0.396173763657729,
          1.1557994071707751,
          0.9826669783349918,
          -0.8763175484331243,
          0.03866612269199482,
          0.9133514387537464,
          1.210067697022933,
          0.9575896405404437,
          0.4446642857554738,
          -1.1836057054060263,
          0.4690710661659546,
          0.0825941321291548,
          -0.057323525876951595,
          -0.4140460470113184,
          -0.21346112501363587,
          -0.09758155608070679,
          1.0961830745473047,
          -3.2527834347876783,
          -1.0559859874065454,
          -1.2451669840676882,
          -2.3763630793887467,
          1.7406596934722733,
          1.1635839279907205,
          1.615733929496423,
          -0.6613818474443387,
          0.6441008999335095,
          0.2108681494964121,
          0.4532517241681963,
          0.39395980607470804,
          -1.3573655220385268,
          0.6556394659492624,
          0.015906823753299704,
          2.147919985281432,
          -0.306172943784595,
          -1.0004312140616298,
          -0.10416640047537958,
          0.5149288073107,
          0.7124745940564056,
          1.3798138145208825,
          0.4349085980837738,
          0.3292157090951729,
          0.626715652218343,
          -1.0654490499559879,
          -0.7326169106971796,
          1.1268040052754518,
          2.015396849191515,
          0.2772174604301982,
          -0.46067756949404814,
          1.5014212003411764,
          -0.03394335951066258,
          -1.2483981703632212,
          0.5858505897588245,
          0.3310923688884323,
          -0.1138787315153205,
          -0.9161409821576249,
          1.544558212804218,
          1.101864233216787,
          -0.6193672340216976,
          0.5111413589667924,
          -0.15609752801350163,
          -2.4429254121204935,
          -0.41236075686521195,
          -0.8921208446971892,
          -0.3415343111101214,
          1.27788943460529,
          -0.19375578696417853,
          0.5261336442900859,
          -1.002668939581087,
          2.2032125799401125,
          -0.17618635766898977,
          0.12628455991716694,
          0.1586375815419656,
          0.6857590793737517,
          0.345486423574641,
          0.41044445264360596,
          0.9932463757588236,
          -0.9153092798258289,
          0.1155976661986857
         ],
         "xaxis": "x6",
         "yaxis": "y6"
        },
        {
         "line": {
          "color": "rgba(128, 128, 128, 1.0)",
          "dash": "solid",
          "shape": "linear",
          "width": 1.3
         },
         "marker": {
          "size": 2,
          "symbol": "circle"
         },
         "mode": "markers",
         "name": "B",
         "text": "",
         "type": "scatter",
         "x": [
          -0.11715134862692887,
          -0.9238110035637704,
          -0.6341034707367625,
          -0.7039798297101952,
          0.41199222871472185,
          -0.570032950618832,
          0.44286081832136004,
          0.7346119453334629,
          -0.11517165410253062,
          0.5128885333693647,
          -1.0183936050162585,
          0.9175385646911961,
          0.9048989812665845,
          0.05140807601801332,
          0.6458854158532115,
          0.11693497003907732,
          0.31031827893619685,
          0.11070998165777231,
          0.31744754683913806,
          -1.650754519760574,
          0.5217491609271399,
          0.9517253811613039,
          -1.072694964737062,
          -0.45961187845013707,
          -0.2506686031378381,
          0.8864464083282674,
          -0.5247092530603333,
          -1.5295583910415216,
          -0.6460234674665981,
          0.7672801979487747,
          0.46044800932151836,
          -1.0752712846495762,
          -0.7717363145281667,
          0.28488309368206477,
          0.3458195540062791,
          0.418593287780798,
          0.660435989544501,
          0.543710213177274,
          0.2461450506077324,
          1.2990980984611662,
          -0.2979515843938551,
          -1.847753900969353,
          -1.0149605831144013,
          -0.5853364863823789,
          0.8933540154577488,
          0.286047793821163,
          -2.716594179114467,
          0.9415490229932579,
          -1.1532069213667147,
          0.2590380476354718,
          1.2007564596630067,
          0.012831467950238987,
          -0.10785047054045933,
          2.2163849306898658,
          -1.9696112408696487,
          -0.1730283623586726,
          1.3151428438596822,
          0.7891186338123123,
          -1.1732347865282835,
          0.28228264342221465,
          -1.250516452836501,
          0.8452991025741403,
          0.03213789105270297,
          -0.1750935112824887,
          -0.5202195702277532,
          0.01452010533380974,
          1.2647460311832521,
          0.5107180811211698,
          -0.3719069992456132,
          -1.719236574002592,
          0.37088921151428184,
          -0.7319962429039226,
          0.3660012735784033,
          0.7026101068082639,
          -0.8771081170019718,
          -1.0024339454169668,
          1.060348832118971,
          0.10426543228859139,
          0.6595400108972117,
          0.07239015369501688,
          -0.71338611629709,
          0.10545170913666903,
          1.1757127111541312,
          -0.12604104322434925,
          -0.11578817929838205,
          -1.2636423607947442,
          0.3270148993540921,
          0.0567620389256123,
          -0.9196433152353806,
          0.2200653007015978,
          1.0412558708427244,
          -1.378250277182545,
          -0.024372849211685126,
          -0.554316851828183,
          -0.992377748082647,
          0.028873090286391324,
          -1.2422036315931047,
          -0.14560088145351116,
          0.7019829641331473,
          -0.4637973277945155
         ],
         "xaxis": "x7",
         "y": [
          -0.4964199052766519,
          -0.16577690724505037,
          -0.06352090321925319,
          0.9195213492176749,
          0.05920945692515286,
          -1.5352387721000331,
          -1.1272581915748292,
          1.5037082437441256,
          0.25525024969292537,
          0.926990078214612,
          1.6091275728246384,
          1.435698623918543,
          0.7929430485448701,
          -1.8078167644107352,
          0.3872864424405,
          -0.5081756149338615,
          0.11157791814884271,
          -0.7470305306600676,
          0.48919705825920645,
          -0.9422629443606921,
          0.39389463746364245,
          0.13279241776625111,
          -0.396173763657729,
          1.1557994071707751,
          0.9826669783349918,
          -0.8763175484331243,
          0.03866612269199482,
          0.9133514387537464,
          1.210067697022933,
          0.9575896405404437,
          0.4446642857554738,
          -1.1836057054060263,
          0.4690710661659546,
          0.0825941321291548,
          -0.057323525876951595,
          -0.4140460470113184,
          -0.21346112501363587,
          -0.09758155608070679,
          1.0961830745473047,
          -3.2527834347876783,
          -1.0559859874065454,
          -1.2451669840676882,
          -2.3763630793887467,
          1.7406596934722733,
          1.1635839279907205,
          1.615733929496423,
          -0.6613818474443387,
          0.6441008999335095,
          0.2108681494964121,
          0.4532517241681963,
          0.39395980607470804,
          -1.3573655220385268,
          0.6556394659492624,
          0.015906823753299704,
          2.147919985281432,
          -0.306172943784595,
          -1.0004312140616298,
          -0.10416640047537958,
          0.5149288073107,
          0.7124745940564056,
          1.3798138145208825,
          0.4349085980837738,
          0.3292157090951729,
          0.626715652218343,
          -1.0654490499559879,
          -0.7326169106971796,
          1.1268040052754518,
          2.015396849191515,
          0.2772174604301982,
          -0.46067756949404814,
          1.5014212003411764,
          -0.03394335951066258,
          -1.2483981703632212,
          0.5858505897588245,
          0.3310923688884323,
          -0.1138787315153205,
          -0.9161409821576249,
          1.544558212804218,
          1.101864233216787,
          -0.6193672340216976,
          0.5111413589667924,
          -0.15609752801350163,
          -2.4429254121204935,
          -0.41236075686521195,
          -0.8921208446971892,
          -0.3415343111101214,
          1.27788943460529,
          -0.19375578696417853,
          0.5261336442900859,
          -1.002668939581087,
          2.2032125799401125,
          -0.17618635766898977,
          0.12628455991716694,
          0.1586375815419656,
          0.6857590793737517,
          0.345486423574641,
          0.41044445264360596,
          0.9932463757588236,
          -0.9153092798258289,
          0.1155976661986857
         ],
         "yaxis": "y7"
        },
        {
         "line": {
          "color": "rgba(128, 128, 128, 1.0)",
          "dash": "solid",
          "shape": "linear",
          "width": 1.3
         },
         "marker": {
          "size": 2,
          "symbol": "circle"
         },
         "mode": "markers",
         "name": "B",
         "text": "",
         "type": "scatter",
         "x": [
          -1.0468370390753376,
          -1.0275583839052804,
          -0.2742018724450702,
          1.1731685518425736,
          -0.14439491190959836,
          1.078635354908124,
          1.388000416462823,
          0.7827203777436251,
          -0.7906137609668902,
          0.46261379365051,
          0.2671806476402405,
          1.1717037986875207,
          -0.39467245362080833,
          -1.7783181515565596,
          0.2098460247110677,
          -2.768145478092189,
          0.5142636222617464,
          0.45818864027023753,
          0.4396547912614004,
          0.5396905411942621,
          0.026964701470616425,
          -0.14524317746386037,
          0.9078597639160967,
          -0.45708272778737663,
          0.7880664048234807,
          -1.791085309090814,
          -1.0774442735690322,
          1.3019981941157739,
          0.49962454746872476,
          -0.668226139430762,
          0.36289562023515626,
          -0.9383352891231684,
          0.6377944279755422,
          -0.7298887080004163,
          0.3310056485823189,
          -0.5043922986678377,
          0.4959714197182736,
          -2.0073001241960826,
          0.8348676989771081,
          -0.47277211750612336,
          0.7678419039127863,
          -1.3117751936648872,
          -2.316181739956973,
          0.5731499529281376,
          0.010002706635069882,
          0.10627379791921063,
          0.4660230301538875,
          0.43830698972081283,
          1.529940498293144,
          -0.7507635842599895,
          0.11961953230763832,
          0.02404652694928732,
          -0.4423321117233319,
          -0.7946377759453179,
          0.4452473485692167,
          -1.6764663549445995,
          1.0716687660102449,
          -0.7588664879801049,
          -0.8144765527818432,
          2.804125312956174,
          -0.3412881986965423,
          0.22710698180422526,
          -0.5964332947017922,
          0.9560040100149169,
          0.7901628978990334,
          1.286999247666019,
          -0.3262649226406465,
          1.423851504872338,
          -0.4413095746286107,
          0.8270856567367172,
          -0.5568860067120459,
          -0.9630361617988186,
          -0.4166379491352016,
          1.9744636665480448,
          0.6761548167352016,
          1.1707856340947156,
          -0.26255328654517673,
          0.08133524676333527,
          0.3545868903715354,
          0.11730396517256124,
          1.0306548056766014,
          -0.024452872420551695,
          -3.175358065212561,
          0.09819457311291285,
          1.1309365185368176,
          1.096859069567687,
          -1.482449188509566,
          -0.5732676342982265,
          -1.325973103854073,
          -1.0449964870115107,
          0.13220492494701874,
          -0.08929070359984267,
          1.7774557980505143,
          -1.0363749573559036,
          -0.5459004298478335,
          -2.0114550641580196,
          0.8895634530171322,
          0.9827622407448601,
          0.6993020211449944,
          -0.6145532888902779
         ],
         "xaxis": "x8",
         "y": [
          -0.4964199052766519,
          -0.16577690724505037,
          -0.06352090321925319,
          0.9195213492176749,
          0.05920945692515286,
          -1.5352387721000331,
          -1.1272581915748292,
          1.5037082437441256,
          0.25525024969292537,
          0.926990078214612,
          1.6091275728246384,
          1.435698623918543,
          0.7929430485448701,
          -1.8078167644107352,
          0.3872864424405,
          -0.5081756149338615,
          0.11157791814884271,
          -0.7470305306600676,
          0.48919705825920645,
          -0.9422629443606921,
          0.39389463746364245,
          0.13279241776625111,
          -0.396173763657729,
          1.1557994071707751,
          0.9826669783349918,
          -0.8763175484331243,
          0.03866612269199482,
          0.9133514387537464,
          1.210067697022933,
          0.9575896405404437,
          0.4446642857554738,
          -1.1836057054060263,
          0.4690710661659546,
          0.0825941321291548,
          -0.057323525876951595,
          -0.4140460470113184,
          -0.21346112501363587,
          -0.09758155608070679,
          1.0961830745473047,
          -3.2527834347876783,
          -1.0559859874065454,
          -1.2451669840676882,
          -2.3763630793887467,
          1.7406596934722733,
          1.1635839279907205,
          1.615733929496423,
          -0.6613818474443387,
          0.6441008999335095,
          0.2108681494964121,
          0.4532517241681963,
          0.39395980607470804,
          -1.3573655220385268,
          0.6556394659492624,
          0.015906823753299704,
          2.147919985281432,
          -0.306172943784595,
          -1.0004312140616298,
          -0.10416640047537958,
          0.5149288073107,
          0.7124745940564056,
          1.3798138145208825,
          0.4349085980837738,
          0.3292157090951729,
          0.626715652218343,
          -1.0654490499559879,
          -0.7326169106971796,
          1.1268040052754518,
          2.015396849191515,
          0.2772174604301982,
          -0.46067756949404814,
          1.5014212003411764,
          -0.03394335951066258,
          -1.2483981703632212,
          0.5858505897588245,
          0.3310923688884323,
          -0.1138787315153205,
          -0.9161409821576249,
          1.544558212804218,
          1.101864233216787,
          -0.6193672340216976,
          0.5111413589667924,
          -0.15609752801350163,
          -2.4429254121204935,
          -0.41236075686521195,
          -0.8921208446971892,
          -0.3415343111101214,
          1.27788943460529,
          -0.19375578696417853,
          0.5261336442900859,
          -1.002668939581087,
          2.2032125799401125,
          -0.17618635766898977,
          0.12628455991716694,
          0.1586375815419656,
          0.6857590793737517,
          0.345486423574641,
          0.41044445264360596,
          0.9932463757588236,
          -0.9153092798258289,
          0.1155976661986857
         ],
         "yaxis": "y8"
        },
        {
         "line": {
          "color": "rgba(128, 128, 128, 1.0)",
          "dash": "solid",
          "shape": "linear",
          "width": 1.3
         },
         "marker": {
          "size": 2,
          "symbol": "circle"
         },
         "mode": "markers",
         "name": "C",
         "text": "",
         "type": "scatter",
         "x": [
          0.10395791322237946,
          1.0907423101569562,
          -1.8023651034495587,
          0.1452796961840601,
          -0.8047590153347951,
          -1.2363607083110424,
          -1.533073210057116,
          0.8450512162615853,
          -1.833777418781113,
          0.12520778107159888,
          0.3170259452776536,
          -1.00956309234882,
          -0.3833966691606066,
          -0.37450811797226163,
          -0.05198633333678256,
          0.36472898788925007,
          1.7288167042934248,
          0.6090627068408083,
          -1.6268917312729543,
          -0.5958803396162193,
          0.22256691468192602,
          0.8064727120322517,
          1.9223841168509883,
          -0.921464297663518,
          1.3899181517467207,
          -1.7402808686813631,
          1.0427901020562544,
          -0.8672061261966549,
          -0.488206548771983,
          -1.7336935096327533,
          3.244925622032199,
          1.841750968380168,
          -0.49119101252950964,
          1.1853448809662257,
          0.6675123408061048,
          -1.437627889538169,
          -0.7450636517900513,
          -0.30151860773499123,
          -0.8671427788874422,
          1.1063875043347107,
          -0.26698316758204504,
          -1.649870588436951,
          -0.13895244826595793,
          0.031051274815732555,
          -0.7832155624085221,
          0.16178669856927996,
          -0.9382965322194335,
          0.4466791772128349,
          -0.15578635619915948,
          -1.5673289932174421,
          0.4919549985458554,
          -0.21504541416170153,
          0.1413190656527486,
          -0.9143680016986964,
          -0.7784995008704212,
          0.4779649038295718,
          1.5065125239154848,
          1.5389539286202367,
          1.3146020929586084,
          0.3810124335196379,
          1.4985550576693776,
          0.03859284362811156,
          0.4570321732592035,
          1.6657492904889124,
          1.770579715011796,
          -0.11161987472902953,
          1.4511060582998303,
          -0.24820849298660438,
          1.904973301524313,
          1.1692224023273332,
          -0.3491620787132832,
          -0.7141219970453385,
          -0.1623263949531894,
          0.14944754055839804,
          0.25019116466667546,
          0.19682162553617305,
          0.6692520415060931,
          -0.6958447951243778,
          0.08433454765442423,
          -0.5538825782042568,
          1.7467725048965241,
          -0.5095812259955649,
          -0.42512436009640775,
          0.4840214791946006,
          -1.6007136863955105,
          1.0499990825603565,
          0.6295142509558708,
          -0.442226614037453,
          -0.4550165591316354,
          0.6131877363513857,
          1.1247741199130217,
          -0.8279482111052545,
          1.0488516631647589,
          -1.1837813510152209,
          0.5477732226005055,
          0.4294375428232401,
          -0.03689138853667535,
          0.8878779293696469,
          -0.5501028512886033,
          -1.216210964468219
         ],
         "xaxis": "x9",
         "y": [
          -0.11715134862692887,
          -0.9238110035637704,
          -0.6341034707367625,
          -0.7039798297101952,
          0.41199222871472185,
          -0.570032950618832,
          0.44286081832136004,
          0.7346119453334629,
          -0.11517165410253062,
          0.5128885333693647,
          -1.0183936050162585,
          0.9175385646911961,
          0.9048989812665845,
          0.05140807601801332,
          0.6458854158532115,
          0.11693497003907732,
          0.31031827893619685,
          0.11070998165777231,
          0.31744754683913806,
          -1.650754519760574,
          0.5217491609271399,
          0.9517253811613039,
          -1.072694964737062,
          -0.45961187845013707,
          -0.2506686031378381,
          0.8864464083282674,
          -0.5247092530603333,
          -1.5295583910415216,
          -0.6460234674665981,
          0.7672801979487747,
          0.46044800932151836,
          -1.0752712846495762,
          -0.7717363145281667,
          0.28488309368206477,
          0.3458195540062791,
          0.418593287780798,
          0.660435989544501,
          0.543710213177274,
          0.2461450506077324,
          1.2990980984611662,
          -0.2979515843938551,
          -1.847753900969353,
          -1.0149605831144013,
          -0.5853364863823789,
          0.8933540154577488,
          0.286047793821163,
          -2.716594179114467,
          0.9415490229932579,
          -1.1532069213667147,
          0.2590380476354718,
          1.2007564596630067,
          0.012831467950238987,
          -0.10785047054045933,
          2.2163849306898658,
          -1.9696112408696487,
          -0.1730283623586726,
          1.3151428438596822,
          0.7891186338123123,
          -1.1732347865282835,
          0.28228264342221465,
          -1.250516452836501,
          0.8452991025741403,
          0.03213789105270297,
          -0.1750935112824887,
          -0.5202195702277532,
          0.01452010533380974,
          1.2647460311832521,
          0.5107180811211698,
          -0.3719069992456132,
          -1.719236574002592,
          0.37088921151428184,
          -0.7319962429039226,
          0.3660012735784033,
          0.7026101068082639,
          -0.8771081170019718,
          -1.0024339454169668,
          1.060348832118971,
          0.10426543228859139,
          0.6595400108972117,
          0.07239015369501688,
          -0.71338611629709,
          0.10545170913666903,
          1.1757127111541312,
          -0.12604104322434925,
          -0.11578817929838205,
          -1.2636423607947442,
          0.3270148993540921,
          0.0567620389256123,
          -0.9196433152353806,
          0.2200653007015978,
          1.0412558708427244,
          -1.378250277182545,
          -0.024372849211685126,
          -0.554316851828183,
          -0.992377748082647,
          0.028873090286391324,
          -1.2422036315931047,
          -0.14560088145351116,
          0.7019829641331473,
          -0.4637973277945155
         ],
         "yaxis": "y9"
        },
        {
         "line": {
          "color": "rgba(128, 128, 128, 1.0)",
          "dash": "solid",
          "shape": "linear",
          "width": 1.3
         },
         "marker": {
          "size": 2,
          "symbol": "circle"
         },
         "mode": "markers",
         "name": "C",
         "text": "",
         "type": "scatter",
         "x": [
          -0.4964199052766519,
          -0.16577690724505037,
          -0.06352090321925319,
          0.9195213492176749,
          0.05920945692515286,
          -1.5352387721000331,
          -1.1272581915748292,
          1.5037082437441256,
          0.25525024969292537,
          0.926990078214612,
          1.6091275728246384,
          1.435698623918543,
          0.7929430485448701,
          -1.8078167644107352,
          0.3872864424405,
          -0.5081756149338615,
          0.11157791814884271,
          -0.7470305306600676,
          0.48919705825920645,
          -0.9422629443606921,
          0.39389463746364245,
          0.13279241776625111,
          -0.396173763657729,
          1.1557994071707751,
          0.9826669783349918,
          -0.8763175484331243,
          0.03866612269199482,
          0.9133514387537464,
          1.210067697022933,
          0.9575896405404437,
          0.4446642857554738,
          -1.1836057054060263,
          0.4690710661659546,
          0.0825941321291548,
          -0.057323525876951595,
          -0.4140460470113184,
          -0.21346112501363587,
          -0.09758155608070679,
          1.0961830745473047,
          -3.2527834347876783,
          -1.0559859874065454,
          -1.2451669840676882,
          -2.3763630793887467,
          1.7406596934722733,
          1.1635839279907205,
          1.615733929496423,
          -0.6613818474443387,
          0.6441008999335095,
          0.2108681494964121,
          0.4532517241681963,
          0.39395980607470804,
          -1.3573655220385268,
          0.6556394659492624,
          0.015906823753299704,
          2.147919985281432,
          -0.306172943784595,
          -1.0004312140616298,
          -0.10416640047537958,
          0.5149288073107,
          0.7124745940564056,
          1.3798138145208825,
          0.4349085980837738,
          0.3292157090951729,
          0.626715652218343,
          -1.0654490499559879,
          -0.7326169106971796,
          1.1268040052754518,
          2.015396849191515,
          0.2772174604301982,
          -0.46067756949404814,
          1.5014212003411764,
          -0.03394335951066258,
          -1.2483981703632212,
          0.5858505897588245,
          0.3310923688884323,
          -0.1138787315153205,
          -0.9161409821576249,
          1.544558212804218,
          1.101864233216787,
          -0.6193672340216976,
          0.5111413589667924,
          -0.15609752801350163,
          -2.4429254121204935,
          -0.41236075686521195,
          -0.8921208446971892,
          -0.3415343111101214,
          1.27788943460529,
          -0.19375578696417853,
          0.5261336442900859,
          -1.002668939581087,
          2.2032125799401125,
          -0.17618635766898977,
          0.12628455991716694,
          0.1586375815419656,
          0.6857590793737517,
          0.345486423574641,
          0.41044445264360596,
          0.9932463757588236,
          -0.9153092798258289,
          0.1155976661986857
         ],
         "xaxis": "x10",
         "y": [
          -0.11715134862692887,
          -0.9238110035637704,
          -0.6341034707367625,
          -0.7039798297101952,
          0.41199222871472185,
          -0.570032950618832,
          0.44286081832136004,
          0.7346119453334629,
          -0.11517165410253062,
          0.5128885333693647,
          -1.0183936050162585,
          0.9175385646911961,
          0.9048989812665845,
          0.05140807601801332,
          0.6458854158532115,
          0.11693497003907732,
          0.31031827893619685,
          0.11070998165777231,
          0.31744754683913806,
          -1.650754519760574,
          0.5217491609271399,
          0.9517253811613039,
          -1.072694964737062,
          -0.45961187845013707,
          -0.2506686031378381,
          0.8864464083282674,
          -0.5247092530603333,
          -1.5295583910415216,
          -0.6460234674665981,
          0.7672801979487747,
          0.46044800932151836,
          -1.0752712846495762,
          -0.7717363145281667,
          0.28488309368206477,
          0.3458195540062791,
          0.418593287780798,
          0.660435989544501,
          0.543710213177274,
          0.2461450506077324,
          1.2990980984611662,
          -0.2979515843938551,
          -1.847753900969353,
          -1.0149605831144013,
          -0.5853364863823789,
          0.8933540154577488,
          0.286047793821163,
          -2.716594179114467,
          0.9415490229932579,
          -1.1532069213667147,
          0.2590380476354718,
          1.2007564596630067,
          0.012831467950238987,
          -0.10785047054045933,
          2.2163849306898658,
          -1.9696112408696487,
          -0.1730283623586726,
          1.3151428438596822,
          0.7891186338123123,
          -1.1732347865282835,
          0.28228264342221465,
          -1.250516452836501,
          0.8452991025741403,
          0.03213789105270297,
          -0.1750935112824887,
          -0.5202195702277532,
          0.01452010533380974,
          1.2647460311832521,
          0.5107180811211698,
          -0.3719069992456132,
          -1.719236574002592,
          0.37088921151428184,
          -0.7319962429039226,
          0.3660012735784033,
          0.7026101068082639,
          -0.8771081170019718,
          -1.0024339454169668,
          1.060348832118971,
          0.10426543228859139,
          0.6595400108972117,
          0.07239015369501688,
          -0.71338611629709,
          0.10545170913666903,
          1.1757127111541312,
          -0.12604104322434925,
          -0.11578817929838205,
          -1.2636423607947442,
          0.3270148993540921,
          0.0567620389256123,
          -0.9196433152353806,
          0.2200653007015978,
          1.0412558708427244,
          -1.378250277182545,
          -0.024372849211685126,
          -0.554316851828183,
          -0.992377748082647,
          0.028873090286391324,
          -1.2422036315931047,
          -0.14560088145351116,
          0.7019829641331473,
          -0.4637973277945155
         ],
         "yaxis": "y10"
        },
        {
         "histfunc": "count",
         "histnorm": "",
         "marker": {
          "color": "rgba(50, 171, 96, 1.0)",
          "line": {
           "color": "#4D5663",
           "width": 1.3
          }
         },
         "name": "C",
         "nbinsx": 10,
         "opacity": 0.8,
         "orientation": "v",
         "type": "histogram",
         "x": [
          -0.11715134862692887,
          -0.9238110035637704,
          -0.6341034707367625,
          -0.7039798297101952,
          0.41199222871472185,
          -0.570032950618832,
          0.44286081832136004,
          0.7346119453334629,
          -0.11517165410253062,
          0.5128885333693647,
          -1.0183936050162585,
          0.9175385646911961,
          0.9048989812665845,
          0.05140807601801332,
          0.6458854158532115,
          0.11693497003907732,
          0.31031827893619685,
          0.11070998165777231,
          0.31744754683913806,
          -1.650754519760574,
          0.5217491609271399,
          0.9517253811613039,
          -1.072694964737062,
          -0.45961187845013707,
          -0.2506686031378381,
          0.8864464083282674,
          -0.5247092530603333,
          -1.5295583910415216,
          -0.6460234674665981,
          0.7672801979487747,
          0.46044800932151836,
          -1.0752712846495762,
          -0.7717363145281667,
          0.28488309368206477,
          0.3458195540062791,
          0.418593287780798,
          0.660435989544501,
          0.543710213177274,
          0.2461450506077324,
          1.2990980984611662,
          -0.2979515843938551,
          -1.847753900969353,
          -1.0149605831144013,
          -0.5853364863823789,
          0.8933540154577488,
          0.286047793821163,
          -2.716594179114467,
          0.9415490229932579,
          -1.1532069213667147,
          0.2590380476354718,
          1.2007564596630067,
          0.012831467950238987,
          -0.10785047054045933,
          2.2163849306898658,
          -1.9696112408696487,
          -0.1730283623586726,
          1.3151428438596822,
          0.7891186338123123,
          -1.1732347865282835,
          0.28228264342221465,
          -1.250516452836501,
          0.8452991025741403,
          0.03213789105270297,
          -0.1750935112824887,
          -0.5202195702277532,
          0.01452010533380974,
          1.2647460311832521,
          0.5107180811211698,
          -0.3719069992456132,
          -1.719236574002592,
          0.37088921151428184,
          -0.7319962429039226,
          0.3660012735784033,
          0.7026101068082639,
          -0.8771081170019718,
          -1.0024339454169668,
          1.060348832118971,
          0.10426543228859139,
          0.6595400108972117,
          0.07239015369501688,
          -0.71338611629709,
          0.10545170913666903,
          1.1757127111541312,
          -0.12604104322434925,
          -0.11578817929838205,
          -1.2636423607947442,
          0.3270148993540921,
          0.0567620389256123,
          -0.9196433152353806,
          0.2200653007015978,
          1.0412558708427244,
          -1.378250277182545,
          -0.024372849211685126,
          -0.554316851828183,
          -0.992377748082647,
          0.028873090286391324,
          -1.2422036315931047,
          -0.14560088145351116,
          0.7019829641331473,
          -0.4637973277945155
         ],
         "xaxis": "x11",
         "yaxis": "y11"
        },
        {
         "line": {
          "color": "rgba(128, 128, 128, 1.0)",
          "dash": "solid",
          "shape": "linear",
          "width": 1.3
         },
         "marker": {
          "size": 2,
          "symbol": "circle"
         },
         "mode": "markers",
         "name": "C",
         "text": "",
         "type": "scatter",
         "x": [
          -1.0468370390753376,
          -1.0275583839052804,
          -0.2742018724450702,
          1.1731685518425736,
          -0.14439491190959836,
          1.078635354908124,
          1.388000416462823,
          0.7827203777436251,
          -0.7906137609668902,
          0.46261379365051,
          0.2671806476402405,
          1.1717037986875207,
          -0.39467245362080833,
          -1.7783181515565596,
          0.2098460247110677,
          -2.768145478092189,
          0.5142636222617464,
          0.45818864027023753,
          0.4396547912614004,
          0.5396905411942621,
          0.026964701470616425,
          -0.14524317746386037,
          0.9078597639160967,
          -0.45708272778737663,
          0.7880664048234807,
          -1.791085309090814,
          -1.0774442735690322,
          1.3019981941157739,
          0.49962454746872476,
          -0.668226139430762,
          0.36289562023515626,
          -0.9383352891231684,
          0.6377944279755422,
          -0.7298887080004163,
          0.3310056485823189,
          -0.5043922986678377,
          0.4959714197182736,
          -2.0073001241960826,
          0.8348676989771081,
          -0.47277211750612336,
          0.7678419039127863,
          -1.3117751936648872,
          -2.316181739956973,
          0.5731499529281376,
          0.010002706635069882,
          0.10627379791921063,
          0.4660230301538875,
          0.43830698972081283,
          1.529940498293144,
          -0.7507635842599895,
          0.11961953230763832,
          0.02404652694928732,
          -0.4423321117233319,
          -0.7946377759453179,
          0.4452473485692167,
          -1.6764663549445995,
          1.0716687660102449,
          -0.7588664879801049,
          -0.8144765527818432,
          2.804125312956174,
          -0.3412881986965423,
          0.22710698180422526,
          -0.5964332947017922,
          0.9560040100149169,
          0.7901628978990334,
          1.286999247666019,
          -0.3262649226406465,
          1.423851504872338,
          -0.4413095746286107,
          0.8270856567367172,
          -0.5568860067120459,
          -0.9630361617988186,
          -0.4166379491352016,
          1.9744636665480448,
          0.6761548167352016,
          1.1707856340947156,
          -0.26255328654517673,
          0.08133524676333527,
          0.3545868903715354,
          0.11730396517256124,
          1.0306548056766014,
          -0.024452872420551695,
          -3.175358065212561,
          0.09819457311291285,
          1.1309365185368176,
          1.096859069567687,
          -1.482449188509566,
          -0.5732676342982265,
          -1.325973103854073,
          -1.0449964870115107,
          0.13220492494701874,
          -0.08929070359984267,
          1.7774557980505143,
          -1.0363749573559036,
          -0.5459004298478335,
          -2.0114550641580196,
          0.8895634530171322,
          0.9827622407448601,
          0.6993020211449944,
          -0.6145532888902779
         ],
         "xaxis": "x12",
         "y": [
          -0.11715134862692887,
          -0.9238110035637704,
          -0.6341034707367625,
          -0.7039798297101952,
          0.41199222871472185,
          -0.570032950618832,
          0.44286081832136004,
          0.7346119453334629,
          -0.11517165410253062,
          0.5128885333693647,
          -1.0183936050162585,
          0.9175385646911961,
          0.9048989812665845,
          0.05140807601801332,
          0.6458854158532115,
          0.11693497003907732,
          0.31031827893619685,
          0.11070998165777231,
          0.31744754683913806,
          -1.650754519760574,
          0.5217491609271399,
          0.9517253811613039,
          -1.072694964737062,
          -0.45961187845013707,
          -0.2506686031378381,
          0.8864464083282674,
          -0.5247092530603333,
          -1.5295583910415216,
          -0.6460234674665981,
          0.7672801979487747,
          0.46044800932151836,
          -1.0752712846495762,
          -0.7717363145281667,
          0.28488309368206477,
          0.3458195540062791,
          0.418593287780798,
          0.660435989544501,
          0.543710213177274,
          0.2461450506077324,
          1.2990980984611662,
          -0.2979515843938551,
          -1.847753900969353,
          -1.0149605831144013,
          -0.5853364863823789,
          0.8933540154577488,
          0.286047793821163,
          -2.716594179114467,
          0.9415490229932579,
          -1.1532069213667147,
          0.2590380476354718,
          1.2007564596630067,
          0.012831467950238987,
          -0.10785047054045933,
          2.2163849306898658,
          -1.9696112408696487,
          -0.1730283623586726,
          1.3151428438596822,
          0.7891186338123123,
          -1.1732347865282835,
          0.28228264342221465,
          -1.250516452836501,
          0.8452991025741403,
          0.03213789105270297,
          -0.1750935112824887,
          -0.5202195702277532,
          0.01452010533380974,
          1.2647460311832521,
          0.5107180811211698,
          -0.3719069992456132,
          -1.719236574002592,
          0.37088921151428184,
          -0.7319962429039226,
          0.3660012735784033,
          0.7026101068082639,
          -0.8771081170019718,
          -1.0024339454169668,
          1.060348832118971,
          0.10426543228859139,
          0.6595400108972117,
          0.07239015369501688,
          -0.71338611629709,
          0.10545170913666903,
          1.1757127111541312,
          -0.12604104322434925,
          -0.11578817929838205,
          -1.2636423607947442,
          0.3270148993540921,
          0.0567620389256123,
          -0.9196433152353806,
          0.2200653007015978,
          1.0412558708427244,
          -1.378250277182545,
          -0.024372849211685126,
          -0.554316851828183,
          -0.992377748082647,
          0.028873090286391324,
          -1.2422036315931047,
          -0.14560088145351116,
          0.7019829641331473,
          -0.4637973277945155
         ],
         "yaxis": "y12"
        },
        {
         "line": {
          "color": "rgba(128, 128, 128, 1.0)",
          "dash": "solid",
          "shape": "linear",
          "width": 1.3
         },
         "marker": {
          "size": 2,
          "symbol": "circle"
         },
         "mode": "markers",
         "name": "D",
         "text": "",
         "type": "scatter",
         "x": [
          0.10395791322237946,
          1.0907423101569562,
          -1.8023651034495587,
          0.1452796961840601,
          -0.8047590153347951,
          -1.2363607083110424,
          -1.533073210057116,
          0.8450512162615853,
          -1.833777418781113,
          0.12520778107159888,
          0.3170259452776536,
          -1.00956309234882,
          -0.3833966691606066,
          -0.37450811797226163,
          -0.05198633333678256,
          0.36472898788925007,
          1.7288167042934248,
          0.6090627068408083,
          -1.6268917312729543,
          -0.5958803396162193,
          0.22256691468192602,
          0.8064727120322517,
          1.9223841168509883,
          -0.921464297663518,
          1.3899181517467207,
          -1.7402808686813631,
          1.0427901020562544,
          -0.8672061261966549,
          -0.488206548771983,
          -1.7336935096327533,
          3.244925622032199,
          1.841750968380168,
          -0.49119101252950964,
          1.1853448809662257,
          0.6675123408061048,
          -1.437627889538169,
          -0.7450636517900513,
          -0.30151860773499123,
          -0.8671427788874422,
          1.1063875043347107,
          -0.26698316758204504,
          -1.649870588436951,
          -0.13895244826595793,
          0.031051274815732555,
          -0.7832155624085221,
          0.16178669856927996,
          -0.9382965322194335,
          0.4466791772128349,
          -0.15578635619915948,
          -1.5673289932174421,
          0.4919549985458554,
          -0.21504541416170153,
          0.1413190656527486,
          -0.9143680016986964,
          -0.7784995008704212,
          0.4779649038295718,
          1.5065125239154848,
          1.5389539286202367,
          1.3146020929586084,
          0.3810124335196379,
          1.4985550576693776,
          0.03859284362811156,
          0.4570321732592035,
          1.6657492904889124,
          1.770579715011796,
          -0.11161987472902953,
          1.4511060582998303,
          -0.24820849298660438,
          1.904973301524313,
          1.1692224023273332,
          -0.3491620787132832,
          -0.7141219970453385,
          -0.1623263949531894,
          0.14944754055839804,
          0.25019116466667546,
          0.19682162553617305,
          0.6692520415060931,
          -0.6958447951243778,
          0.08433454765442423,
          -0.5538825782042568,
          1.7467725048965241,
          -0.5095812259955649,
          -0.42512436009640775,
          0.4840214791946006,
          -1.6007136863955105,
          1.0499990825603565,
          0.6295142509558708,
          -0.442226614037453,
          -0.4550165591316354,
          0.6131877363513857,
          1.1247741199130217,
          -0.8279482111052545,
          1.0488516631647589,
          -1.1837813510152209,
          0.5477732226005055,
          0.4294375428232401,
          -0.03689138853667535,
          0.8878779293696469,
          -0.5501028512886033,
          -1.216210964468219
         ],
         "xaxis": "x13",
         "y": [
          -1.0468370390753376,
          -1.0275583839052804,
          -0.2742018724450702,
          1.1731685518425736,
          -0.14439491190959836,
          1.078635354908124,
          1.388000416462823,
          0.7827203777436251,
          -0.7906137609668902,
          0.46261379365051,
          0.2671806476402405,
          1.1717037986875207,
          -0.39467245362080833,
          -1.7783181515565596,
          0.2098460247110677,
          -2.768145478092189,
          0.5142636222617464,
          0.45818864027023753,
          0.4396547912614004,
          0.5396905411942621,
          0.026964701470616425,
          -0.14524317746386037,
          0.9078597639160967,
          -0.45708272778737663,
          0.7880664048234807,
          -1.791085309090814,
          -1.0774442735690322,
          1.3019981941157739,
          0.49962454746872476,
          -0.668226139430762,
          0.36289562023515626,
          -0.9383352891231684,
          0.6377944279755422,
          -0.7298887080004163,
          0.3310056485823189,
          -0.5043922986678377,
          0.4959714197182736,
          -2.0073001241960826,
          0.8348676989771081,
          -0.47277211750612336,
          0.7678419039127863,
          -1.3117751936648872,
          -2.316181739956973,
          0.5731499529281376,
          0.010002706635069882,
          0.10627379791921063,
          0.4660230301538875,
          0.43830698972081283,
          1.529940498293144,
          -0.7507635842599895,
          0.11961953230763832,
          0.02404652694928732,
          -0.4423321117233319,
          -0.7946377759453179,
          0.4452473485692167,
          -1.6764663549445995,
          1.0716687660102449,
          -0.7588664879801049,
          -0.8144765527818432,
          2.804125312956174,
          -0.3412881986965423,
          0.22710698180422526,
          -0.5964332947017922,
          0.9560040100149169,
          0.7901628978990334,
          1.286999247666019,
          -0.3262649226406465,
          1.423851504872338,
          -0.4413095746286107,
          0.8270856567367172,
          -0.5568860067120459,
          -0.9630361617988186,
          -0.4166379491352016,
          1.9744636665480448,
          0.6761548167352016,
          1.1707856340947156,
          -0.26255328654517673,
          0.08133524676333527,
          0.3545868903715354,
          0.11730396517256124,
          1.0306548056766014,
          -0.024452872420551695,
          -3.175358065212561,
          0.09819457311291285,
          1.1309365185368176,
          1.096859069567687,
          -1.482449188509566,
          -0.5732676342982265,
          -1.325973103854073,
          -1.0449964870115107,
          0.13220492494701874,
          -0.08929070359984267,
          1.7774557980505143,
          -1.0363749573559036,
          -0.5459004298478335,
          -2.0114550641580196,
          0.8895634530171322,
          0.9827622407448601,
          0.6993020211449944,
          -0.6145532888902779
         ],
         "yaxis": "y13"
        },
        {
         "line": {
          "color": "rgba(128, 128, 128, 1.0)",
          "dash": "solid",
          "shape": "linear",
          "width": 1.3
         },
         "marker": {
          "size": 2,
          "symbol": "circle"
         },
         "mode": "markers",
         "name": "D",
         "text": "",
         "type": "scatter",
         "x": [
          -0.4964199052766519,
          -0.16577690724505037,
          -0.06352090321925319,
          0.9195213492176749,
          0.05920945692515286,
          -1.5352387721000331,
          -1.1272581915748292,
          1.5037082437441256,
          0.25525024969292537,
          0.926990078214612,
          1.6091275728246384,
          1.435698623918543,
          0.7929430485448701,
          -1.8078167644107352,
          0.3872864424405,
          -0.5081756149338615,
          0.11157791814884271,
          -0.7470305306600676,
          0.48919705825920645,
          -0.9422629443606921,
          0.39389463746364245,
          0.13279241776625111,
          -0.396173763657729,
          1.1557994071707751,
          0.9826669783349918,
          -0.8763175484331243,
          0.03866612269199482,
          0.9133514387537464,
          1.210067697022933,
          0.9575896405404437,
          0.4446642857554738,
          -1.1836057054060263,
          0.4690710661659546,
          0.0825941321291548,
          -0.057323525876951595,
          -0.4140460470113184,
          -0.21346112501363587,
          -0.09758155608070679,
          1.0961830745473047,
          -3.2527834347876783,
          -1.0559859874065454,
          -1.2451669840676882,
          -2.3763630793887467,
          1.7406596934722733,
          1.1635839279907205,
          1.615733929496423,
          -0.6613818474443387,
          0.6441008999335095,
          0.2108681494964121,
          0.4532517241681963,
          0.39395980607470804,
          -1.3573655220385268,
          0.6556394659492624,
          0.015906823753299704,
          2.147919985281432,
          -0.306172943784595,
          -1.0004312140616298,
          -0.10416640047537958,
          0.5149288073107,
          0.7124745940564056,
          1.3798138145208825,
          0.4349085980837738,
          0.3292157090951729,
          0.626715652218343,
          -1.0654490499559879,
          -0.7326169106971796,
          1.1268040052754518,
          2.015396849191515,
          0.2772174604301982,
          -0.46067756949404814,
          1.5014212003411764,
          -0.03394335951066258,
          -1.2483981703632212,
          0.5858505897588245,
          0.3310923688884323,
          -0.1138787315153205,
          -0.9161409821576249,
          1.544558212804218,
          1.101864233216787,
          -0.6193672340216976,
          0.5111413589667924,
          -0.15609752801350163,
          -2.4429254121204935,
          -0.41236075686521195,
          -0.8921208446971892,
          -0.3415343111101214,
          1.27788943460529,
          -0.19375578696417853,
          0.5261336442900859,
          -1.002668939581087,
          2.2032125799401125,
          -0.17618635766898977,
          0.12628455991716694,
          0.1586375815419656,
          0.6857590793737517,
          0.345486423574641,
          0.41044445264360596,
          0.9932463757588236,
          -0.9153092798258289,
          0.1155976661986857
         ],
         "xaxis": "x14",
         "y": [
          -1.0468370390753376,
          -1.0275583839052804,
          -0.2742018724450702,
          1.1731685518425736,
          -0.14439491190959836,
          1.078635354908124,
          1.388000416462823,
          0.7827203777436251,
          -0.7906137609668902,
          0.46261379365051,
          0.2671806476402405,
          1.1717037986875207,
          -0.39467245362080833,
          -1.7783181515565596,
          0.2098460247110677,
          -2.768145478092189,
          0.5142636222617464,
          0.45818864027023753,
          0.4396547912614004,
          0.5396905411942621,
          0.026964701470616425,
          -0.14524317746386037,
          0.9078597639160967,
          -0.45708272778737663,
          0.7880664048234807,
          -1.791085309090814,
          -1.0774442735690322,
          1.3019981941157739,
          0.49962454746872476,
          -0.668226139430762,
          0.36289562023515626,
          -0.9383352891231684,
          0.6377944279755422,
          -0.7298887080004163,
          0.3310056485823189,
          -0.5043922986678377,
          0.4959714197182736,
          -2.0073001241960826,
          0.8348676989771081,
          -0.47277211750612336,
          0.7678419039127863,
          -1.3117751936648872,
          -2.316181739956973,
          0.5731499529281376,
          0.010002706635069882,
          0.10627379791921063,
          0.4660230301538875,
          0.43830698972081283,
          1.529940498293144,
          -0.7507635842599895,
          0.11961953230763832,
          0.02404652694928732,
          -0.4423321117233319,
          -0.7946377759453179,
          0.4452473485692167,
          -1.6764663549445995,
          1.0716687660102449,
          -0.7588664879801049,
          -0.8144765527818432,
          2.804125312956174,
          -0.3412881986965423,
          0.22710698180422526,
          -0.5964332947017922,
          0.9560040100149169,
          0.7901628978990334,
          1.286999247666019,
          -0.3262649226406465,
          1.423851504872338,
          -0.4413095746286107,
          0.8270856567367172,
          -0.5568860067120459,
          -0.9630361617988186,
          -0.4166379491352016,
          1.9744636665480448,
          0.6761548167352016,
          1.1707856340947156,
          -0.26255328654517673,
          0.08133524676333527,
          0.3545868903715354,
          0.11730396517256124,
          1.0306548056766014,
          -0.024452872420551695,
          -3.175358065212561,
          0.09819457311291285,
          1.1309365185368176,
          1.096859069567687,
          -1.482449188509566,
          -0.5732676342982265,
          -1.325973103854073,
          -1.0449964870115107,
          0.13220492494701874,
          -0.08929070359984267,
          1.7774557980505143,
          -1.0363749573559036,
          -0.5459004298478335,
          -2.0114550641580196,
          0.8895634530171322,
          0.9827622407448601,
          0.6993020211449944,
          -0.6145532888902779
         ],
         "yaxis": "y14"
        },
        {
         "line": {
          "color": "rgba(128, 128, 128, 1.0)",
          "dash": "solid",
          "shape": "linear",
          "width": 1.3
         },
         "marker": {
          "size": 2,
          "symbol": "circle"
         },
         "mode": "markers",
         "name": "D",
         "text": "",
         "type": "scatter",
         "x": [
          -0.11715134862692887,
          -0.9238110035637704,
          -0.6341034707367625,
          -0.7039798297101952,
          0.41199222871472185,
          -0.570032950618832,
          0.44286081832136004,
          0.7346119453334629,
          -0.11517165410253062,
          0.5128885333693647,
          -1.0183936050162585,
          0.9175385646911961,
          0.9048989812665845,
          0.05140807601801332,
          0.6458854158532115,
          0.11693497003907732,
          0.31031827893619685,
          0.11070998165777231,
          0.31744754683913806,
          -1.650754519760574,
          0.5217491609271399,
          0.9517253811613039,
          -1.072694964737062,
          -0.45961187845013707,
          -0.2506686031378381,
          0.8864464083282674,
          -0.5247092530603333,
          -1.5295583910415216,
          -0.6460234674665981,
          0.7672801979487747,
          0.46044800932151836,
          -1.0752712846495762,
          -0.7717363145281667,
          0.28488309368206477,
          0.3458195540062791,
          0.418593287780798,
          0.660435989544501,
          0.543710213177274,
          0.2461450506077324,
          1.2990980984611662,
          -0.2979515843938551,
          -1.847753900969353,
          -1.0149605831144013,
          -0.5853364863823789,
          0.8933540154577488,
          0.286047793821163,
          -2.716594179114467,
          0.9415490229932579,
          -1.1532069213667147,
          0.2590380476354718,
          1.2007564596630067,
          0.012831467950238987,
          -0.10785047054045933,
          2.2163849306898658,
          -1.9696112408696487,
          -0.1730283623586726,
          1.3151428438596822,
          0.7891186338123123,
          -1.1732347865282835,
          0.28228264342221465,
          -1.250516452836501,
          0.8452991025741403,
          0.03213789105270297,
          -0.1750935112824887,
          -0.5202195702277532,
          0.01452010533380974,
          1.2647460311832521,
          0.5107180811211698,
          -0.3719069992456132,
          -1.719236574002592,
          0.37088921151428184,
          -0.7319962429039226,
          0.3660012735784033,
          0.7026101068082639,
          -0.8771081170019718,
          -1.0024339454169668,
          1.060348832118971,
          0.10426543228859139,
          0.6595400108972117,
          0.07239015369501688,
          -0.71338611629709,
          0.10545170913666903,
          1.1757127111541312,
          -0.12604104322434925,
          -0.11578817929838205,
          -1.2636423607947442,
          0.3270148993540921,
          0.0567620389256123,
          -0.9196433152353806,
          0.2200653007015978,
          1.0412558708427244,
          -1.378250277182545,
          -0.024372849211685126,
          -0.554316851828183,
          -0.992377748082647,
          0.028873090286391324,
          -1.2422036315931047,
          -0.14560088145351116,
          0.7019829641331473,
          -0.4637973277945155
         ],
         "xaxis": "x15",
         "y": [
          -1.0468370390753376,
          -1.0275583839052804,
          -0.2742018724450702,
          1.1731685518425736,
          -0.14439491190959836,
          1.078635354908124,
          1.388000416462823,
          0.7827203777436251,
          -0.7906137609668902,
          0.46261379365051,
          0.2671806476402405,
          1.1717037986875207,
          -0.39467245362080833,
          -1.7783181515565596,
          0.2098460247110677,
          -2.768145478092189,
          0.5142636222617464,
          0.45818864027023753,
          0.4396547912614004,
          0.5396905411942621,
          0.026964701470616425,
          -0.14524317746386037,
          0.9078597639160967,
          -0.45708272778737663,
          0.7880664048234807,
          -1.791085309090814,
          -1.0774442735690322,
          1.3019981941157739,
          0.49962454746872476,
          -0.668226139430762,
          0.36289562023515626,
          -0.9383352891231684,
          0.6377944279755422,
          -0.7298887080004163,
          0.3310056485823189,
          -0.5043922986678377,
          0.4959714197182736,
          -2.0073001241960826,
          0.8348676989771081,
          -0.47277211750612336,
          0.7678419039127863,
          -1.3117751936648872,
          -2.316181739956973,
          0.5731499529281376,
          0.010002706635069882,
          0.10627379791921063,
          0.4660230301538875,
          0.43830698972081283,
          1.529940498293144,
          -0.7507635842599895,
          0.11961953230763832,
          0.02404652694928732,
          -0.4423321117233319,
          -0.7946377759453179,
          0.4452473485692167,
          -1.6764663549445995,
          1.0716687660102449,
          -0.7588664879801049,
          -0.8144765527818432,
          2.804125312956174,
          -0.3412881986965423,
          0.22710698180422526,
          -0.5964332947017922,
          0.9560040100149169,
          0.7901628978990334,
          1.286999247666019,
          -0.3262649226406465,
          1.423851504872338,
          -0.4413095746286107,
          0.8270856567367172,
          -0.5568860067120459,
          -0.9630361617988186,
          -0.4166379491352016,
          1.9744636665480448,
          0.6761548167352016,
          1.1707856340947156,
          -0.26255328654517673,
          0.08133524676333527,
          0.3545868903715354,
          0.11730396517256124,
          1.0306548056766014,
          -0.024452872420551695,
          -3.175358065212561,
          0.09819457311291285,
          1.1309365185368176,
          1.096859069567687,
          -1.482449188509566,
          -0.5732676342982265,
          -1.325973103854073,
          -1.0449964870115107,
          0.13220492494701874,
          -0.08929070359984267,
          1.7774557980505143,
          -1.0363749573559036,
          -0.5459004298478335,
          -2.0114550641580196,
          0.8895634530171322,
          0.9827622407448601,
          0.6993020211449944,
          -0.6145532888902779
         ],
         "yaxis": "y15"
        },
        {
         "histfunc": "count",
         "histnorm": "",
         "marker": {
          "color": "rgba(128, 0, 128, 1.0)",
          "line": {
           "color": "#4D5663",
           "width": 1.3
          }
         },
         "name": "D",
         "nbinsx": 10,
         "opacity": 0.8,
         "orientation": "v",
         "type": "histogram",
         "x": [
          -1.0468370390753376,
          -1.0275583839052804,
          -0.2742018724450702,
          1.1731685518425736,
          -0.14439491190959836,
          1.078635354908124,
          1.388000416462823,
          0.7827203777436251,
          -0.7906137609668902,
          0.46261379365051,
          0.2671806476402405,
          1.1717037986875207,
          -0.39467245362080833,
          -1.7783181515565596,
          0.2098460247110677,
          -2.768145478092189,
          0.5142636222617464,
          0.45818864027023753,
          0.4396547912614004,
          0.5396905411942621,
          0.026964701470616425,
          -0.14524317746386037,
          0.9078597639160967,
          -0.45708272778737663,
          0.7880664048234807,
          -1.791085309090814,
          -1.0774442735690322,
          1.3019981941157739,
          0.49962454746872476,
          -0.668226139430762,
          0.36289562023515626,
          -0.9383352891231684,
          0.6377944279755422,
          -0.7298887080004163,
          0.3310056485823189,
          -0.5043922986678377,
          0.4959714197182736,
          -2.0073001241960826,
          0.8348676989771081,
          -0.47277211750612336,
          0.7678419039127863,
          -1.3117751936648872,
          -2.316181739956973,
          0.5731499529281376,
          0.010002706635069882,
          0.10627379791921063,
          0.4660230301538875,
          0.43830698972081283,
          1.529940498293144,
          -0.7507635842599895,
          0.11961953230763832,
          0.02404652694928732,
          -0.4423321117233319,
          -0.7946377759453179,
          0.4452473485692167,
          -1.6764663549445995,
          1.0716687660102449,
          -0.7588664879801049,
          -0.8144765527818432,
          2.804125312956174,
          -0.3412881986965423,
          0.22710698180422526,
          -0.5964332947017922,
          0.9560040100149169,
          0.7901628978990334,
          1.286999247666019,
          -0.3262649226406465,
          1.423851504872338,
          -0.4413095746286107,
          0.8270856567367172,
          -0.5568860067120459,
          -0.9630361617988186,
          -0.4166379491352016,
          1.9744636665480448,
          0.6761548167352016,
          1.1707856340947156,
          -0.26255328654517673,
          0.08133524676333527,
          0.3545868903715354,
          0.11730396517256124,
          1.0306548056766014,
          -0.024452872420551695,
          -3.175358065212561,
          0.09819457311291285,
          1.1309365185368176,
          1.096859069567687,
          -1.482449188509566,
          -0.5732676342982265,
          -1.325973103854073,
          -1.0449964870115107,
          0.13220492494701874,
          -0.08929070359984267,
          1.7774557980505143,
          -1.0363749573559036,
          -0.5459004298478335,
          -2.0114550641580196,
          0.8895634530171322,
          0.9827622407448601,
          0.6993020211449944,
          -0.6145532888902779
         ],
         "xaxis": "x16",
         "yaxis": "y16"
        }
       ],
       "layout": {
        "bargap": 0.02,
        "legend": {
         "bgcolor": "#F5F6F9",
         "font": {
          "color": "#4D5663"
         }
        },
        "paper_bgcolor": "#F5F6F9",
        "plot_bgcolor": "#F5F6F9",
        "showlegend": false,
        "template": {
         "data": {
          "bar": [
           {
            "error_x": {
             "color": "#2a3f5f"
            },
            "error_y": {
             "color": "#2a3f5f"
            },
            "marker": {
             "line": {
              "color": "#E5ECF6",
              "width": 0.5
             },
             "pattern": {
              "fillmode": "overlay",
              "size": 10,
              "solidity": 0.2
             }
            },
            "type": "bar"
           }
          ],
          "barpolar": [
           {
            "marker": {
             "line": {
              "color": "#E5ECF6",
              "width": 0.5
             },
             "pattern": {
              "fillmode": "overlay",
              "size": 10,
              "solidity": 0.2
             }
            },
            "type": "barpolar"
           }
          ],
          "carpet": [
           {
            "aaxis": {
             "endlinecolor": "#2a3f5f",
             "gridcolor": "white",
             "linecolor": "white",
             "minorgridcolor": "white",
             "startlinecolor": "#2a3f5f"
            },
            "baxis": {
             "endlinecolor": "#2a3f5f",
             "gridcolor": "white",
             "linecolor": "white",
             "minorgridcolor": "white",
             "startlinecolor": "#2a3f5f"
            },
            "type": "carpet"
           }
          ],
          "choropleth": [
           {
            "colorbar": {
             "outlinewidth": 0,
             "ticks": ""
            },
            "type": "choropleth"
           }
          ],
          "contour": [
           {
            "colorbar": {
             "outlinewidth": 0,
             "ticks": ""
            },
            "colorscale": [
             [
              0,
              "#0d0887"
             ],
             [
              0.1111111111111111,
              "#46039f"
             ],
             [
              0.2222222222222222,
              "#7201a8"
             ],
             [
              0.3333333333333333,
              "#9c179e"
             ],
             [
              0.4444444444444444,
              "#bd3786"
             ],
             [
              0.5555555555555556,
              "#d8576b"
             ],
             [
              0.6666666666666666,
              "#ed7953"
             ],
             [
              0.7777777777777778,
              "#fb9f3a"
             ],
             [
              0.8888888888888888,
              "#fdca26"
             ],
             [
              1,
              "#f0f921"
             ]
            ],
            "type": "contour"
           }
          ],
          "contourcarpet": [
           {
            "colorbar": {
             "outlinewidth": 0,
             "ticks": ""
            },
            "type": "contourcarpet"
           }
          ],
          "heatmap": [
           {
            "colorbar": {
             "outlinewidth": 0,
             "ticks": ""
            },
            "colorscale": [
             [
              0,
              "#0d0887"
             ],
             [
              0.1111111111111111,
              "#46039f"
             ],
             [
              0.2222222222222222,
              "#7201a8"
             ],
             [
              0.3333333333333333,
              "#9c179e"
             ],
             [
              0.4444444444444444,
              "#bd3786"
             ],
             [
              0.5555555555555556,
              "#d8576b"
             ],
             [
              0.6666666666666666,
              "#ed7953"
             ],
             [
              0.7777777777777778,
              "#fb9f3a"
             ],
             [
              0.8888888888888888,
              "#fdca26"
             ],
             [
              1,
              "#f0f921"
             ]
            ],
            "type": "heatmap"
           }
          ],
          "heatmapgl": [
           {
            "colorbar": {
             "outlinewidth": 0,
             "ticks": ""
            },
            "colorscale": [
             [
              0,
              "#0d0887"
             ],
             [
              0.1111111111111111,
              "#46039f"
             ],
             [
              0.2222222222222222,
              "#7201a8"
             ],
             [
              0.3333333333333333,
              "#9c179e"
             ],
             [
              0.4444444444444444,
              "#bd3786"
             ],
             [
              0.5555555555555556,
              "#d8576b"
             ],
             [
              0.6666666666666666,
              "#ed7953"
             ],
             [
              0.7777777777777778,
              "#fb9f3a"
             ],
             [
              0.8888888888888888,
              "#fdca26"
             ],
             [
              1,
              "#f0f921"
             ]
            ],
            "type": "heatmapgl"
           }
          ],
          "histogram": [
           {
            "marker": {
             "pattern": {
              "fillmode": "overlay",
              "size": 10,
              "solidity": 0.2
             }
            },
            "type": "histogram"
           }
          ],
          "histogram2d": [
           {
            "colorbar": {
             "outlinewidth": 0,
             "ticks": ""
            },
            "colorscale": [
             [
              0,
              "#0d0887"
             ],
             [
              0.1111111111111111,
              "#46039f"
             ],
             [
              0.2222222222222222,
              "#7201a8"
             ],
             [
              0.3333333333333333,
              "#9c179e"
             ],
             [
              0.4444444444444444,
              "#bd3786"
             ],
             [
              0.5555555555555556,
              "#d8576b"
             ],
             [
              0.6666666666666666,
              "#ed7953"
             ],
             [
              0.7777777777777778,
              "#fb9f3a"
             ],
             [
              0.8888888888888888,
              "#fdca26"
             ],
             [
              1,
              "#f0f921"
             ]
            ],
            "type": "histogram2d"
           }
          ],
          "histogram2dcontour": [
           {
            "colorbar": {
             "outlinewidth": 0,
             "ticks": ""
            },
            "colorscale": [
             [
              0,
              "#0d0887"
             ],
             [
              0.1111111111111111,
              "#46039f"
             ],
             [
              0.2222222222222222,
              "#7201a8"
             ],
             [
              0.3333333333333333,
              "#9c179e"
             ],
             [
              0.4444444444444444,
              "#bd3786"
             ],
             [
              0.5555555555555556,
              "#d8576b"
             ],
             [
              0.6666666666666666,
              "#ed7953"
             ],
             [
              0.7777777777777778,
              "#fb9f3a"
             ],
             [
              0.8888888888888888,
              "#fdca26"
             ],
             [
              1,
              "#f0f921"
             ]
            ],
            "type": "histogram2dcontour"
           }
          ],
          "mesh3d": [
           {
            "colorbar": {
             "outlinewidth": 0,
             "ticks": ""
            },
            "type": "mesh3d"
           }
          ],
          "parcoords": [
           {
            "line": {
             "colorbar": {
              "outlinewidth": 0,
              "ticks": ""
             }
            },
            "type": "parcoords"
           }
          ],
          "pie": [
           {
            "automargin": true,
            "type": "pie"
           }
          ],
          "scatter": [
           {
            "fillpattern": {
             "fillmode": "overlay",
             "size": 10,
             "solidity": 0.2
            },
            "type": "scatter"
           }
          ],
          "scatter3d": [
           {
            "line": {
             "colorbar": {
              "outlinewidth": 0,
              "ticks": ""
             }
            },
            "marker": {
             "colorbar": {
              "outlinewidth": 0,
              "ticks": ""
             }
            },
            "type": "scatter3d"
           }
          ],
          "scattercarpet": [
           {
            "marker": {
             "colorbar": {
              "outlinewidth": 0,
              "ticks": ""
             }
            },
            "type": "scattercarpet"
           }
          ],
          "scattergeo": [
           {
            "marker": {
             "colorbar": {
              "outlinewidth": 0,
              "ticks": ""
             }
            },
            "type": "scattergeo"
           }
          ],
          "scattergl": [
           {
            "marker": {
             "colorbar": {
              "outlinewidth": 0,
              "ticks": ""
             }
            },
            "type": "scattergl"
           }
          ],
          "scattermapbox": [
           {
            "marker": {
             "colorbar": {
              "outlinewidth": 0,
              "ticks": ""
             }
            },
            "type": "scattermapbox"
           }
          ],
          "scatterpolar": [
           {
            "marker": {
             "colorbar": {
              "outlinewidth": 0,
              "ticks": ""
             }
            },
            "type": "scatterpolar"
           }
          ],
          "scatterpolargl": [
           {
            "marker": {
             "colorbar": {
              "outlinewidth": 0,
              "ticks": ""
             }
            },
            "type": "scatterpolargl"
           }
          ],
          "scatterternary": [
           {
            "marker": {
             "colorbar": {
              "outlinewidth": 0,
              "ticks": ""
             }
            },
            "type": "scatterternary"
           }
          ],
          "surface": [
           {
            "colorbar": {
             "outlinewidth": 0,
             "ticks": ""
            },
            "colorscale": [
             [
              0,
              "#0d0887"
             ],
             [
              0.1111111111111111,
              "#46039f"
             ],
             [
              0.2222222222222222,
              "#7201a8"
             ],
             [
              0.3333333333333333,
              "#9c179e"
             ],
             [
              0.4444444444444444,
              "#bd3786"
             ],
             [
              0.5555555555555556,
              "#d8576b"
             ],
             [
              0.6666666666666666,
              "#ed7953"
             ],
             [
              0.7777777777777778,
              "#fb9f3a"
             ],
             [
              0.8888888888888888,
              "#fdca26"
             ],
             [
              1,
              "#f0f921"
             ]
            ],
            "type": "surface"
           }
          ],
          "table": [
           {
            "cells": {
             "fill": {
              "color": "#EBF0F8"
             },
             "line": {
              "color": "white"
             }
            },
            "header": {
             "fill": {
              "color": "#C8D4E3"
             },
             "line": {
              "color": "white"
             }
            },
            "type": "table"
           }
          ]
         },
         "layout": {
          "annotationdefaults": {
           "arrowcolor": "#2a3f5f",
           "arrowhead": 0,
           "arrowwidth": 1
          },
          "autotypenumbers": "strict",
          "coloraxis": {
           "colorbar": {
            "outlinewidth": 0,
            "ticks": ""
           }
          },
          "colorscale": {
           "diverging": [
            [
             0,
             "#8e0152"
            ],
            [
             0.1,
             "#c51b7d"
            ],
            [
             0.2,
             "#de77ae"
            ],
            [
             0.3,
             "#f1b6da"
            ],
            [
             0.4,
             "#fde0ef"
            ],
            [
             0.5,
             "#f7f7f7"
            ],
            [
             0.6,
             "#e6f5d0"
            ],
            [
             0.7,
             "#b8e186"
            ],
            [
             0.8,
             "#7fbc41"
            ],
            [
             0.9,
             "#4d9221"
            ],
            [
             1,
             "#276419"
            ]
           ],
           "sequential": [
            [
             0,
             "#0d0887"
            ],
            [
             0.1111111111111111,
             "#46039f"
            ],
            [
             0.2222222222222222,
             "#7201a8"
            ],
            [
             0.3333333333333333,
             "#9c179e"
            ],
            [
             0.4444444444444444,
             "#bd3786"
            ],
            [
             0.5555555555555556,
             "#d8576b"
            ],
            [
             0.6666666666666666,
             "#ed7953"
            ],
            [
             0.7777777777777778,
             "#fb9f3a"
            ],
            [
             0.8888888888888888,
             "#fdca26"
            ],
            [
             1,
             "#f0f921"
            ]
           ],
           "sequentialminus": [
            [
             0,
             "#0d0887"
            ],
            [
             0.1111111111111111,
             "#46039f"
            ],
            [
             0.2222222222222222,
             "#7201a8"
            ],
            [
             0.3333333333333333,
             "#9c179e"
            ],
            [
             0.4444444444444444,
             "#bd3786"
            ],
            [
             0.5555555555555556,
             "#d8576b"
            ],
            [
             0.6666666666666666,
             "#ed7953"
            ],
            [
             0.7777777777777778,
             "#fb9f3a"
            ],
            [
             0.8888888888888888,
             "#fdca26"
            ],
            [
             1,
             "#f0f921"
            ]
           ]
          },
          "colorway": [
           "#636efa",
           "#EF553B",
           "#00cc96",
           "#ab63fa",
           "#FFA15A",
           "#19d3f3",
           "#FF6692",
           "#B6E880",
           "#FF97FF",
           "#FECB52"
          ],
          "font": {
           "color": "#2a3f5f"
          },
          "geo": {
           "bgcolor": "white",
           "lakecolor": "white",
           "landcolor": "#E5ECF6",
           "showlakes": true,
           "showland": true,
           "subunitcolor": "white"
          },
          "hoverlabel": {
           "align": "left"
          },
          "hovermode": "closest",
          "mapbox": {
           "style": "light"
          },
          "paper_bgcolor": "white",
          "plot_bgcolor": "#E5ECF6",
          "polar": {
           "angularaxis": {
            "gridcolor": "white",
            "linecolor": "white",
            "ticks": ""
           },
           "bgcolor": "#E5ECF6",
           "radialaxis": {
            "gridcolor": "white",
            "linecolor": "white",
            "ticks": ""
           }
          },
          "scene": {
           "xaxis": {
            "backgroundcolor": "#E5ECF6",
            "gridcolor": "white",
            "gridwidth": 2,
            "linecolor": "white",
            "showbackground": true,
            "ticks": "",
            "zerolinecolor": "white"
           },
           "yaxis": {
            "backgroundcolor": "#E5ECF6",
            "gridcolor": "white",
            "gridwidth": 2,
            "linecolor": "white",
            "showbackground": true,
            "ticks": "",
            "zerolinecolor": "white"
           },
           "zaxis": {
            "backgroundcolor": "#E5ECF6",
            "gridcolor": "white",
            "gridwidth": 2,
            "linecolor": "white",
            "showbackground": true,
            "ticks": "",
            "zerolinecolor": "white"
           }
          },
          "shapedefaults": {
           "line": {
            "color": "#2a3f5f"
           }
          },
          "ternary": {
           "aaxis": {
            "gridcolor": "white",
            "linecolor": "white",
            "ticks": ""
           },
           "baxis": {
            "gridcolor": "white",
            "linecolor": "white",
            "ticks": ""
           },
           "bgcolor": "#E5ECF6",
           "caxis": {
            "gridcolor": "white",
            "linecolor": "white",
            "ticks": ""
           }
          },
          "title": {
           "x": 0.05
          },
          "xaxis": {
           "automargin": true,
           "gridcolor": "white",
           "linecolor": "white",
           "ticks": "",
           "title": {
            "standoff": 15
           },
           "zerolinecolor": "white",
           "zerolinewidth": 2
          },
          "yaxis": {
           "automargin": true,
           "gridcolor": "white",
           "linecolor": "white",
           "ticks": "",
           "title": {
            "standoff": 15
           },
           "zerolinecolor": "white",
           "zerolinewidth": 2
          }
         }
        },
        "title": {
         "font": {
          "color": "#4D5663"
         }
        },
        "xaxis": {
         "anchor": "y",
         "domain": [
          0,
          0.2125
         ],
         "gridcolor": "#E1E5ED",
         "showgrid": false,
         "tickfont": {
          "color": "#4D5663"
         },
         "title": {
          "font": {
           "color": "#4D5663"
          },
          "text": ""
         },
         "zerolinecolor": "#E1E5ED"
        },
        "xaxis10": {
         "anchor": "y10",
         "domain": [
          0.2625,
          0.475
         ],
         "gridcolor": "#E1E5ED",
         "showgrid": false,
         "tickfont": {
          "color": "#4D5663"
         },
         "title": {
          "font": {
           "color": "#4D5663"
          },
          "text": ""
         },
         "zerolinecolor": "#E1E5ED"
        },
        "xaxis11": {
         "anchor": "y11",
         "domain": [
          0.525,
          0.7375
         ],
         "gridcolor": "#E1E5ED",
         "showgrid": false,
         "tickfont": {
          "color": "#4D5663"
         },
         "title": {
          "font": {
           "color": "#4D5663"
          },
          "text": ""
         },
         "zerolinecolor": "#E1E5ED"
        },
        "xaxis12": {
         "anchor": "y12",
         "domain": [
          0.7875,
          1
         ],
         "gridcolor": "#E1E5ED",
         "showgrid": false,
         "tickfont": {
          "color": "#4D5663"
         },
         "title": {
          "font": {
           "color": "#4D5663"
          },
          "text": ""
         },
         "zerolinecolor": "#E1E5ED"
        },
        "xaxis13": {
         "anchor": "y13",
         "domain": [
          0,
          0.2125
         ],
         "gridcolor": "#E1E5ED",
         "showgrid": false,
         "tickfont": {
          "color": "#4D5663"
         },
         "title": {
          "font": {
           "color": "#4D5663"
          },
          "text": ""
         },
         "zerolinecolor": "#E1E5ED"
        },
        "xaxis14": {
         "anchor": "y14",
         "domain": [
          0.2625,
          0.475
         ],
         "gridcolor": "#E1E5ED",
         "showgrid": false,
         "tickfont": {
          "color": "#4D5663"
         },
         "title": {
          "font": {
           "color": "#4D5663"
          },
          "text": ""
         },
         "zerolinecolor": "#E1E5ED"
        },
        "xaxis15": {
         "anchor": "y15",
         "domain": [
          0.525,
          0.7375
         ],
         "gridcolor": "#E1E5ED",
         "showgrid": false,
         "tickfont": {
          "color": "#4D5663"
         },
         "title": {
          "font": {
           "color": "#4D5663"
          },
          "text": ""
         },
         "zerolinecolor": "#E1E5ED"
        },
        "xaxis16": {
         "anchor": "y16",
         "domain": [
          0.7875,
          1
         ],
         "gridcolor": "#E1E5ED",
         "showgrid": false,
         "tickfont": {
          "color": "#4D5663"
         },
         "title": {
          "font": {
           "color": "#4D5663"
          },
          "text": ""
         },
         "zerolinecolor": "#E1E5ED"
        },
        "xaxis2": {
         "anchor": "y2",
         "domain": [
          0.2625,
          0.475
         ],
         "gridcolor": "#E1E5ED",
         "showgrid": false,
         "tickfont": {
          "color": "#4D5663"
         },
         "title": {
          "font": {
           "color": "#4D5663"
          },
          "text": ""
         },
         "zerolinecolor": "#E1E5ED"
        },
        "xaxis3": {
         "anchor": "y3",
         "domain": [
          0.525,
          0.7375
         ],
         "gridcolor": "#E1E5ED",
         "showgrid": false,
         "tickfont": {
          "color": "#4D5663"
         },
         "title": {
          "font": {
           "color": "#4D5663"
          },
          "text": ""
         },
         "zerolinecolor": "#E1E5ED"
        },
        "xaxis4": {
         "anchor": "y4",
         "domain": [
          0.7875,
          1
         ],
         "gridcolor": "#E1E5ED",
         "showgrid": false,
         "tickfont": {
          "color": "#4D5663"
         },
         "title": {
          "font": {
           "color": "#4D5663"
          },
          "text": ""
         },
         "zerolinecolor": "#E1E5ED"
        },
        "xaxis5": {
         "anchor": "y5",
         "domain": [
          0,
          0.2125
         ],
         "gridcolor": "#E1E5ED",
         "showgrid": false,
         "tickfont": {
          "color": "#4D5663"
         },
         "title": {
          "font": {
           "color": "#4D5663"
          },
          "text": ""
         },
         "zerolinecolor": "#E1E5ED"
        },
        "xaxis6": {
         "anchor": "y6",
         "domain": [
          0.2625,
          0.475
         ],
         "gridcolor": "#E1E5ED",
         "showgrid": false,
         "tickfont": {
          "color": "#4D5663"
         },
         "title": {
          "font": {
           "color": "#4D5663"
          },
          "text": ""
         },
         "zerolinecolor": "#E1E5ED"
        },
        "xaxis7": {
         "anchor": "y7",
         "domain": [
          0.525,
          0.7375
         ],
         "gridcolor": "#E1E5ED",
         "showgrid": false,
         "tickfont": {
          "color": "#4D5663"
         },
         "title": {
          "font": {
           "color": "#4D5663"
          },
          "text": ""
         },
         "zerolinecolor": "#E1E5ED"
        },
        "xaxis8": {
         "anchor": "y8",
         "domain": [
          0.7875,
          1
         ],
         "gridcolor": "#E1E5ED",
         "showgrid": false,
         "tickfont": {
          "color": "#4D5663"
         },
         "title": {
          "font": {
           "color": "#4D5663"
          },
          "text": ""
         },
         "zerolinecolor": "#E1E5ED"
        },
        "xaxis9": {
         "anchor": "y9",
         "domain": [
          0,
          0.2125
         ],
         "gridcolor": "#E1E5ED",
         "showgrid": false,
         "tickfont": {
          "color": "#4D5663"
         },
         "title": {
          "font": {
           "color": "#4D5663"
          },
          "text": ""
         },
         "zerolinecolor": "#E1E5ED"
        },
        "yaxis": {
         "anchor": "x",
         "domain": [
          0.8025,
          1
         ],
         "gridcolor": "#E1E5ED",
         "showgrid": false,
         "tickfont": {
          "color": "#4D5663"
         },
         "title": {
          "font": {
           "color": "#4D5663"
          },
          "text": ""
         },
         "zerolinecolor": "#E1E5ED"
        },
        "yaxis10": {
         "anchor": "x10",
         "domain": [
          0.2675,
          0.465
         ],
         "gridcolor": "#E1E5ED",
         "showgrid": false,
         "tickfont": {
          "color": "#4D5663"
         },
         "title": {
          "font": {
           "color": "#4D5663"
          },
          "text": ""
         },
         "zerolinecolor": "#E1E5ED"
        },
        "yaxis11": {
         "anchor": "x11",
         "domain": [
          0.2675,
          0.465
         ],
         "gridcolor": "#E1E5ED",
         "showgrid": false,
         "tickfont": {
          "color": "#4D5663"
         },
         "title": {
          "font": {
           "color": "#4D5663"
          },
          "text": ""
         },
         "zerolinecolor": "#E1E5ED"
        },
        "yaxis12": {
         "anchor": "x12",
         "domain": [
          0.2675,
          0.465
         ],
         "gridcolor": "#E1E5ED",
         "showgrid": false,
         "tickfont": {
          "color": "#4D5663"
         },
         "title": {
          "font": {
           "color": "#4D5663"
          },
          "text": ""
         },
         "zerolinecolor": "#E1E5ED"
        },
        "yaxis13": {
         "anchor": "x13",
         "domain": [
          0,
          0.1975
         ],
         "gridcolor": "#E1E5ED",
         "showgrid": false,
         "tickfont": {
          "color": "#4D5663"
         },
         "title": {
          "font": {
           "color": "#4D5663"
          },
          "text": ""
         },
         "zerolinecolor": "#E1E5ED"
        },
        "yaxis14": {
         "anchor": "x14",
         "domain": [
          0,
          0.1975
         ],
         "gridcolor": "#E1E5ED",
         "showgrid": false,
         "tickfont": {
          "color": "#4D5663"
         },
         "title": {
          "font": {
           "color": "#4D5663"
          },
          "text": ""
         },
         "zerolinecolor": "#E1E5ED"
        },
        "yaxis15": {
         "anchor": "x15",
         "domain": [
          0,
          0.1975
         ],
         "gridcolor": "#E1E5ED",
         "showgrid": false,
         "tickfont": {
          "color": "#4D5663"
         },
         "title": {
          "font": {
           "color": "#4D5663"
          },
          "text": ""
         },
         "zerolinecolor": "#E1E5ED"
        },
        "yaxis16": {
         "anchor": "x16",
         "domain": [
          0,
          0.1975
         ],
         "gridcolor": "#E1E5ED",
         "showgrid": false,
         "tickfont": {
          "color": "#4D5663"
         },
         "title": {
          "font": {
           "color": "#4D5663"
          },
          "text": ""
         },
         "zerolinecolor": "#E1E5ED"
        },
        "yaxis2": {
         "anchor": "x2",
         "domain": [
          0.8025,
          1
         ],
         "gridcolor": "#E1E5ED",
         "showgrid": false,
         "tickfont": {
          "color": "#4D5663"
         },
         "title": {
          "font": {
           "color": "#4D5663"
          },
          "text": ""
         },
         "zerolinecolor": "#E1E5ED"
        },
        "yaxis3": {
         "anchor": "x3",
         "domain": [
          0.8025,
          1
         ],
         "gridcolor": "#E1E5ED",
         "showgrid": false,
         "tickfont": {
          "color": "#4D5663"
         },
         "title": {
          "font": {
           "color": "#4D5663"
          },
          "text": ""
         },
         "zerolinecolor": "#E1E5ED"
        },
        "yaxis4": {
         "anchor": "x4",
         "domain": [
          0.8025,
          1
         ],
         "gridcolor": "#E1E5ED",
         "showgrid": false,
         "tickfont": {
          "color": "#4D5663"
         },
         "title": {
          "font": {
           "color": "#4D5663"
          },
          "text": ""
         },
         "zerolinecolor": "#E1E5ED"
        },
        "yaxis5": {
         "anchor": "x5",
         "domain": [
          0.535,
          0.7325
         ],
         "gridcolor": "#E1E5ED",
         "showgrid": false,
         "tickfont": {
          "color": "#4D5663"
         },
         "title": {
          "font": {
           "color": "#4D5663"
          },
          "text": ""
         },
         "zerolinecolor": "#E1E5ED"
        },
        "yaxis6": {
         "anchor": "x6",
         "domain": [
          0.535,
          0.7325
         ],
         "gridcolor": "#E1E5ED",
         "showgrid": false,
         "tickfont": {
          "color": "#4D5663"
         },
         "title": {
          "font": {
           "color": "#4D5663"
          },
          "text": ""
         },
         "zerolinecolor": "#E1E5ED"
        },
        "yaxis7": {
         "anchor": "x7",
         "domain": [
          0.535,
          0.7325
         ],
         "gridcolor": "#E1E5ED",
         "showgrid": false,
         "tickfont": {
          "color": "#4D5663"
         },
         "title": {
          "font": {
           "color": "#4D5663"
          },
          "text": ""
         },
         "zerolinecolor": "#E1E5ED"
        },
        "yaxis8": {
         "anchor": "x8",
         "domain": [
          0.535,
          0.7325
         ],
         "gridcolor": "#E1E5ED",
         "showgrid": false,
         "tickfont": {
          "color": "#4D5663"
         },
         "title": {
          "font": {
           "color": "#4D5663"
          },
          "text": ""
         },
         "zerolinecolor": "#E1E5ED"
        },
        "yaxis9": {
         "anchor": "x9",
         "domain": [
          0.2675,
          0.465
         ],
         "gridcolor": "#E1E5ED",
         "showgrid": false,
         "tickfont": {
          "color": "#4D5663"
         },
         "title": {
          "font": {
           "color": "#4D5663"
          },
          "text": ""
         },
         "zerolinecolor": "#E1E5ED"
        }
       }
      },
      "text/html": [
       "<div>                            <div id=\"9e40bd8c-59cb-47e1-a2fd-137f4fd26978\" class=\"plotly-graph-div\" style=\"height:525px; width:100%;\"></div>            <script type=\"text/javascript\">                require([\"plotly\"], function(Plotly) {                    window.PLOTLYENV=window.PLOTLYENV || {};\n",
       "                    window.PLOTLYENV.BASE_URL='https://plot.ly';                                    if (document.getElementById(\"9e40bd8c-59cb-47e1-a2fd-137f4fd26978\")) {                    Plotly.newPlot(                        \"9e40bd8c-59cb-47e1-a2fd-137f4fd26978\",                        [{\"histfunc\":\"count\",\"histnorm\":\"\",\"marker\":{\"color\":\"rgba(255, 153, 51, 1.0)\",\"line\":{\"color\":\"#4D5663\",\"width\":1.3}},\"name\":\"A\",\"nbinsx\":10,\"opacity\":0.8,\"orientation\":\"v\",\"x\":[0.10395791322237946,1.0907423101569562,-1.8023651034495587,0.1452796961840601,-0.8047590153347951,-1.2363607083110424,-1.533073210057116,0.8450512162615853,-1.833777418781113,0.12520778107159888,0.3170259452776536,-1.00956309234882,-0.3833966691606066,-0.37450811797226163,-0.05198633333678256,0.36472898788925007,1.7288167042934248,0.6090627068408083,-1.6268917312729543,-0.5958803396162193,0.22256691468192602,0.8064727120322517,1.9223841168509883,-0.921464297663518,1.3899181517467207,-1.7402808686813631,1.0427901020562544,-0.8672061261966549,-0.488206548771983,-1.7336935096327533,3.244925622032199,1.841750968380168,-0.49119101252950964,1.1853448809662257,0.6675123408061048,-1.437627889538169,-0.7450636517900513,-0.30151860773499123,-0.8671427788874422,1.1063875043347107,-0.26698316758204504,-1.649870588436951,-0.13895244826595793,0.031051274815732555,-0.7832155624085221,0.16178669856927996,-0.9382965322194335,0.4466791772128349,-0.15578635619915948,-1.5673289932174421,0.4919549985458554,-0.21504541416170153,0.1413190656527486,-0.9143680016986964,-0.7784995008704212,0.4779649038295718,1.5065125239154848,1.5389539286202367,1.3146020929586084,0.3810124335196379,1.4985550576693776,0.03859284362811156,0.4570321732592035,1.6657492904889124,1.770579715011796,-0.11161987472902953,1.4511060582998303,-0.24820849298660438,1.904973301524313,1.1692224023273332,-0.3491620787132832,-0.7141219970453385,-0.1623263949531894,0.14944754055839804,0.25019116466667546,0.19682162553617305,0.6692520415060931,-0.6958447951243778,0.08433454765442423,-0.5538825782042568,1.7467725048965241,-0.5095812259955649,-0.42512436009640775,0.4840214791946006,-1.6007136863955105,1.0499990825603565,0.6295142509558708,-0.442226614037453,-0.4550165591316354,0.6131877363513857,1.1247741199130217,-0.8279482111052545,1.0488516631647589,-1.1837813510152209,0.5477732226005055,0.4294375428232401,-0.03689138853667535,0.8878779293696469,-0.5501028512886033,-1.216210964468219],\"xaxis\":\"x\",\"yaxis\":\"y\",\"type\":\"histogram\"},{\"line\":{\"color\":\"rgba(128, 128, 128, 1.0)\",\"dash\":\"solid\",\"shape\":\"linear\",\"width\":1.3},\"marker\":{\"size\":2,\"symbol\":\"circle\"},\"mode\":\"markers\",\"name\":\"A\",\"text\":\"\",\"x\":[-0.4964199052766519,-0.16577690724505037,-0.06352090321925319,0.9195213492176749,0.05920945692515286,-1.5352387721000331,-1.1272581915748292,1.5037082437441256,0.25525024969292537,0.926990078214612,1.6091275728246384,1.435698623918543,0.7929430485448701,-1.8078167644107352,0.3872864424405,-0.5081756149338615,0.11157791814884271,-0.7470305306600676,0.48919705825920645,-0.9422629443606921,0.39389463746364245,0.13279241776625111,-0.396173763657729,1.1557994071707751,0.9826669783349918,-0.8763175484331243,0.03866612269199482,0.9133514387537464,1.210067697022933,0.9575896405404437,0.4446642857554738,-1.1836057054060263,0.4690710661659546,0.0825941321291548,-0.057323525876951595,-0.4140460470113184,-0.21346112501363587,-0.09758155608070679,1.0961830745473047,-3.2527834347876783,-1.0559859874065454,-1.2451669840676882,-2.3763630793887467,1.7406596934722733,1.1635839279907205,1.615733929496423,-0.6613818474443387,0.6441008999335095,0.2108681494964121,0.4532517241681963,0.39395980607470804,-1.3573655220385268,0.6556394659492624,0.015906823753299704,2.147919985281432,-0.306172943784595,-1.0004312140616298,-0.10416640047537958,0.5149288073107,0.7124745940564056,1.3798138145208825,0.4349085980837738,0.3292157090951729,0.626715652218343,-1.0654490499559879,-0.7326169106971796,1.1268040052754518,2.015396849191515,0.2772174604301982,-0.46067756949404814,1.5014212003411764,-0.03394335951066258,-1.2483981703632212,0.5858505897588245,0.3310923688884323,-0.1138787315153205,-0.9161409821576249,1.544558212804218,1.101864233216787,-0.6193672340216976,0.5111413589667924,-0.15609752801350163,-2.4429254121204935,-0.41236075686521195,-0.8921208446971892,-0.3415343111101214,1.27788943460529,-0.19375578696417853,0.5261336442900859,-1.002668939581087,2.2032125799401125,-0.17618635766898977,0.12628455991716694,0.1586375815419656,0.6857590793737517,0.345486423574641,0.41044445264360596,0.9932463757588236,-0.9153092798258289,0.1155976661986857],\"xaxis\":\"x2\",\"y\":[0.10395791322237946,1.0907423101569562,-1.8023651034495587,0.1452796961840601,-0.8047590153347951,-1.2363607083110424,-1.533073210057116,0.8450512162615853,-1.833777418781113,0.12520778107159888,0.3170259452776536,-1.00956309234882,-0.3833966691606066,-0.37450811797226163,-0.05198633333678256,0.36472898788925007,1.7288167042934248,0.6090627068408083,-1.6268917312729543,-0.5958803396162193,0.22256691468192602,0.8064727120322517,1.9223841168509883,-0.921464297663518,1.3899181517467207,-1.7402808686813631,1.0427901020562544,-0.8672061261966549,-0.488206548771983,-1.7336935096327533,3.244925622032199,1.841750968380168,-0.49119101252950964,1.1853448809662257,0.6675123408061048,-1.437627889538169,-0.7450636517900513,-0.30151860773499123,-0.8671427788874422,1.1063875043347107,-0.26698316758204504,-1.649870588436951,-0.13895244826595793,0.031051274815732555,-0.7832155624085221,0.16178669856927996,-0.9382965322194335,0.4466791772128349,-0.15578635619915948,-1.5673289932174421,0.4919549985458554,-0.21504541416170153,0.1413190656527486,-0.9143680016986964,-0.7784995008704212,0.4779649038295718,1.5065125239154848,1.5389539286202367,1.3146020929586084,0.3810124335196379,1.4985550576693776,0.03859284362811156,0.4570321732592035,1.6657492904889124,1.770579715011796,-0.11161987472902953,1.4511060582998303,-0.24820849298660438,1.904973301524313,1.1692224023273332,-0.3491620787132832,-0.7141219970453385,-0.1623263949531894,0.14944754055839804,0.25019116466667546,0.19682162553617305,0.6692520415060931,-0.6958447951243778,0.08433454765442423,-0.5538825782042568,1.7467725048965241,-0.5095812259955649,-0.42512436009640775,0.4840214791946006,-1.6007136863955105,1.0499990825603565,0.6295142509558708,-0.442226614037453,-0.4550165591316354,0.6131877363513857,1.1247741199130217,-0.8279482111052545,1.0488516631647589,-1.1837813510152209,0.5477732226005055,0.4294375428232401,-0.03689138853667535,0.8878779293696469,-0.5501028512886033,-1.216210964468219],\"yaxis\":\"y2\",\"type\":\"scatter\"},{\"line\":{\"color\":\"rgba(128, 128, 128, 1.0)\",\"dash\":\"solid\",\"shape\":\"linear\",\"width\":1.3},\"marker\":{\"size\":2,\"symbol\":\"circle\"},\"mode\":\"markers\",\"name\":\"A\",\"text\":\"\",\"x\":[-0.11715134862692887,-0.9238110035637704,-0.6341034707367625,-0.7039798297101952,0.41199222871472185,-0.570032950618832,0.44286081832136004,0.7346119453334629,-0.11517165410253062,0.5128885333693647,-1.0183936050162585,0.9175385646911961,0.9048989812665845,0.05140807601801332,0.6458854158532115,0.11693497003907732,0.31031827893619685,0.11070998165777231,0.31744754683913806,-1.650754519760574,0.5217491609271399,0.9517253811613039,-1.072694964737062,-0.45961187845013707,-0.2506686031378381,0.8864464083282674,-0.5247092530603333,-1.5295583910415216,-0.6460234674665981,0.7672801979487747,0.46044800932151836,-1.0752712846495762,-0.7717363145281667,0.28488309368206477,0.3458195540062791,0.418593287780798,0.660435989544501,0.543710213177274,0.2461450506077324,1.2990980984611662,-0.2979515843938551,-1.847753900969353,-1.0149605831144013,-0.5853364863823789,0.8933540154577488,0.286047793821163,-2.716594179114467,0.9415490229932579,-1.1532069213667147,0.2590380476354718,1.2007564596630067,0.012831467950238987,-0.10785047054045933,2.2163849306898658,-1.9696112408696487,-0.1730283623586726,1.3151428438596822,0.7891186338123123,-1.1732347865282835,0.28228264342221465,-1.250516452836501,0.8452991025741403,0.03213789105270297,-0.1750935112824887,-0.5202195702277532,0.01452010533380974,1.2647460311832521,0.5107180811211698,-0.3719069992456132,-1.719236574002592,0.37088921151428184,-0.7319962429039226,0.3660012735784033,0.7026101068082639,-0.8771081170019718,-1.0024339454169668,1.060348832118971,0.10426543228859139,0.6595400108972117,0.07239015369501688,-0.71338611629709,0.10545170913666903,1.1757127111541312,-0.12604104322434925,-0.11578817929838205,-1.2636423607947442,0.3270148993540921,0.0567620389256123,-0.9196433152353806,0.2200653007015978,1.0412558708427244,-1.378250277182545,-0.024372849211685126,-0.554316851828183,-0.992377748082647,0.028873090286391324,-1.2422036315931047,-0.14560088145351116,0.7019829641331473,-0.4637973277945155],\"xaxis\":\"x3\",\"y\":[0.10395791322237946,1.0907423101569562,-1.8023651034495587,0.1452796961840601,-0.8047590153347951,-1.2363607083110424,-1.533073210057116,0.8450512162615853,-1.833777418781113,0.12520778107159888,0.3170259452776536,-1.00956309234882,-0.3833966691606066,-0.37450811797226163,-0.05198633333678256,0.36472898788925007,1.7288167042934248,0.6090627068408083,-1.6268917312729543,-0.5958803396162193,0.22256691468192602,0.8064727120322517,1.9223841168509883,-0.921464297663518,1.3899181517467207,-1.7402808686813631,1.0427901020562544,-0.8672061261966549,-0.488206548771983,-1.7336935096327533,3.244925622032199,1.841750968380168,-0.49119101252950964,1.1853448809662257,0.6675123408061048,-1.437627889538169,-0.7450636517900513,-0.30151860773499123,-0.8671427788874422,1.1063875043347107,-0.26698316758204504,-1.649870588436951,-0.13895244826595793,0.031051274815732555,-0.7832155624085221,0.16178669856927996,-0.9382965322194335,0.4466791772128349,-0.15578635619915948,-1.5673289932174421,0.4919549985458554,-0.21504541416170153,0.1413190656527486,-0.9143680016986964,-0.7784995008704212,0.4779649038295718,1.5065125239154848,1.5389539286202367,1.3146020929586084,0.3810124335196379,1.4985550576693776,0.03859284362811156,0.4570321732592035,1.6657492904889124,1.770579715011796,-0.11161987472902953,1.4511060582998303,-0.24820849298660438,1.904973301524313,1.1692224023273332,-0.3491620787132832,-0.7141219970453385,-0.1623263949531894,0.14944754055839804,0.25019116466667546,0.19682162553617305,0.6692520415060931,-0.6958447951243778,0.08433454765442423,-0.5538825782042568,1.7467725048965241,-0.5095812259955649,-0.42512436009640775,0.4840214791946006,-1.6007136863955105,1.0499990825603565,0.6295142509558708,-0.442226614037453,-0.4550165591316354,0.6131877363513857,1.1247741199130217,-0.8279482111052545,1.0488516631647589,-1.1837813510152209,0.5477732226005055,0.4294375428232401,-0.03689138853667535,0.8878779293696469,-0.5501028512886033,-1.216210964468219],\"yaxis\":\"y3\",\"type\":\"scatter\"},{\"line\":{\"color\":\"rgba(128, 128, 128, 1.0)\",\"dash\":\"solid\",\"shape\":\"linear\",\"width\":1.3},\"marker\":{\"size\":2,\"symbol\":\"circle\"},\"mode\":\"markers\",\"name\":\"A\",\"text\":\"\",\"x\":[-1.0468370390753376,-1.0275583839052804,-0.2742018724450702,1.1731685518425736,-0.14439491190959836,1.078635354908124,1.388000416462823,0.7827203777436251,-0.7906137609668902,0.46261379365051,0.2671806476402405,1.1717037986875207,-0.39467245362080833,-1.7783181515565596,0.2098460247110677,-2.768145478092189,0.5142636222617464,0.45818864027023753,0.4396547912614004,0.5396905411942621,0.026964701470616425,-0.14524317746386037,0.9078597639160967,-0.45708272778737663,0.7880664048234807,-1.791085309090814,-1.0774442735690322,1.3019981941157739,0.49962454746872476,-0.668226139430762,0.36289562023515626,-0.9383352891231684,0.6377944279755422,-0.7298887080004163,0.3310056485823189,-0.5043922986678377,0.4959714197182736,-2.0073001241960826,0.8348676989771081,-0.47277211750612336,0.7678419039127863,-1.3117751936648872,-2.316181739956973,0.5731499529281376,0.010002706635069882,0.10627379791921063,0.4660230301538875,0.43830698972081283,1.529940498293144,-0.7507635842599895,0.11961953230763832,0.02404652694928732,-0.4423321117233319,-0.7946377759453179,0.4452473485692167,-1.6764663549445995,1.0716687660102449,-0.7588664879801049,-0.8144765527818432,2.804125312956174,-0.3412881986965423,0.22710698180422526,-0.5964332947017922,0.9560040100149169,0.7901628978990334,1.286999247666019,-0.3262649226406465,1.423851504872338,-0.4413095746286107,0.8270856567367172,-0.5568860067120459,-0.9630361617988186,-0.4166379491352016,1.9744636665480448,0.6761548167352016,1.1707856340947156,-0.26255328654517673,0.08133524676333527,0.3545868903715354,0.11730396517256124,1.0306548056766014,-0.024452872420551695,-3.175358065212561,0.09819457311291285,1.1309365185368176,1.096859069567687,-1.482449188509566,-0.5732676342982265,-1.325973103854073,-1.0449964870115107,0.13220492494701874,-0.08929070359984267,1.7774557980505143,-1.0363749573559036,-0.5459004298478335,-2.0114550641580196,0.8895634530171322,0.9827622407448601,0.6993020211449944,-0.6145532888902779],\"xaxis\":\"x4\",\"y\":[0.10395791322237946,1.0907423101569562,-1.8023651034495587,0.1452796961840601,-0.8047590153347951,-1.2363607083110424,-1.533073210057116,0.8450512162615853,-1.833777418781113,0.12520778107159888,0.3170259452776536,-1.00956309234882,-0.3833966691606066,-0.37450811797226163,-0.05198633333678256,0.36472898788925007,1.7288167042934248,0.6090627068408083,-1.6268917312729543,-0.5958803396162193,0.22256691468192602,0.8064727120322517,1.9223841168509883,-0.921464297663518,1.3899181517467207,-1.7402808686813631,1.0427901020562544,-0.8672061261966549,-0.488206548771983,-1.7336935096327533,3.244925622032199,1.841750968380168,-0.49119101252950964,1.1853448809662257,0.6675123408061048,-1.437627889538169,-0.7450636517900513,-0.30151860773499123,-0.8671427788874422,1.1063875043347107,-0.26698316758204504,-1.649870588436951,-0.13895244826595793,0.031051274815732555,-0.7832155624085221,0.16178669856927996,-0.9382965322194335,0.4466791772128349,-0.15578635619915948,-1.5673289932174421,0.4919549985458554,-0.21504541416170153,0.1413190656527486,-0.9143680016986964,-0.7784995008704212,0.4779649038295718,1.5065125239154848,1.5389539286202367,1.3146020929586084,0.3810124335196379,1.4985550576693776,0.03859284362811156,0.4570321732592035,1.6657492904889124,1.770579715011796,-0.11161987472902953,1.4511060582998303,-0.24820849298660438,1.904973301524313,1.1692224023273332,-0.3491620787132832,-0.7141219970453385,-0.1623263949531894,0.14944754055839804,0.25019116466667546,0.19682162553617305,0.6692520415060931,-0.6958447951243778,0.08433454765442423,-0.5538825782042568,1.7467725048965241,-0.5095812259955649,-0.42512436009640775,0.4840214791946006,-1.6007136863955105,1.0499990825603565,0.6295142509558708,-0.442226614037453,-0.4550165591316354,0.6131877363513857,1.1247741199130217,-0.8279482111052545,1.0488516631647589,-1.1837813510152209,0.5477732226005055,0.4294375428232401,-0.03689138853667535,0.8878779293696469,-0.5501028512886033,-1.216210964468219],\"yaxis\":\"y4\",\"type\":\"scatter\"},{\"line\":{\"color\":\"rgba(128, 128, 128, 1.0)\",\"dash\":\"solid\",\"shape\":\"linear\",\"width\":1.3},\"marker\":{\"size\":2,\"symbol\":\"circle\"},\"mode\":\"markers\",\"name\":\"B\",\"text\":\"\",\"x\":[0.10395791322237946,1.0907423101569562,-1.8023651034495587,0.1452796961840601,-0.8047590153347951,-1.2363607083110424,-1.533073210057116,0.8450512162615853,-1.833777418781113,0.12520778107159888,0.3170259452776536,-1.00956309234882,-0.3833966691606066,-0.37450811797226163,-0.05198633333678256,0.36472898788925007,1.7288167042934248,0.6090627068408083,-1.6268917312729543,-0.5958803396162193,0.22256691468192602,0.8064727120322517,1.9223841168509883,-0.921464297663518,1.3899181517467207,-1.7402808686813631,1.0427901020562544,-0.8672061261966549,-0.488206548771983,-1.7336935096327533,3.244925622032199,1.841750968380168,-0.49119101252950964,1.1853448809662257,0.6675123408061048,-1.437627889538169,-0.7450636517900513,-0.30151860773499123,-0.8671427788874422,1.1063875043347107,-0.26698316758204504,-1.649870588436951,-0.13895244826595793,0.031051274815732555,-0.7832155624085221,0.16178669856927996,-0.9382965322194335,0.4466791772128349,-0.15578635619915948,-1.5673289932174421,0.4919549985458554,-0.21504541416170153,0.1413190656527486,-0.9143680016986964,-0.7784995008704212,0.4779649038295718,1.5065125239154848,1.5389539286202367,1.3146020929586084,0.3810124335196379,1.4985550576693776,0.03859284362811156,0.4570321732592035,1.6657492904889124,1.770579715011796,-0.11161987472902953,1.4511060582998303,-0.24820849298660438,1.904973301524313,1.1692224023273332,-0.3491620787132832,-0.7141219970453385,-0.1623263949531894,0.14944754055839804,0.25019116466667546,0.19682162553617305,0.6692520415060931,-0.6958447951243778,0.08433454765442423,-0.5538825782042568,1.7467725048965241,-0.5095812259955649,-0.42512436009640775,0.4840214791946006,-1.6007136863955105,1.0499990825603565,0.6295142509558708,-0.442226614037453,-0.4550165591316354,0.6131877363513857,1.1247741199130217,-0.8279482111052545,1.0488516631647589,-1.1837813510152209,0.5477732226005055,0.4294375428232401,-0.03689138853667535,0.8878779293696469,-0.5501028512886033,-1.216210964468219],\"xaxis\":\"x5\",\"y\":[-0.4964199052766519,-0.16577690724505037,-0.06352090321925319,0.9195213492176749,0.05920945692515286,-1.5352387721000331,-1.1272581915748292,1.5037082437441256,0.25525024969292537,0.926990078214612,1.6091275728246384,1.435698623918543,0.7929430485448701,-1.8078167644107352,0.3872864424405,-0.5081756149338615,0.11157791814884271,-0.7470305306600676,0.48919705825920645,-0.9422629443606921,0.39389463746364245,0.13279241776625111,-0.396173763657729,1.1557994071707751,0.9826669783349918,-0.8763175484331243,0.03866612269199482,0.9133514387537464,1.210067697022933,0.9575896405404437,0.4446642857554738,-1.1836057054060263,0.4690710661659546,0.0825941321291548,-0.057323525876951595,-0.4140460470113184,-0.21346112501363587,-0.09758155608070679,1.0961830745473047,-3.2527834347876783,-1.0559859874065454,-1.2451669840676882,-2.3763630793887467,1.7406596934722733,1.1635839279907205,1.615733929496423,-0.6613818474443387,0.6441008999335095,0.2108681494964121,0.4532517241681963,0.39395980607470804,-1.3573655220385268,0.6556394659492624,0.015906823753299704,2.147919985281432,-0.306172943784595,-1.0004312140616298,-0.10416640047537958,0.5149288073107,0.7124745940564056,1.3798138145208825,0.4349085980837738,0.3292157090951729,0.626715652218343,-1.0654490499559879,-0.7326169106971796,1.1268040052754518,2.015396849191515,0.2772174604301982,-0.46067756949404814,1.5014212003411764,-0.03394335951066258,-1.2483981703632212,0.5858505897588245,0.3310923688884323,-0.1138787315153205,-0.9161409821576249,1.544558212804218,1.101864233216787,-0.6193672340216976,0.5111413589667924,-0.15609752801350163,-2.4429254121204935,-0.41236075686521195,-0.8921208446971892,-0.3415343111101214,1.27788943460529,-0.19375578696417853,0.5261336442900859,-1.002668939581087,2.2032125799401125,-0.17618635766898977,0.12628455991716694,0.1586375815419656,0.6857590793737517,0.345486423574641,0.41044445264360596,0.9932463757588236,-0.9153092798258289,0.1155976661986857],\"yaxis\":\"y5\",\"type\":\"scatter\"},{\"histfunc\":\"count\",\"histnorm\":\"\",\"marker\":{\"color\":\"rgba(55, 128, 191, 1.0)\",\"line\":{\"color\":\"#4D5663\",\"width\":1.3}},\"name\":\"B\",\"nbinsx\":10,\"opacity\":0.8,\"orientation\":\"v\",\"x\":[-0.4964199052766519,-0.16577690724505037,-0.06352090321925319,0.9195213492176749,0.05920945692515286,-1.5352387721000331,-1.1272581915748292,1.5037082437441256,0.25525024969292537,0.926990078214612,1.6091275728246384,1.435698623918543,0.7929430485448701,-1.8078167644107352,0.3872864424405,-0.5081756149338615,0.11157791814884271,-0.7470305306600676,0.48919705825920645,-0.9422629443606921,0.39389463746364245,0.13279241776625111,-0.396173763657729,1.1557994071707751,0.9826669783349918,-0.8763175484331243,0.03866612269199482,0.9133514387537464,1.210067697022933,0.9575896405404437,0.4446642857554738,-1.1836057054060263,0.4690710661659546,0.0825941321291548,-0.057323525876951595,-0.4140460470113184,-0.21346112501363587,-0.09758155608070679,1.0961830745473047,-3.2527834347876783,-1.0559859874065454,-1.2451669840676882,-2.3763630793887467,1.7406596934722733,1.1635839279907205,1.615733929496423,-0.6613818474443387,0.6441008999335095,0.2108681494964121,0.4532517241681963,0.39395980607470804,-1.3573655220385268,0.6556394659492624,0.015906823753299704,2.147919985281432,-0.306172943784595,-1.0004312140616298,-0.10416640047537958,0.5149288073107,0.7124745940564056,1.3798138145208825,0.4349085980837738,0.3292157090951729,0.626715652218343,-1.0654490499559879,-0.7326169106971796,1.1268040052754518,2.015396849191515,0.2772174604301982,-0.46067756949404814,1.5014212003411764,-0.03394335951066258,-1.2483981703632212,0.5858505897588245,0.3310923688884323,-0.1138787315153205,-0.9161409821576249,1.544558212804218,1.101864233216787,-0.6193672340216976,0.5111413589667924,-0.15609752801350163,-2.4429254121204935,-0.41236075686521195,-0.8921208446971892,-0.3415343111101214,1.27788943460529,-0.19375578696417853,0.5261336442900859,-1.002668939581087,2.2032125799401125,-0.17618635766898977,0.12628455991716694,0.1586375815419656,0.6857590793737517,0.345486423574641,0.41044445264360596,0.9932463757588236,-0.9153092798258289,0.1155976661986857],\"xaxis\":\"x6\",\"yaxis\":\"y6\",\"type\":\"histogram\"},{\"line\":{\"color\":\"rgba(128, 128, 128, 1.0)\",\"dash\":\"solid\",\"shape\":\"linear\",\"width\":1.3},\"marker\":{\"size\":2,\"symbol\":\"circle\"},\"mode\":\"markers\",\"name\":\"B\",\"text\":\"\",\"x\":[-0.11715134862692887,-0.9238110035637704,-0.6341034707367625,-0.7039798297101952,0.41199222871472185,-0.570032950618832,0.44286081832136004,0.7346119453334629,-0.11517165410253062,0.5128885333693647,-1.0183936050162585,0.9175385646911961,0.9048989812665845,0.05140807601801332,0.6458854158532115,0.11693497003907732,0.31031827893619685,0.11070998165777231,0.31744754683913806,-1.650754519760574,0.5217491609271399,0.9517253811613039,-1.072694964737062,-0.45961187845013707,-0.2506686031378381,0.8864464083282674,-0.5247092530603333,-1.5295583910415216,-0.6460234674665981,0.7672801979487747,0.46044800932151836,-1.0752712846495762,-0.7717363145281667,0.28488309368206477,0.3458195540062791,0.418593287780798,0.660435989544501,0.543710213177274,0.2461450506077324,1.2990980984611662,-0.2979515843938551,-1.847753900969353,-1.0149605831144013,-0.5853364863823789,0.8933540154577488,0.286047793821163,-2.716594179114467,0.9415490229932579,-1.1532069213667147,0.2590380476354718,1.2007564596630067,0.012831467950238987,-0.10785047054045933,2.2163849306898658,-1.9696112408696487,-0.1730283623586726,1.3151428438596822,0.7891186338123123,-1.1732347865282835,0.28228264342221465,-1.250516452836501,0.8452991025741403,0.03213789105270297,-0.1750935112824887,-0.5202195702277532,0.01452010533380974,1.2647460311832521,0.5107180811211698,-0.3719069992456132,-1.719236574002592,0.37088921151428184,-0.7319962429039226,0.3660012735784033,0.7026101068082639,-0.8771081170019718,-1.0024339454169668,1.060348832118971,0.10426543228859139,0.6595400108972117,0.07239015369501688,-0.71338611629709,0.10545170913666903,1.1757127111541312,-0.12604104322434925,-0.11578817929838205,-1.2636423607947442,0.3270148993540921,0.0567620389256123,-0.9196433152353806,0.2200653007015978,1.0412558708427244,-1.378250277182545,-0.024372849211685126,-0.554316851828183,-0.992377748082647,0.028873090286391324,-1.2422036315931047,-0.14560088145351116,0.7019829641331473,-0.4637973277945155],\"xaxis\":\"x7\",\"y\":[-0.4964199052766519,-0.16577690724505037,-0.06352090321925319,0.9195213492176749,0.05920945692515286,-1.5352387721000331,-1.1272581915748292,1.5037082437441256,0.25525024969292537,0.926990078214612,1.6091275728246384,1.435698623918543,0.7929430485448701,-1.8078167644107352,0.3872864424405,-0.5081756149338615,0.11157791814884271,-0.7470305306600676,0.48919705825920645,-0.9422629443606921,0.39389463746364245,0.13279241776625111,-0.396173763657729,1.1557994071707751,0.9826669783349918,-0.8763175484331243,0.03866612269199482,0.9133514387537464,1.210067697022933,0.9575896405404437,0.4446642857554738,-1.1836057054060263,0.4690710661659546,0.0825941321291548,-0.057323525876951595,-0.4140460470113184,-0.21346112501363587,-0.09758155608070679,1.0961830745473047,-3.2527834347876783,-1.0559859874065454,-1.2451669840676882,-2.3763630793887467,1.7406596934722733,1.1635839279907205,1.615733929496423,-0.6613818474443387,0.6441008999335095,0.2108681494964121,0.4532517241681963,0.39395980607470804,-1.3573655220385268,0.6556394659492624,0.015906823753299704,2.147919985281432,-0.306172943784595,-1.0004312140616298,-0.10416640047537958,0.5149288073107,0.7124745940564056,1.3798138145208825,0.4349085980837738,0.3292157090951729,0.626715652218343,-1.0654490499559879,-0.7326169106971796,1.1268040052754518,2.015396849191515,0.2772174604301982,-0.46067756949404814,1.5014212003411764,-0.03394335951066258,-1.2483981703632212,0.5858505897588245,0.3310923688884323,-0.1138787315153205,-0.9161409821576249,1.544558212804218,1.101864233216787,-0.6193672340216976,0.5111413589667924,-0.15609752801350163,-2.4429254121204935,-0.41236075686521195,-0.8921208446971892,-0.3415343111101214,1.27788943460529,-0.19375578696417853,0.5261336442900859,-1.002668939581087,2.2032125799401125,-0.17618635766898977,0.12628455991716694,0.1586375815419656,0.6857590793737517,0.345486423574641,0.41044445264360596,0.9932463757588236,-0.9153092798258289,0.1155976661986857],\"yaxis\":\"y7\",\"type\":\"scatter\"},{\"line\":{\"color\":\"rgba(128, 128, 128, 1.0)\",\"dash\":\"solid\",\"shape\":\"linear\",\"width\":1.3},\"marker\":{\"size\":2,\"symbol\":\"circle\"},\"mode\":\"markers\",\"name\":\"B\",\"text\":\"\",\"x\":[-1.0468370390753376,-1.0275583839052804,-0.2742018724450702,1.1731685518425736,-0.14439491190959836,1.078635354908124,1.388000416462823,0.7827203777436251,-0.7906137609668902,0.46261379365051,0.2671806476402405,1.1717037986875207,-0.39467245362080833,-1.7783181515565596,0.2098460247110677,-2.768145478092189,0.5142636222617464,0.45818864027023753,0.4396547912614004,0.5396905411942621,0.026964701470616425,-0.14524317746386037,0.9078597639160967,-0.45708272778737663,0.7880664048234807,-1.791085309090814,-1.0774442735690322,1.3019981941157739,0.49962454746872476,-0.668226139430762,0.36289562023515626,-0.9383352891231684,0.6377944279755422,-0.7298887080004163,0.3310056485823189,-0.5043922986678377,0.4959714197182736,-2.0073001241960826,0.8348676989771081,-0.47277211750612336,0.7678419039127863,-1.3117751936648872,-2.316181739956973,0.5731499529281376,0.010002706635069882,0.10627379791921063,0.4660230301538875,0.43830698972081283,1.529940498293144,-0.7507635842599895,0.11961953230763832,0.02404652694928732,-0.4423321117233319,-0.7946377759453179,0.4452473485692167,-1.6764663549445995,1.0716687660102449,-0.7588664879801049,-0.8144765527818432,2.804125312956174,-0.3412881986965423,0.22710698180422526,-0.5964332947017922,0.9560040100149169,0.7901628978990334,1.286999247666019,-0.3262649226406465,1.423851504872338,-0.4413095746286107,0.8270856567367172,-0.5568860067120459,-0.9630361617988186,-0.4166379491352016,1.9744636665480448,0.6761548167352016,1.1707856340947156,-0.26255328654517673,0.08133524676333527,0.3545868903715354,0.11730396517256124,1.0306548056766014,-0.024452872420551695,-3.175358065212561,0.09819457311291285,1.1309365185368176,1.096859069567687,-1.482449188509566,-0.5732676342982265,-1.325973103854073,-1.0449964870115107,0.13220492494701874,-0.08929070359984267,1.7774557980505143,-1.0363749573559036,-0.5459004298478335,-2.0114550641580196,0.8895634530171322,0.9827622407448601,0.6993020211449944,-0.6145532888902779],\"xaxis\":\"x8\",\"y\":[-0.4964199052766519,-0.16577690724505037,-0.06352090321925319,0.9195213492176749,0.05920945692515286,-1.5352387721000331,-1.1272581915748292,1.5037082437441256,0.25525024969292537,0.926990078214612,1.6091275728246384,1.435698623918543,0.7929430485448701,-1.8078167644107352,0.3872864424405,-0.5081756149338615,0.11157791814884271,-0.7470305306600676,0.48919705825920645,-0.9422629443606921,0.39389463746364245,0.13279241776625111,-0.396173763657729,1.1557994071707751,0.9826669783349918,-0.8763175484331243,0.03866612269199482,0.9133514387537464,1.210067697022933,0.9575896405404437,0.4446642857554738,-1.1836057054060263,0.4690710661659546,0.0825941321291548,-0.057323525876951595,-0.4140460470113184,-0.21346112501363587,-0.09758155608070679,1.0961830745473047,-3.2527834347876783,-1.0559859874065454,-1.2451669840676882,-2.3763630793887467,1.7406596934722733,1.1635839279907205,1.615733929496423,-0.6613818474443387,0.6441008999335095,0.2108681494964121,0.4532517241681963,0.39395980607470804,-1.3573655220385268,0.6556394659492624,0.015906823753299704,2.147919985281432,-0.306172943784595,-1.0004312140616298,-0.10416640047537958,0.5149288073107,0.7124745940564056,1.3798138145208825,0.4349085980837738,0.3292157090951729,0.626715652218343,-1.0654490499559879,-0.7326169106971796,1.1268040052754518,2.015396849191515,0.2772174604301982,-0.46067756949404814,1.5014212003411764,-0.03394335951066258,-1.2483981703632212,0.5858505897588245,0.3310923688884323,-0.1138787315153205,-0.9161409821576249,1.544558212804218,1.101864233216787,-0.6193672340216976,0.5111413589667924,-0.15609752801350163,-2.4429254121204935,-0.41236075686521195,-0.8921208446971892,-0.3415343111101214,1.27788943460529,-0.19375578696417853,0.5261336442900859,-1.002668939581087,2.2032125799401125,-0.17618635766898977,0.12628455991716694,0.1586375815419656,0.6857590793737517,0.345486423574641,0.41044445264360596,0.9932463757588236,-0.9153092798258289,0.1155976661986857],\"yaxis\":\"y8\",\"type\":\"scatter\"},{\"line\":{\"color\":\"rgba(128, 128, 128, 1.0)\",\"dash\":\"solid\",\"shape\":\"linear\",\"width\":1.3},\"marker\":{\"size\":2,\"symbol\":\"circle\"},\"mode\":\"markers\",\"name\":\"C\",\"text\":\"\",\"x\":[0.10395791322237946,1.0907423101569562,-1.8023651034495587,0.1452796961840601,-0.8047590153347951,-1.2363607083110424,-1.533073210057116,0.8450512162615853,-1.833777418781113,0.12520778107159888,0.3170259452776536,-1.00956309234882,-0.3833966691606066,-0.37450811797226163,-0.05198633333678256,0.36472898788925007,1.7288167042934248,0.6090627068408083,-1.6268917312729543,-0.5958803396162193,0.22256691468192602,0.8064727120322517,1.9223841168509883,-0.921464297663518,1.3899181517467207,-1.7402808686813631,1.0427901020562544,-0.8672061261966549,-0.488206548771983,-1.7336935096327533,3.244925622032199,1.841750968380168,-0.49119101252950964,1.1853448809662257,0.6675123408061048,-1.437627889538169,-0.7450636517900513,-0.30151860773499123,-0.8671427788874422,1.1063875043347107,-0.26698316758204504,-1.649870588436951,-0.13895244826595793,0.031051274815732555,-0.7832155624085221,0.16178669856927996,-0.9382965322194335,0.4466791772128349,-0.15578635619915948,-1.5673289932174421,0.4919549985458554,-0.21504541416170153,0.1413190656527486,-0.9143680016986964,-0.7784995008704212,0.4779649038295718,1.5065125239154848,1.5389539286202367,1.3146020929586084,0.3810124335196379,1.4985550576693776,0.03859284362811156,0.4570321732592035,1.6657492904889124,1.770579715011796,-0.11161987472902953,1.4511060582998303,-0.24820849298660438,1.904973301524313,1.1692224023273332,-0.3491620787132832,-0.7141219970453385,-0.1623263949531894,0.14944754055839804,0.25019116466667546,0.19682162553617305,0.6692520415060931,-0.6958447951243778,0.08433454765442423,-0.5538825782042568,1.7467725048965241,-0.5095812259955649,-0.42512436009640775,0.4840214791946006,-1.6007136863955105,1.0499990825603565,0.6295142509558708,-0.442226614037453,-0.4550165591316354,0.6131877363513857,1.1247741199130217,-0.8279482111052545,1.0488516631647589,-1.1837813510152209,0.5477732226005055,0.4294375428232401,-0.03689138853667535,0.8878779293696469,-0.5501028512886033,-1.216210964468219],\"xaxis\":\"x9\",\"y\":[-0.11715134862692887,-0.9238110035637704,-0.6341034707367625,-0.7039798297101952,0.41199222871472185,-0.570032950618832,0.44286081832136004,0.7346119453334629,-0.11517165410253062,0.5128885333693647,-1.0183936050162585,0.9175385646911961,0.9048989812665845,0.05140807601801332,0.6458854158532115,0.11693497003907732,0.31031827893619685,0.11070998165777231,0.31744754683913806,-1.650754519760574,0.5217491609271399,0.9517253811613039,-1.072694964737062,-0.45961187845013707,-0.2506686031378381,0.8864464083282674,-0.5247092530603333,-1.5295583910415216,-0.6460234674665981,0.7672801979487747,0.46044800932151836,-1.0752712846495762,-0.7717363145281667,0.28488309368206477,0.3458195540062791,0.418593287780798,0.660435989544501,0.543710213177274,0.2461450506077324,1.2990980984611662,-0.2979515843938551,-1.847753900969353,-1.0149605831144013,-0.5853364863823789,0.8933540154577488,0.286047793821163,-2.716594179114467,0.9415490229932579,-1.1532069213667147,0.2590380476354718,1.2007564596630067,0.012831467950238987,-0.10785047054045933,2.2163849306898658,-1.9696112408696487,-0.1730283623586726,1.3151428438596822,0.7891186338123123,-1.1732347865282835,0.28228264342221465,-1.250516452836501,0.8452991025741403,0.03213789105270297,-0.1750935112824887,-0.5202195702277532,0.01452010533380974,1.2647460311832521,0.5107180811211698,-0.3719069992456132,-1.719236574002592,0.37088921151428184,-0.7319962429039226,0.3660012735784033,0.7026101068082639,-0.8771081170019718,-1.0024339454169668,1.060348832118971,0.10426543228859139,0.6595400108972117,0.07239015369501688,-0.71338611629709,0.10545170913666903,1.1757127111541312,-0.12604104322434925,-0.11578817929838205,-1.2636423607947442,0.3270148993540921,0.0567620389256123,-0.9196433152353806,0.2200653007015978,1.0412558708427244,-1.378250277182545,-0.024372849211685126,-0.554316851828183,-0.992377748082647,0.028873090286391324,-1.2422036315931047,-0.14560088145351116,0.7019829641331473,-0.4637973277945155],\"yaxis\":\"y9\",\"type\":\"scatter\"},{\"line\":{\"color\":\"rgba(128, 128, 128, 1.0)\",\"dash\":\"solid\",\"shape\":\"linear\",\"width\":1.3},\"marker\":{\"size\":2,\"symbol\":\"circle\"},\"mode\":\"markers\",\"name\":\"C\",\"text\":\"\",\"x\":[-0.4964199052766519,-0.16577690724505037,-0.06352090321925319,0.9195213492176749,0.05920945692515286,-1.5352387721000331,-1.1272581915748292,1.5037082437441256,0.25525024969292537,0.926990078214612,1.6091275728246384,1.435698623918543,0.7929430485448701,-1.8078167644107352,0.3872864424405,-0.5081756149338615,0.11157791814884271,-0.7470305306600676,0.48919705825920645,-0.9422629443606921,0.39389463746364245,0.13279241776625111,-0.396173763657729,1.1557994071707751,0.9826669783349918,-0.8763175484331243,0.03866612269199482,0.9133514387537464,1.210067697022933,0.9575896405404437,0.4446642857554738,-1.1836057054060263,0.4690710661659546,0.0825941321291548,-0.057323525876951595,-0.4140460470113184,-0.21346112501363587,-0.09758155608070679,1.0961830745473047,-3.2527834347876783,-1.0559859874065454,-1.2451669840676882,-2.3763630793887467,1.7406596934722733,1.1635839279907205,1.615733929496423,-0.6613818474443387,0.6441008999335095,0.2108681494964121,0.4532517241681963,0.39395980607470804,-1.3573655220385268,0.6556394659492624,0.015906823753299704,2.147919985281432,-0.306172943784595,-1.0004312140616298,-0.10416640047537958,0.5149288073107,0.7124745940564056,1.3798138145208825,0.4349085980837738,0.3292157090951729,0.626715652218343,-1.0654490499559879,-0.7326169106971796,1.1268040052754518,2.015396849191515,0.2772174604301982,-0.46067756949404814,1.5014212003411764,-0.03394335951066258,-1.2483981703632212,0.5858505897588245,0.3310923688884323,-0.1138787315153205,-0.9161409821576249,1.544558212804218,1.101864233216787,-0.6193672340216976,0.5111413589667924,-0.15609752801350163,-2.4429254121204935,-0.41236075686521195,-0.8921208446971892,-0.3415343111101214,1.27788943460529,-0.19375578696417853,0.5261336442900859,-1.002668939581087,2.2032125799401125,-0.17618635766898977,0.12628455991716694,0.1586375815419656,0.6857590793737517,0.345486423574641,0.41044445264360596,0.9932463757588236,-0.9153092798258289,0.1155976661986857],\"xaxis\":\"x10\",\"y\":[-0.11715134862692887,-0.9238110035637704,-0.6341034707367625,-0.7039798297101952,0.41199222871472185,-0.570032950618832,0.44286081832136004,0.7346119453334629,-0.11517165410253062,0.5128885333693647,-1.0183936050162585,0.9175385646911961,0.9048989812665845,0.05140807601801332,0.6458854158532115,0.11693497003907732,0.31031827893619685,0.11070998165777231,0.31744754683913806,-1.650754519760574,0.5217491609271399,0.9517253811613039,-1.072694964737062,-0.45961187845013707,-0.2506686031378381,0.8864464083282674,-0.5247092530603333,-1.5295583910415216,-0.6460234674665981,0.7672801979487747,0.46044800932151836,-1.0752712846495762,-0.7717363145281667,0.28488309368206477,0.3458195540062791,0.418593287780798,0.660435989544501,0.543710213177274,0.2461450506077324,1.2990980984611662,-0.2979515843938551,-1.847753900969353,-1.0149605831144013,-0.5853364863823789,0.8933540154577488,0.286047793821163,-2.716594179114467,0.9415490229932579,-1.1532069213667147,0.2590380476354718,1.2007564596630067,0.012831467950238987,-0.10785047054045933,2.2163849306898658,-1.9696112408696487,-0.1730283623586726,1.3151428438596822,0.7891186338123123,-1.1732347865282835,0.28228264342221465,-1.250516452836501,0.8452991025741403,0.03213789105270297,-0.1750935112824887,-0.5202195702277532,0.01452010533380974,1.2647460311832521,0.5107180811211698,-0.3719069992456132,-1.719236574002592,0.37088921151428184,-0.7319962429039226,0.3660012735784033,0.7026101068082639,-0.8771081170019718,-1.0024339454169668,1.060348832118971,0.10426543228859139,0.6595400108972117,0.07239015369501688,-0.71338611629709,0.10545170913666903,1.1757127111541312,-0.12604104322434925,-0.11578817929838205,-1.2636423607947442,0.3270148993540921,0.0567620389256123,-0.9196433152353806,0.2200653007015978,1.0412558708427244,-1.378250277182545,-0.024372849211685126,-0.554316851828183,-0.992377748082647,0.028873090286391324,-1.2422036315931047,-0.14560088145351116,0.7019829641331473,-0.4637973277945155],\"yaxis\":\"y10\",\"type\":\"scatter\"},{\"histfunc\":\"count\",\"histnorm\":\"\",\"marker\":{\"color\":\"rgba(50, 171, 96, 1.0)\",\"line\":{\"color\":\"#4D5663\",\"width\":1.3}},\"name\":\"C\",\"nbinsx\":10,\"opacity\":0.8,\"orientation\":\"v\",\"x\":[-0.11715134862692887,-0.9238110035637704,-0.6341034707367625,-0.7039798297101952,0.41199222871472185,-0.570032950618832,0.44286081832136004,0.7346119453334629,-0.11517165410253062,0.5128885333693647,-1.0183936050162585,0.9175385646911961,0.9048989812665845,0.05140807601801332,0.6458854158532115,0.11693497003907732,0.31031827893619685,0.11070998165777231,0.31744754683913806,-1.650754519760574,0.5217491609271399,0.9517253811613039,-1.072694964737062,-0.45961187845013707,-0.2506686031378381,0.8864464083282674,-0.5247092530603333,-1.5295583910415216,-0.6460234674665981,0.7672801979487747,0.46044800932151836,-1.0752712846495762,-0.7717363145281667,0.28488309368206477,0.3458195540062791,0.418593287780798,0.660435989544501,0.543710213177274,0.2461450506077324,1.2990980984611662,-0.2979515843938551,-1.847753900969353,-1.0149605831144013,-0.5853364863823789,0.8933540154577488,0.286047793821163,-2.716594179114467,0.9415490229932579,-1.1532069213667147,0.2590380476354718,1.2007564596630067,0.012831467950238987,-0.10785047054045933,2.2163849306898658,-1.9696112408696487,-0.1730283623586726,1.3151428438596822,0.7891186338123123,-1.1732347865282835,0.28228264342221465,-1.250516452836501,0.8452991025741403,0.03213789105270297,-0.1750935112824887,-0.5202195702277532,0.01452010533380974,1.2647460311832521,0.5107180811211698,-0.3719069992456132,-1.719236574002592,0.37088921151428184,-0.7319962429039226,0.3660012735784033,0.7026101068082639,-0.8771081170019718,-1.0024339454169668,1.060348832118971,0.10426543228859139,0.6595400108972117,0.07239015369501688,-0.71338611629709,0.10545170913666903,1.1757127111541312,-0.12604104322434925,-0.11578817929838205,-1.2636423607947442,0.3270148993540921,0.0567620389256123,-0.9196433152353806,0.2200653007015978,1.0412558708427244,-1.378250277182545,-0.024372849211685126,-0.554316851828183,-0.992377748082647,0.028873090286391324,-1.2422036315931047,-0.14560088145351116,0.7019829641331473,-0.4637973277945155],\"xaxis\":\"x11\",\"yaxis\":\"y11\",\"type\":\"histogram\"},{\"line\":{\"color\":\"rgba(128, 128, 128, 1.0)\",\"dash\":\"solid\",\"shape\":\"linear\",\"width\":1.3},\"marker\":{\"size\":2,\"symbol\":\"circle\"},\"mode\":\"markers\",\"name\":\"C\",\"text\":\"\",\"x\":[-1.0468370390753376,-1.0275583839052804,-0.2742018724450702,1.1731685518425736,-0.14439491190959836,1.078635354908124,1.388000416462823,0.7827203777436251,-0.7906137609668902,0.46261379365051,0.2671806476402405,1.1717037986875207,-0.39467245362080833,-1.7783181515565596,0.2098460247110677,-2.768145478092189,0.5142636222617464,0.45818864027023753,0.4396547912614004,0.5396905411942621,0.026964701470616425,-0.14524317746386037,0.9078597639160967,-0.45708272778737663,0.7880664048234807,-1.791085309090814,-1.0774442735690322,1.3019981941157739,0.49962454746872476,-0.668226139430762,0.36289562023515626,-0.9383352891231684,0.6377944279755422,-0.7298887080004163,0.3310056485823189,-0.5043922986678377,0.4959714197182736,-2.0073001241960826,0.8348676989771081,-0.47277211750612336,0.7678419039127863,-1.3117751936648872,-2.316181739956973,0.5731499529281376,0.010002706635069882,0.10627379791921063,0.4660230301538875,0.43830698972081283,1.529940498293144,-0.7507635842599895,0.11961953230763832,0.02404652694928732,-0.4423321117233319,-0.7946377759453179,0.4452473485692167,-1.6764663549445995,1.0716687660102449,-0.7588664879801049,-0.8144765527818432,2.804125312956174,-0.3412881986965423,0.22710698180422526,-0.5964332947017922,0.9560040100149169,0.7901628978990334,1.286999247666019,-0.3262649226406465,1.423851504872338,-0.4413095746286107,0.8270856567367172,-0.5568860067120459,-0.9630361617988186,-0.4166379491352016,1.9744636665480448,0.6761548167352016,1.1707856340947156,-0.26255328654517673,0.08133524676333527,0.3545868903715354,0.11730396517256124,1.0306548056766014,-0.024452872420551695,-3.175358065212561,0.09819457311291285,1.1309365185368176,1.096859069567687,-1.482449188509566,-0.5732676342982265,-1.325973103854073,-1.0449964870115107,0.13220492494701874,-0.08929070359984267,1.7774557980505143,-1.0363749573559036,-0.5459004298478335,-2.0114550641580196,0.8895634530171322,0.9827622407448601,0.6993020211449944,-0.6145532888902779],\"xaxis\":\"x12\",\"y\":[-0.11715134862692887,-0.9238110035637704,-0.6341034707367625,-0.7039798297101952,0.41199222871472185,-0.570032950618832,0.44286081832136004,0.7346119453334629,-0.11517165410253062,0.5128885333693647,-1.0183936050162585,0.9175385646911961,0.9048989812665845,0.05140807601801332,0.6458854158532115,0.11693497003907732,0.31031827893619685,0.11070998165777231,0.31744754683913806,-1.650754519760574,0.5217491609271399,0.9517253811613039,-1.072694964737062,-0.45961187845013707,-0.2506686031378381,0.8864464083282674,-0.5247092530603333,-1.5295583910415216,-0.6460234674665981,0.7672801979487747,0.46044800932151836,-1.0752712846495762,-0.7717363145281667,0.28488309368206477,0.3458195540062791,0.418593287780798,0.660435989544501,0.543710213177274,0.2461450506077324,1.2990980984611662,-0.2979515843938551,-1.847753900969353,-1.0149605831144013,-0.5853364863823789,0.8933540154577488,0.286047793821163,-2.716594179114467,0.9415490229932579,-1.1532069213667147,0.2590380476354718,1.2007564596630067,0.012831467950238987,-0.10785047054045933,2.2163849306898658,-1.9696112408696487,-0.1730283623586726,1.3151428438596822,0.7891186338123123,-1.1732347865282835,0.28228264342221465,-1.250516452836501,0.8452991025741403,0.03213789105270297,-0.1750935112824887,-0.5202195702277532,0.01452010533380974,1.2647460311832521,0.5107180811211698,-0.3719069992456132,-1.719236574002592,0.37088921151428184,-0.7319962429039226,0.3660012735784033,0.7026101068082639,-0.8771081170019718,-1.0024339454169668,1.060348832118971,0.10426543228859139,0.6595400108972117,0.07239015369501688,-0.71338611629709,0.10545170913666903,1.1757127111541312,-0.12604104322434925,-0.11578817929838205,-1.2636423607947442,0.3270148993540921,0.0567620389256123,-0.9196433152353806,0.2200653007015978,1.0412558708427244,-1.378250277182545,-0.024372849211685126,-0.554316851828183,-0.992377748082647,0.028873090286391324,-1.2422036315931047,-0.14560088145351116,0.7019829641331473,-0.4637973277945155],\"yaxis\":\"y12\",\"type\":\"scatter\"},{\"line\":{\"color\":\"rgba(128, 128, 128, 1.0)\",\"dash\":\"solid\",\"shape\":\"linear\",\"width\":1.3},\"marker\":{\"size\":2,\"symbol\":\"circle\"},\"mode\":\"markers\",\"name\":\"D\",\"text\":\"\",\"x\":[0.10395791322237946,1.0907423101569562,-1.8023651034495587,0.1452796961840601,-0.8047590153347951,-1.2363607083110424,-1.533073210057116,0.8450512162615853,-1.833777418781113,0.12520778107159888,0.3170259452776536,-1.00956309234882,-0.3833966691606066,-0.37450811797226163,-0.05198633333678256,0.36472898788925007,1.7288167042934248,0.6090627068408083,-1.6268917312729543,-0.5958803396162193,0.22256691468192602,0.8064727120322517,1.9223841168509883,-0.921464297663518,1.3899181517467207,-1.7402808686813631,1.0427901020562544,-0.8672061261966549,-0.488206548771983,-1.7336935096327533,3.244925622032199,1.841750968380168,-0.49119101252950964,1.1853448809662257,0.6675123408061048,-1.437627889538169,-0.7450636517900513,-0.30151860773499123,-0.8671427788874422,1.1063875043347107,-0.26698316758204504,-1.649870588436951,-0.13895244826595793,0.031051274815732555,-0.7832155624085221,0.16178669856927996,-0.9382965322194335,0.4466791772128349,-0.15578635619915948,-1.5673289932174421,0.4919549985458554,-0.21504541416170153,0.1413190656527486,-0.9143680016986964,-0.7784995008704212,0.4779649038295718,1.5065125239154848,1.5389539286202367,1.3146020929586084,0.3810124335196379,1.4985550576693776,0.03859284362811156,0.4570321732592035,1.6657492904889124,1.770579715011796,-0.11161987472902953,1.4511060582998303,-0.24820849298660438,1.904973301524313,1.1692224023273332,-0.3491620787132832,-0.7141219970453385,-0.1623263949531894,0.14944754055839804,0.25019116466667546,0.19682162553617305,0.6692520415060931,-0.6958447951243778,0.08433454765442423,-0.5538825782042568,1.7467725048965241,-0.5095812259955649,-0.42512436009640775,0.4840214791946006,-1.6007136863955105,1.0499990825603565,0.6295142509558708,-0.442226614037453,-0.4550165591316354,0.6131877363513857,1.1247741199130217,-0.8279482111052545,1.0488516631647589,-1.1837813510152209,0.5477732226005055,0.4294375428232401,-0.03689138853667535,0.8878779293696469,-0.5501028512886033,-1.216210964468219],\"xaxis\":\"x13\",\"y\":[-1.0468370390753376,-1.0275583839052804,-0.2742018724450702,1.1731685518425736,-0.14439491190959836,1.078635354908124,1.388000416462823,0.7827203777436251,-0.7906137609668902,0.46261379365051,0.2671806476402405,1.1717037986875207,-0.39467245362080833,-1.7783181515565596,0.2098460247110677,-2.768145478092189,0.5142636222617464,0.45818864027023753,0.4396547912614004,0.5396905411942621,0.026964701470616425,-0.14524317746386037,0.9078597639160967,-0.45708272778737663,0.7880664048234807,-1.791085309090814,-1.0774442735690322,1.3019981941157739,0.49962454746872476,-0.668226139430762,0.36289562023515626,-0.9383352891231684,0.6377944279755422,-0.7298887080004163,0.3310056485823189,-0.5043922986678377,0.4959714197182736,-2.0073001241960826,0.8348676989771081,-0.47277211750612336,0.7678419039127863,-1.3117751936648872,-2.316181739956973,0.5731499529281376,0.010002706635069882,0.10627379791921063,0.4660230301538875,0.43830698972081283,1.529940498293144,-0.7507635842599895,0.11961953230763832,0.02404652694928732,-0.4423321117233319,-0.7946377759453179,0.4452473485692167,-1.6764663549445995,1.0716687660102449,-0.7588664879801049,-0.8144765527818432,2.804125312956174,-0.3412881986965423,0.22710698180422526,-0.5964332947017922,0.9560040100149169,0.7901628978990334,1.286999247666019,-0.3262649226406465,1.423851504872338,-0.4413095746286107,0.8270856567367172,-0.5568860067120459,-0.9630361617988186,-0.4166379491352016,1.9744636665480448,0.6761548167352016,1.1707856340947156,-0.26255328654517673,0.08133524676333527,0.3545868903715354,0.11730396517256124,1.0306548056766014,-0.024452872420551695,-3.175358065212561,0.09819457311291285,1.1309365185368176,1.096859069567687,-1.482449188509566,-0.5732676342982265,-1.325973103854073,-1.0449964870115107,0.13220492494701874,-0.08929070359984267,1.7774557980505143,-1.0363749573559036,-0.5459004298478335,-2.0114550641580196,0.8895634530171322,0.9827622407448601,0.6993020211449944,-0.6145532888902779],\"yaxis\":\"y13\",\"type\":\"scatter\"},{\"line\":{\"color\":\"rgba(128, 128, 128, 1.0)\",\"dash\":\"solid\",\"shape\":\"linear\",\"width\":1.3},\"marker\":{\"size\":2,\"symbol\":\"circle\"},\"mode\":\"markers\",\"name\":\"D\",\"text\":\"\",\"x\":[-0.4964199052766519,-0.16577690724505037,-0.06352090321925319,0.9195213492176749,0.05920945692515286,-1.5352387721000331,-1.1272581915748292,1.5037082437441256,0.25525024969292537,0.926990078214612,1.6091275728246384,1.435698623918543,0.7929430485448701,-1.8078167644107352,0.3872864424405,-0.5081756149338615,0.11157791814884271,-0.7470305306600676,0.48919705825920645,-0.9422629443606921,0.39389463746364245,0.13279241776625111,-0.396173763657729,1.1557994071707751,0.9826669783349918,-0.8763175484331243,0.03866612269199482,0.9133514387537464,1.210067697022933,0.9575896405404437,0.4446642857554738,-1.1836057054060263,0.4690710661659546,0.0825941321291548,-0.057323525876951595,-0.4140460470113184,-0.21346112501363587,-0.09758155608070679,1.0961830745473047,-3.2527834347876783,-1.0559859874065454,-1.2451669840676882,-2.3763630793887467,1.7406596934722733,1.1635839279907205,1.615733929496423,-0.6613818474443387,0.6441008999335095,0.2108681494964121,0.4532517241681963,0.39395980607470804,-1.3573655220385268,0.6556394659492624,0.015906823753299704,2.147919985281432,-0.306172943784595,-1.0004312140616298,-0.10416640047537958,0.5149288073107,0.7124745940564056,1.3798138145208825,0.4349085980837738,0.3292157090951729,0.626715652218343,-1.0654490499559879,-0.7326169106971796,1.1268040052754518,2.015396849191515,0.2772174604301982,-0.46067756949404814,1.5014212003411764,-0.03394335951066258,-1.2483981703632212,0.5858505897588245,0.3310923688884323,-0.1138787315153205,-0.9161409821576249,1.544558212804218,1.101864233216787,-0.6193672340216976,0.5111413589667924,-0.15609752801350163,-2.4429254121204935,-0.41236075686521195,-0.8921208446971892,-0.3415343111101214,1.27788943460529,-0.19375578696417853,0.5261336442900859,-1.002668939581087,2.2032125799401125,-0.17618635766898977,0.12628455991716694,0.1586375815419656,0.6857590793737517,0.345486423574641,0.41044445264360596,0.9932463757588236,-0.9153092798258289,0.1155976661986857],\"xaxis\":\"x14\",\"y\":[-1.0468370390753376,-1.0275583839052804,-0.2742018724450702,1.1731685518425736,-0.14439491190959836,1.078635354908124,1.388000416462823,0.7827203777436251,-0.7906137609668902,0.46261379365051,0.2671806476402405,1.1717037986875207,-0.39467245362080833,-1.7783181515565596,0.2098460247110677,-2.768145478092189,0.5142636222617464,0.45818864027023753,0.4396547912614004,0.5396905411942621,0.026964701470616425,-0.14524317746386037,0.9078597639160967,-0.45708272778737663,0.7880664048234807,-1.791085309090814,-1.0774442735690322,1.3019981941157739,0.49962454746872476,-0.668226139430762,0.36289562023515626,-0.9383352891231684,0.6377944279755422,-0.7298887080004163,0.3310056485823189,-0.5043922986678377,0.4959714197182736,-2.0073001241960826,0.8348676989771081,-0.47277211750612336,0.7678419039127863,-1.3117751936648872,-2.316181739956973,0.5731499529281376,0.010002706635069882,0.10627379791921063,0.4660230301538875,0.43830698972081283,1.529940498293144,-0.7507635842599895,0.11961953230763832,0.02404652694928732,-0.4423321117233319,-0.7946377759453179,0.4452473485692167,-1.6764663549445995,1.0716687660102449,-0.7588664879801049,-0.8144765527818432,2.804125312956174,-0.3412881986965423,0.22710698180422526,-0.5964332947017922,0.9560040100149169,0.7901628978990334,1.286999247666019,-0.3262649226406465,1.423851504872338,-0.4413095746286107,0.8270856567367172,-0.5568860067120459,-0.9630361617988186,-0.4166379491352016,1.9744636665480448,0.6761548167352016,1.1707856340947156,-0.26255328654517673,0.08133524676333527,0.3545868903715354,0.11730396517256124,1.0306548056766014,-0.024452872420551695,-3.175358065212561,0.09819457311291285,1.1309365185368176,1.096859069567687,-1.482449188509566,-0.5732676342982265,-1.325973103854073,-1.0449964870115107,0.13220492494701874,-0.08929070359984267,1.7774557980505143,-1.0363749573559036,-0.5459004298478335,-2.0114550641580196,0.8895634530171322,0.9827622407448601,0.6993020211449944,-0.6145532888902779],\"yaxis\":\"y14\",\"type\":\"scatter\"},{\"line\":{\"color\":\"rgba(128, 128, 128, 1.0)\",\"dash\":\"solid\",\"shape\":\"linear\",\"width\":1.3},\"marker\":{\"size\":2,\"symbol\":\"circle\"},\"mode\":\"markers\",\"name\":\"D\",\"text\":\"\",\"x\":[-0.11715134862692887,-0.9238110035637704,-0.6341034707367625,-0.7039798297101952,0.41199222871472185,-0.570032950618832,0.44286081832136004,0.7346119453334629,-0.11517165410253062,0.5128885333693647,-1.0183936050162585,0.9175385646911961,0.9048989812665845,0.05140807601801332,0.6458854158532115,0.11693497003907732,0.31031827893619685,0.11070998165777231,0.31744754683913806,-1.650754519760574,0.5217491609271399,0.9517253811613039,-1.072694964737062,-0.45961187845013707,-0.2506686031378381,0.8864464083282674,-0.5247092530603333,-1.5295583910415216,-0.6460234674665981,0.7672801979487747,0.46044800932151836,-1.0752712846495762,-0.7717363145281667,0.28488309368206477,0.3458195540062791,0.418593287780798,0.660435989544501,0.543710213177274,0.2461450506077324,1.2990980984611662,-0.2979515843938551,-1.847753900969353,-1.0149605831144013,-0.5853364863823789,0.8933540154577488,0.286047793821163,-2.716594179114467,0.9415490229932579,-1.1532069213667147,0.2590380476354718,1.2007564596630067,0.012831467950238987,-0.10785047054045933,2.2163849306898658,-1.9696112408696487,-0.1730283623586726,1.3151428438596822,0.7891186338123123,-1.1732347865282835,0.28228264342221465,-1.250516452836501,0.8452991025741403,0.03213789105270297,-0.1750935112824887,-0.5202195702277532,0.01452010533380974,1.2647460311832521,0.5107180811211698,-0.3719069992456132,-1.719236574002592,0.37088921151428184,-0.7319962429039226,0.3660012735784033,0.7026101068082639,-0.8771081170019718,-1.0024339454169668,1.060348832118971,0.10426543228859139,0.6595400108972117,0.07239015369501688,-0.71338611629709,0.10545170913666903,1.1757127111541312,-0.12604104322434925,-0.11578817929838205,-1.2636423607947442,0.3270148993540921,0.0567620389256123,-0.9196433152353806,0.2200653007015978,1.0412558708427244,-1.378250277182545,-0.024372849211685126,-0.554316851828183,-0.992377748082647,0.028873090286391324,-1.2422036315931047,-0.14560088145351116,0.7019829641331473,-0.4637973277945155],\"xaxis\":\"x15\",\"y\":[-1.0468370390753376,-1.0275583839052804,-0.2742018724450702,1.1731685518425736,-0.14439491190959836,1.078635354908124,1.388000416462823,0.7827203777436251,-0.7906137609668902,0.46261379365051,0.2671806476402405,1.1717037986875207,-0.39467245362080833,-1.7783181515565596,0.2098460247110677,-2.768145478092189,0.5142636222617464,0.45818864027023753,0.4396547912614004,0.5396905411942621,0.026964701470616425,-0.14524317746386037,0.9078597639160967,-0.45708272778737663,0.7880664048234807,-1.791085309090814,-1.0774442735690322,1.3019981941157739,0.49962454746872476,-0.668226139430762,0.36289562023515626,-0.9383352891231684,0.6377944279755422,-0.7298887080004163,0.3310056485823189,-0.5043922986678377,0.4959714197182736,-2.0073001241960826,0.8348676989771081,-0.47277211750612336,0.7678419039127863,-1.3117751936648872,-2.316181739956973,0.5731499529281376,0.010002706635069882,0.10627379791921063,0.4660230301538875,0.43830698972081283,1.529940498293144,-0.7507635842599895,0.11961953230763832,0.02404652694928732,-0.4423321117233319,-0.7946377759453179,0.4452473485692167,-1.6764663549445995,1.0716687660102449,-0.7588664879801049,-0.8144765527818432,2.804125312956174,-0.3412881986965423,0.22710698180422526,-0.5964332947017922,0.9560040100149169,0.7901628978990334,1.286999247666019,-0.3262649226406465,1.423851504872338,-0.4413095746286107,0.8270856567367172,-0.5568860067120459,-0.9630361617988186,-0.4166379491352016,1.9744636665480448,0.6761548167352016,1.1707856340947156,-0.26255328654517673,0.08133524676333527,0.3545868903715354,0.11730396517256124,1.0306548056766014,-0.024452872420551695,-3.175358065212561,0.09819457311291285,1.1309365185368176,1.096859069567687,-1.482449188509566,-0.5732676342982265,-1.325973103854073,-1.0449964870115107,0.13220492494701874,-0.08929070359984267,1.7774557980505143,-1.0363749573559036,-0.5459004298478335,-2.0114550641580196,0.8895634530171322,0.9827622407448601,0.6993020211449944,-0.6145532888902779],\"yaxis\":\"y15\",\"type\":\"scatter\"},{\"histfunc\":\"count\",\"histnorm\":\"\",\"marker\":{\"color\":\"rgba(128, 0, 128, 1.0)\",\"line\":{\"color\":\"#4D5663\",\"width\":1.3}},\"name\":\"D\",\"nbinsx\":10,\"opacity\":0.8,\"orientation\":\"v\",\"x\":[-1.0468370390753376,-1.0275583839052804,-0.2742018724450702,1.1731685518425736,-0.14439491190959836,1.078635354908124,1.388000416462823,0.7827203777436251,-0.7906137609668902,0.46261379365051,0.2671806476402405,1.1717037986875207,-0.39467245362080833,-1.7783181515565596,0.2098460247110677,-2.768145478092189,0.5142636222617464,0.45818864027023753,0.4396547912614004,0.5396905411942621,0.026964701470616425,-0.14524317746386037,0.9078597639160967,-0.45708272778737663,0.7880664048234807,-1.791085309090814,-1.0774442735690322,1.3019981941157739,0.49962454746872476,-0.668226139430762,0.36289562023515626,-0.9383352891231684,0.6377944279755422,-0.7298887080004163,0.3310056485823189,-0.5043922986678377,0.4959714197182736,-2.0073001241960826,0.8348676989771081,-0.47277211750612336,0.7678419039127863,-1.3117751936648872,-2.316181739956973,0.5731499529281376,0.010002706635069882,0.10627379791921063,0.4660230301538875,0.43830698972081283,1.529940498293144,-0.7507635842599895,0.11961953230763832,0.02404652694928732,-0.4423321117233319,-0.7946377759453179,0.4452473485692167,-1.6764663549445995,1.0716687660102449,-0.7588664879801049,-0.8144765527818432,2.804125312956174,-0.3412881986965423,0.22710698180422526,-0.5964332947017922,0.9560040100149169,0.7901628978990334,1.286999247666019,-0.3262649226406465,1.423851504872338,-0.4413095746286107,0.8270856567367172,-0.5568860067120459,-0.9630361617988186,-0.4166379491352016,1.9744636665480448,0.6761548167352016,1.1707856340947156,-0.26255328654517673,0.08133524676333527,0.3545868903715354,0.11730396517256124,1.0306548056766014,-0.024452872420551695,-3.175358065212561,0.09819457311291285,1.1309365185368176,1.096859069567687,-1.482449188509566,-0.5732676342982265,-1.325973103854073,-1.0449964870115107,0.13220492494701874,-0.08929070359984267,1.7774557980505143,-1.0363749573559036,-0.5459004298478335,-2.0114550641580196,0.8895634530171322,0.9827622407448601,0.6993020211449944,-0.6145532888902779],\"xaxis\":\"x16\",\"yaxis\":\"y16\",\"type\":\"histogram\"}],                        {\"bargap\":0.02,\"legend\":{\"bgcolor\":\"#F5F6F9\",\"font\":{\"color\":\"#4D5663\"}},\"paper_bgcolor\":\"#F5F6F9\",\"plot_bgcolor\":\"#F5F6F9\",\"showlegend\":false,\"template\":{\"data\":{\"barpolar\":[{\"marker\":{\"line\":{\"color\":\"#E5ECF6\",\"width\":0.5},\"pattern\":{\"fillmode\":\"overlay\",\"size\":10,\"solidity\":0.2}},\"type\":\"barpolar\"}],\"bar\":[{\"error_x\":{\"color\":\"#2a3f5f\"},\"error_y\":{\"color\":\"#2a3f5f\"},\"marker\":{\"line\":{\"color\":\"#E5ECF6\",\"width\":0.5},\"pattern\":{\"fillmode\":\"overlay\",\"size\":10,\"solidity\":0.2}},\"type\":\"bar\"}],\"carpet\":[{\"aaxis\":{\"endlinecolor\":\"#2a3f5f\",\"gridcolor\":\"white\",\"linecolor\":\"white\",\"minorgridcolor\":\"white\",\"startlinecolor\":\"#2a3f5f\"},\"baxis\":{\"endlinecolor\":\"#2a3f5f\",\"gridcolor\":\"white\",\"linecolor\":\"white\",\"minorgridcolor\":\"white\",\"startlinecolor\":\"#2a3f5f\"},\"type\":\"carpet\"}],\"choropleth\":[{\"colorbar\":{\"outlinewidth\":0,\"ticks\":\"\"},\"type\":\"choropleth\"}],\"contourcarpet\":[{\"colorbar\":{\"outlinewidth\":0,\"ticks\":\"\"},\"type\":\"contourcarpet\"}],\"contour\":[{\"colorbar\":{\"outlinewidth\":0,\"ticks\":\"\"},\"colorscale\":[[0.0,\"#0d0887\"],[0.1111111111111111,\"#46039f\"],[0.2222222222222222,\"#7201a8\"],[0.3333333333333333,\"#9c179e\"],[0.4444444444444444,\"#bd3786\"],[0.5555555555555556,\"#d8576b\"],[0.6666666666666666,\"#ed7953\"],[0.7777777777777778,\"#fb9f3a\"],[0.8888888888888888,\"#fdca26\"],[1.0,\"#f0f921\"]],\"type\":\"contour\"}],\"heatmapgl\":[{\"colorbar\":{\"outlinewidth\":0,\"ticks\":\"\"},\"colorscale\":[[0.0,\"#0d0887\"],[0.1111111111111111,\"#46039f\"],[0.2222222222222222,\"#7201a8\"],[0.3333333333333333,\"#9c179e\"],[0.4444444444444444,\"#bd3786\"],[0.5555555555555556,\"#d8576b\"],[0.6666666666666666,\"#ed7953\"],[0.7777777777777778,\"#fb9f3a\"],[0.8888888888888888,\"#fdca26\"],[1.0,\"#f0f921\"]],\"type\":\"heatmapgl\"}],\"heatmap\":[{\"colorbar\":{\"outlinewidth\":0,\"ticks\":\"\"},\"colorscale\":[[0.0,\"#0d0887\"],[0.1111111111111111,\"#46039f\"],[0.2222222222222222,\"#7201a8\"],[0.3333333333333333,\"#9c179e\"],[0.4444444444444444,\"#bd3786\"],[0.5555555555555556,\"#d8576b\"],[0.6666666666666666,\"#ed7953\"],[0.7777777777777778,\"#fb9f3a\"],[0.8888888888888888,\"#fdca26\"],[1.0,\"#f0f921\"]],\"type\":\"heatmap\"}],\"histogram2dcontour\":[{\"colorbar\":{\"outlinewidth\":0,\"ticks\":\"\"},\"colorscale\":[[0.0,\"#0d0887\"],[0.1111111111111111,\"#46039f\"],[0.2222222222222222,\"#7201a8\"],[0.3333333333333333,\"#9c179e\"],[0.4444444444444444,\"#bd3786\"],[0.5555555555555556,\"#d8576b\"],[0.6666666666666666,\"#ed7953\"],[0.7777777777777778,\"#fb9f3a\"],[0.8888888888888888,\"#fdca26\"],[1.0,\"#f0f921\"]],\"type\":\"histogram2dcontour\"}],\"histogram2d\":[{\"colorbar\":{\"outlinewidth\":0,\"ticks\":\"\"},\"colorscale\":[[0.0,\"#0d0887\"],[0.1111111111111111,\"#46039f\"],[0.2222222222222222,\"#7201a8\"],[0.3333333333333333,\"#9c179e\"],[0.4444444444444444,\"#bd3786\"],[0.5555555555555556,\"#d8576b\"],[0.6666666666666666,\"#ed7953\"],[0.7777777777777778,\"#fb9f3a\"],[0.8888888888888888,\"#fdca26\"],[1.0,\"#f0f921\"]],\"type\":\"histogram2d\"}],\"histogram\":[{\"marker\":{\"pattern\":{\"fillmode\":\"overlay\",\"size\":10,\"solidity\":0.2}},\"type\":\"histogram\"}],\"mesh3d\":[{\"colorbar\":{\"outlinewidth\":0,\"ticks\":\"\"},\"type\":\"mesh3d\"}],\"parcoords\":[{\"line\":{\"colorbar\":{\"outlinewidth\":0,\"ticks\":\"\"}},\"type\":\"parcoords\"}],\"pie\":[{\"automargin\":true,\"type\":\"pie\"}],\"scatter3d\":[{\"line\":{\"colorbar\":{\"outlinewidth\":0,\"ticks\":\"\"}},\"marker\":{\"colorbar\":{\"outlinewidth\":0,\"ticks\":\"\"}},\"type\":\"scatter3d\"}],\"scattercarpet\":[{\"marker\":{\"colorbar\":{\"outlinewidth\":0,\"ticks\":\"\"}},\"type\":\"scattercarpet\"}],\"scattergeo\":[{\"marker\":{\"colorbar\":{\"outlinewidth\":0,\"ticks\":\"\"}},\"type\":\"scattergeo\"}],\"scattergl\":[{\"marker\":{\"colorbar\":{\"outlinewidth\":0,\"ticks\":\"\"}},\"type\":\"scattergl\"}],\"scattermapbox\":[{\"marker\":{\"colorbar\":{\"outlinewidth\":0,\"ticks\":\"\"}},\"type\":\"scattermapbox\"}],\"scatterpolargl\":[{\"marker\":{\"colorbar\":{\"outlinewidth\":0,\"ticks\":\"\"}},\"type\":\"scatterpolargl\"}],\"scatterpolar\":[{\"marker\":{\"colorbar\":{\"outlinewidth\":0,\"ticks\":\"\"}},\"type\":\"scatterpolar\"}],\"scatter\":[{\"fillpattern\":{\"fillmode\":\"overlay\",\"size\":10,\"solidity\":0.2},\"type\":\"scatter\"}],\"scatterternary\":[{\"marker\":{\"colorbar\":{\"outlinewidth\":0,\"ticks\":\"\"}},\"type\":\"scatterternary\"}],\"surface\":[{\"colorbar\":{\"outlinewidth\":0,\"ticks\":\"\"},\"colorscale\":[[0.0,\"#0d0887\"],[0.1111111111111111,\"#46039f\"],[0.2222222222222222,\"#7201a8\"],[0.3333333333333333,\"#9c179e\"],[0.4444444444444444,\"#bd3786\"],[0.5555555555555556,\"#d8576b\"],[0.6666666666666666,\"#ed7953\"],[0.7777777777777778,\"#fb9f3a\"],[0.8888888888888888,\"#fdca26\"],[1.0,\"#f0f921\"]],\"type\":\"surface\"}],\"table\":[{\"cells\":{\"fill\":{\"color\":\"#EBF0F8\"},\"line\":{\"color\":\"white\"}},\"header\":{\"fill\":{\"color\":\"#C8D4E3\"},\"line\":{\"color\":\"white\"}},\"type\":\"table\"}]},\"layout\":{\"annotationdefaults\":{\"arrowcolor\":\"#2a3f5f\",\"arrowhead\":0,\"arrowwidth\":1},\"autotypenumbers\":\"strict\",\"coloraxis\":{\"colorbar\":{\"outlinewidth\":0,\"ticks\":\"\"}},\"colorscale\":{\"diverging\":[[0,\"#8e0152\"],[0.1,\"#c51b7d\"],[0.2,\"#de77ae\"],[0.3,\"#f1b6da\"],[0.4,\"#fde0ef\"],[0.5,\"#f7f7f7\"],[0.6,\"#e6f5d0\"],[0.7,\"#b8e186\"],[0.8,\"#7fbc41\"],[0.9,\"#4d9221\"],[1,\"#276419\"]],\"sequential\":[[0.0,\"#0d0887\"],[0.1111111111111111,\"#46039f\"],[0.2222222222222222,\"#7201a8\"],[0.3333333333333333,\"#9c179e\"],[0.4444444444444444,\"#bd3786\"],[0.5555555555555556,\"#d8576b\"],[0.6666666666666666,\"#ed7953\"],[0.7777777777777778,\"#fb9f3a\"],[0.8888888888888888,\"#fdca26\"],[1.0,\"#f0f921\"]],\"sequentialminus\":[[0.0,\"#0d0887\"],[0.1111111111111111,\"#46039f\"],[0.2222222222222222,\"#7201a8\"],[0.3333333333333333,\"#9c179e\"],[0.4444444444444444,\"#bd3786\"],[0.5555555555555556,\"#d8576b\"],[0.6666666666666666,\"#ed7953\"],[0.7777777777777778,\"#fb9f3a\"],[0.8888888888888888,\"#fdca26\"],[1.0,\"#f0f921\"]]},\"colorway\":[\"#636efa\",\"#EF553B\",\"#00cc96\",\"#ab63fa\",\"#FFA15A\",\"#19d3f3\",\"#FF6692\",\"#B6E880\",\"#FF97FF\",\"#FECB52\"],\"font\":{\"color\":\"#2a3f5f\"},\"geo\":{\"bgcolor\":\"white\",\"lakecolor\":\"white\",\"landcolor\":\"#E5ECF6\",\"showlakes\":true,\"showland\":true,\"subunitcolor\":\"white\"},\"hoverlabel\":{\"align\":\"left\"},\"hovermode\":\"closest\",\"mapbox\":{\"style\":\"light\"},\"paper_bgcolor\":\"white\",\"plot_bgcolor\":\"#E5ECF6\",\"polar\":{\"angularaxis\":{\"gridcolor\":\"white\",\"linecolor\":\"white\",\"ticks\":\"\"},\"bgcolor\":\"#E5ECF6\",\"radialaxis\":{\"gridcolor\":\"white\",\"linecolor\":\"white\",\"ticks\":\"\"}},\"scene\":{\"xaxis\":{\"backgroundcolor\":\"#E5ECF6\",\"gridcolor\":\"white\",\"gridwidth\":2,\"linecolor\":\"white\",\"showbackground\":true,\"ticks\":\"\",\"zerolinecolor\":\"white\"},\"yaxis\":{\"backgroundcolor\":\"#E5ECF6\",\"gridcolor\":\"white\",\"gridwidth\":2,\"linecolor\":\"white\",\"showbackground\":true,\"ticks\":\"\",\"zerolinecolor\":\"white\"},\"zaxis\":{\"backgroundcolor\":\"#E5ECF6\",\"gridcolor\":\"white\",\"gridwidth\":2,\"linecolor\":\"white\",\"showbackground\":true,\"ticks\":\"\",\"zerolinecolor\":\"white\"}},\"shapedefaults\":{\"line\":{\"color\":\"#2a3f5f\"}},\"ternary\":{\"aaxis\":{\"gridcolor\":\"white\",\"linecolor\":\"white\",\"ticks\":\"\"},\"baxis\":{\"gridcolor\":\"white\",\"linecolor\":\"white\",\"ticks\":\"\"},\"bgcolor\":\"#E5ECF6\",\"caxis\":{\"gridcolor\":\"white\",\"linecolor\":\"white\",\"ticks\":\"\"}},\"title\":{\"x\":0.05},\"xaxis\":{\"automargin\":true,\"gridcolor\":\"white\",\"linecolor\":\"white\",\"ticks\":\"\",\"title\":{\"standoff\":15},\"zerolinecolor\":\"white\",\"zerolinewidth\":2},\"yaxis\":{\"automargin\":true,\"gridcolor\":\"white\",\"linecolor\":\"white\",\"ticks\":\"\",\"title\":{\"standoff\":15},\"zerolinecolor\":\"white\",\"zerolinewidth\":2}}},\"title\":{\"font\":{\"color\":\"#4D5663\"}},\"xaxis\":{\"anchor\":\"y\",\"domain\":[0.0,0.2125],\"gridcolor\":\"#E1E5ED\",\"showgrid\":false,\"tickfont\":{\"color\":\"#4D5663\"},\"title\":{\"font\":{\"color\":\"#4D5663\"},\"text\":\"\"},\"zerolinecolor\":\"#E1E5ED\"},\"yaxis\":{\"anchor\":\"x\",\"domain\":[0.8025,1.0],\"gridcolor\":\"#E1E5ED\",\"showgrid\":false,\"tickfont\":{\"color\":\"#4D5663\"},\"title\":{\"font\":{\"color\":\"#4D5663\"},\"text\":\"\"},\"zerolinecolor\":\"#E1E5ED\"},\"xaxis2\":{\"anchor\":\"y2\",\"domain\":[0.2625,0.475],\"gridcolor\":\"#E1E5ED\",\"showgrid\":false,\"tickfont\":{\"color\":\"#4D5663\"},\"title\":{\"font\":{\"color\":\"#4D5663\"},\"text\":\"\"},\"zerolinecolor\":\"#E1E5ED\"},\"yaxis2\":{\"anchor\":\"x2\",\"domain\":[0.8025,1.0],\"gridcolor\":\"#E1E5ED\",\"showgrid\":false,\"tickfont\":{\"color\":\"#4D5663\"},\"title\":{\"font\":{\"color\":\"#4D5663\"},\"text\":\"\"},\"zerolinecolor\":\"#E1E5ED\"},\"xaxis3\":{\"anchor\":\"y3\",\"domain\":[0.525,0.7375],\"gridcolor\":\"#E1E5ED\",\"showgrid\":false,\"tickfont\":{\"color\":\"#4D5663\"},\"title\":{\"font\":{\"color\":\"#4D5663\"},\"text\":\"\"},\"zerolinecolor\":\"#E1E5ED\"},\"yaxis3\":{\"anchor\":\"x3\",\"domain\":[0.8025,1.0],\"gridcolor\":\"#E1E5ED\",\"showgrid\":false,\"tickfont\":{\"color\":\"#4D5663\"},\"title\":{\"font\":{\"color\":\"#4D5663\"},\"text\":\"\"},\"zerolinecolor\":\"#E1E5ED\"},\"xaxis4\":{\"anchor\":\"y4\",\"domain\":[0.7875,1.0],\"gridcolor\":\"#E1E5ED\",\"showgrid\":false,\"tickfont\":{\"color\":\"#4D5663\"},\"title\":{\"font\":{\"color\":\"#4D5663\"},\"text\":\"\"},\"zerolinecolor\":\"#E1E5ED\"},\"yaxis4\":{\"anchor\":\"x4\",\"domain\":[0.8025,1.0],\"gridcolor\":\"#E1E5ED\",\"showgrid\":false,\"tickfont\":{\"color\":\"#4D5663\"},\"title\":{\"font\":{\"color\":\"#4D5663\"},\"text\":\"\"},\"zerolinecolor\":\"#E1E5ED\"},\"xaxis5\":{\"anchor\":\"y5\",\"domain\":[0.0,0.2125],\"gridcolor\":\"#E1E5ED\",\"showgrid\":false,\"tickfont\":{\"color\":\"#4D5663\"},\"title\":{\"font\":{\"color\":\"#4D5663\"},\"text\":\"\"},\"zerolinecolor\":\"#E1E5ED\"},\"yaxis5\":{\"anchor\":\"x5\",\"domain\":[0.535,0.7325],\"gridcolor\":\"#E1E5ED\",\"showgrid\":false,\"tickfont\":{\"color\":\"#4D5663\"},\"title\":{\"font\":{\"color\":\"#4D5663\"},\"text\":\"\"},\"zerolinecolor\":\"#E1E5ED\"},\"xaxis6\":{\"anchor\":\"y6\",\"domain\":[0.2625,0.475],\"gridcolor\":\"#E1E5ED\",\"showgrid\":false,\"tickfont\":{\"color\":\"#4D5663\"},\"title\":{\"font\":{\"color\":\"#4D5663\"},\"text\":\"\"},\"zerolinecolor\":\"#E1E5ED\"},\"yaxis6\":{\"anchor\":\"x6\",\"domain\":[0.535,0.7325],\"gridcolor\":\"#E1E5ED\",\"showgrid\":false,\"tickfont\":{\"color\":\"#4D5663\"},\"title\":{\"font\":{\"color\":\"#4D5663\"},\"text\":\"\"},\"zerolinecolor\":\"#E1E5ED\"},\"xaxis7\":{\"anchor\":\"y7\",\"domain\":[0.525,0.7375],\"gridcolor\":\"#E1E5ED\",\"showgrid\":false,\"tickfont\":{\"color\":\"#4D5663\"},\"title\":{\"font\":{\"color\":\"#4D5663\"},\"text\":\"\"},\"zerolinecolor\":\"#E1E5ED\"},\"yaxis7\":{\"anchor\":\"x7\",\"domain\":[0.535,0.7325],\"gridcolor\":\"#E1E5ED\",\"showgrid\":false,\"tickfont\":{\"color\":\"#4D5663\"},\"title\":{\"font\":{\"color\":\"#4D5663\"},\"text\":\"\"},\"zerolinecolor\":\"#E1E5ED\"},\"xaxis8\":{\"anchor\":\"y8\",\"domain\":[0.7875,1.0],\"gridcolor\":\"#E1E5ED\",\"showgrid\":false,\"tickfont\":{\"color\":\"#4D5663\"},\"title\":{\"font\":{\"color\":\"#4D5663\"},\"text\":\"\"},\"zerolinecolor\":\"#E1E5ED\"},\"yaxis8\":{\"anchor\":\"x8\",\"domain\":[0.535,0.7325],\"gridcolor\":\"#E1E5ED\",\"showgrid\":false,\"tickfont\":{\"color\":\"#4D5663\"},\"title\":{\"font\":{\"color\":\"#4D5663\"},\"text\":\"\"},\"zerolinecolor\":\"#E1E5ED\"},\"xaxis9\":{\"anchor\":\"y9\",\"domain\":[0.0,0.2125],\"gridcolor\":\"#E1E5ED\",\"showgrid\":false,\"tickfont\":{\"color\":\"#4D5663\"},\"title\":{\"font\":{\"color\":\"#4D5663\"},\"text\":\"\"},\"zerolinecolor\":\"#E1E5ED\"},\"yaxis9\":{\"anchor\":\"x9\",\"domain\":[0.2675,0.465],\"gridcolor\":\"#E1E5ED\",\"showgrid\":false,\"tickfont\":{\"color\":\"#4D5663\"},\"title\":{\"font\":{\"color\":\"#4D5663\"},\"text\":\"\"},\"zerolinecolor\":\"#E1E5ED\"},\"xaxis10\":{\"anchor\":\"y10\",\"domain\":[0.2625,0.475],\"gridcolor\":\"#E1E5ED\",\"showgrid\":false,\"tickfont\":{\"color\":\"#4D5663\"},\"title\":{\"font\":{\"color\":\"#4D5663\"},\"text\":\"\"},\"zerolinecolor\":\"#E1E5ED\"},\"yaxis10\":{\"anchor\":\"x10\",\"domain\":[0.2675,0.465],\"gridcolor\":\"#E1E5ED\",\"showgrid\":false,\"tickfont\":{\"color\":\"#4D5663\"},\"title\":{\"font\":{\"color\":\"#4D5663\"},\"text\":\"\"},\"zerolinecolor\":\"#E1E5ED\"},\"xaxis11\":{\"anchor\":\"y11\",\"domain\":[0.525,0.7375],\"gridcolor\":\"#E1E5ED\",\"showgrid\":false,\"tickfont\":{\"color\":\"#4D5663\"},\"title\":{\"font\":{\"color\":\"#4D5663\"},\"text\":\"\"},\"zerolinecolor\":\"#E1E5ED\"},\"yaxis11\":{\"anchor\":\"x11\",\"domain\":[0.2675,0.465],\"gridcolor\":\"#E1E5ED\",\"showgrid\":false,\"tickfont\":{\"color\":\"#4D5663\"},\"title\":{\"font\":{\"color\":\"#4D5663\"},\"text\":\"\"},\"zerolinecolor\":\"#E1E5ED\"},\"xaxis12\":{\"anchor\":\"y12\",\"domain\":[0.7875,1.0],\"gridcolor\":\"#E1E5ED\",\"showgrid\":false,\"tickfont\":{\"color\":\"#4D5663\"},\"title\":{\"font\":{\"color\":\"#4D5663\"},\"text\":\"\"},\"zerolinecolor\":\"#E1E5ED\"},\"yaxis12\":{\"anchor\":\"x12\",\"domain\":[0.2675,0.465],\"gridcolor\":\"#E1E5ED\",\"showgrid\":false,\"tickfont\":{\"color\":\"#4D5663\"},\"title\":{\"font\":{\"color\":\"#4D5663\"},\"text\":\"\"},\"zerolinecolor\":\"#E1E5ED\"},\"xaxis13\":{\"anchor\":\"y13\",\"domain\":[0.0,0.2125],\"gridcolor\":\"#E1E5ED\",\"showgrid\":false,\"tickfont\":{\"color\":\"#4D5663\"},\"title\":{\"font\":{\"color\":\"#4D5663\"},\"text\":\"\"},\"zerolinecolor\":\"#E1E5ED\"},\"yaxis13\":{\"anchor\":\"x13\",\"domain\":[0.0,0.1975],\"gridcolor\":\"#E1E5ED\",\"showgrid\":false,\"tickfont\":{\"color\":\"#4D5663\"},\"title\":{\"font\":{\"color\":\"#4D5663\"},\"text\":\"\"},\"zerolinecolor\":\"#E1E5ED\"},\"xaxis14\":{\"anchor\":\"y14\",\"domain\":[0.2625,0.475],\"gridcolor\":\"#E1E5ED\",\"showgrid\":false,\"tickfont\":{\"color\":\"#4D5663\"},\"title\":{\"font\":{\"color\":\"#4D5663\"},\"text\":\"\"},\"zerolinecolor\":\"#E1E5ED\"},\"yaxis14\":{\"anchor\":\"x14\",\"domain\":[0.0,0.1975],\"gridcolor\":\"#E1E5ED\",\"showgrid\":false,\"tickfont\":{\"color\":\"#4D5663\"},\"title\":{\"font\":{\"color\":\"#4D5663\"},\"text\":\"\"},\"zerolinecolor\":\"#E1E5ED\"},\"xaxis15\":{\"anchor\":\"y15\",\"domain\":[0.525,0.7375],\"gridcolor\":\"#E1E5ED\",\"showgrid\":false,\"tickfont\":{\"color\":\"#4D5663\"},\"title\":{\"font\":{\"color\":\"#4D5663\"},\"text\":\"\"},\"zerolinecolor\":\"#E1E5ED\"},\"yaxis15\":{\"anchor\":\"x15\",\"domain\":[0.0,0.1975],\"gridcolor\":\"#E1E5ED\",\"showgrid\":false,\"tickfont\":{\"color\":\"#4D5663\"},\"title\":{\"font\":{\"color\":\"#4D5663\"},\"text\":\"\"},\"zerolinecolor\":\"#E1E5ED\"},\"xaxis16\":{\"anchor\":\"y16\",\"domain\":[0.7875,1.0],\"gridcolor\":\"#E1E5ED\",\"showgrid\":false,\"tickfont\":{\"color\":\"#4D5663\"},\"title\":{\"font\":{\"color\":\"#4D5663\"},\"text\":\"\"},\"zerolinecolor\":\"#E1E5ED\"},\"yaxis16\":{\"anchor\":\"x16\",\"domain\":[0.0,0.1975],\"gridcolor\":\"#E1E5ED\",\"showgrid\":false,\"tickfont\":{\"color\":\"#4D5663\"},\"title\":{\"font\":{\"color\":\"#4D5663\"},\"text\":\"\"},\"zerolinecolor\":\"#E1E5ED\"}},                        {\"showLink\": true, \"linkText\": \"Export to plot.ly\", \"plotlyServerURL\": \"https://plot.ly\", \"responsive\": true}                    ).then(function(){\n",
       "                            \n",
       "var gd = document.getElementById('9e40bd8c-59cb-47e1-a2fd-137f4fd26978');\n",
       "var x = new MutationObserver(function (mutations, observer) {{\n",
       "        var display = window.getComputedStyle(gd).display;\n",
       "        if (!display || display === 'none') {{\n",
       "            console.log([gd, 'removed!']);\n",
       "            Plotly.purge(gd);\n",
       "            observer.disconnect();\n",
       "        }}\n",
       "}});\n",
       "\n",
       "// Listen for the removal of the full notebook cells\n",
       "var notebookContainer = gd.closest('#notebook-container');\n",
       "if (notebookContainer) {{\n",
       "    x.observe(notebookContainer, {childList: true});\n",
       "}}\n",
       "\n",
       "// Listen for the clearing of the current output cell\n",
       "var outputEl = gd.closest('.output');\n",
       "if (outputEl) {{\n",
       "    x.observe(outputEl, {childList: true});\n",
       "}}\n",
       "\n",
       "                        })                };                });            </script>        </div>"
      ]
     },
     "metadata": {},
     "output_type": "display_data"
    }
   ],
   "source": [
    "df.scatter_matrix()"
   ]
  },
  {
   "cell_type": "markdown",
   "metadata": {
    "collapsed": true,
    "jupyter": {
     "outputs_hidden": true
    }
   },
   "source": []
  }
 ],
 "metadata": {
  "kernelspec": {
   "display_name": "Python 3 (ipykernel)",
   "language": "python",
   "name": "python3"
  },
  "language_info": {
   "codemirror_mode": {
    "name": "ipython",
    "version": 3
   },
   "file_extension": ".py",
   "mimetype": "text/x-python",
   "name": "python",
   "nbconvert_exporter": "python",
   "pygments_lexer": "ipython3",
   "version": "3.10.18"
  }
 },
 "nbformat": 4,
 "nbformat_minor": 4
}
